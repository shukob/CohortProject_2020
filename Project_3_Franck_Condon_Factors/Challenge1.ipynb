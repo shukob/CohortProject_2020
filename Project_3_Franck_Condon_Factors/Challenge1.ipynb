{
 "cells": [
  {
   "cell_type": "markdown",
   "metadata": {
    "collapsed": true,
    "pycharm": {
     "name": "#%% md\n"
    }
   },
   "source": [
    "# Challenge 1\n",
    "\n",
    "## Loop Hafnian based FCF calculation\n",
    "\n",
    "- Xanadu provides their [implementation](https://github.com/XanaduAI/fockgaussian) of this method.\n",
    "\n",
    "We read the V3 data from Task2 result and use Strawberryfield to construct GBS parameters"
   ]
  },
  {
   "cell_type": "code",
   "execution_count": 10,
   "outputs": [],
   "source": [
    "from strawberryfields.apps import vibronic\n",
    "import numpy as np\n",
    "import os\n",
    "\n",
    "os.environ['KMP_DUPLICATE_LIB_OK']='True'\n",
    "\n",
    "inputfile = open(\"Task2Code/V3-normal-mode-constraint.gbs.in\", \"r\")\n",
    "\n",
    "N=int(inputfile.readline())     #Number of Atoms\n",
    "nmodes=3*N-6                    #Number of Modes\n",
    "\n",
    "w=np.zeros(nmodes,float)        #vib. frequencies of ground electronic state\n",
    "wp=np.zeros(nmodes,float)       #vib. frequencies of excited electronic state\n",
    "Ud=np.zeros((nmodes,nmodes),float)   #Duschinsky Matrix\n",
    "delta=np.zeros(nmodes,float)    #Displacement Vector\n",
    "\n",
    "T = 500  # temperature\n",
    "\n",
    "for i in range(nmodes):\n",
    "    line = inputfile.readline()\n",
    "    w[i]=float(line)\n",
    "\n",
    "for i in range(nmodes):\n",
    "    line = inputfile.readline()\n",
    "    wp[i]=float(line)\n",
    "for i in range(nmodes):\n",
    "    for j in range(nmodes):\n",
    "        line = inputfile.readline()\n",
    "        Ud[i,j]=float(line)\n",
    "\n",
    "for i in range(nmodes):\n",
    "    line = inputfile.readline()\n",
    "    delta[i]=float(line)\n",
    "\n",
    "t, U1, r, U2, alpha = vibronic.gbs_params(w, wp, Ud, delta, T)\n",
    "\n"
   ],
   "metadata": {
    "collapsed": false,
    "pycharm": {
     "name": "#%%\n"
    }
   }
  },
  {
   "cell_type": "code",
   "execution_count": 12,
   "outputs": [
    {
     "name": "stderr",
     "output_type": "stream",
     "text": [
      "/Users/shukob/Works/CDL/CohortProject_2020/Project_3_Franck_Condon_Factors/fockgaussian/fockgaussian.py:97: RuntimeWarning: invalid value encountered in sqrt\n"
     ]
    }
   ],
   "source": [
    "import pandas as pd\n",
    "from fockgaussian.fockgaussian import matelem\n",
    "modes = list(range(10))\n",
    "df = pd.DataFrame(columns=[\n",
    "    'n0', 'm0', 'elem'\n",
    "])\n",
    "for n0 in range(7):\n",
    "    for m0 in range(7):\n",
    "        elem = matelem(l=nmodes, m=list(range(m0, m0 + 3)), n=list(range(n0, n0 + 3)), U=U2, Up=U1,ls=r, alpha=alpha)\n",
    "        df = df.append(pd.Series({'n0': n0, 'm0': m0, 'elem': elem}), ignore_index=True)\n"
   ],
   "metadata": {
    "collapsed": false,
    "pycharm": {
     "name": "#%%\n"
    }
   }
  },
  {
   "cell_type": "code",
   "execution_count": 13,
   "outputs": [
    {
     "data": {
      "text/plain": "        n0      m0                          elem\n0       0j      0j   (0.00040795203223430214+0j)\n1       0j  (1+0j)   (-0.0035470800981440404+0j)\n2       0j  (2+0j)   (-6.639025396581297e-05+0j)\n3       0j  (3+0j)   (-5.376420522957264e-07+0j)\n4       0j  (4+0j)   (-4.439171187681639e-09+0j)\n5       0j  (5+0j)   (-2.468020342116161e-11+0j)\n6       0j  (6+0j)   (-2.414035311984561e-13+0j)\n7   (1+0j)      0j    (0.0039117870815609974+0j)\n8   (1+0j)  (1+0j)     (-0.05356421012408956+0j)\n9   (1+0j)  (2+0j)   (-0.0008195165729492932+0j)\n10  (1+0j)  (3+0j)   (1.3069793546785574e-05+0j)\n11  (1+0j)  (4+0j)  (-3.8823301307412274e-07+0j)\n12  (1+0j)  (5+0j)  (-2.2980331157475304e-10+0j)\n13  (1+0j)  (6+0j)  (-2.6365776782394976e-11+0j)\n14  (2+0j)      0j   (-7.892914588523852e-05+0j)\n15  (2+0j)  (1+0j)   (0.00015731521128695077+0j)\n16  (2+0j)  (2+0j)     (-0.14101932570975056+0j)\n17  (2+0j)  (3+0j)    (0.0008652761605861199+0j)\n18  (2+0j)  (4+0j)     (7.49904417194706e-05+0j)\n19  (2+0j)  (5+0j)    (8.111440921247713e-07+0j)\n20  (2+0j)  (6+0j)   (1.2629754698501403e-08+0j)\n21  (3+0j)      0j    (7.214607573147836e-07+0j)\n22  (3+0j)  (1+0j)     (1.78166546763914e-05+0j)\n23  (3+0j)  (2+0j)    (-0.001069148050624554+0j)\n24  (3+0j)  (3+0j)     (0.050142492541650235+0j)\n25  (3+0j)  (4+0j)   (0.00014269489244289466+0j)\n26  (3+0j)  (5+0j)   (-3.724404146025593e-06+0j)\n27  (3+0j)  (6+0j)                           NaN\n28  (4+0j)      0j  (-6.4232485904575846e-09+0j)\n29  (4+0j)  (1+0j)   (1.2253268249578735e-07+0j)\n30  (4+0j)  (2+0j)    (9.214366420572345e-05+0j)\n31  (4+0j)  (3+0j)  (-3.3396946268188586e-05+0j)\n32  (4+0j)  (4+0j)      (0.14056983089328506+0j)\n33  (4+0j)  (5+0j)   (0.00027382053361035613+0j)\n34  (4+0j)  (6+0j)   (-6.241945745964344e-05+0j)\n35  (5+0j)      0j    (4.095455476922538e-11+0j)\n36  (5+0j)  (1+0j)    (3.777109614949662e-10+0j)\n37  (5+0j)  (2+0j)   (-1.297696924798624e-06+0j)\n38  (5+0j)  (3+0j)   (-7.229024337074666e-06+0j)\n39  (5+0j)  (4+0j)                           NaN\n40  (5+0j)  (5+0j)    (-0.017835686837143663+0j)\n41  (5+0j)  (6+0j)                           NaN\n42  (6+0j)      0j   (-2.478137302221673e-13+0j)\n43  (6+0j)  (1+0j)  (-4.1262008471633903e-11+0j)\n44  (6+0j)  (2+0j)    (1.941472387534707e-08+0j)\n45  (6+0j)  (3+0j)  (-4.0733741936357476e-07+0j)\n46  (6+0j)  (4+0j)   (-7.915306413048486e-05+0j)\n47  (6+0j)  (5+0j)   (-0.0008798427117802314+0j)\n48  (6+0j)  (6+0j)                           NaN",
      "text/html": "<div>\n<style scoped>\n    .dataframe tbody tr th:only-of-type {\n        vertical-align: middle;\n    }\n\n    .dataframe tbody tr th {\n        vertical-align: top;\n    }\n\n    .dataframe thead th {\n        text-align: right;\n    }\n</style>\n<table border=\"1\" class=\"dataframe\">\n  <thead>\n    <tr style=\"text-align: right;\">\n      <th></th>\n      <th>n0</th>\n      <th>m0</th>\n      <th>elem</th>\n    </tr>\n  </thead>\n  <tbody>\n    <tr>\n      <th>0</th>\n      <td>0j</td>\n      <td>0j</td>\n      <td>(0.00040795203223430214+0j)</td>\n    </tr>\n    <tr>\n      <th>1</th>\n      <td>0j</td>\n      <td>(1+0j)</td>\n      <td>(-0.0035470800981440404+0j)</td>\n    </tr>\n    <tr>\n      <th>2</th>\n      <td>0j</td>\n      <td>(2+0j)</td>\n      <td>(-6.639025396581297e-05+0j)</td>\n    </tr>\n    <tr>\n      <th>3</th>\n      <td>0j</td>\n      <td>(3+0j)</td>\n      <td>(-5.376420522957264e-07+0j)</td>\n    </tr>\n    <tr>\n      <th>4</th>\n      <td>0j</td>\n      <td>(4+0j)</td>\n      <td>(-4.439171187681639e-09+0j)</td>\n    </tr>\n    <tr>\n      <th>5</th>\n      <td>0j</td>\n      <td>(5+0j)</td>\n      <td>(-2.468020342116161e-11+0j)</td>\n    </tr>\n    <tr>\n      <th>6</th>\n      <td>0j</td>\n      <td>(6+0j)</td>\n      <td>(-2.414035311984561e-13+0j)</td>\n    </tr>\n    <tr>\n      <th>7</th>\n      <td>(1+0j)</td>\n      <td>0j</td>\n      <td>(0.0039117870815609974+0j)</td>\n    </tr>\n    <tr>\n      <th>8</th>\n      <td>(1+0j)</td>\n      <td>(1+0j)</td>\n      <td>(-0.05356421012408956+0j)</td>\n    </tr>\n    <tr>\n      <th>9</th>\n      <td>(1+0j)</td>\n      <td>(2+0j)</td>\n      <td>(-0.0008195165729492932+0j)</td>\n    </tr>\n    <tr>\n      <th>10</th>\n      <td>(1+0j)</td>\n      <td>(3+0j)</td>\n      <td>(1.3069793546785574e-05+0j)</td>\n    </tr>\n    <tr>\n      <th>11</th>\n      <td>(1+0j)</td>\n      <td>(4+0j)</td>\n      <td>(-3.8823301307412274e-07+0j)</td>\n    </tr>\n    <tr>\n      <th>12</th>\n      <td>(1+0j)</td>\n      <td>(5+0j)</td>\n      <td>(-2.2980331157475304e-10+0j)</td>\n    </tr>\n    <tr>\n      <th>13</th>\n      <td>(1+0j)</td>\n      <td>(6+0j)</td>\n      <td>(-2.6365776782394976e-11+0j)</td>\n    </tr>\n    <tr>\n      <th>14</th>\n      <td>(2+0j)</td>\n      <td>0j</td>\n      <td>(-7.892914588523852e-05+0j)</td>\n    </tr>\n    <tr>\n      <th>15</th>\n      <td>(2+0j)</td>\n      <td>(1+0j)</td>\n      <td>(0.00015731521128695077+0j)</td>\n    </tr>\n    <tr>\n      <th>16</th>\n      <td>(2+0j)</td>\n      <td>(2+0j)</td>\n      <td>(-0.14101932570975056+0j)</td>\n    </tr>\n    <tr>\n      <th>17</th>\n      <td>(2+0j)</td>\n      <td>(3+0j)</td>\n      <td>(0.0008652761605861199+0j)</td>\n    </tr>\n    <tr>\n      <th>18</th>\n      <td>(2+0j)</td>\n      <td>(4+0j)</td>\n      <td>(7.49904417194706e-05+0j)</td>\n    </tr>\n    <tr>\n      <th>19</th>\n      <td>(2+0j)</td>\n      <td>(5+0j)</td>\n      <td>(8.111440921247713e-07+0j)</td>\n    </tr>\n    <tr>\n      <th>20</th>\n      <td>(2+0j)</td>\n      <td>(6+0j)</td>\n      <td>(1.2629754698501403e-08+0j)</td>\n    </tr>\n    <tr>\n      <th>21</th>\n      <td>(3+0j)</td>\n      <td>0j</td>\n      <td>(7.214607573147836e-07+0j)</td>\n    </tr>\n    <tr>\n      <th>22</th>\n      <td>(3+0j)</td>\n      <td>(1+0j)</td>\n      <td>(1.78166546763914e-05+0j)</td>\n    </tr>\n    <tr>\n      <th>23</th>\n      <td>(3+0j)</td>\n      <td>(2+0j)</td>\n      <td>(-0.001069148050624554+0j)</td>\n    </tr>\n    <tr>\n      <th>24</th>\n      <td>(3+0j)</td>\n      <td>(3+0j)</td>\n      <td>(0.050142492541650235+0j)</td>\n    </tr>\n    <tr>\n      <th>25</th>\n      <td>(3+0j)</td>\n      <td>(4+0j)</td>\n      <td>(0.00014269489244289466+0j)</td>\n    </tr>\n    <tr>\n      <th>26</th>\n      <td>(3+0j)</td>\n      <td>(5+0j)</td>\n      <td>(-3.724404146025593e-06+0j)</td>\n    </tr>\n    <tr>\n      <th>27</th>\n      <td>(3+0j)</td>\n      <td>(6+0j)</td>\n      <td>NaN</td>\n    </tr>\n    <tr>\n      <th>28</th>\n      <td>(4+0j)</td>\n      <td>0j</td>\n      <td>(-6.4232485904575846e-09+0j)</td>\n    </tr>\n    <tr>\n      <th>29</th>\n      <td>(4+0j)</td>\n      <td>(1+0j)</td>\n      <td>(1.2253268249578735e-07+0j)</td>\n    </tr>\n    <tr>\n      <th>30</th>\n      <td>(4+0j)</td>\n      <td>(2+0j)</td>\n      <td>(9.214366420572345e-05+0j)</td>\n    </tr>\n    <tr>\n      <th>31</th>\n      <td>(4+0j)</td>\n      <td>(3+0j)</td>\n      <td>(-3.3396946268188586e-05+0j)</td>\n    </tr>\n    <tr>\n      <th>32</th>\n      <td>(4+0j)</td>\n      <td>(4+0j)</td>\n      <td>(0.14056983089328506+0j)</td>\n    </tr>\n    <tr>\n      <th>33</th>\n      <td>(4+0j)</td>\n      <td>(5+0j)</td>\n      <td>(0.00027382053361035613+0j)</td>\n    </tr>\n    <tr>\n      <th>34</th>\n      <td>(4+0j)</td>\n      <td>(6+0j)</td>\n      <td>(-6.241945745964344e-05+0j)</td>\n    </tr>\n    <tr>\n      <th>35</th>\n      <td>(5+0j)</td>\n      <td>0j</td>\n      <td>(4.095455476922538e-11+0j)</td>\n    </tr>\n    <tr>\n      <th>36</th>\n      <td>(5+0j)</td>\n      <td>(1+0j)</td>\n      <td>(3.777109614949662e-10+0j)</td>\n    </tr>\n    <tr>\n      <th>37</th>\n      <td>(5+0j)</td>\n      <td>(2+0j)</td>\n      <td>(-1.297696924798624e-06+0j)</td>\n    </tr>\n    <tr>\n      <th>38</th>\n      <td>(5+0j)</td>\n      <td>(3+0j)</td>\n      <td>(-7.229024337074666e-06+0j)</td>\n    </tr>\n    <tr>\n      <th>39</th>\n      <td>(5+0j)</td>\n      <td>(4+0j)</td>\n      <td>NaN</td>\n    </tr>\n    <tr>\n      <th>40</th>\n      <td>(5+0j)</td>\n      <td>(5+0j)</td>\n      <td>(-0.017835686837143663+0j)</td>\n    </tr>\n    <tr>\n      <th>41</th>\n      <td>(5+0j)</td>\n      <td>(6+0j)</td>\n      <td>NaN</td>\n    </tr>\n    <tr>\n      <th>42</th>\n      <td>(6+0j)</td>\n      <td>0j</td>\n      <td>(-2.478137302221673e-13+0j)</td>\n    </tr>\n    <tr>\n      <th>43</th>\n      <td>(6+0j)</td>\n      <td>(1+0j)</td>\n      <td>(-4.1262008471633903e-11+0j)</td>\n    </tr>\n    <tr>\n      <th>44</th>\n      <td>(6+0j)</td>\n      <td>(2+0j)</td>\n      <td>(1.941472387534707e-08+0j)</td>\n    </tr>\n    <tr>\n      <th>45</th>\n      <td>(6+0j)</td>\n      <td>(3+0j)</td>\n      <td>(-4.0733741936357476e-07+0j)</td>\n    </tr>\n    <tr>\n      <th>46</th>\n      <td>(6+0j)</td>\n      <td>(4+0j)</td>\n      <td>(-7.915306413048486e-05+0j)</td>\n    </tr>\n    <tr>\n      <th>47</th>\n      <td>(6+0j)</td>\n      <td>(5+0j)</td>\n      <td>(-0.0008798427117802314+0j)</td>\n    </tr>\n    <tr>\n      <th>48</th>\n      <td>(6+0j)</td>\n      <td>(6+0j)</td>\n      <td>NaN</td>\n    </tr>\n  </tbody>\n</table>\n</div>"
     },
     "execution_count": 13,
     "metadata": {},
     "output_type": "execute_result"
    }
   ],
   "source": [
    "df\n",
    "\n"
   ],
   "metadata": {
    "collapsed": false,
    "pycharm": {
     "name": "#%%\n"
    }
   }
  },
  {
   "cell_type": "code",
   "execution_count": null,
   "outputs": [],
   "source": [],
   "metadata": {
    "collapsed": false,
    "pycharm": {
     "name": "#%%\n"
    }
   }
  }
 ],
 "metadata": {
  "kernelspec": {
   "display_name": "Python 3",
   "language": "python",
   "name": "python3"
  },
  "language_info": {
   "codemirror_mode": {
    "name": "ipython",
    "version": 2
   },
   "file_extension": ".py",
   "mimetype": "text/x-python",
   "name": "python",
   "nbconvert_exporter": "python",
   "pygments_lexer": "ipython2",
   "version": "2.7.6"
  }
 },
 "nbformat": 4,
 "nbformat_minor": 0
}