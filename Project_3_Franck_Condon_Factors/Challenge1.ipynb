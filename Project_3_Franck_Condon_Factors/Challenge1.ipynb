{
 "cells": [
  {
   "cell_type": "markdown",
   "metadata": {
    "collapsed": true,
    "pycharm": {
     "name": "#%% md\n"
    }
   },
   "source": [
    "# Challenge 1\n",
    "\n",
    "## Loop Hafnian based FCF calculation\n",
    "\n",
    "- Xanadu provides their [implementation](https://github.com/XanaduAI/fockgaussian) of this method.\n",
    "\n",
    "We read the V3 data from Task2 result and use Strawberryfield to construct GBS parameters"
   ]
  },
  {
   "cell_type": "code",
   "execution_count": 10,
   "outputs": [],
   "source": [
    "import os\n",
    "\n",
    "import numpy as np\n",
    "from strawberryfields.apps import vibronic\n",
    "\n",
    "os.environ['KMP_DUPLICATE_LIB_OK']='True'\n",
    "\n",
    "inputfile = open(\"Task2Code/V3-normal-mode-constraint.gbs.in\", \"r\")\n",
    "\n",
    "N=int(inputfile.readline())     #Number of Atoms\n",
    "nmodes=3*N-6                    #Number of Modes\n",
    "\n",
    "w=np.zeros(nmodes,float)        #vib. frequencies of ground electronic state\n",
    "wp=np.zeros(nmodes,float)       #vib. frequencies of excited electronic state\n",
    "Ud=np.zeros((nmodes,nmodes),float)   #Duschinsky Matrix\n",
    "delta=np.zeros(nmodes,float)    #Displacement Vector\n",
    "\n",
    "T = 500  # temperature\n",
    "\n",
    "for i in range(nmodes):\n",
    "    line = inputfile.readline()\n",
    "    w[i]=float(line)\n",
    "\n",
    "for i in range(nmodes):\n",
    "    line = inputfile.readline()\n",
    "    wp[i]=float(line)\n",
    "for i in range(nmodes):\n",
    "    for j in range(nmodes):\n",
    "        line = inputfile.readline()\n",
    "        Ud[i,j]=float(line)\n",
    "\n",
    "for i in range(nmodes):\n",
    "    line = inputfile.readline()\n",
    "    delta[i]=float(line)\n",
    "\n",
    "t, U1, r, U2, alpha = vibronic.gbs_params(w, wp, Ud, delta, T)\n"
   ],
   "metadata": {
    "collapsed": false,
    "pycharm": {
     "name": "#%%\n"
    }
   }
  },
  {
   "cell_type": "markdown",
   "source": [
    "We then use this to calculate multi-mode Franck Condon Factor"
   ],
   "metadata": {
    "collapsed": false,
    "pycharm": {
     "name": "#%% md\n"
    }
   }
  },
  {
   "cell_type": "code",
   "execution_count": 21,
   "outputs": [
    {
     "name": "stdout",
     "output_type": "stream",
     "text": [
      "(1.297262383457603e-05+0j)\n"
     ]
    }
   ],
   "source": [
    "from fockgaussian.fockgaussian import matelem\n",
    "\n",
    "elem = matelem(l=nmodes, m=[1, 2, 3],n=[0, 1, 2], U=U1, Up=U2,ls=r, alpha=alpha)\n",
    "fcf = elem * elem.conjugate()\n",
    "print(elem**2)"
   ],
   "metadata": {
    "collapsed": false,
    "pycharm": {
     "name": "#%%\n"
    }
   }
  },
  {
   "cell_type": "code",
   "execution_count": null,
   "outputs": [],
   "source": [],
   "metadata": {
    "collapsed": false,
    "pycharm": {
     "name": "#%%\n"
    }
   }
  }
 ],
 "metadata": {
  "kernelspec": {
   "display_name": "Python 3",
   "language": "python",
   "name": "python3"
  },
  "language_info": {
   "codemirror_mode": {
    "name": "ipython",
    "version": 2
   },
   "file_extension": ".py",
   "mimetype": "text/x-python",
   "name": "python",
   "nbconvert_exporter": "python",
   "pygments_lexer": "ipython2",
   "version": "2.7.6"
  }
 },
 "nbformat": 4,
 "nbformat_minor": 0
}