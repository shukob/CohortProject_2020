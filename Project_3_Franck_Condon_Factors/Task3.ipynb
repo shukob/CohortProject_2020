{
 "cells": [
  {
   "metadata": {},
   "cell_type": "markdown",
   "source": [
    "# Task 3: Simulation of a GBS experiment"
   ]
  },
  {
   "metadata": {},
   "cell_type": "markdown",
   "source": [
    "A template code for calculating a vibronic spectrum of $V_3$ using a sampling method, simulating a Gaussian Boson Sampling experiment."
   ]
  },
  {
   "metadata": {},
   "cell_type": "markdown",
   "source": [
    "Input Parameters.\n",
    "\n",
    "Note: \"Strawberry Fields\" is a code created by Xanadu and is the driver behind GBS. This can be installed using **pip**, but see install instructions in the <a href=\"https://github.com/CDL-Quantum/CohortProject_2020/blob/master/Project_3_Franck_Condon_Factors/Project3_LandingPage.pdf\"> Project 3 Landing Page</a>. Plotly is a nice plotting code, but is not necessary if you wish to use one of your choice."
   ]
  },
  {
   "metadata": {
    "trusted": true
   },
   "cell_type": "code",
   "source": [
    "from sys import argv\n",
    "from strawberryfields.apps import vibronic, data, sample, plot\n",
    "import numpy as np\n",
    "from plotly import offline\n",
    "import os\n",
    "os.environ['KMP_DUPLICATE_LIB_OK']='True'"
   ],
   "execution_count": 1,
   "outputs": []
  },
  {
   "metadata": {},
   "cell_type": "markdown",
   "source": [
    "Variables.\n",
    "\n",
    "Note: The **inputfile** for $V_3$ is what you will have to create to run this script."
   ]
  },
  {
   "metadata": {
    "trusted": true
   },
   "cell_type": "code",
   "source": [
    "inputfile = open(\"V3.in\", \"r\")\n",
    "\n",
    "N=int(inputfile.readline())     #Number of Atoms\n",
    "nmodes=3*N-6                    #Number of Modes\n",
    "\n",
    "w=np.zeros(nmodes,float)        #vib. frequencies of ground electronic state\n",
    "wp=np.zeros(nmodes,float)       #vib. frequencies of excited electronic state\n",
    "Ud=np.zeros((nmodes,nmodes),float)   #Duschinsky Matrix\n",
    "delta=np.zeros(nmodes,float)    #Displacement Vector\n",
    "\n",
    "T = 500  # temperature"
   ],
   "execution_count": 2,
   "outputs": []
  },
  {
   "metadata": {},
   "cell_type": "markdown",
   "source": [
    "Read in Parameters.\n",
    "\n",
    "Note: This is a suggested format for reading the **inputfile** that you create. However, feel free to modify it for your convenience."
   ]
  },
  {
   "cell_type": "code",
   "execution_count": 3,
   "outputs": [],
   "source": [
    "for i in range(nmodes):\n",
    "    line = inputfile.readline()\n",
    "    w[i]=float(line)\n",
    "\n",
    "for i in range(nmodes):\n",
    "    line = inputfile.readline()\n",
    "    wp[i]=float(line)\n",
    "for i in range(nmodes):\n",
    "    for j in range(nmodes):\n",
    "        line = inputfile.readline()\n",
    "        Ud[i,j]=float(line)\n",
    "\n",
    "for i in range(nmodes):\n",
    "    line = inputfile.readline()\n",
    "    delta[i]=float(line)"
   ],
   "metadata": {
    "collapsed": false,
    "pycharm": {
     "name": "#%%\n"
    }
   }
  },
  {
   "cell_type": "markdown",
   "source": [
    "Use \"Strawberry Fields\" to calculate GBS Parameters based on the frequencies, Duschinsky matrix, and temperature that was provided as input."
   ],
   "metadata": {
    "collapsed": false,
    "pycharm": {
     "name": "#%% md\n"
    }
   }
  },
  {
   "metadata": {
    "pycharm": {
     "name": "#%%\n"
    }
   },
   "cell_type": "code",
   "source": [
    "t, U1, r, U2, alpha = vibronic.gbs_params(w, wp, Ud, delta, T)"
   ],
   "execution_count": 4,
   "outputs": []
  },
  {
   "metadata": {
    "trusted": true,
    "pycharm": {
     "name": "#%% md\n"
    }
   },
   "cell_type": "markdown",
   "source": [
    "Generate Samples and Calculate Energies of Samples.\n",
    "\n",
    "Note: The number of samples may be changed if the spectrum is not converged."
   ]
  },
  {
   "metadata": {
    "pycharm": {
     "name": "#%%\n",
     "is_executing": true
    }
   },
   "cell_type": "code",
   "source": [
    "nr_samples = 10\n",
    "s = sample.vibronic(t, U1, r, U2, alpha, nr_samples)"
   ],
   "execution_count": null,
   "outputs": []
  },
  {
   "cell_type": "code",
   "execution_count": 1,
   "outputs": [
    {
     "ename": "NameError",
     "evalue": "name 'vibronic' is not defined",
     "output_type": "error",
     "traceback": [
      "\u001B[0;31m---------------------------------------------------------------------------\u001B[0m",
      "\u001B[0;31mNameError\u001B[0m                                 Traceback (most recent call last)",
      "\u001B[0;32m<ipython-input-1-fd0546f40df6>\u001B[0m in \u001B[0;36m<module>\u001B[0;34m\u001B[0m\n\u001B[0;32m----> 1\u001B[0;31m \u001B[0me\u001B[0m \u001B[0;34m=\u001B[0m \u001B[0mvibronic\u001B[0m\u001B[0;34m.\u001B[0m\u001B[0menergies\u001B[0m\u001B[0;34m(\u001B[0m\u001B[0ms\u001B[0m\u001B[0;34m,\u001B[0m \u001B[0mw\u001B[0m\u001B[0;34m,\u001B[0m \u001B[0mwp\u001B[0m\u001B[0;34m)\u001B[0m\u001B[0;34m\u001B[0m\u001B[0;34m\u001B[0m\u001B[0m\n\u001B[0m\u001B[1;32m      2\u001B[0m \u001B[0;34m\u001B[0m\u001B[0m\n",
      "\u001B[0;31mNameError\u001B[0m: name 'vibronic' is not defined"
     ]
    }
   ],
   "source": [
    "e = vibronic.energies(s, w, wp)"
   ],
   "metadata": {
    "collapsed": false,
    "pycharm": {
     "name": "#%%\n"
    }
   }
  },
  {
   "metadata": {
    "trusted": true,
    "pycharm": {
     "name": "#%% md\n"
    }
   },
   "cell_type": "markdown",
   "source": [
    "Plot the Spectrum\n",
    "\n",
    "Note: You may choose your favourite plotting program if you wish."
   ]
  },
  {
   "metadata": {
    "pycharm": {
     "name": "#%%\n"
    }
   },
   "cell_type": "code",
   "source": [
    "spectrum = plot.spectrum(e, xmin=-300, xmax=2000)\n",
    "offline.plot(spectrum, filename=\"spectrum.html\")\n",
    "\n"
   ],
   "execution_count": 1,
   "outputs": [
    {
     "ename": "NameError",
     "evalue": "name 'plot' is not defined",
     "output_type": "error",
     "traceback": [
      "\u001B[0;31m---------------------------------------------------------------------------\u001B[0m",
      "\u001B[0;31mNameError\u001B[0m                                 Traceback (most recent call last)",
      "\u001B[0;32m<ipython-input-1-3fccc4abe795>\u001B[0m in \u001B[0;36m<module>\u001B[0;34m\u001B[0m\n\u001B[0;32m----> 1\u001B[0;31m \u001B[0mspectrum\u001B[0m \u001B[0;34m=\u001B[0m \u001B[0mplot\u001B[0m\u001B[0;34m.\u001B[0m\u001B[0mspectrum\u001B[0m\u001B[0;34m(\u001B[0m\u001B[0me\u001B[0m\u001B[0;34m,\u001B[0m \u001B[0mxmin\u001B[0m\u001B[0;34m=\u001B[0m\u001B[0;34m-\u001B[0m\u001B[0;36m300\u001B[0m\u001B[0;34m,\u001B[0m \u001B[0mxmax\u001B[0m\u001B[0;34m=\u001B[0m\u001B[0;36m2000\u001B[0m\u001B[0;34m)\u001B[0m\u001B[0;34m\u001B[0m\u001B[0;34m\u001B[0m\u001B[0m\n\u001B[0m\u001B[1;32m      2\u001B[0m \u001B[0moffline\u001B[0m\u001B[0;34m.\u001B[0m\u001B[0mplot\u001B[0m\u001B[0;34m(\u001B[0m\u001B[0mspectrum\u001B[0m\u001B[0;34m,\u001B[0m \u001B[0mfilename\u001B[0m\u001B[0;34m=\u001B[0m\u001B[0;34m\"spectrum.html\"\u001B[0m\u001B[0;34m)\u001B[0m\u001B[0;34m\u001B[0m\u001B[0;34m\u001B[0m\u001B[0m\n\u001B[1;32m      3\u001B[0m \u001B[0;34m\u001B[0m\u001B[0m\n\u001B[1;32m      4\u001B[0m \u001B[0;34m\u001B[0m\u001B[0m\n\u001B[1;32m      5\u001B[0m \u001B[0;34m\u001B[0m\u001B[0m\n",
      "\u001B[0;31mNameError\u001B[0m: name 'plot' is not defined"
     ]
    }
   ]
  },
  {
   "cell_type": "code",
   "execution_count": null,
   "outputs": [],
   "source": [],
   "metadata": {
    "collapsed": false,
    "pycharm": {
     "name": "#%%\n"
    }
   }
  },
  {
   "metadata": {
    "trusted": true
   },
   "cell_type": "code",
   "source": "",
   "execution_count": null,
   "outputs": []
  }
 ],
 "metadata": {
  "kernelspec": {
   "name": "python3",
   "display_name": "Python 3",
   "language": "python"
  },
  "language_info": {
   "name": "python",
   "version": "3.6.10",
   "mimetype": "text/x-python",
   "codemirror_mode": {
    "name": "ipython",
    "version": 3
   },
   "pygments_lexer": "ipython3",
   "nbconvert_exporter": "python",
   "file_extension": ".py"
  }
 },
 "nbformat": 4,
 "nbformat_minor": 4
}