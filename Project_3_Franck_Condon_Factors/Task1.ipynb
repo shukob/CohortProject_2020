{
 "cells": [
  {
   "cell_type": "markdown",
   "metadata": {},
   "source": [
    "# Task 1\n",
    "\n",
    "FCFs for $H_2$ - $H_2^+$ using the harmonic oscillator approximation."
   ]
  },
  {
   "cell_type": "code",
   "execution_count": 1,
   "metadata": {},
   "outputs": [],
   "source": [
    "import numpy as np\n",
    "import matplotlib.pyplot as plt\n"
   ]
  },
  {
   "cell_type": "markdown",
   "metadata": {},
   "source": [
    "- Calculate transitions between different excitations"
   ]
  },
  {
   "cell_type": "code",
   "execution_count": 5,
   "metadata": {},
   "outputs": [
    {
     "data": {
      "text/plain": "array([[0.00000000e+00, 0.00000000e+00, 1.00000000e+00, 1.23378957e+05],\n       [0.00000000e+00, 1.00000000e+00, 2.95139079e+00, 1.25700957e+05],\n       [0.00000000e+00, 2.00000000e+00, 3.49048846e+00, 1.28022957e+05],\n       [0.00000000e+00, 3.00000000e+00, 2.01446220e+00, 1.30344957e+05],\n       [0.00000000e+00, 4.00000000e+00, 5.16711333e-01, 1.32666957e+05],\n       [0.00000000e+00, 5.00000000e+00, 2.55047939e-02, 1.34988957e+05],\n       [0.00000000e+00, 6.00000000e+00, 8.26500159e-03, 1.37310957e+05],\n       [0.00000000e+00, 7.00000000e+00, 1.09734335e-02, 1.39632957e+05],\n       [0.00000000e+00, 8.00000000e+00, 1.39346082e-03, 1.41954957e+05],\n       [0.00000000e+00, 9.00000000e+00, 8.39894919e-05, 1.44276957e+05],\n       [0.00000000e+00, 1.00000000e+01, 2.53763959e-04, 1.46598957e+05]])"
     },
     "execution_count": 5,
     "metadata": {},
     "output_type": "execute_result"
    }
   ],
   "source": [
    "from FCF_helper import FCFSpec\n",
    "import pandas as pd\n",
    "\n",
    "fcfspec = FCFSpec(n_0=0, n_p=10)\n",
    "spectrum = fcfspec.spectrum_analysis()\n",
    "\n",
    "spectrum"
   ]
  },
  {
   "cell_type": "code",
   "execution_count": 8,
   "outputs": [
    {
     "data": {
      "text/plain": "Text(0.5, 0, 'n_p')"
     },
     "execution_count": 8,
     "metadata": {},
     "output_type": "execute_result"
    },
    {
     "data": {
      "text/plain": "<Figure size 432x288 with 1 Axes>",
      "image/png": "[encoded data removed]"
     },
     "metadata": {
      "needs_background": "light"
     },
     "output_type": "display_data"
    }
   ],
   "source": [
    "df = pd.DataFrame(spectrum, columns=[\"n_0\", 'n_p', 'FCF', 'Ep-E0'])\n",
    "df.set_index('n_p')\n",
    "\n",
    "ax = df.plot(y='FCF')\n",
    "ax.set_title('FCF for each exitation')\n",
    "ax.set_ylabel('FCF')\n",
    "ax.set_xlabel('n_p')"
   ],
   "metadata": {
    "collapsed": false,
    "pycharm": {
     "name": "#%%\n"
    }
   }
  },
  {
   "cell_type": "code",
   "execution_count": null,
   "outputs": [],
   "source": [],
   "metadata": {
    "collapsed": false,
    "pycharm": {
     "name": "#%%\n"
    }
   }
  }
 ],
 "metadata": {
  "kernelspec": {
   "display_name": "Python 3",
   "language": "python",
   "name": "python3"
  },
  "language_info": {
   "codemirror_mode": {
    "name": "ipython",
    "version": 3
   },
   "file_extension": ".py",
   "mimetype": "text/x-python",
   "name": "python",
   "nbconvert_exporter": "python",
   "pygments_lexer": "ipython3",
   "version": "3.7.3"
  }
 },
 "nbformat": 4,
 "nbformat_minor": 2
}