{
 "cells": [
  {
   "cell_type": "markdown",
   "metadata": {},
   "source": [
    "# Task 1\n",
    "\n",
    "A template code for calculating FCFs for $H_2$ - $H_2^+$ using the harmonic oscillator approximation. \n",
    "\n",
    "Imports:"
   ]
  },
  {
   "cell_type": "code",
   "execution_count": 1,
   "metadata": {},
   "outputs": [],
   "source": [
    "import numpy as np\n",
    "import matplotlib.pyplot as plt\n",
    "\n",
    "from FCF_helper import FCFSpec"
   ]
  },
  {
   "cell_type": "markdown",
   "metadata": {},
   "source": [
    "Initialize the `FCFSpec` object. Modify `n_0_max` and `n_p_max` (the maximum vibrational states of $H_2$ and $H_2^+$ that we'll look at calculating FCFs for) in order to get 10 transitions starting from n_0=0."
   ]
  },
  {
   "cell_type": "code",
   "execution_count": 2,
   "metadata": {},
   "outputs": [],
   "source": [
    "n_0_max = 2\n",
    "n_p_max = 2\n",
    "\n",
    "fcfspec = FCFSpec(n_0_max, n_p_max)"
   ]
  },
  {
   "cell_type": "markdown",
   "metadata": {},
   "source": [
    "Calculate all the FCFs and print the results."
   ]
  },
  {
   "cell_type": "code",
   "execution_count": 3,
   "metadata": {},
   "outputs": [
    {
     "name": "stdout",
     "output_type": "stream",
     "text": [
      "n_0\t\t n_p\t\t FCF\n",
      "[[0.00000000e+00 0.00000000e+00 1.00000000e+00]\n",
      " [0.00000000e+00 1.00000000e+00 2.95139079e+00]\n",
      " [0.00000000e+00 2.00000000e+00 3.49048846e+00]\n",
      " [1.00000000e+00 0.00000000e+00 1.55717551e+00]\n",
      " [1.00000000e+00 1.00000000e+00 1.42278254e+00]\n",
      " [1.00000000e+00 2.00000000e+00 4.36585159e-04]\n",
      " [2.00000000e+00 0.00000000e+00 1.74174773e+00]\n",
      " [2.00000000e+00 1.00000000e+00 3.46957789e-01]\n",
      " [2.00000000e+00 2.00000000e+00 5.00381497e-01]]\n"
     ]
    }
   ],
   "source": [
    "spectrum = fcfspec.spectrum_analysis()\n",
    "print(\"n_0\\t\\t n_p\\t\\t FCF\")\n",
    "print(spectrum)"
   ]
  },
  {
   "cell_type": "code",
   "execution_count": null,
   "outputs": [],
   "source": [
    "\n"
   ],
   "metadata": {
    "collapsed": false,
    "pycharm": {
     "name": "#%%\n"
    }
   }
  }
 ],
 "metadata": {
  "kernelspec": {
   "display_name": "Python 3",
   "language": "python",
   "name": "python3"
  },
  "language_info": {
   "codemirror_mode": {
    "name": "ipython",
    "version": 3
   },
   "file_extension": ".py",
   "mimetype": "text/x-python",
   "name": "python",
   "nbconvert_exporter": "python",
   "pygments_lexer": "ipython3",
   "version": "3.7.3"
  }
 },
 "nbformat": 4,
 "nbformat_minor": 2
}