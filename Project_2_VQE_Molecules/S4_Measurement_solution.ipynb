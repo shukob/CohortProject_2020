{
 "cells": [
  {
   "cell_type": "markdown",
   "metadata": {},
   "source": [
    "# Measurement Grouping\n",
    "\n",
    "Since current quantum hardware is limited to single-qubit projective measurement, only terms commuting within individual qubit's subspace can be measured together. These terms are said to be qubit-wise commuting (QWC). \n",
    "\n",
    "Thus, one can not measure the entire electronic Hamiltonian $\\hat H$ at once, and instead needs to separate it into fragments. \n",
    "$$\\hat H = \\sum_n \\hat H_n$$\n",
    "where each $\\hat H_n$ is a QWC fragment. "
   ]
  },
  {
   "cell_type": "code",
   "execution_count": 1,
   "metadata": {},
   "outputs": [],
   "source": [
    "from utility import * "
   ]
  },
  {
   "cell_type": "markdown",
   "metadata": {},
   "source": [
    "Here we use $LiH$ as an example for finding QWC fragments. Notice below that each fragment has the same terms on all qubits.  \n",
    "\n",
    "To show differences between QWC and more advanced grouping, we didn't use the qubit-tappering techinique shown in step 2."
   ]
  },
  {
   "cell_type": "code",
   "execution_count": 11,
   "metadata": {
    "tags": []
   },
   "outputs": [
    {
     "name": "stdout",
     "output_type": "stream",
     "text": [
      "Fragments 1: \n",
      "-0.0032403902911914565 [X0 Z1 Z2 Y3 Y4 Z5 Z6 Z7 Z8 Z9 Z10 X11] +\n",
      "0.06558452315458399 [Z6 Z8] +\n",
      "0.0698018080330067 [Z6 Z9] +\n",
      "0.0698018080330067 [Z7 Z8] +\n",
      "0.06558452315458399 [Z7 Z9]\n",
      "\n",
      "Fragments 2:\n",
      "-0.0009084689845792959 [Y0 Z1 Z2 Z3 Z4 Z5 Y6 Y7 Z8 Z9 Z10 Y11] +\n",
      "0.0990222572034092 [Z1 Z8] +\n",
      "0.09654955103502393 [Z1 Z9] +\n",
      "0.06832924266504996 [Z2 Z8] +\n",
      "0.0751247693474757 [Z2 Z9] +\n",
      "0.0751247693474757 [Z3 Z8] +\n",
      "0.06832924266504996 [Z3 Z9] +\n",
      "0.06009702977667725 [Z4 Z8] +\n",
      "0.07068762352443508 [Z4 Z9] +\n",
      "0.07068762352443508 [Z5 Z8] +\n",
      "0.06009702977667725 [Z5 Z9] +\n",
      "-0.2167542932381841 [Z8] +\n",
      "0.0782363777898521 [Z8 Z9] +\n",
      "0.0642851991772659 [Z8 Z10] +\n",
      "-0.21675429323818407 [Z9] +\n",
      "0.068118185609469 [Z9 Z10]\n",
      "\n",
      "Number of fragments: 154\n"
     ]
    }
   ],
   "source": [
    "lih = get_qubit_hamiltonian(mol='lih', geometry=1, basis='sto-3g', qubit_transf='jw')\n",
    "\n",
    "qwc_list = get_qwc_group(lih)\n",
    "print('Fragments 1: \\n{}\\n'.format(qwc_list[4]))\n",
    "print('Fragments 2:\\n{}\\n'.format(qwc_list[1]))\n",
    "print('Number of fragments: {}'.format(len(qwc_list)))"
   ]
  },
  {
   "cell_type": "markdown",
   "metadata": {},
   "source": [
    "By applying extra unitaries, one may rotate more terms of $\\hat H$ into a QWC fragment.  \n",
    "\n",
    "Recall that in digital quantum computing, the expectation value of $\\hat H_n$ given a trial wavefunction $|\\psi\\rangle$ is \n",
    "$$ E_n =\\ \\langle\\psi| \\hat H_n | \\psi\\rangle$$\n",
    "Inserting unitary transformation $\\hat U_n$ does not change the expectation value.\n",
    "$$ E_n =\\ \\langle\\psi| \\hat U_n^\\dagger \\hat U_n \\hat H_n \\hat U_n^\\dagger \\hat U_n  |\\psi\\rangle$$ \n",
    "This nonetheless changes the trial wavefunction and the terms to be measured. \n",
    "$$ |\\psi\\rangle \\rightarrow \\hat U_n |\\psi\\rangle = |\\phi\\rangle$$\n",
    "$$ \\hat H_n \\rightarrow \\hat U_n \\hat H_n \\hat U_n^\\dagger = \\hat A_n$$\n",
    "The transformation of $|\\psi \\rangle$ can be done on the quantum computer, and the transformation of $\\hat H_n$ is possible on the classical computer. \n",
    "\n",
    "Now, although $\\hat A_n$ needs to be a QWC fragment to be measurable on a quantum computer, $\\hat H_n$ does not. \n",
    "Instead, if we restrict $\\hat U_n$ to be a clifford operation, the terms in $\\hat H$ need only mutually commute. \n",
    "\n",
    "Here, we obtain measurable parts of $LiH$ by partitioning its terms into mutually commuting fragments. "
   ]
  },
  {
   "cell_type": "code",
   "execution_count": 12,
   "metadata": {
    "tags": []
   },
   "outputs": [
    {
     "name": "stdout",
     "output_type": "stream",
     "text": [
      "Number of mutually commuting fragments: 36\n",
      "The first commuting group\n",
      "-3.93444195675791 [] +\n",
      "0.007923321157850723 [X0 Y1 Y2 X3] +\n",
      "-0.00015507836015035223 [X0 Z1 Z2 X3 Y4 Y5] +\n",
      "-0.002077886902662328 [X0 Z1 Z2 X3 Y6 Y7] +\n",
      "-0.0020778869026623274 [X0 Z1 Z2 X3 Y8 Y9] +\n",
      "-0.0021028659073762156 [X0 Z1 Z2 X3 Y10 Y11] +\n",
      "0.007923321157850723 [Y0 X1 X2 Y3] +\n",
      "-0.00015507836015035223 [Y0 Z1 Z2 Y3 X4 X5] +\n",
      "-0.002077886902662328 [Y0 Z1 Z2 Y3 X6 X7] +\n",
      "-0.0020778869026623274 [Y0 Z1 Z2 Y3 X8 X9] +\n",
      "-0.0021028659073762156 [Y0 Z1 Z2 Y3 X10 X11] +\n",
      "0.11709373561826503 [Z0 Z3] +\n",
      "-0.0001550783601503522 [X1 X2 X4 X5] +\n",
      "-0.002077886902662328 [X1 X2 X6 X7] +\n",
      "-0.0020778869026623274 [X1 X2 X8 X9] +\n",
      "-0.0021028659073762156 [X1 X2 X10 X11] +\n",
      "-0.0001550783601503522 [Y1 Y2 Y4 Y5] +\n",
      "-0.002077886902662328 [Y1 Y2 Y6 Y7] +\n",
      "-0.0020778869026623274 [Y1 Y2 Y8 Y9] +\n",
      "-0.0021028659073762156 [Y1 Y2 Y10 Y11] +\n",
      "0.11709373561826503 [Z1 Z2] +\n",
      "-0.010590593747757844 [X4 X5 Y6 Y7] +\n",
      "-0.010590593747757839 [X4 X5 Y8 Y9] +\n",
      "-0.006733030780881396 [X4 X5 Y10 Y11] +\n",
      "-0.010590593747757844 [Y4 Y5 X6 X7] +\n",
      "-0.010590593747757839 [Y4 Y5 X8 X9] +\n",
      "-0.006733030780881396 [Y4 Y5 X10 X11] +\n",
      "0.08475100244618904 [Z4 Z5] +\n",
      "-0.004217284878422716 [X6 X7 Y8 Y9] +\n",
      "-0.003832986432203124 [X6 X7 Y10 Y11] +\n",
      "-0.004217284878422716 [Y6 Y7 X8 X9] +\n",
      "-0.003832986432203124 [Y6 Y7 X10 X11] +\n",
      "0.07823637778985212 [Z6 Z7] +\n",
      "-0.003832986432203123 [X8 X9 Y10 Y11] +\n",
      "-0.003832986432203123 [Y8 Y9 X10 X11] +\n",
      "0.0782363777898521 [Z8 Z9] +\n",
      "0.1099396904487043 [Z10 Z11]\n"
     ]
    }
   ],
   "source": [
    "comm_groups = get_commuting_group(lih)\n",
    "print('Number of mutually commuting fragments: {}'.format(len(comm_groups)))\n",
    "print('The first commuting group')\n",
    "print(comm_groups[1])"
   ]
  },
  {
   "cell_type": "markdown",
   "metadata": {},
   "source": [
    "To see this fragment is indeed measurable, one can construct the corresponding unitary operator $\\hat U_n$."
   ]
  },
  {
   "cell_type": "code",
   "execution_count": 19,
   "metadata": {
    "tags": []
   },
   "outputs": [
    {
     "name": "stdout",
     "output_type": "stream",
     "text": [
      "This is unitary, U * U^+ = I \n",
      "CPU times: user 2min 39s, sys: 0 ns, total: 2min 39s\n",
      "Wall time: 2min 39s\n",
      "(0.9999999999999999+0j) []\n"
     ]
    }
   ],
   "source": [
    "uqwc = get_qwc_unitary(comm_groups[1])\n",
    "print('This is unitary, U * U^+ = I ')\n",
    "%time I_ = uqwc * uqwc\n",
    "print(I_)"
   ]
  },
  {
   "cell_type": "markdown",
   "metadata": {},
   "source": [
    "Applying this unitary gives the qubit-wise commuting form of the first mutually commuting group"
   ]
  },
  {
   "cell_type": "code",
   "execution_count": 21,
   "metadata": {
    "tags": []
   },
   "outputs": [
    {
     "name": "stdout",
     "output_type": "stream",
     "text": [
      "CPU times: user 1.64 s, sys: 32 ms, total: 1.67 s\n",
      "Wall time: 1.67 s\n"
     ]
    },
    {
     "ename": "KeyboardInterrupt",
     "evalue": "",
     "output_type": "error",
     "traceback": [
      "\u001b[0;31m---------------------------------------------------------------------------\u001b[0m",
      "\u001b[0;31mKeyboardInterrupt\u001b[0m                         Traceback (most recent call last)",
      "\u001b[0;32m<timed exec>\u001b[0m in \u001b[0;36m<module>\u001b[0;34m\u001b[0m\n",
      "\u001b[0;32m~/anaconda3/envs/jupyter37/lib/python3.7/site-packages/openfermion/ops/_symbolic_operator.py\u001b[0m in \u001b[0;36m__mul__\u001b[0;34m(self, multiplier)\u001b[0m\n\u001b[1;32m    378\u001b[0m         \u001b[0;32mif\u001b[0m \u001b[0misinstance\u001b[0m\u001b[0;34m(\u001b[0m\u001b[0mmultiplier\u001b[0m\u001b[0;34m,\u001b[0m \u001b[0;34m(\u001b[0m\u001b[0mint\u001b[0m\u001b[0;34m,\u001b[0m \u001b[0mfloat\u001b[0m\u001b[0;34m,\u001b[0m \u001b[0mcomplex\u001b[0m\u001b[0;34m,\u001b[0m \u001b[0mtype\u001b[0m\u001b[0;34m(\u001b[0m\u001b[0mself\u001b[0m\u001b[0;34m)\u001b[0m\u001b[0;34m)\u001b[0m\u001b[0;34m)\u001b[0m\u001b[0;34m:\u001b[0m\u001b[0;34m\u001b[0m\u001b[0;34m\u001b[0m\u001b[0m\n\u001b[1;32m    379\u001b[0m             \u001b[0mproduct\u001b[0m \u001b[0;34m=\u001b[0m \u001b[0mcopy\u001b[0m\u001b[0;34m.\u001b[0m\u001b[0mdeepcopy\u001b[0m\u001b[0;34m(\u001b[0m\u001b[0mself\u001b[0m\u001b[0;34m)\u001b[0m\u001b[0;34m\u001b[0m\u001b[0;34m\u001b[0m\u001b[0m\n\u001b[0;32m--> 380\u001b[0;31m             \u001b[0mproduct\u001b[0m \u001b[0;34m*=\u001b[0m \u001b[0mmultiplier\u001b[0m\u001b[0;34m\u001b[0m\u001b[0;34m\u001b[0m\u001b[0m\n\u001b[0m\u001b[1;32m    381\u001b[0m             \u001b[0;32mreturn\u001b[0m \u001b[0mproduct\u001b[0m\u001b[0;34m\u001b[0m\u001b[0;34m\u001b[0m\u001b[0m\n\u001b[1;32m    382\u001b[0m         \u001b[0;32melse\u001b[0m\u001b[0;34m:\u001b[0m\u001b[0;34m\u001b[0m\u001b[0;34m\u001b[0m\u001b[0m\n",
      "\u001b[0;32m~/anaconda3/envs/jupyter37/lib/python3.7/site-packages/openfermion/ops/_symbolic_operator.py\u001b[0m in \u001b[0;36m__imul__\u001b[0;34m(self, multiplier)\u001b[0m\n\u001b[1;32m    349\u001b[0m \u001b[0;34m\u001b[0m\u001b[0m\n\u001b[1;32m    350\u001b[0m                     new_coefficient, new_term = self._simplify(\n\u001b[0;32m--> 351\u001b[0;31m                             new_term, coefficient=new_coefficient)\n\u001b[0m\u001b[1;32m    352\u001b[0m \u001b[0;34m\u001b[0m\u001b[0m\n\u001b[1;32m    353\u001b[0m                     \u001b[0;31m# Update result dict.\u001b[0m\u001b[0;34m\u001b[0m\u001b[0;34m\u001b[0m\u001b[0;34m\u001b[0m\u001b[0m\n",
      "\u001b[0;31mKeyboardInterrupt\u001b[0m: "
     ]
    },
    {
     "name": "stdout",
     "output_type": "stream",
     "text": [
      "CPU times: user 3.04 s, sys: 2 µs, total: 3.04 s\n",
      "Wall time: 3.04 s\n"
     ]
    }
   ],
   "source": [
    "#This takes too long and never finishes\n",
    "%time qwc = uqwc * comm_groups[1]\n",
    "%time qwc = qwc * uqwc\n",
    "%time qwc = remove_complex(qwc)"
   ]
  },
  {
   "cell_type": "markdown",
   "metadata": {},
   "source": [
    "In addition, current quantum computer can measure only the $z$ operators. Thus, QWC fragments with $x$ or $y$ operators require extra single-qubit unitaries that rotate them into $z$.  "
   ]
  },
  {
   "cell_type": "code",
   "execution_count": null,
   "metadata": {
    "tags": []
   },
   "outputs": [],
   "source": [
    "uz = get_zform_unitary(qwc)\n",
    "print(\"Checking whether U * U^+ is identity: {}\".format(uz * uz))\n",
    "\n",
    "allz = remove_complex(uz * qwc * uz)\n",
    "print(\"\\nThe all-z form of qwc fragment:\\n{}\".format(allz))"
   ]
  },
  {
   "cell_type": "markdown",
   "metadata": {},
   "source": [
    "## H4\n"
   ]
  },
  {
   "cell_type": "code",
   "execution_count": 8,
   "metadata": {},
   "outputs": [
    {
     "name": "stdout",
     "output_type": "stream",
     "text": [
      "Fragments 1: \n",
      "-9.87643820460956e-07 [X0 Z1 Z2 Z3 X4 Y5 Z6 Y7]\n",
      "\n",
      "Fragments 2:\n",
      "9.721079259864158e-07 [Y0 Z1 Y2 Y3 Z4 Z5 Z6 Y7]\n",
      "\n",
      "Number of fragments: 57\n",
      "Number of mutually commuting fragments: 9\n",
      "The first commuting group\n",
      "-0.6427167034502642 [] +\n",
      "1.4124085973531153e-07 [X0 X1 X3 X4] +\n",
      "1.4124085973531153e-07 [X0 Y1 Y3 X4] +\n",
      "-9.87643820460956e-07 [X0 Z1 Z2 Z3 X4 X5 Z6 X7] +\n",
      "-9.87643820460956e-07 [X0 Z1 Z2 Z3 X4 Y5 Z6 Y7] +\n",
      "-3.718844968007666e-07 [X0 Z1 Z2 Z3 Z5 X6] +\n",
      "0.03382002546943696 [Y0 X1 X2 Y3] +\n",
      "-0.03382002546943696 [Y0 Y1 X2 X3] +\n",
      "0.034268472271777504 [Y0 Z1 Y2 X5 Z6 X7] +\n",
      "0.034268472271777504 [Y0 Z1 Y2 Y5 Z6 Y7] +\n",
      "3.6883735565415576e-07 [Y0 Z1 Z3 Z4 Z5 Y6] +\n",
      "-4.865631750684916e-08 [Z0 X2 Z3 X4] +\n",
      "-9.721079259864158e-07 [X1 X2 Y3 Z4 Z5 Y6] +\n",
      "0.034268472271777504 [X1 Z2 X3 X4 Z5 X6] +\n",
      "0.012952358025868181 [X1 Z2 X3 X5 Z6 X7] +\n",
      "9.721079259864158e-07 [Y1 X2 X3 Z4 Z5 Y6] +\n",
      "0.034268472271777504 [Y1 Z2 Y3 X4 Z5 X6] +\n",
      "0.012952358025868181 [Y1 Z2 Y3 Y5 Z6 Y7] +\n",
      "0.08362706285461705 [Z1 Z3] +\n",
      "4.865631751801644e-08 [Y2 Z3 Y4 Z6] +\n",
      "1.4124085977607753e-07 [Y2 Z3 Z4 X5 X6 Y7] +\n",
      "-1.4124085977607753e-07 [Y2 Z3 Z4 Y5 X6 X7] +\n",
      "-0.03758941183054093 [X4 X5 Y6 Y7] +\n",
      "0.03758941183054093 [X4 Y5 Y6 X7] +\n",
      "0.08288775222166996 [Z5 Z7]\n",
      "This is unitary, U * U^+ = I \n",
      "(0.9999999999999999+0j) []\n",
      "-0.642716703450265 [] +\n",
      "0.034268472271777435 [X0 X1 X2 X5 Z7] +\n",
      "-0.034268472271777435 [X0 X1 X2 Z7] +\n",
      "0.03382002546943679 [X0 X1 Z3] +\n",
      "-3.688373556541557e-07 [X0 X1 X5 Z6] +\n",
      "-0.03382002546943679 [X0 Z3] +\n",
      "-4.865631750684915e-08 [X0 Z4] +\n",
      "0.08362706285461716 [X1] +\n",
      "-0.034268472271777435 [X1 X2 Z3 Z4 X5 Z6] +\n",
      "-0.012952358025868228 [X1 X2 Z3 X5 Z7] +\n",
      "-9.876438204609558e-07 [X1 X2 Z4 X5 Z7] +\n",
      "9.876438204609558e-07 [X1 X2 Z4 Z7] +\n",
      "-3.7188449680076655e-07 [X1 X2 X5 Z6] +\n",
      "-1.412408597353115e-07 [X1 Z3 Z4] +\n",
      "9.721079259864156e-07 [X1 Z3 X5 Z6] +\n",
      "0.034268472271777435 [X2 Z3 Z4 X5 Z6] +\n",
      "-0.012952358025868228 [X2 Z3 Z7] +\n",
      "-4.865631751801643e-08 [X2 Z4] +\n",
      "1.412408597760775e-07 [X2 X5 Z6 Z7] +\n",
      "-1.412408597760775e-07 [X2 Z6 Z7] +\n",
      "1.412408597353115e-07 [Z3 Z4] +\n",
      "-9.721079259864156e-07 [Z3 X5 Z6] +\n",
      "-0.03758941183054103 [Z4 X5 Z6 Z7] +\n",
      "0.03758941183054103 [Z4 Z6 Z7] +\n",
      "0.0828877522216696 [X5]\n",
      "Checking whether U * U^+ is identity: 0.9999999999999996 []\n",
      "\n",
      "The all-z form of qwc fragment:\n",
      "-0.6427167034502645 [] +\n",
      "0.034268472271777414 [Z0 Z1 Z2 Z5 Z7] +\n",
      "-0.034268472271777414 [Z0 Z1 Z2 Z7] +\n",
      "0.03382002546943676 [Z0 Z1 Z3] +\n",
      "-3.6883735565415555e-07 [Z0 Z1 Z5 Z6] +\n",
      "-0.03382002546943676 [Z0 Z3] +\n",
      "-4.865631750684913e-08 [Z0 Z4] +\n",
      "0.08362706285461712 [Z1] +\n",
      "-0.034268472271777414 [Z1 Z2 Z3 Z4 Z5 Z6] +\n",
      "-0.012952358025868221 [Z1 Z2 Z3 Z5 Z7] +\n",
      "-9.876438204609547e-07 [Z1 Z2 Z4 Z5 Z7] +\n",
      "9.876438204609547e-07 [Z1 Z2 Z4 Z7] +\n",
      "-3.718844968007664e-07 [Z1 Z2 Z5 Z6] +\n",
      "-1.412408597353114e-07 [Z1 Z3 Z4] +\n",
      "9.721079259864146e-07 [Z1 Z3 Z5 Z6] +\n",
      "0.034268472271777414 [Z2 Z3 Z4 Z5 Z6] +\n",
      "-0.012952358025868221 [Z2 Z3 Z7] +\n",
      "-4.8656317518016413e-08 [Z2 Z4] +\n",
      "1.412408597760774e-07 [Z2 Z5 Z6 Z7] +\n",
      "-1.412408597760774e-07 [Z2 Z6 Z7] +\n",
      "1.412408597353114e-07 [Z3 Z4] +\n",
      "-9.721079259864146e-07 [Z3 Z5 Z6] +\n",
      "-0.03758941183054099 [Z4 Z5 Z6 Z7] +\n",
      "0.03758941183054099 [Z4 Z6 Z7] +\n",
      "0.08288775222166954 [Z5]\n"
     ]
    }
   ],
   "source": [
    "h4 = get_qubit_hamiltonian(mol='h4', geometry=90, basis='sto-3g', qubit_transf='jw')\n",
    "\n",
    "qwc_list = get_qwc_group(h4)\n",
    "print('Fragments 1: \\n{}\\n'.format(qwc_list[4]))\n",
    "print('Fragments 2:\\n{}\\n'.format(qwc_list[1]))\n",
    "print('Number of fragments: {}'.format(len(qwc_list)))\n",
    "\n",
    "comm_groups = get_commuting_group(h4)\n",
    "print('Number of mutually commuting fragments: {}'.format(len(comm_groups)))\n",
    "print('The first commuting group')\n",
    "print(comm_groups[1])\n",
    "\n",
    "uqwc = get_qwc_unitary(comm_groups[1])\n",
    "print('This is unitary, U * U^+ = I ')\n",
    "print(uqwc * uqwc)\n",
    "\n",
    "qwc = remove_complex(uqwc * comm_groups[1] * uqwc)\n",
    "print(qwc)\n",
    "\n",
    "\n",
    "uz = get_zform_unitary(qwc)\n",
    "print(\"Checking whether U * U^+ is identity: {}\".format(uz * uz))\n",
    "\n",
    "allz = remove_complex(uz * qwc * uz)\n",
    "print(\"\\nThe all-z form of qwc fragment:\\n{}\".format(allz))"
   ]
  },
  {
   "cell_type": "code",
   "execution_count": null,
   "metadata": {},
   "outputs": [],
   "source": []
  }
 ],
 "metadata": {
  "kernelspec": {
   "display_name": "Python 3",
   "language": "python",
   "name": "python3"
  },
  "language_info": {
   "codemirror_mode": {
    "name": "ipython",
    "version": 3
   },
   "file_extension": ".py",
   "mimetype": "text/x-python",
   "name": "python",
   "nbconvert_exporter": "python",
   "pygments_lexer": "ipython3",
   "version": "3.7.7"
  }
 },
 "nbformat": 4,
 "nbformat_minor": 2
}
