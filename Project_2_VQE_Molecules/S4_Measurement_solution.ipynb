{
 "cells": [
  {
   "cell_type": "markdown",
   "metadata": {},
   "source": [
    "# Measurement Grouping\n",
    "\n",
    "Since current quantum hardware is limited to single-qubit projective measurement, only terms commuting within individual qubit's subspace can be measured together. These terms are said to be qubit-wise commuting (QWC). \n",
    "\n",
    "Thus, one can not measure the entire electronic Hamiltonian $\\hat H$ at once, and instead needs to separate it into fragments. \n",
    "$$\\hat H = \\sum_n \\hat H_n$$\n",
    "where each $\\hat H_n$ is a QWC fragment. "
   ]
  },
  {
   "cell_type": "code",
   "execution_count": 1,
   "metadata": {},
   "outputs": [],
   "source": [
    "from utility import * "
   ]
  },
  {
   "cell_type": "markdown",
   "metadata": {},
   "source": [
    "Here we use $LiH$ as an example for finding QWC fragments. Notice below that each fragment has the same terms on all qubits.  \n",
    "\n",
    "To show differences between QWC and more advanced grouping, we didn't use the qubit-tappering techinique shown in step 2."
   ]
  },
  {
   "cell_type": "code",
   "execution_count": 2,
   "metadata": {
    "tags": []
   },
   "outputs": [
    {
     "name": "stdout",
     "output_type": "stream",
     "text": [
      "Fragments 1: \n",
      "-0.0032403902911913025 [X0 Z1 Z2 Y3 Y4 Z5 Z6 Z7 Z8 Z9 Z10 X11] +\n",
      "0.06558452315458399 [Z6 Z8] +\n",
      "0.06980180803300672 [Z6 Z9] +\n",
      "0.06980180803300672 [Z7 Z8] +\n",
      "0.06558452315458399 [Z7 Z9]\n",
      "\n",
      "Fragments 2:\n",
      "-0.0009084689845792862 [Y0 Z1 Z2 Z3 Z4 Z5 Y6 Y7 Z8 Z9 Z10 Y11] +\n",
      "0.09902225720340921 [Z1 Z8] +\n",
      "0.09654955103502391 [Z1 Z9] +\n",
      "0.06832924266505087 [Z2 Z8] +\n",
      "0.07512476934747558 [Z2 Z9] +\n",
      "0.07512476934747558 [Z3 Z8] +\n",
      "0.06832924266505087 [Z3 Z9] +\n",
      "0.060097029776676233 [Z4 Z8] +\n",
      "0.07068762352443518 [Z4 Z9] +\n",
      "0.07068762352443518 [Z5 Z8] +\n",
      "0.060097029776676233 [Z5 Z9] +\n",
      "-0.21675429323818415 [Z8] +\n",
      "0.07823637778985215 [Z8 Z9] +\n",
      "0.06428519917726606 [Z8 Z10] +\n",
      "-0.21675429323818413 [Z9] +\n",
      "0.06811818560946911 [Z9 Z10]\n",
      "\n",
      "Number of fragments: 154\n"
     ]
    }
   ],
   "source": [
    "lih = get_qubit_hamiltonian(mol='lih', geometry=1, basis='sto-3g', qubit_transf='jw')\n",
    "\n",
    "qwc_list = get_qwc_group(lih)\n",
    "print('Fragments 1: \\n{}\\n'.format(qwc_list[4]))\n",
    "print('Fragments 2:\\n{}\\n'.format(qwc_list[1]))\n",
    "print('Number of fragments: {}'.format(len(qwc_list)))"
   ]
  },
  {
   "cell_type": "markdown",
   "metadata": {},
   "source": [
    "By applying extra unitaries, one may rotate more terms of $\\hat H$ into a QWC fragment.  \n",
    "\n",
    "Recall that in digital quantum computing, the expectation value of $\\hat H_n$ given a trial wavefunction $|\\psi\\rangle$ is \n",
    "$$ E_n =\\ \\langle\\psi| \\hat H_n | \\psi\\rangle$$\n",
    "Inserting unitary transformation $\\hat U_n$ does not change the expectation value.\n",
    "$$ E_n =\\ \\langle\\psi| \\hat U_n^\\dagger \\hat U_n \\hat H_n \\hat U_n^\\dagger \\hat U_n  |\\psi\\rangle$$ \n",
    "This nonetheless changes the trial wavefunction and the terms to be measured. \n",
    "$$ |\\psi\\rangle \\rightarrow \\hat U_n |\\psi\\rangle = |\\phi\\rangle$$\n",
    "$$ \\hat H_n \\rightarrow \\hat U_n \\hat H_n \\hat U_n^\\dagger = \\hat A_n$$\n",
    "The transformation of $|\\psi \\rangle$ can be done on the quantum computer, and the transformation of $\\hat H_n$ is possible on the classical computer. \n",
    "\n",
    "Now, although $\\hat A_n$ needs to be a QWC fragment to be measurable on a quantum computer, $\\hat H_n$ does not. \n",
    "Instead, if we restrict $\\hat U_n$ to be a clifford operation, the terms in $\\hat H$ need only mutually commute. \n",
    "\n",
    "Here, we obtain measurable parts of $LiH$ by partitioning its terms into mutually commuting fragments. "
   ]
  },
  {
   "cell_type": "code",
   "execution_count": 12,
   "metadata": {
    "tags": []
   },
   "outputs": [
    {
     "name": "stdout",
     "output_type": "stream",
     "text": [
      "Number of mutually commuting fragments: 36\n",
      "The first commuting group\n",
      "-3.93444195675791 [] +\n",
      "0.007923321157850723 [X0 Y1 Y2 X3] +\n",
      "-0.00015507836015035223 [X0 Z1 Z2 X3 Y4 Y5] +\n",
      "-0.002077886902662328 [X0 Z1 Z2 X3 Y6 Y7] +\n",
      "-0.0020778869026623274 [X0 Z1 Z2 X3 Y8 Y9] +\n",
      "-0.0021028659073762156 [X0 Z1 Z2 X3 Y10 Y11] +\n",
      "0.007923321157850723 [Y0 X1 X2 Y3] +\n",
      "-0.00015507836015035223 [Y0 Z1 Z2 Y3 X4 X5] +\n",
      "-0.002077886902662328 [Y0 Z1 Z2 Y3 X6 X7] +\n",
      "-0.0020778869026623274 [Y0 Z1 Z2 Y3 X8 X9] +\n",
      "-0.0021028659073762156 [Y0 Z1 Z2 Y3 X10 X11] +\n",
      "0.11709373561826503 [Z0 Z3] +\n",
      "-0.0001550783601503522 [X1 X2 X4 X5] +\n",
      "-0.002077886902662328 [X1 X2 X6 X7] +\n",
      "-0.0020778869026623274 [X1 X2 X8 X9] +\n",
      "-0.0021028659073762156 [X1 X2 X10 X11] +\n",
      "-0.0001550783601503522 [Y1 Y2 Y4 Y5] +\n",
      "-0.002077886902662328 [Y1 Y2 Y6 Y7] +\n",
      "-0.0020778869026623274 [Y1 Y2 Y8 Y9] +\n",
      "-0.0021028659073762156 [Y1 Y2 Y10 Y11] +\n",
      "0.11709373561826503 [Z1 Z2] +\n",
      "-0.010590593747757844 [X4 X5 Y6 Y7] +\n",
      "-0.010590593747757839 [X4 X5 Y8 Y9] +\n",
      "-0.006733030780881396 [X4 X5 Y10 Y11] +\n",
      "-0.010590593747757844 [Y4 Y5 X6 X7] +\n",
      "-0.010590593747757839 [Y4 Y5 X8 X9] +\n",
      "-0.006733030780881396 [Y4 Y5 X10 X11] +\n",
      "0.08475100244618904 [Z4 Z5] +\n",
      "-0.004217284878422716 [X6 X7 Y8 Y9] +\n",
      "-0.003832986432203124 [X6 X7 Y10 Y11] +\n",
      "-0.004217284878422716 [Y6 Y7 X8 X9] +\n",
      "-0.003832986432203124 [Y6 Y7 X10 X11] +\n",
      "0.07823637778985212 [Z6 Z7] +\n",
      "-0.003832986432203123 [X8 X9 Y10 Y11] +\n",
      "-0.003832986432203123 [Y8 Y9 X10 X11] +\n",
      "0.0782363777898521 [Z8 Z9] +\n",
      "0.1099396904487043 [Z10 Z11]\n"
     ]
    }
   ],
   "source": [
    "comm_groups = get_commuting_group(lih)\n",
    "print('Number of mutually commuting fragments: {}'.format(len(comm_groups)))\n",
    "print('The first commuting group')\n",
    "print(comm_groups[1])"
   ]
  },
  {
   "cell_type": "markdown",
   "metadata": {},
   "source": [
    "To see this fragment is indeed measurable, one can construct the corresponding unitary operator $\\hat U_n$.\n",
    "\n",
    "## H4\n"
   ]
  },
  {
   "cell_type": "code",
   "execution_count": 3,
   "metadata": {},
   "outputs": [
    {
     "name": "stdout",
     "output_type": "stream",
     "text": [
      "Fragments 1: \n",
      "0.18909898661525393 [Z0] +\n",
      "0.08362706285309376 [Z0 Z2] +\n",
      "0.08362706285309385 [Z0 Z4] +\n",
      "0.09753498283421291 [Z0 Z6] +\n",
      "0.012952358031273271 [Y1 Z2 Y3 Y5 Z6 Y7] +\n",
      "0.09422690650757803 [Z2 Z4] +\n",
      "0.007958917262825431 [Z4] +\n",
      "0.08288775222014044 [Z4 Z6]\n",
      "\n",
      "Fragments 2:\n",
      "-0.03426847228607793 [Y0 Z1 Z2 Y3 X4 Z5 Z6 X7] +\n",
      "0.1174470883265534 [Z1 Z2] +\n",
      "0.11843647604235702 [Z1 Z6] +\n",
      "0.007958917262825008 [Z2] +\n",
      "0.11597747867973224 [Z2 Z5] +\n",
      "0.08288775222014037 [Z2 Z6] +\n",
      "0.12047716405473605 [Z5 Z6] +\n",
      "-0.1949783960025558 [Z6]\n",
      "\n",
      "Number of fragments: 33\n",
      "Number of mutually commuting fragments: 4\n",
      "The first commuting group\n",
      "-0.6427167034502669 [] +\n",
      "-0.033820025473459636 [X0 X1 Y4 Y5] +\n",
      "0.033820025473459636 [X0 Y1 Y4 X5] +\n",
      "0.012952358031273264 [X0 Z1 Y2 Y4 Z5 X6] +\n",
      "-0.03426847228607793 [X0 Z1 Z2 X3 Y4 Z5 Z6 Y7] +\n",
      "0.03426847228607793 [X0 Z1 Z2 Y3 Y4 Z5 Z6 X7] +\n",
      "0.033820025473459636 [Y0 X1 X4 Y5] +\n",
      "-0.033820025473459636 [Y0 Y1 X4 X5] +\n",
      "0.012952358031273264 [Y0 Z1 X2 X4 Z5 Y6] +\n",
      "0.03426847228607793 [Y0 Z1 Z2 X3 X4 Z5 Z6 Y7] +\n",
      "-0.03426847228607793 [Y0 Z1 Z2 Y3 X4 Z5 Z6 X7] +\n",
      "0.08362706285309385 [Z0 Z4] +\n",
      "-0.03426847228607793 [X1 X2 Y5 Y6] +\n",
      "0.03426847228607793 [X1 Y2 Y5 X6] +\n",
      "0.012952358031273264 [X1 Z2 Y3 Y5 Z6 X7] +\n",
      "0.03426847228607793 [Y1 X2 X5 Y6] +\n",
      "-0.03426847228607793 [Y1 Y2 X5 X6] +\n",
      "0.012952358031273264 [Y1 Z2 X3 X5 Z6 Y7] +\n",
      "0.08362706285309385 [Z1 Z5] +\n",
      "-0.037589411834595604 [X2 X3 Y6 Y7] +\n",
      "0.037589411834595604 [X2 Y3 Y6 X7] +\n",
      "0.037589411834595604 [Y2 X3 X6 Y7] +\n",
      "-0.037589411834595604 [Y2 Y3 X6 X7] +\n",
      "0.08288775222014037 [Z2 Z6] +\n",
      "0.08288775222014037 [Z3 Z7]\n"
     ]
    }
   ],
   "source": [
    "h4 = get_qubit_hamiltonian(mol='h4', geometry=90, basis='sto-3g', qubit_transf='jw')\n",
    "\n",
    "qwc_list = get_qwc_group(h4)\n",
    "print('Fragments 1: \\n{}\\n'.format(qwc_list[4]))\n",
    "print('Fragments 2:\\n{}\\n'.format(qwc_list[1]))\n",
    "print('Number of fragments: {}'.format(len(qwc_list)))\n",
    "\n",
    "comm_groups = get_commuting_group(h4)\n",
    "print('Number of mutually commuting fragments: {}'.format(len(comm_groups)))\n",
    "print('The first commuting group')\n",
    "print(comm_groups[1])"
   ]
  },
  {
   "cell_type": "markdown",
   "metadata": {
    "pycharm": {
     "name": "#%% md\n"
    }
   },
   "source": [
    "## N2\n"
   ]
  },
  {
   "cell_type": "code",
   "execution_count": 4,
   "outputs": [
    {
     "name": "stdout",
     "output_type": "stream",
     "text": [
      "Fragments 1: \n",
      "-0.02478426212035617 [X0 Z1 X2 Y3 Z4 Z5 Z6 Z7 Z8 Z9 Z10 Z11 Z12 Z13 Z14 Z15 Z16 Z17 Z18 Y19]\n",
      "\n",
      "Fragments 2:\n",
      "0.0018466431071313863 [Y0 Z1 Z2 Z3 Z4 Z5 Z6 Z7 Z8 Z9 Z10 Z11 Z12 Z13 Z14 Z15 Y16 Y17 Z18 Y19] +\n",
      "0.5609229251606517 [Z1 Z2] +\n",
      "0.08821851825203508 [Z1 Z3] +\n",
      "9.4845255891763 [Z2] +\n",
      "0.5612472046058594 [Z2 Z3] +\n",
      "0.160957215282318 [Z2 Z4] +\n",
      "0.16785191366744068 [Z2 Z5] +\n",
      "0.15268765679475937 [Z2 Z6] +\n",
      "0.16072252858842095 [Z2 Z7] +\n",
      "0.15749618413582347 [Z2 Z8] +\n",
      "0.16061613816948936 [Z2 Z9] +\n",
      "0.15729967438386513 [Z2 Z10] +\n",
      "0.1598494875605973 [Z2 Z11] +\n",
      "0.15729967438386522 [Z2 Z12] +\n",
      "0.15984948756059736 [Z2 Z13] +\n",
      "0.16346016927197787 [Z2 Z14] +\n",
      "0.16650523589696337 [Z2 Z15] +\n",
      "0.185577681924766 [Z2 Z18] +\n",
      "9.4845255891763 [Z3] +\n",
      "0.16785191366744068 [Z3 Z4] +\n",
      "0.160957215282318 [Z3 Z5] +\n",
      "0.16072252858842095 [Z3 Z6] +\n",
      "0.15268765679475937 [Z3 Z7] +\n",
      "0.16061613816948936 [Z3 Z8] +\n",
      "0.15749618413582347 [Z3 Z9] +\n",
      "0.1598494875605973 [Z3 Z10] +\n",
      "0.15729967438386513 [Z3 Z11] +\n",
      "0.15984948756059736 [Z3 Z12] +\n",
      "0.15729967438386522 [Z3 Z13] +\n",
      "0.16650523589696337 [Z3 Z14] +\n",
      "0.16346016927197787 [Z3 Z15] +\n",
      "0.1911083312479894 [Z3 Z18]\n",
      "\n",
      "Number of fragments: 1070\n",
      "Number of mutually commuting fragments: 91\n",
      "The first commuting group\n",
      "-67.84356474214948 [] +\n",
      "-0.02478426212035617 [X0 Z1 X2 X3 Z4 Z5 Z6 Z7 Z8 Z9 Z10 Z11 Z12 Z13 Z14 Z15 Z16 Z17 Z18 X19] +\n",
      "-0.0013529970031069059 [X0 Z1 Z2 Z3 X4 X9 Z10 Z11 Z12 Z13 Z14 Z15 Z16 Z17 Z18 X19] +\n",
      "0.00326136763087466 [X0 Z1 Z2 Z3 Z4 Y5 Y8 Z9 Z10 Z11 Z12 Z13 Z14 Z15 Z16 Z17 Z18 X19] +\n",
      "0.05057537080691907 [Y0 Z1 Y2 Y3 Z4 Z5 Z6 Y7] +\n",
      "-0.0019977639033300658 [Y0 Z1 Z2 Z3 Y4 X7 Z8 X9] +\n",
      "-9.07299744746838e-05 [Y0 Z1 Z2 Z3 Z4 X5 X7 Y8] +\n",
      "0.0140393054417745 [Z0 X7 Z8 Z9 Z10 Z11 Z12 Z13 Z14 Z15 Z16 Z17 Z18 X19] +\n",
      "-0.003341350746713908 [X1 Z2 Z3 Z4 Z5 Z6 X7 Z18] +\n",
      "-0.0020386256130934814 [X1 Z2 Z3 Z4 Z5 X7] +\n",
      "-0.003196114782564216 [Y1 Z2 Z3 Z4 Z5 Z6 Z7 Z8 Z9 Z10 Z11 Z12 Z13 Z14 Z15 Z16 Z17 Y19] +\n",
      "0.002538064465378468 [Y1 Z2 Z3 Z4 Z5 Z7 Z8 Z9 Z10 Z11 Z12 Z13 Z14 Z15 Z16 Z17 Z18 Y19] +\n",
      "0.0140393054417745 [Z1 X6 Z7 Z8 Z9 Z10 Z11 Z12 Z13 Z14 Z15 Z16 Z17 X18] +\n",
      "0.0140393054417745 [Z1 Y6 Z7 Z8 Z9 Z10 Z11 Z12 Z13 Z14 Z15 Z16 Z17 Y18] +\n",
      "0.011181484362857276 [Z1 Y7 Z8 Z9 Z10 Z11 Z12 Z13 Z14 Z15 Z16 Z17 Z18 Y19] +\n",
      "0.0016894769142640383 [X2 X3 Y4 Z5 Z6 Z7 Z8 Y9] +\n",
      "0.0016894769142640383 [X2 X3 X5 Z6 Z7 X8] +\n",
      "0.0016894769142640383 [Y2 Y3 X4 Z5 Z6 Z7 Z8 X9] +\n",
      "0.0016894769142640383 [Y2 Y3 Y5 Z6 Z7 Y8] +\n",
      "0.5612472046058594 [Z2 Z3] +\n",
      "0.018764631761649195 [X4 Y5 Y8 X9] +\n",
      "0.018764631761649195 [Y4 X5 X8 Y9] +\n",
      "0.12795075646762294 [Z4 Z9] +\n",
      "0.12795075646762294 [Z5 Z8] +\n",
      "-0.01597720114876255 [X6 X7 Y18 Y19] +\n",
      "0.01597720114876255 [Y6 X7 X18 Y19] +\n",
      "0.1150859669963337 [Z6 Z18] +\n",
      "-0.005231804045961046 [X10 X11 Y12 Y13] +\n",
      "0.005231804045961046 [X10 Y11 Y12 X13] +\n",
      "-0.02728546761011961 [X10 Z11 X12 X14 Z15 X16] +\n",
      "0.013434064025831985 [X10 Z11 X12 Y14 Z15 Y16] +\n",
      "0.0018662556547094007 [X10 Z11 X12 X15 Z16 X17] +\n",
      "0.0018662556547094007 [X10 Z11 X12 Y15 Z16 Y17] +\n",
      "0.005231804045961046 [Y10 X11 X12 Y13] +\n",
      "-0.005231804045961046 [Y10 Y11 X12 X13] +\n",
      "0.013434064025831985 [Y10 Z11 Y12 X14 Z15 X16] +\n",
      "-0.02728546761011961 [Y10 Z11 Y12 Y14 Z15 Y16] +\n",
      "0.0018662556547094007 [Y10 Z11 Y12 X15 Z16 X17] +\n",
      "0.0018662556547094007 [Y10 Z11 Y12 Y15 Z16 Y17] +\n",
      "0.11856977571912546 [Z10 Z12] +\n",
      "0.0018662556547094007 [X11 Z12 X13 X14 Z15 X16] +\n",
      "0.0018662556547094007 [X11 Z12 X13 Y14 Z15 Y16] +\n",
      "-0.02728546761011961 [X11 Z12 X13 X15 Z16 X17] +\n",
      "0.013434064025831985 [X11 Z12 X13 Y15 Z16 Y17] +\n",
      "0.0018662556547094007 [Y11 Z12 Y13 X14 Z15 X16] +\n",
      "0.0018662556547094007 [Y11 Z12 Y13 Y14 Z15 Y16] +\n",
      "0.013434064025831985 [Y11 Z12 Y13 X15 Z16 X17] +\n",
      "-0.02728546761011961 [Y11 Z12 Y13 Y15 Z16 Y17] +\n",
      "0.11856977571912546 [Z11 Z13] +\n",
      "-0.005737108109745649 [X14 X15 Y16 Y17] +\n",
      "0.005737108109745649 [X14 Y15 Y16 X17] +\n",
      "0.005737108109745649 [Y14 X15 X16 Y17] +\n",
      "-0.005737108109745649 [Y14 Y15 X16 X17] +\n",
      "0.12162090321648085 [Z14 Z16] +\n",
      "0.12162090321648085 [Z15 Z17]\n"
     ]
    }
   ],
   "source": [
    "n2 = get_qubit_hamiltonian(mol='n2', geometry=1.5, basis='sto-3g', qubit_transf='jw')\n",
    "\n",
    "qwc_list = get_qwc_group(n2)\n",
    "print('Fragments 1: \\n{}\\n'.format(qwc_list[4]))\n",
    "print('Fragments 2:\\n{}\\n'.format(qwc_list[1]))\n",
    "print('Number of fragments: {}'.format(len(qwc_list)))\n",
    "\n",
    "comm_groups = get_commuting_group(n2)\n",
    "print('Number of mutually commuting fragments: {}'.format(len(comm_groups)))\n",
    "print('The first commuting group')\n",
    "print(comm_groups[1])"
   ],
   "metadata": {
    "collapsed": false,
    "pycharm": {
     "name": "#%%\n"
    }
   }
  },
  {
   "cell_type": "markdown",
   "source": [
    "## NH3"
   ],
   "metadata": {
    "collapsed": false,
    "pycharm": {
     "name": "#%% md\n"
    }
   }
  },
  {
   "cell_type": "code",
   "execution_count": 5,
   "outputs": [
    {
     "name": "stdout",
     "output_type": "stream",
     "text": [
      "Fragments 1: \n",
      "-6.936302568531403e-06 [X0 Z1 Z2 Z3 Z4 Z5 Z6 Y7 Y8 Z9 Z10 Z11 Z12 Z13 Z14 X15]\n",
      "\n",
      "Fragments 2:\n",
      "-0.00010455100997998253 [X0 Z1 Z2 Z3 Z4 Z5 Z6 Z7 Z8 Z9 Z10 Z11 Z12 Y13 Y14 X15] +\n",
      "0.14969891722954573 [Z1 Z7] +\n",
      "0.20598064364339533 [Z1 Z8] +\n",
      "0.12174210409401362 [Z2 Z7] +\n",
      "0.11546045156076182 [Z2 Z8] +\n",
      "0.09831098799691565 [Z3 Z7] +\n",
      "0.14354630213537217 [Z3 Z8] +\n",
      "0.09947179937625795 [Z4 Z7] +\n",
      "0.1042766366416333 [Z4 Z8] +\n",
      "0.08889341429331085 [Z5 Z7] +\n",
      "0.113922944865534 [Z5 Z8] +\n",
      "0.1206285695421506 [Z6 Z7] +\n",
      "0.1042766366416331 [Z6 Z8] +\n",
      "0.6438606242028247 [Z7] +\n",
      "0.11392294486553409 [Z7 Z8] +\n",
      "0.1042766366416331 [Z7 Z9] +\n",
      "0.10634199576894605 [Z7 Z10] +\n",
      "0.08960978422849084 [Z7 Z11] +\n",
      "0.12290714305009653 [Z7 Z12] +\n",
      "0.7457764202133409 [Z8] +\n",
      "0.15281257952019495 [Z8 Z9] +\n",
      "0.089986170842562 [Z8 Z10] +\n",
      "0.10947239329894326 [Z8 Z11] +\n",
      "0.11164511556016149 [Z8 Z12]\n",
      "\n",
      "Number of fragments: 1200\n",
      "Number of mutually commuting fragments: 152\n",
      "The first commuting group\n",
      "-35.264006651522 [] +\n",
      "-0.013269184260466933 [X0 X1 Y2 Y3] +\n",
      "0.013269184260466933 [X0 Y1 Y2 X3] +\n",
      "0.003943784346924319 [Y0 X1 X3 Z4 Z5 Z6 Z7 Y8] +\n",
      "0.003943784346924319 [Y0 Y1 Y3 Z4 Z5 Z6 Z7 Y8] +\n",
      "1.0334734756572208 [Z0 Z1] +\n",
      "0.02695896183806424 [Z0 Y2 Z3 Z4 Z5 Z6 Z7 Y8] +\n",
      "0.21963364679349245 [Z0 Z3] +\n",
      "0.030902746184988557 [Z1 Y2 Z3 Z4 Z5 Z6 Z7 Y8] +\n",
      "0.2063644625330255 [Z1 Z3] +\n",
      "-0.005135311300686346 [X2 Z3 Z4 Z5 Z6 Z7 X8 X9 Z10 X11] +\n",
      "-0.005135311300686346 [X2 Z3 Z4 Z5 Z6 Z7 X8 Y9 Z10 Y11] +\n",
      "0.005683622576540736 [X2 Z3 Z4 Z5 Z6 Z7 X8 Z10] +\n",
      "-0.017633426488457962 [X2 Z3 Z4 Z5 Z6 Z7 Z8 Z9 X10 Z11] +\n",
      "-0.016695366693636915 [X2 Z3 Z4 Z5 Z6 Z7 Z8 X10] +\n",
      "0.009219436712407391 [Y2 Z4 Z5 Z6 Z7 Y8] +\n",
      "-0.01057838508294711 [X4 X5 Y6 Y7] +\n",
      "0.01057838508294711 [X4 Y5 Y6 X7] +\n",
      "0.012435195966071943 [X4 Z5 X6 X12 Z13 X14] +\n",
      "-0.0013906198374786555 [X4 Z5 X6 Y12 Z13 Y14] +\n",
      "-0.009366621987293579 [X4 Z5 X6 X13 Z14 X15] +\n",
      "-0.009366621987293579 [X4 Z5 X6 Y13 Z14 Y15] +\n",
      "0.01057838508294711 [Y4 X5 X6 Y7] +\n",
      "-0.01057838508294711 [Y4 Y5 X6 X7] +\n",
      "-0.0013906198374786555 [Y4 Z5 Y6 X12 Z13 X14] +\n",
      "0.012435195966071943 [Y4 Z5 Y6 Y12 Z13 Y14] +\n",
      "-0.009366621987293579 [Y4 Z5 Y6 X13 Z14 X15] +\n",
      "-0.009366621987293579 [Y4 Z5 Y6 Y13 Z14 Y15] +\n",
      "0.08889341429331085 [Z4 Z6] +\n",
      "-0.009366621987293579 [X5 Z6 X7 X12 Z13 X14] +\n",
      "-0.009366621987293579 [X5 Z6 X7 Y12 Z13 Y14] +\n",
      "0.012435195966071943 [X5 Z6 X7 X13 Z14 X15] +\n",
      "-0.0013906198374786555 [X5 Z6 X7 Y13 Z14 Y15] +\n",
      "-0.009366621987293579 [Y5 Z6 Y7 X12 Z13 X14] +\n",
      "-0.009366621987293579 [Y5 Z6 Y7 Y12 Z13 Y14] +\n",
      "-0.0013906198374786555 [Y5 Z6 Y7 X13 Z14 X15] +\n",
      "0.012435195966071943 [Y5 Z6 Y7 Y13 Z14 Y15] +\n",
      "0.08889341429331085 [Z5 Z7] +\n",
      "-0.012669837232909925 [Y8 Z9 Y10 Z11] +\n",
      "-0.02959736037533133 [Y8 Y10] +\n",
      "-0.012669837232909927 [X9 X11] +\n",
      "-0.012669837232909927 [Y9 Y11] +\n",
      "0.089986170842562 [Z9 Z11] +\n",
      "-0.00973413787912345 [X12 X13 Y14 Y15] +\n",
      "0.00973413787912345 [X12 Y13 Y14 X15] +\n",
      "0.00973413787912345 [Y12 X13 X14 Y15] +\n",
      "-0.00973413787912345 [Y12 Y13 X14 X15] +\n",
      "0.10153264349356368 [Z12 Z14] +\n",
      "0.10153264349356368 [Z13 Z15]\n"
     ]
    }
   ],
   "source": [
    "nh3 = get_qubit_hamiltonian(mol='nh3', geometry=1.5, basis='sto-3g', qubit_transf='jw')\n",
    "\n",
    "qwc_list = get_qwc_group(nh3)\n",
    "print('Fragments 1: \\n{}\\n'.format(qwc_list[4]))\n",
    "print('Fragments 2:\\n{}\\n'.format(qwc_list[1]))\n",
    "print('Number of fragments: {}'.format(len(qwc_list)))\n",
    "\n",
    "comm_groups = get_commuting_group(nh3)\n",
    "print('Number of mutually commuting fragments: {}'.format(len(comm_groups)))\n",
    "print('The first commuting group')\n",
    "print(comm_groups[1])\n",
    "\n"
   ],
   "metadata": {
    "collapsed": false,
    "pycharm": {
     "name": "#%%\n"
    }
   }
  },
  {
   "cell_type": "code",
   "execution_count": null,
   "outputs": [],
   "source": [
    "\n"
   ],
   "metadata": {
    "collapsed": false,
    "pycharm": {
     "name": "#%%\n"
    }
   }
  }
 ],
 "metadata": {
  "kernelspec": {
   "display_name": "Python 3",
   "language": "python",
   "name": "python3"
  },
  "language_info": {
   "codemirror_mode": {
    "name": "ipython",
    "version": 3
   },
   "file_extension": ".py",
   "mimetype": "text/x-python",
   "name": "python",
   "nbconvert_exporter": "python",
   "pygments_lexer": "ipython3",
   "version": "3.7.7"
  }
 },
 "nbformat": 4,
 "nbformat_minor": 2
}