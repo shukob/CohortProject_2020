{
 "cells": [
  {
   "cell_type": "markdown",
   "source": [
    "# Measurement Grouping\n",
    "\n",
    "- We check how many qubit wise commuting groups are there for respective molecules.\n",
    "- While circuit depth will be lowered using sub-Hamiltonian, qubit count reduction seems not sufficient"
   ],
   "metadata": {
    "collapsed": false
   }
  },
  {
   "cell_type": "code",
   "execution_count": 22,
   "outputs": [],
   "source": [
    "from utility import *\n",
    "\n",
    "\n",
    "def qubits_in_H(H):\n",
    "    return len(set(list(map(lambda t: t[0], sum(H.terms.keys(), ())))))"
   ],
   "metadata": {
    "collapsed": false,
    "pycharm": {
     "name": "#%%\n"
    }
   }
  },
  {
   "cell_type": "markdown",
   "source": [
    "## LiH"
   ],
   "metadata": {
    "collapsed": false
   }
  },
  {
   "cell_type": "code",
   "execution_count": 25,
   "outputs": [
    {
     "name": "stdout",
     "output_type": "stream",
     "text": [
      "Number of fragments: 154\n",
      "Qubits required for original hamiltonian: 12\n"
     ]
    }
   ],
   "source": [
    "lih, _ = get_qubit_hamiltonian(mol='lih', geometry=1, basis='sto-3g', qubit_transf='jw')\n",
    "\n",
    "qwc_list = get_qwc_group(lih)\n",
    "print('Number of fragments: {}'.format(len(qwc_list)))\n",
    "print(f'Qubits required for original hamiltonian: {qubits_in_H(lih)}')"
   ],
   "metadata": {
    "collapsed": false,
    "pycharm": {
     "name": "#%%\n"
    }
   }
  },
  {
   "cell_type": "code",
   "execution_count": 26,
   "outputs": [
    {
     "name": "stdout",
     "output_type": "stream",
     "text": [
      "Number of mutually commuting fragments: 36\n",
      "Qubits for commuting group 0:  12\n",
      "Qubits for commuting group 1:  12\n",
      "Qubits for commuting group 2:  12\n",
      "Qubits for commuting group 3:  12\n",
      "Qubits for commuting group 4:  12\n",
      "Qubits for commuting group 5:  12\n",
      "Qubits for commuting group 6:  12\n",
      "Qubits for commuting group 7:  8\n",
      "Qubits for commuting group 8:  12\n",
      "Qubits for commuting group 9:  12\n",
      "Qubits for commuting group 10:  12\n",
      "Qubits for commuting group 11:  12\n",
      "Qubits for commuting group 12:  12\n",
      "Qubits for commuting group 13:  12\n",
      "Qubits for commuting group 14:  12\n",
      "Qubits for commuting group 15:  12\n",
      "Qubits for commuting group 16:  12\n",
      "Qubits for commuting group 17:  12\n",
      "Qubits for commuting group 18:  12\n",
      "Qubits for commuting group 19:  12\n",
      "Qubits for commuting group 20:  12\n",
      "Qubits for commuting group 21:  12\n",
      "Qubits for commuting group 22:  12\n",
      "Qubits for commuting group 23:  12\n",
      "Qubits for commuting group 24:  11\n",
      "Qubits for commuting group 25:  12\n",
      "Qubits for commuting group 26:  12\n",
      "Qubits for commuting group 27:  12\n",
      "Qubits for commuting group 28:  12\n",
      "Qubits for commuting group 29:  12\n",
      "Qubits for commuting group 30:  12\n",
      "Qubits for commuting group 31:  12\n",
      "Qubits for commuting group 32:  10\n",
      "Qubits for commuting group 33:  10\n",
      "Qubits for commuting group 34:  12\n",
      "Qubits for commuting group 35:  6\n"
     ]
    }
   ],
   "source": [
    "comm_groups = get_commuting_group(lih)\n",
    "print('Number of mutually commuting fragments: {}'.format(len(comm_groups)))\n",
    "for i, H in enumerate(comm_groups.values()):\n",
    "    print(f'Qubits for commuting group {i}: ', qubits_in_H(H))"
   ],
   "metadata": {
    "collapsed": false,
    "pycharm": {
     "name": "#%%\n"
    }
   }
  },
  {
   "cell_type": "markdown",
   "source": [
    "To see this fragment is indeed measurable, one can construct the corresponding unitary operator $\\hat U_n$.\n",
    "\n",
    "## H$_4$\n"
   ],
   "metadata": {
    "collapsed": false
   }
  },
  {
   "cell_type": "code",
   "execution_count": 27,
   "outputs": [
    {
     "name": "stdout",
     "output_type": "stream",
     "text": [
      "Number of fragments: 33\n",
      "Qubits required for original hamiltonian: 8\n",
      "Number of mutually commuting fragments: 4\n",
      "Qubits for commuting group 0:  8\n",
      "Qubits for commuting group 1:  8\n",
      "Qubits for commuting group 2:  8\n",
      "Qubits for commuting group 3:  8\n"
     ]
    }
   ],
   "source": [
    "h4, _ = get_qubit_hamiltonian(mol='h4', geometry=90, basis='sto-3g', qubit_transf='jw')\n",
    "\n",
    "qwc_list = get_qwc_group(h4)\n",
    "print('Number of fragments: {}'.format(len(qwc_list)))\n",
    "print(f'Qubits required for original hamiltonian: {qubits_in_H(h4)}')\n",
    "\n",
    "\n",
    "comm_groups = get_commuting_group(h4)\n",
    "print('Number of mutually commuting fragments: {}'.format(len(comm_groups)))\n",
    "for i, H in enumerate(comm_groups.values()):\n",
    "    print(f'Qubits for commuting group {i}: ', qubits_in_H(H))"
   ],
   "metadata": {
    "collapsed": false,
    "pycharm": {
     "name": "#%%\n"
    }
   }
  },
  {
   "cell_type": "markdown",
   "source": [
    "## N$_2$\n"
   ],
   "metadata": {
    "collapsed": false
   }
  },
  {
   "cell_type": "code",
   "execution_count": 28,
   "outputs": [
    {
     "name": "stdout",
     "output_type": "stream",
     "text": [
      "Number of fragments: 1070\n",
      "Qubits required for original hamiltonian: 20\n",
      "Number of mutually commuting fragments: 91\n",
      "Qubits for commuting group 0:  20\n",
      "Qubits for commuting group 1:  20\n",
      "Qubits for commuting group 2:  20\n",
      "Qubits for commuting group 3:  20\n",
      "Qubits for commuting group 4:  20\n",
      "Qubits for commuting group 5:  20\n",
      "Qubits for commuting group 6:  20\n",
      "Qubits for commuting group 7:  20\n",
      "Qubits for commuting group 8:  20\n",
      "Qubits for commuting group 9:  20\n",
      "Qubits for commuting group 10:  20\n",
      "Qubits for commuting group 11:  20\n",
      "Qubits for commuting group 12:  20\n",
      "Qubits for commuting group 13:  20\n",
      "Qubits for commuting group 14:  20\n",
      "Qubits for commuting group 15:  20\n",
      "Qubits for commuting group 16:  20\n",
      "Qubits for commuting group 17:  20\n",
      "Qubits for commuting group 18:  20\n",
      "Qubits for commuting group 19:  20\n",
      "Qubits for commuting group 20:  20\n",
      "Qubits for commuting group 21:  20\n",
      "Qubits for commuting group 22:  20\n",
      "Qubits for commuting group 23:  20\n",
      "Qubits for commuting group 24:  20\n",
      "Qubits for commuting group 25:  20\n",
      "Qubits for commuting group 26:  20\n",
      "Qubits for commuting group 27:  20\n",
      "Qubits for commuting group 28:  20\n",
      "Qubits for commuting group 29:  20\n",
      "Qubits for commuting group 30:  20\n",
      "Qubits for commuting group 31:  20\n",
      "Qubits for commuting group 32:  20\n",
      "Qubits for commuting group 33:  20\n",
      "Qubits for commuting group 34:  20\n",
      "Qubits for commuting group 35:  20\n",
      "Qubits for commuting group 36:  20\n",
      "Qubits for commuting group 37:  20\n",
      "Qubits for commuting group 38:  20\n",
      "Qubits for commuting group 39:  20\n",
      "Qubits for commuting group 40:  20\n",
      "Qubits for commuting group 41:  20\n",
      "Qubits for commuting group 42:  20\n",
      "Qubits for commuting group 43:  20\n",
      "Qubits for commuting group 44:  20\n",
      "Qubits for commuting group 45:  20\n",
      "Qubits for commuting group 46:  20\n",
      "Qubits for commuting group 47:  20\n",
      "Qubits for commuting group 48:  20\n",
      "Qubits for commuting group 49:  20\n",
      "Qubits for commuting group 50:  16\n",
      "Qubits for commuting group 51:  20\n",
      "Qubits for commuting group 52:  20\n",
      "Qubits for commuting group 53:  20\n",
      "Qubits for commuting group 54:  20\n",
      "Qubits for commuting group 55:  20\n",
      "Qubits for commuting group 56:  20\n",
      "Qubits for commuting group 57:  20\n",
      "Qubits for commuting group 58:  20\n",
      "Qubits for commuting group 59:  19\n",
      "Qubits for commuting group 60:  20\n",
      "Qubits for commuting group 61:  20\n",
      "Qubits for commuting group 62:  20\n",
      "Qubits for commuting group 63:  19\n",
      "Qubits for commuting group 64:  20\n",
      "Qubits for commuting group 65:  20\n",
      "Qubits for commuting group 66:  20\n",
      "Qubits for commuting group 67:  20\n",
      "Qubits for commuting group 68:  20\n",
      "Qubits for commuting group 69:  20\n",
      "Qubits for commuting group 70:  16\n",
      "Qubits for commuting group 71:  20\n",
      "Qubits for commuting group 72:  19\n",
      "Qubits for commuting group 73:  19\n",
      "Qubits for commuting group 74:  18\n",
      "Qubits for commuting group 75:  16\n",
      "Qubits for commuting group 76:  19\n",
      "Qubits for commuting group 77:  19\n",
      "Qubits for commuting group 78:  20\n",
      "Qubits for commuting group 79:  19\n",
      "Qubits for commuting group 80:  20\n",
      "Qubits for commuting group 81:  20\n",
      "Qubits for commuting group 82:  20\n",
      "Qubits for commuting group 83:  20\n",
      "Qubits for commuting group 84:  19\n",
      "Qubits for commuting group 85:  20\n",
      "Qubits for commuting group 86:  20\n",
      "Qubits for commuting group 87:  19\n",
      "Qubits for commuting group 88:  19\n",
      "Qubits for commuting group 89:  19\n",
      "Qubits for commuting group 90:  16\n"
     ]
    }
   ],
   "source": [
    "n2, _ = get_qubit_hamiltonian(mol='n2', geometry=1.5, basis='sto-3g', qubit_transf='jw')\n",
    "\n",
    "qwc_list = get_qwc_group(n2)\n",
    "print('Number of fragments: {}'.format(len(qwc_list)))\n",
    "print(f'Qubits required for original hamiltonian: {qubits_in_H(n2)}')\n",
    "\n",
    "\n",
    "comm_groups = get_commuting_group(n2)\n",
    "print('Number of mutually commuting fragments: {}'.format(len(comm_groups)))\n",
    "for i, H in enumerate(comm_groups.values()):\n",
    "    print(f'Qubits for commuting group {i}: ', qubits_in_H(H))"
   ],
   "metadata": {
    "collapsed": false,
    "pycharm": {
     "name": "#%%\n"
    }
   }
  },
  {
   "cell_type": "markdown",
   "source": [
    "## NH$_3$"
   ],
   "metadata": {
    "collapsed": false
   }
  },
  {
   "cell_type": "code",
   "execution_count": 29,
   "outputs": [
    {
     "name": "stdout",
     "output_type": "stream",
     "text": [
      "Number of fragments: 1200\n",
      "Qubits required for original hamiltonian: 16\n",
      "Number of mutually commuting fragments: 152\n",
      "Qubits for commuting group 0:  16\n",
      "Qubits for commuting group 1:  16\n",
      "Qubits for commuting group 2:  16\n",
      "Qubits for commuting group 3:  16\n",
      "Qubits for commuting group 4:  16\n",
      "Qubits for commuting group 5:  16\n",
      "Qubits for commuting group 6:  16\n",
      "Qubits for commuting group 7:  16\n",
      "Qubits for commuting group 8:  16\n",
      "Qubits for commuting group 9:  16\n",
      "Qubits for commuting group 10:  16\n",
      "Qubits for commuting group 11:  16\n",
      "Qubits for commuting group 12:  16\n",
      "Qubits for commuting group 13:  16\n",
      "Qubits for commuting group 14:  16\n",
      "Qubits for commuting group 15:  16\n",
      "Qubits for commuting group 16:  16\n",
      "Qubits for commuting group 17:  16\n",
      "Qubits for commuting group 18:  16\n",
      "Qubits for commuting group 19:  16\n",
      "Qubits for commuting group 20:  16\n",
      "Qubits for commuting group 21:  16\n",
      "Qubits for commuting group 22:  16\n",
      "Qubits for commuting group 23:  16\n",
      "Qubits for commuting group 24:  16\n",
      "Qubits for commuting group 25:  16\n",
      "Qubits for commuting group 26:  16\n",
      "Qubits for commuting group 27:  16\n",
      "Qubits for commuting group 28:  16\n",
      "Qubits for commuting group 29:  16\n",
      "Qubits for commuting group 30:  16\n",
      "Qubits for commuting group 31:  16\n",
      "Qubits for commuting group 32:  16\n",
      "Qubits for commuting group 33:  16\n",
      "Qubits for commuting group 34:  16\n",
      "Qubits for commuting group 35:  16\n",
      "Qubits for commuting group 36:  16\n",
      "Qubits for commuting group 37:  16\n",
      "Qubits for commuting group 38:  16\n",
      "Qubits for commuting group 39:  16\n",
      "Qubits for commuting group 40:  16\n",
      "Qubits for commuting group 41:  15\n",
      "Qubits for commuting group 42:  16\n",
      "Qubits for commuting group 43:  16\n",
      "Qubits for commuting group 44:  16\n",
      "Qubits for commuting group 45:  16\n",
      "Qubits for commuting group 46:  16\n",
      "Qubits for commuting group 47:  16\n",
      "Qubits for commuting group 48:  16\n",
      "Qubits for commuting group 49:  16\n",
      "Qubits for commuting group 50:  16\n",
      "Qubits for commuting group 51:  16\n",
      "Qubits for commuting group 52:  16\n",
      "Qubits for commuting group 53:  16\n",
      "Qubits for commuting group 54:  16\n",
      "Qubits for commuting group 55:  16\n",
      "Qubits for commuting group 56:  16\n",
      "Qubits for commuting group 57:  16\n",
      "Qubits for commuting group 58:  16\n",
      "Qubits for commuting group 59:  16\n",
      "Qubits for commuting group 60:  16\n",
      "Qubits for commuting group 61:  16\n",
      "Qubits for commuting group 62:  16\n",
      "Qubits for commuting group 63:  16\n",
      "Qubits for commuting group 64:  16\n",
      "Qubits for commuting group 65:  16\n",
      "Qubits for commuting group 66:  16\n",
      "Qubits for commuting group 67:  16\n",
      "Qubits for commuting group 68:  16\n",
      "Qubits for commuting group 69:  16\n",
      "Qubits for commuting group 70:  16\n",
      "Qubits for commuting group 71:  16\n",
      "Qubits for commuting group 72:  16\n",
      "Qubits for commuting group 73:  16\n",
      "Qubits for commuting group 74:  16\n",
      "Qubits for commuting group 75:  16\n",
      "Qubits for commuting group 76:  16\n",
      "Qubits for commuting group 77:  16\n",
      "Qubits for commuting group 78:  16\n",
      "Qubits for commuting group 79:  16\n",
      "Qubits for commuting group 80:  16\n",
      "Qubits for commuting group 81:  16\n",
      "Qubits for commuting group 82:  16\n",
      "Qubits for commuting group 83:  16\n",
      "Qubits for commuting group 84:  16\n",
      "Qubits for commuting group 85:  16\n",
      "Qubits for commuting group 86:  16\n",
      "Qubits for commuting group 87:  16\n",
      "Qubits for commuting group 88:  16\n",
      "Qubits for commuting group 89:  16\n",
      "Qubits for commuting group 90:  16\n",
      "Qubits for commuting group 91:  16\n",
      "Qubits for commuting group 92:  16\n",
      "Qubits for commuting group 93:  14\n",
      "Qubits for commuting group 94:  16\n",
      "Qubits for commuting group 95:  16\n",
      "Qubits for commuting group 96:  16\n",
      "Qubits for commuting group 97:  16\n",
      "Qubits for commuting group 98:  16\n",
      "Qubits for commuting group 99:  16\n",
      "Qubits for commuting group 100:  15\n",
      "Qubits for commuting group 101:  16\n",
      "Qubits for commuting group 102:  16\n",
      "Qubits for commuting group 103:  16\n",
      "Qubits for commuting group 104:  16\n",
      "Qubits for commuting group 105:  16\n",
      "Qubits for commuting group 106:  16\n",
      "Qubits for commuting group 107:  16\n",
      "Qubits for commuting group 108:  16\n",
      "Qubits for commuting group 109:  16\n",
      "Qubits for commuting group 110:  16\n",
      "Qubits for commuting group 111:  16\n",
      "Qubits for commuting group 112:  16\n",
      "Qubits for commuting group 113:  16\n",
      "Qubits for commuting group 114:  16\n",
      "Qubits for commuting group 115:  16\n",
      "Qubits for commuting group 116:  16\n",
      "Qubits for commuting group 117:  16\n",
      "Qubits for commuting group 118:  16\n",
      "Qubits for commuting group 119:  16\n",
      "Qubits for commuting group 120:  16\n",
      "Qubits for commuting group 121:  16\n",
      "Qubits for commuting group 122:  16\n",
      "Qubits for commuting group 123:  16\n",
      "Qubits for commuting group 124:  16\n",
      "Qubits for commuting group 125:  16\n",
      "Qubits for commuting group 126:  16\n",
      "Qubits for commuting group 127:  16\n",
      "Qubits for commuting group 128:  16\n",
      "Qubits for commuting group 129:  16\n",
      "Qubits for commuting group 130:  16\n",
      "Qubits for commuting group 131:  16\n",
      "Qubits for commuting group 132:  16\n",
      "Qubits for commuting group 133:  16\n",
      "Qubits for commuting group 134:  16\n",
      "Qubits for commuting group 135:  16\n",
      "Qubits for commuting group 136:  16\n",
      "Qubits for commuting group 137:  16\n",
      "Qubits for commuting group 138:  16\n",
      "Qubits for commuting group 139:  16\n",
      "Qubits for commuting group 140:  16\n",
      "Qubits for commuting group 141:  16\n",
      "Qubits for commuting group 142:  16\n",
      "Qubits for commuting group 143:  16\n",
      "Qubits for commuting group 144:  16\n",
      "Qubits for commuting group 145:  16\n",
      "Qubits for commuting group 146:  16\n",
      "Qubits for commuting group 147:  16\n",
      "Qubits for commuting group 148:  13\n",
      "Qubits for commuting group 149:  7\n",
      "Qubits for commuting group 150:  11\n",
      "Qubits for commuting group 151:  8\n"
     ]
    }
   ],
   "source": [
    "nh3, _ = get_qubit_hamiltonian(mol='nh3', geometry=1.5, basis='sto-3g', qubit_transf='jw')\n",
    "\n",
    "qwc_list = get_qwc_group(nh3)\n",
    "print('Number of fragments: {}'.format(len(qwc_list)))\n",
    "print(f'Qubits required for original hamiltonian: {qubits_in_H(nh3)}')\n",
    "\n",
    "comm_groups = get_commuting_group(nh3)\n",
    "print('Number of mutually commuting fragments: {}'.format(len(comm_groups)))\n",
    "for i, H in enumerate(comm_groups.values()):\n",
    "    print(f'Qubits for commuting group {i}: ', qubits_in_H(H))\n"
   ],
   "metadata": {
    "collapsed": false,
    "pycharm": {
     "name": "#%%\n"
    }
   }
  },
  {
   "cell_type": "code",
   "execution_count": null,
   "outputs": [],
   "source": [
    "\n"
   ],
   "metadata": {
    "collapsed": false,
    "pycharm": {
     "name": "#%%\n"
    }
   }
  }
 ],
 "metadata": {
  "kernelspec": {
   "display_name": "Python 3",
   "language": "python",
   "name": "python3"
  },
  "language_info": {
   "codemirror_mode": {
    "name": "ipython",
    "version": 3
   },
   "file_extension": ".py",
   "mimetype": "text/x-python",
   "name": "python",
   "nbconvert_exporter": "python",
   "pygments_lexer": "ipython3",
   "version": "3.7.7"
  }
 },
 "nbformat": 4,
 "nbformat_minor": 2
}