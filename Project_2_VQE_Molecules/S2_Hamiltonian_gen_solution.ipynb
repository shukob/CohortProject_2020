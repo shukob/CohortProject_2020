{
 "cells": [
  {
   "cell_type": "markdown",
   "metadata": {},
   "source": [
    "# Generating Qubit Hamiltonians\n",
    "\n",
    "- We will check how many qubits can be `tapered` for each molecule\n",
    "- Calculate the ground  state energy by direct diagonalization for molecules for which it is tractable"
   ]
  },
  {
   "cell_type": "code",
   "execution_count": 1,
   "metadata": {},
   "outputs": [],
   "source": [
    "from utility import *\n",
    "\n",
    "def qubits_in_H(H):\n",
    "    return len(set(list(map(lambda t: t[0], sum(H.terms.keys(), ())))))\n",
    "qubit_transf = 'jw' # Jordan-Wigner transformations"
   ]
  },
  {
   "cell_type": "markdown",
   "source": [
    "# LiH"
   ],
   "metadata": {
    "collapsed": false,
    "pycharm": {
     "name": "#%% md\n"
    }
   }
  },
  {
   "cell_type": "code",
   "execution_count": 3,
   "outputs": [
    {
     "name": "stdout",
     "output_type": "stream",
     "text": [
      "The qubits in the original Hamiltonian 12\n",
      "The qubits in the effective Hamiltonian:8\n"
     ]
    }
   ],
   "source": [
    "lih_H, lih_molecular_data = get_qubit_hamiltonian(mol='lih', geometry=1, basis='sto3g', qubit_transf=qubit_transf)\n",
    "print(f\"The qubits in the original Hamiltonian {qubits_in_H(lih_H)}\")\n",
    "tapered_hamiltonian = taper_hamiltonian(lih_H, n_spin_orbitals=2 * lih_molecular_data.n_orbitals, n_electrons=lih_molecular_data.n_electrons, qubit_transf=qubit_transf)\n",
    "print(f\"The qubits in the effective Hamiltonian:{qubits_in_H(tapered_hamiltonian)}\")"
   ],
   "metadata": {
    "collapsed": false,
    "pycharm": {
     "name": "#%%\n"
    }
   }
  },
  {
   "cell_type": "markdown",
   "metadata": {},
   "source": [
    "We can verify that this new Hamiltonian indeed includes the ground state. "
   ]
  },
  {
   "cell_type": "code",
   "execution_count": 8,
   "metadata": {
    "tags": []
   },
   "outputs": [
    {
     "name": "stdout",
     "output_type": "stream",
     "text": [
      "The ground state energy:\n",
      "E = -7.784460280267046 Eh\n",
      "\n",
      "The eigenvalues in the effective Hamiltonian: \n",
      " [-7.78446028 -7.65893236 -7.64449884 -7.29798386 -7.21203729 -7.14801009\n",
      " -7.08207994 -7.08207994 -7.06744927 -7.05640989 -7.05640989 -7.0349291\n",
      " -6.94675463 -6.93595983 -6.93595983 -6.83588218 -6.82201988 -6.82201988\n",
      " -6.72240847 -6.72240847 -6.66219376 -6.66219376 -6.5159243  -6.4546299\n",
      " -6.4546299  -6.41818695 -6.41818695 -6.24141804 -6.24141804 -5.74186898\n",
      " -5.7131875  -5.66538944 -5.65852466 -5.52263678 -5.4900516  -5.46853891\n",
      " -5.44221721 -5.40518529 -5.39065101 -5.37595514 -5.37595514 -5.37409494\n",
      " -5.34877816 -5.34877816 -5.33967037 -5.32223054 -5.31943314 -5.30094751\n",
      " -5.22313397 -5.21985321 -5.21985321 -5.21985321 -5.19489964 -5.19135211\n",
      " -5.17994973 -5.17866336 -5.16957466 -5.16957466 -5.16425403 -5.16425403\n",
      " -5.16306117 -5.15320069 -5.13184491 -5.10579765 -5.07762474 -5.02053953\n",
      " -5.02053953 -5.01000607 -5.00941829 -5.00941829 -4.99293519 -4.9818462\n",
      " -4.96400074 -4.94267868 -4.93226492 -4.91771289 -4.9112505  -4.9112505\n",
      " -4.8970421  -4.88195185 -4.88195185 -4.87751222 -4.87751222 -4.87137117\n",
      " -4.85086298 -4.84992278 -4.84992278 -4.84622557 -4.84622557 -4.83168542\n",
      " -4.81611736 -4.81611736 -4.78460761 -4.78460761 -4.73046858 -4.73046858\n",
      " -4.73027112 -4.73027112 -4.707202   -4.69009686 -4.6774885  -4.64534077\n",
      " -4.64454755 -4.64454755 -4.6357791  -4.63345348 -4.63306866 -4.63306866\n",
      " -4.60506524 -4.59113209 -4.59113209 -4.58915668 -4.58138193 -4.54748743\n",
      " -4.54728182 -4.53709097 -4.51963743 -4.48294057 -4.46338927 -4.4277544\n",
      " -4.41720778 -4.41720778 -4.40079226 -4.40079226 -4.39629655 -4.39629655\n",
      " -4.38685017 -4.35063278 -4.32152727 -4.3184012  -4.3184012  -4.29652888\n",
      " -4.27247873 -4.27247873 -4.24329121 -4.18813625 -4.18813625 -4.14105681\n",
      " -4.14105681 -4.13889606 -4.13889606 -4.07065756 -4.07065756 -4.02579359\n",
      " -4.02579359 -3.91713466 -3.88707558 -3.83679468 -3.83679468 -3.73733329\n",
      " -3.67417486 -3.61999262 -3.60576098 -3.59667334 -3.58151141 -3.48581887\n",
      " -3.48581887 -3.48581887 -3.45685111 -3.42888681 -3.41848197 -3.30323054\n",
      " -3.27219764 -3.2258408  -3.1906451  -3.03475282 -3.01019816 -2.99898725\n",
      " -2.98360983 -2.97318069 -2.95789522 -2.89904457 -2.86567982 -2.84259034\n",
      " -2.80953347 -2.74033249 -2.68634096 -2.63113429 -2.61810352 -2.60837584\n",
      " -2.60837584 -2.47792452 -2.43174512 -2.43174512 -2.35314455 -2.30290552\n",
      " -2.1694458  -2.15367671 -2.14524282 -2.1229104  -2.03998692 -2.03998692\n",
      " -1.98332476 -1.93834768 -1.90400439 -1.90400439 -1.87605904 -1.87605904\n",
      " -1.83890836 -1.79460356 -1.79460356 -1.75692228 -1.75692228 -1.75669631\n",
      " -1.74320098 -1.74320098 -1.69018266 -1.63959154 -1.60281822 -1.60281822\n",
      " -1.5540929  -1.52699052 -1.49283673 -1.46690629 -1.39930842 -1.27479751\n",
      " -1.2744932  -1.26653    -1.23746617 -1.23746617 -1.23340407 -1.21064962\n",
      " -1.21064962 -1.1953764  -1.1953764  -1.19237856 -1.18179548 -1.17290504\n",
      " -1.17290504 -1.15188875 -1.13532842 -1.13532842 -1.12595598 -0.89481124\n",
      " -0.84403419 -0.76114999 -0.76114999 -0.7540237  -0.72804075 -0.65070928\n",
      " -0.57607756 -0.49273442 -0.49273442 -0.3765196  -0.35555939 -0.35555939\n",
      " -0.19127292 -0.19127292 -0.18372485 -0.16692902 -0.0297757  -0.02086605\n",
      "  0.15663854  0.23102072  1.58753163  1.86602235]\n"
     ]
    }
   ],
   "source": [
    "print(\"The ground state energy:\")\n",
    "obtain_PES('lih', [1], 'sto-3g', 'fci')\n",
    "\n",
    "# Building the matrix representation of the effective Hamiltonian\n",
    "# I, X, Z = np.identity(2), np.array([[0, 1], [1, 0]]), np.array([[1, 0], [0, -1]])\n",
    "tapered_hamiltonian_tq = QubitHamiltonian.from_openfermion(tapered_hamiltonian)\n",
    "lih_matrix = tapered_hamiltonian_tq.to_matrix()\n",
    "# h2_matrix = -0.53105134 * I + 0.19679058 * X - 0.53505729 * Z\n",
    "\n",
    "# Obtain the eigenvalues\n",
    "eigvals, _ = np.linalg.eigh(lih_matrix)\n",
    "print(\"\\nThe eigenvalues in the effective Hamiltonian: \\n {}\".format(eigvals))\n",
    "\n"
   ]
  },
  {
   "cell_type": "markdown",
   "source": [
    "## H4"
   ],
   "metadata": {
    "collapsed": false,
    "pycharm": {
     "name": "#%% md\n"
    }
   }
  },
  {
   "cell_type": "code",
   "execution_count": 6,
   "outputs": [
    {
     "name": "stdout",
     "output_type": "stream",
     "text": [
      "The qubits in the original Hamiltonian:8\n",
      "The qubits in the effective Hamiltonian:4\n",
      "The ground state energy:\n",
      "E = -1.9694615253790633 Eh\n",
      "\n",
      "The eigenvalues in the effective Hamiltonian: \n",
      " [-1.96946153 -1.82176626 -1.49750968 -1.49750968 -1.49750968 -1.23920992\n",
      " -1.04838223 -1.03786736 -0.9227056  -0.92251194 -0.75971696 -0.55017271\n",
      " -0.10785711 -0.0337713   2.2911655   2.3313192 ]\n"
     ]
    }
   ],
   "source": [
    "h4, h4_molecular_data = get_qubit_hamiltonian(mol='h4', geometry=90, basis='sto3g', qubit_transf=qubit_transf)\n",
    "print(f\"The qubits in the original Hamiltonian:{qubits_in_H(h4)}\")\n",
    "\n",
    "h4_tapered_hamiltonian = taper_hamiltonian(h4, n_spin_orbitals=2 * h4_molecular_data.n_orbitals, n_electrons=h4_molecular_data.n_electrons, qubit_transf=qubit_transf)\n",
    "print(f\"The qubits in the effective Hamiltonian:{qubits_in_H(h4_tapered_hamiltonian)}\")\n",
    "\n",
    "\n",
    "print(\"The ground state energy:\")\n",
    "obtain_PES('h4', [90], 'sto-3g', 'fci')\n",
    "h4_tapered_hamiltonian_tq = QubitHamiltonian.from_openfermion(h4_tapered_hamiltonian)\n",
    "h4_matrix = h4_tapered_hamiltonian_tq.to_matrix()\n",
    "\n",
    "eigvals, _ = np.linalg.eigh(h4_matrix)\n",
    "print(\"\\nThe eigenvalues in the effective Hamiltonian: \\n {}\".format(eigvals))"
   ],
   "metadata": {
    "collapsed": false,
    "pycharm": {
     "name": "#%%\n"
    }
   }
  },
  {
   "cell_type": "markdown",
   "source": [
    "## NH3"
   ],
   "metadata": {
    "collapsed": false,
    "pycharm": {
     "name": "#%% md\n"
    }
   }
  },
  {
   "cell_type": "code",
   "source": [
    "nh3, nh3_molecular_data = get_qubit_hamiltonian(mol='nh3', geometry=1, basis='sto3g', qubit_transf=qubit_transf)\n",
    "print(f\"The qubits in the original Hamiltonian:{qubits_in_H(nh3)}\")\n",
    "\n",
    "nh3_tapered_hamiltonian = taper_hamiltonian(nh3, n_spin_orbitals=2 * nh3_molecular_data.n_orbitals, n_electrons=nh3_molecular_data.n_electrons, qubit_transf=qubit_transf)\n",
    "print(f\"The qubits in the effective Hamiltonian:{qubits_in_H(nh3_tapered_hamiltonian)}\")\n",
    "\n",
    "print(\"The ground state energy:\")\n",
    "obtain_PES('nh3', [1], 'sto-3g', 'fci')\n",
    "nh3_tapered_hamiltonian_tq = QubitHamiltonian.from_openfermion(nh3_tapered_hamiltonian)\n"
   ],
   "metadata": {
    "collapsed": false,
    "pycharm": {
     "name": "#%%\n"
    }
   },
   "execution_count": 4,
   "outputs": [
    {
     "name": "stdout",
     "output_type": "stream",
     "text": [
      "The qubits in the original Hamiltonian:16\n",
      "The qubits in the effective Hamiltonian:14\n",
      "The ground state energy:\n",
      "E = -55.51550624532097 Eh\n"
     ]
    }
   ]
  },
  {
   "cell_type": "markdown",
   "source": [
    "Exact diagonalization is intractable"
   ],
   "metadata": {
    "collapsed": false,
    "pycharm": {
     "name": "#%% md\n"
    }
   }
  },
  {
   "cell_type": "code",
   "execution_count": null,
   "outputs": [],
   "source": [
    "nh3_matrix = nh3_tapered_hamiltonian_tq.to_matrix()\n",
    "print(f\"Size of matrix to exactly diagonalize: {len(nh3_matrix)}\")\n",
    "\n",
    "eigvals, _ = np.linalg.eigh(nh3_matrix)\n",
    "print(\"\\nThe eigenvalues in the effective Hamiltonian: \\n {}\".format(eigvals))\n",
    "\n"
   ],
   "metadata": {
    "collapsed": false,
    "pycharm": {
     "name": "#%%\n"
    }
   }
  },
  {
   "cell_type": "markdown",
   "source": [
    "## N2"
   ],
   "metadata": {
    "collapsed": false,
    "pycharm": {
     "name": "#%% md\n"
    }
   }
  },
  {
   "cell_type": "code",
   "execution_count": 5,
   "outputs": [
    {
     "name": "stdout",
     "output_type": "stream",
     "text": [
      "The qubits in the original Hamiltonian:20\n",
      "The qubits in the effective Hamiltonian:16\n",
      "The ground state energy:\n",
      "E = -107.54930095845799 Eh\n"
     ]
    }
   ],
   "source": [
    "n2, n2_molecular_data = get_qubit_hamiltonian(mol='n2', geometry=1, basis='sto3g', qubit_transf=qubit_transf)\n",
    "print(f\"The qubits in the original Hamiltonian:{qubits_in_H(n2)}\")\n",
    "\n",
    "n2_tapered_hamiltonian = taper_hamiltonian(n2, n_spin_orbitals=2 * n2_molecular_data.n_orbitals, n_electrons=n2_molecular_data.n_electrons, qubit_transf=qubit_transf)\n",
    "print(f\"The qubits in the effective Hamiltonian:{qubits_in_H(n2_tapered_hamiltonian)}\")\n",
    "\n",
    "print(\"The ground state energy:\")\n",
    "obtain_PES('n2', [1], 'sto-3g', 'fci')\n",
    "n2_tapered_hamiltonian_tq = QubitHamiltonian.from_openfermion(n2_tapered_hamiltonian)"
   ],
   "metadata": {
    "collapsed": false,
    "pycharm": {
     "name": "#%%\n"
    }
   }
  },
  {
   "cell_type": "markdown",
   "source": [
    "Exact diagonalization is intractable"
   ],
   "metadata": {
    "collapsed": false,
    "pycharm": {
     "name": "#%% md\n"
    }
   }
  },
  {
   "cell_type": "code",
   "execution_count": null,
   "outputs": [],
   "source": [
    "n2_matrix = nh3_tapered_hamiltonian_tq.to_matrix()\n",
    "\n",
    "eigvals, _ = np.linalg.eigh(n2_matrix)\n",
    "print(\"\\nThe eigenvalues in the effective Hamiltonian: \\n {}\".format(eigvals))"
   ],
   "metadata": {
    "collapsed": false,
    "pycharm": {
     "name": "#%%\n"
    }
   }
  }
 ],
 "metadata": {
  "kernelspec": {
   "name": "python3",
   "language": "python",
   "display_name": "Python 3"
  },
  "language_info": {
   "codemirror_mode": {
    "name": "ipython",
    "version": 3
   },
   "file_extension": ".py",
   "mimetype": "text/x-python",
   "name": "python",
   "nbconvert_exporter": "python",
   "pygments_lexer": "ipython3",
   "version": "3.7.1-final"
  }
 },
 "nbformat": 4,
 "nbformat_minor": 2
}