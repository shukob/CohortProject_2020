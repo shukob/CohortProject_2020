{
 "cells": [
  {
   "cell_type": "markdown",
   "metadata": {},
   "source": [
    "# Review of classical electronic structure methods \n",
    "\n",
    "In order to assess the performance of quantum computing algorithms in addressing the electronic structure problem, we will briefly review a few commonly employed classical electronic structure methods of varying level of approximation. \n",
    "\n",
    "## Hartree-Fock\n",
    "\n",
    "The Hartree-Fock (HF) method employs a **mean-field approximation**, where Coulomb correlation of electrons is neglected. The HF wavefunction is hence restricted to the form of a single Slater determinant, for which the optimal form may be acquired by an optimization of the underlying single particle basis (orbitals). Once the optimal HF orbitals have been found, the HF state may be written as \n",
    "\n",
    "$$ | \\text{HF} \\rangle = \\prod_{p \\in \\text{occ}} \\hat a^\\dagger_p | \\text{vac} \\rangle $$\n",
    "\n",
    "where $\\hat a^\\dagger_p$ creates an electron in the $p^{\\rm{th}}$ optimized HF spin orbital, and  $| \\text{vac} \\rangle$ is the vacuum state (all spin-orbitals unoccupied). Due to the restriction to a single Slater determinant, the HF energy may be obtained very efficiently and can be applied to very large molecules, however it becomes qualitatively incorrect when **electronic correlations** become sufficiently strong. The HF wavefunction is often used as a starting point in more accurate treatments of electronic correlation. \n",
    "\n",
    "## Coupled cluster\n",
    "\n",
    "The Coupled cluster (CC) method introduces electronic correlation to the wavefunction ansatz by operating on the HF reference state with the exponential of excitation operators\n",
    "\n",
    "$$|\\text{CC} \\rangle = e^{\\hat T} | \\text{HF}\\rangle, \\quad \\hat T = \\hat T_1 + \\hat T_2 + ...$$\n",
    "\n",
    "where $\\hat T_1 = \\sum_{ia} t^{a}_i \\hat a^\\dagger_a \\hat a_i$ are referred to as 'singles', $\\hat T_2 = \\sum_{ijab} t^{ab}_{ij} \\hat a^\\dagger_a \\hat a^\\dagger_b \\hat a_i \\hat a_j$ as 'doubles', etc. When the excitation rank is truncated to only singles (S) and doubles (D), $\\hat T = \\hat T_1 + \\hat T_2$, the corresponding ansatz is referred to as CCSD. Since the number of possible single and double excitations for a system of $N$ electrons in $M$ orbitals is polynomial in $M$, one can efficiently solve a system of equations to obtain the optimized CCSD amplitudes. CCSD often gives accurate energies and can be applied to modestly sized chemical systems. However, due to its implementation, it can **violate the variational principle** and give energies lower than the ground state.\n",
    "\n",
    "## Full Configuration Interaction\n",
    "The full configuration interaction (FCI) method yields the **exact ground state energy** within a given basis set. The FCI wavefunction is written as a linear combination of all possible $N$-particle Slater determinants over the orbital basis\n",
    "$$|\\text{FCI} \\rangle =  \\left( \\sum_{ia} C^{a}_i \\hat a^\\dagger_a \\hat a_i + \\sum_{ijab} C^{ab}_{ij} \\hat a^\\dagger_a \\hat a^\\dagger_b \\hat a_i \\hat a_j + ...  \\right) | \\text{HF} \\rangle $$\n",
    "where the sum includes up to $N$-electron excitations, and hence there are an exponential number of coefficients to optimize in $| \\text{FCI} \\rangle$. Due to its **exponential complexity**, FCI is often reserved for only the smallest chemical systems. However, it serves as a useful result to compare to when assessing tractable electronic structure methods."
   ]
  },
  {
   "cell_type": "markdown",
   "metadata": {},
   "source": [
    "# Benchmarking for electronic PESs in minimal basis (STO-3G)\n",
    "\n",
    "We will apply HF, CCSD, and FCI to obtaining the PESs for a few molecular dissociation processes in minimal (STO-3G) basis."
   ]
  },
  {
   "cell_type": "code",
   "execution_count": 1,
   "metadata": {},
   "outputs": [],
   "source": [
    "import numpy as np\n",
    "import matplotlib.pyplot as plt\n",
    "from utility import get_molecular_data, obtain_PES\n",
    "\n",
    "basis = 'sto-3g'"
   ]
  },
  {
   "cell_type": "markdown",
   "metadata": {},
   "source": [
    "## LiH"
   ]
  },
  {
   "cell_type": "code",
   "execution_count": 8,
   "metadata": {},
   "outputs": [],
   "source": [
    "bond_lengths = np.linspace(0.2,4,20)"
   ]
  },
  {
   "cell_type": "code",
   "execution_count": 9,
   "metadata": {},
   "outputs": [
    {
     "name": "stdout",
     "output_type": "stream",
     "text": [
      "E = -4.041729928511242 Eh\n",
      "E = -6.640277836959335 Eh\n",
      "E = -7.319318938170509 Eh\n",
      "E = -7.6341673297283545 Eh\n",
      "E = -7.7844602802670355 Eh\n",
      "E = -7.852430853316397 Eh\n",
      "E = -7.878453652319028 Eh\n",
      "E = -7.882324378871247 Eh\n",
      "E = -7.874524024942916 Eh\n",
      "E = -7.861087772411124 Eh\n",
      "E = -7.845683623116459 Eh\n",
      "E = -7.830631624342856 Eh\n",
      "E = -7.81739992737568 Eh\n",
      "E = -7.806763402503797 Eh\n",
      "E = -7.798843159455255 Eh\n",
      "E = -7.7932743006258995 Eh\n",
      "E = -7.789498785374036 Eh\n",
      "E = -7.78699181536836 Eh\n",
      "E = -7.78534742409718 Eh\n",
      "E = -7.784278178707712 Eh\n"
     ]
    }
   ],
   "source": [
    "#Run FCI\n",
    "FCI_PES = obtain_PES('lih', bond_lengths, basis, method='fci')"
   ]
  },
  {
   "cell_type": "code",
   "execution_count": 10,
   "metadata": {},
   "outputs": [
    {
     "name": "stdout",
     "output_type": "stream",
     "text": [
      "E = -3.9999380818492325 Eh\n",
      "E = -6.610321463567768 Eh\n",
      "E = -7.299610442693176 Eh\n",
      "E = -7.615847732045089 Eh\n",
      "E = -7.767438446509358 Eh\n",
      "E = -7.835694662390273 Eh\n",
      "E = -7.860621315054134 Eh\n",
      "E = -7.861950402903117 Eh\n",
      "E = -7.850107259191477 Eh\n",
      "E = -7.830998803612704 Eh\n",
      "E = -7.8080941129824355 Eh\n",
      "E = -7.783488814132525 Eh\n",
      "E = -7.758519166159397 Eh\n",
      "E = -7.734113419610024 Eh\n",
      "E = -7.710958961728219 Eh\n",
      "E = -7.689552215347494 Eh\n",
      "E = -7.67020278785301 Eh\n",
      "E = -7.653043174613131 Eh\n",
      "E = -7.6380593865630875 Eh\n",
      "E = -7.62513360209604 Eh\n"
     ]
    }
   ],
   "source": [
    "#Run HF\n",
    "HF_PES = obtain_PES('lih', bond_lengths, basis,  method='hf')"
   ]
  },
  {
   "cell_type": "code",
   "execution_count": 13,
   "metadata": {},
   "outputs": [
    {
     "name": "stdout",
     "output_type": "stream",
     "text": [
      "E = -4.041752525992549 Eh\n",
      "E = -6.64012791342513 Eh\n",
      "E = -7.319305680298506 Eh\n",
      "E = -7.634165017666916 Eh\n",
      "E = -7.78445587762448 Eh\n",
      "E = -7.852424340525681 Eh\n",
      "E = -7.878444465245865 Eh\n",
      "E = -7.882312029331984 Eh\n",
      "E = -7.874508656921257 Eh\n",
      "E = -7.861068913177801 Eh\n",
      "E = -7.845659505841004 Eh\n",
      "E = -7.830599081192249 Eh\n",
      "E = -7.817354761025986 Eh\n",
      "E = -7.806701896330062 Eh\n",
      "E = -7.798763940605923 Eh\n",
      "E = -7.793178638504528 Eh\n",
      "E = -7.789389163278143 Eh\n",
      "E = -7.786870785551713 Eh\n",
      "E = -7.78521728873102 Eh\n",
      "E = -7.784141040410271 Eh\n"
     ]
    }
   ],
   "source": [
    "#Run CCSD\n",
    "CCSD_PES = obtain_PES('lih', bond_lengths, basis,  method='ccsd')"
   ]
  },
  {
   "cell_type": "code",
   "execution_count": 14,
   "metadata": {},
   "outputs": [
    {
     "data": {
      "text/plain": [
       "<matplotlib.legend.Legend at 0x7f626a3dc190>"
      ]
     },
     "execution_count": 14,
     "metadata": {},
     "output_type": "execute_result"
    },
    {
     "data": {
      "image/png": "[encoded data removed]",
      "text/plain": [
       "<Figure size 432x288 with 1 Axes>"
      ]
     },
     "metadata": {
      "needs_background": "light"
     },
     "output_type": "display_data"
    }
   ],
   "source": [
    "#Plot LiH PESs\n",
    "\n",
    "plt.title('LiH dissociation, STO-3G')\n",
    "plt.xlabel('R, Angstrom')\n",
    "plt.ylabel('E, Hartree')\n",
    "\n",
    "plt.plot(bond_lengths, FCI_PES, label='FCI')\n",
    "plt.scatter(bond_lengths, HF_PES, label='HF', color='orange')\n",
    "plt.scatter(bond_lengths, CCSD_PES, label='CCSD', color='purple')\n",
    "plt.legend()"
   ]
  },
  {
   "cell_type": "markdown",
   "metadata": {},
   "source": [
    "<img src=\"figs/testimage.png\">"
   ]
  },
  {
   "cell_type": "markdown",
   "metadata": {},
   "source": [
    "## H4"
   ]
  },
  {
   "cell_type": "code",
   "execution_count": 2,
   "metadata": {},
   "outputs": [],
   "source": [
    "angles = np.linspace(85,95,20)"
   ]
  },
  {
   "cell_type": "code",
   "execution_count": 3,
   "metadata": {},
   "outputs": [
    {
     "name": "stdout",
     "output_type": "stream",
     "text": [
      "E = -1.9867261151116775 Eh\n",
      "E = -1.9836021291538697 Eh\n",
      "E = -1.9807096913449946 Eh\n",
      "E = -1.9780792809512464 Eh\n",
      "E = -1.9757427204815055 Eh\n",
      "E = -1.9737321375752095 Eh\n",
      "E = -1.972078551798698 Eh\n",
      "E = -1.9708101420071973 Eh\n",
      "E = -1.9699503447387263 Eh\n",
      "E = -1.9695160264879354 Eh\n",
      "E = -1.9695160264879443 Eh\n",
      "E = -1.9699503447387299 Eh\n",
      "E = -1.9708101420072053 Eh\n",
      "E = -1.9720785517987012 Eh\n",
      "E = -1.9737321375752077 Eh\n",
      "E = -1.9757427204815081 Eh\n",
      "E = -1.9780792809512553 Eh\n",
      "E = -1.9807096913449977 Eh\n",
      "E = -1.9836021291538706 Eh\n",
      "E = -1.9867261151116797 Eh\n"
     ]
    }
   ],
   "source": [
    "#Run FCI\n",
    "FCI_PES = obtain_PES('h4',angles, basis, method='fci')"
   ]
  },
  {
   "cell_type": "code",
   "execution_count": 4,
   "metadata": {},
   "outputs": [
    {
     "name": "stdout",
     "output_type": "stream",
     "text": [
      "E = -1.8473793344555705 Eh\n",
      "E = -1.8404446448129468 Eh\n",
      "E = -1.8334610598035739 Eh\n",
      "E = -1.8264279717396827 Eh\n",
      "E = -1.819344726759492 Eh\n",
      "E = -1.8122106239502536 Eh\n",
      "E = -1.8050249155575262 Eh\n",
      "E = -1.7977868065519866 Eh\n",
      "E = -1.7904954543393976 Eh\n",
      "E = -1.7831499682037542 Eh\n",
      "E = -1.7831499682037997 Eh\n",
      "E = -1.7904954543393927 Eh\n",
      "E = -1.797786806552067 Eh\n",
      "E = -1.8050249155574445 Eh\n",
      "E = -1.8122106239503086 Eh\n",
      "E = -1.8193447267594856 Eh\n",
      "E = -1.8264279717396572 Eh\n",
      "E = -1.8334610598035197 Eh\n",
      "E = -1.8404446448128509 Eh\n",
      "E = -1.8473793344554148 Eh\n"
     ]
    }
   ],
   "source": [
    "#Run HF\n",
    "HF_PES = obtain_PES('h4', angles, basis,  method='hf')"
   ]
  },
  {
   "cell_type": "code",
   "execution_count": 5,
   "metadata": {},
   "outputs": [
    {
     "name": "stdout",
     "output_type": "stream",
     "text": [
      "E = -1.9881001465424508 Eh\n",
      "E = -1.9852604925342199 Eh\n",
      "E = -1.982707145484162 Eh\n",
      "E = -1.980478490945881 Eh\n",
      "E = -1.9786138850926085 Eh\n",
      "E = -1.9771517690577136 Eh\n",
      "E = -1.9761272916552521 Eh\n",
      "E = -1.9755695775641833 Eh\n",
      "E = -1.9754990583224044 Eh\n",
      "E = -1.9759252894092847 Eh\n",
      "E = -1.975925289409284 Eh\n",
      "E = -1.9754990583224061 Eh\n",
      "E = -1.9755695775641802 Eh\n",
      "E = -1.976127291655242 Eh\n",
      "E = -1.977151769057704 Eh\n",
      "E = -1.9786138850926045 Eh\n",
      "E = -1.9804784909458748 Eh\n",
      "E = -1.9827071454841694 Eh\n",
      "E = -1.9852604925342086 Eh\n",
      "E = -1.9881001465424373 Eh\n"
     ]
    }
   ],
   "source": [
    "#Run CCSD\n",
    "CCSD_PES = obtain_PES('h4', angles, basis,  method='ccsd')"
   ]
  },
  {
   "cell_type": "code",
   "execution_count": 7,
   "metadata": {},
   "outputs": [
    {
     "data": {
      "text/plain": [
       "<matplotlib.legend.Legend at 0x7f626b027950>"
      ]
     },
     "execution_count": 7,
     "metadata": {},
     "output_type": "execute_result"
    },
    {
     "data": {
      "image/png": "[encoded data removed]",
      "text/plain": [
       "<Figure size 432x288 with 1 Axes>"
      ]
     },
     "metadata": {
      "needs_background": "light"
     },
     "output_type": "display_data"
    }
   ],
   "source": [
    "#Plot H2O PESs\n",
    "\n",
    "plt.title('H4, STO-3G')\n",
    "plt.xlabel('Θ,　Degree')\n",
    "plt.ylabel('E, Hartree')\n",
    "\n",
    "plt.plot(angles, FCI_PES, label='FCI')\n",
    "plt.scatter(angles, HF_PES, label='HF', color='orange')\n",
    "plt.scatter(angles, CCSD_PES, label='CCSD', color='purple')\n",
    "plt.legend()"
   ]
  },
  {
   "cell_type": "markdown",
   "metadata": {},
   "source": [
    "## NH3"
   ]
  },
  {
   "cell_type": "code",
   "execution_count": 17,
   "metadata": {},
   "outputs": [],
   "source": [
    "bond_lengths = np.linspace(0.2,3,20)"
   ]
  },
  {
   "cell_type": "code",
   "execution_count": 18,
   "metadata": {},
   "outputs": [
    {
     "name": "stdout",
     "output_type": "stream",
     "text": [
      "E = -28.858731030238786 Eh\n",
      "E = -46.594121196852356 Eh\n",
      "E = -52.327101502875436 Eh\n",
      "E = -54.43158888762926 Eh\n",
      "E = -55.21845296154213 Eh\n",
      "E = -55.48027188913203 Eh\n",
      "E = -55.52266453052647 Eh\n",
      "E = -55.47407786846922 Eh\n",
      "E = -55.39526255459267 Eh\n",
      "E = -55.31591143498541 Eh\n",
      "E = -55.24867851224395 Eh\n",
      "E = -55.197932983716456 Eh\n",
      "E = -55.16398529205976 Eh\n",
      "E = -55.14382546525859 Eh\n",
      "E = -55.13271865371016 Eh\n",
      "E = -55.12668490649913 Eh\n",
      "E = -55.12333094344392 Eh\n",
      "E = -55.121410624613304 Eh\n",
      "E = -55.12028987840772 Eh\n",
      "E = -55.119632638656206 Eh\n"
     ]
    }
   ],
   "source": [
    "#Run FCI\n",
    "FCI_PES = obtain_PES('nh3', bond_lengths, basis, method='fci')"
   ]
  },
  {
   "cell_type": "code",
   "execution_count": 19,
   "metadata": {},
   "outputs": [
    {
     "name": "stdout",
     "output_type": "stream",
     "text": [
      "E = -28.84784688091594 Eh\n",
      "E = -46.580205324488844 Eh\n",
      "E = -52.30829500357518 Eh\n",
      "E = -54.40403420006525 Eh\n",
      "E = -55.17922453534425 Eh\n",
      "E = -55.425469513720955 Eh\n",
      "E = -55.44656344064386 Eh\n",
      "E = -55.368453614489624 Eh\n",
      "E = -55.249169754646985 Eh\n",
      "E = -55.11672687361364 Eh\n",
      "E = -54.98421192004705 Eh\n",
      "E = -54.85807477177392 Eh\n",
      "E = -54.74228608823517 Eh\n",
      "E = -54.64061605809893 Eh\n",
      "E = -54.54182680336909 Eh\n",
      "E = -54.4640371611528 Eh\n",
      "E = -54.39704390738688 Eh\n",
      "E = -54.34033666678507 Eh\n",
      "E = -54.292780542854764 Eh\n",
      "E = -54.25317596090521 Eh\n"
     ]
    }
   ],
   "source": [
    "#Run HF\n",
    "HF_PES = obtain_PES('nh3', bond_lengths, basis,  method='hf')"
   ]
  },
  {
   "cell_type": "code",
   "execution_count": 20,
   "metadata": {},
   "outputs": [
    {
     "name": "stdout",
     "output_type": "stream",
     "text": [
      "E = -1.98810014654245 Eh\n",
      "E = -1.9852604925342199 Eh\n",
      "E = -1.9827071454841643 Eh\n",
      "E = -1.9804784909458701 Eh\n",
      "E = -1.9786138850926085 Eh\n",
      "E = -1.9771517690577136 Eh\n",
      "E = -1.976127291655256 Eh\n",
      "E = -1.9755695775641995 Eh\n",
      "E = -1.9754990583224044 Eh\n",
      "E = -1.9759252894092847 Eh\n",
      "E = -1.975925289409284 Eh\n",
      "E = -1.975499058322408 Eh\n",
      "E = -1.9755695775642026 Eh\n",
      "E = -1.976127291655242 Eh\n",
      "E = -1.977151769057704 Eh\n",
      "E = -1.978613885092597 Eh\n",
      "E = -1.9804784909458748 Eh\n",
      "E = -1.9827071454841694 Eh\n",
      "E = -1.9852604925342086 Eh\n",
      "E = -1.9881001465424373 Eh\n"
     ]
    }
   ],
   "source": [
    "#Run CCSD\n",
    "CCSD_PES = obtain_PES('h4', angles, basis,  method='ccsd')"
   ]
  },
  {
   "cell_type": "code",
   "execution_count": 21,
   "metadata": {},
   "outputs": [
    {
     "data": {
      "text/plain": [
       "<matplotlib.legend.Legend at 0x7f626a33a890>"
      ]
     },
     "execution_count": 21,
     "metadata": {},
     "output_type": "execute_result"
    },
    {
     "data": {
      "image/png": "[encoded data removed]",
      "text/plain": [
       "<Figure size 432x288 with 1 Axes>"
      ]
     },
     "metadata": {
      "needs_background": "light"
     },
     "output_type": "display_data"
    }
   ],
   "source": [
    "#Plot NH3 PESs\n",
    "\n",
    "plt.title('NH3, STO-3G')\n",
    "plt.xlabel('R,　Angstrom')\n",
    "plt.ylabel('E, Hartree')\n",
    "\n",
    "plt.plot(bond_lengths, FCI_PES, label='FCI')\n",
    "plt.scatter(bond_lengths, HF_PES, label='HF', color='orange')\n",
    "plt.scatter(bond_lengths, CCSD_PES, label='CCSD', color='purple')\n",
    "plt.legend()"
   ]
  },
  {
   "cell_type": "code",
   "execution_count": null,
   "metadata": {},
   "outputs": [],
   "source": []
  }
 ],
 "metadata": {
  "kernelspec": {
   "display_name": "Python 3",
   "language": "python",
   "name": "python3"
  },
  "language_info": {
   "codemirror_mode": {
    "name": "ipython",
    "version": 3
   },
   "file_extension": ".py",
   "mimetype": "text/x-python",
   "name": "python",
   "nbconvert_exporter": "python",
   "pygments_lexer": "ipython3",
   "version": "3.7.7"
  }
 },
 "nbformat": 4,
 "nbformat_minor": 2
}
