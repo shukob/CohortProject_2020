{
 "cells": [
  {
   "cell_type": "markdown",
   "metadata": {},
   "source": [
    "# Quantum Circuits\n",
    "Quantum computers can only use a specific set of gates (universal gate set). Given the entanglers and their amplitudes found in Step 3, one can find corresponding representation of these operators in terms of elementary gates using the following procedure."
   ]
  },
  {
   "cell_type": "code",
   "execution_count": 2,
   "metadata": {},
   "outputs": [],
   "source": [
    "import tequila as tq\n",
    "from utility import *"
   ]
  },
  {
   "cell_type": "markdown",
   "metadata": {},
   "source": [
    "First, we set up the Hamiltonian in Tequila's format and the unitary gates obtained in Step 3. "
   ]
  },
  {
   "cell_type": "code",
   "execution_count": 13,
   "metadata": {
    "tags": []
   },
   "outputs": [
    {
     "name": "stdout",
     "output_type": "stream",
     "text": [
      "8\n",
      "circuit: \n",
      "Rx(target=(0,), parameter=beta_0)\n",
      "Rz(target=(0,), parameter=gamma_0)\n",
      "Rx(target=(1,), parameter=beta_1)\n",
      "Rz(target=(1,), parameter=gamma_1)\n",
      "Rx(target=(2,), parameter=beta_2)\n",
      "Rz(target=(2,), parameter=gamma_2)\n",
      "Rx(target=(3,), parameter=beta_3)\n",
      "Rz(target=(3,), parameter=gamma_3)\n",
      "Rx(target=(4,), parameter=beta_4)\n",
      "Rz(target=(4,), parameter=gamma_4)\n",
      "Rx(target=(5,), parameter=beta_5)\n",
      "Rz(target=(5,), parameter=gamma_5)\n",
      "Rx(target=(6,), parameter=beta_6)\n",
      "Rz(target=(6,), parameter=gamma_6)\n",
      "Rx(target=(7,), parameter=beta_7)\n",
      "Rz(target=(7,), parameter=gamma_7)\n",
      "Exp-Pauli(target=(0, 1, 2, 3, 4, 5, 6, 7), control=(), parameter=tau_0, paulistring=X(0)Y(1)X(2)X(3)X(4)Y(5)X(6)X(7))\n",
      "\n"
     ]
    }
   ],
   "source": [
    "H = tq.QubitHamiltonian.from_openfermion(get_qubit_hamiltonian('h4', 2, 'sto-3g', qubit_transf='jw'))\n",
    "\n",
    "a = tq.Variable(\"tau_0\")\n",
    "U = construct_QMF_ansatz(H.n_qubits)\n",
    "print(H.n_qubits)\n",
    "pauli_string = \"\".join([f\"{ 'Y' if i % 4 == 1 else  'X'}({i})\" for i in range(H.n_qubits)])\n",
    "U += tq.gates.ExpPauli(paulistring=tq.PauliString.from_string(pauli_string), angle=a)\n",
    "print(U)"
   ]
  },
  {
   "cell_type": "markdown",
   "metadata": {},
   "source": [
    "One can check the expectation value to see it is near the ground state energy."
   ]
  },
  {
   "cell_type": "code",
   "execution_count": 20,
   "metadata": {
    "tags": []
   },
   "outputs": [
    {
     "name": "stdout",
     "output_type": "stream",
     "text": [
      "33.79767525776828\n"
     ]
    }
   ],
   "source": [
    "E = tq.ExpectationValue(H=H, U=U)\n",
    "vars1 = {f'beta_{i}': 0 for i in range(8)}\n",
    "vars2 = {f'gamma_{i}': 0 for i in range(8)}\n",
    "vars3 = {'beta_1': 3.141592624143881, 'beta_0': 3.141592624143881, 'tau_0': 1.1331410014096885}\n",
    "## Replace above by the results of Task 3\n",
    "vars = {**vars1, **vars2, **vars3}\n",
    "print(tq.simulate(E, variables=vars))"
   ]
  },
  {
   "cell_type": "markdown",
   "metadata": {},
   "source": [
    "One can run the same experiment on a real quantum computer through IBM Quantum Experience (ibmq). After activating your account here (https://quantum-computing.ibm.com/login), copy the API token and execute the commented block below. "
   ]
  },
  {
   "cell_type": "code",
   "execution_count": 6,
   "metadata": {},
   "outputs": [],
   "source": [
    "# from qiskit import IBMQ\n",
    "# IBMQ.save_account('MY_API_TOKEN')"
   ]
  },
  {
   "cell_type": "code",
   "execution_count": 8,
   "metadata": {
    "tags": []
   },
   "outputs": [
    {
     "data": {
      "text/plain": [
       "-0.49837560127530073"
      ]
     },
     "execution_count": 8,
     "metadata": {},
     "output_type": "execute_result"
    }
   ],
   "source": [
    "# list of devices available can be found in ibmq account page\n",
    "tq.simulate(E, variables=vars, samples=100, backend=\"qiskit\", device='ibmq_burlington')"
   ]
  },
  {
   "cell_type": "markdown",
   "metadata": {},
   "source": [
    "The following code block prints the circuit."
   ]
  },
  {
   "cell_type": "code",
   "execution_count": 9,
   "metadata": {
    "tags": []
   },
   "outputs": [
    {
     "name": "stdout",
     "output_type": "stream",
     "text": [
      "     ┌────────────────────┐┌─────────────────────┐   ┌───┐                   »\n",
      "q_0: ┤ RX(f((beta_0,))_0) ├┤ RZ(f((gamma_0,))_1) ├───┤ H ├──────■────────────»\n",
      "     ├────────────────────┤├─────────────────────┤┌──┴───┴───┐┌─┴─┐          »\n",
      "q_1: ┤ RX(f((beta_1,))_2) ├┤ RZ(f((gamma_1,))_3) ├┤ RX(pi/2) ├┤ X ├──■───────»\n",
      "     ├────────────────────┤├─────────────────────┤└──┬───┬───┘└───┘┌─┴─┐     »\n",
      "q_2: ┤ RX(f((beta_2,))_4) ├┤ RZ(f((gamma_2,))_5) ├───┤ H ├─────────┤ X ├──■──»\n",
      "     ├────────────────────┤├─────────────────────┤   ├───┤         └───┘┌─┴─┐»\n",
      "q_3: ┤ RX(f((beta_3,))_6) ├┤ RZ(f((gamma_3,))_7) ├───┤ H ├──────────────┤ X ├»\n",
      "     └────────────────────┘└─────────────────────┘   └───┘              └───┘»\n",
      "c_0: ════════════════════════════════════════════════════════════════════════»\n",
      "                                                                             »\n",
      "c_1: ════════════════════════════════════════════════════════════════════════»\n",
      "                                                                             »\n",
      "c_2: ════════════════════════════════════════════════════════════════════════»\n",
      "                                                                             »\n",
      "c_3: ════════════════════════════════════════════════════════════════════════»\n",
      "                                                                             »\n",
      "«                                             ┌───┐    \n",
      "«q_0: ─────────────────────────────────■──────┤ H ├────\n",
      "«                                    ┌─┴─┐┌───┴───┴───┐\n",
      "«q_1: ────────────────────────────■──┤ X ├┤ RX(-pi/2) ├\n",
      "«                               ┌─┴─┐├───┤└───────────┘\n",
      "«q_2: ───────────────────────■──┤ X ├┤ H ├─────────────\n",
      "«     ┌───────────────────┐┌─┴─┐├───┤└───┘             \n",
      "«q_3: ┤ RZ(f((tau_0,))_8) ├┤ X ├┤ H ├──────────────────\n",
      "«     └───────────────────┘└───┘└───┘                  \n",
      "«c_0: ═════════════════════════════════════════════════\n",
      "«                                                      \n",
      "«c_1: ═════════════════════════════════════════════════\n",
      "«                                                      \n",
      "«c_2: ═════════════════════════════════════════════════\n",
      "«                                                      \n",
      "«c_3: ═════════════════════════════════════════════════\n",
      "«                                                      \n"
     ]
    }
   ],
   "source": [
    "circ = tq.circuit.compiler.compile_exponential_pauli_gate(U)\n",
    "tq.draw(circ, backend=\"qiskit\")"
   ]
  },
  {
   "cell_type": "code",
   "execution_count": null,
   "metadata": {},
   "outputs": [],
   "source": []
  }
 ],
 "metadata": {
  "kernelspec": {
   "display_name": "Python 3",
   "language": "python",
   "name": "python3"
  },
  "language_info": {
   "codemirror_mode": {
    "name": "ipython",
    "version": 3
   },
   "file_extension": ".py",
   "mimetype": "text/x-python",
   "name": "python",
   "nbconvert_exporter": "python",
   "pygments_lexer": "ipython3",
   "version": "3.7.7"
  }
 },
 "nbformat": 4,
 "nbformat_minor": 2
}
