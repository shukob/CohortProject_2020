{
 "cells": [
  {
   "cell_type": "markdown",
   "metadata": {},
   "source": [
    "# Unitary ansatz entering the VQE\n",
    "\n",
    "- Check performance of UCCSD / QCC compared to FCI\n",
    "- Pick orbitals for larger basis set (6-31G)\n",
    "- Select engangular set size for QCC by effective gradient"
   ]
  },
  {
   "cell_type": "code",
   "execution_count": 2,
   "outputs": [],
   "source": [
    "import numpy as np\n",
    "import tequila as tq\n",
    "from utility import *\n",
    "threshold = 1e-6 #Cutoff for UCC MP2 amplitudes and QCC ranking gradients\n",
    "trotter_steps = 1"
   ],
   "metadata": {
    "collapsed": false,
    "pycharm": {
     "name": "#%%\n"
    }
   }
  },
  {
   "cell_type": "markdown",
   "metadata": {},
   "source": [
    "### LiH in STO-3G basis\n",
    "\n",
    "- FCI"
   ]
  },
  {
   "cell_type": "code",
   "execution_count": 2,
   "metadata": {},
   "outputs": [
    {
     "name": "stdout",
     "output_type": "stream",
     "text": [
      "Number of spin-orbitals (qubits): 12 \n",
      "\n",
      "FCI energy: -7.882362286810955\n"
     ]
    }
   ],
   "source": [
    "xyz_data = get_molecular_data('lih', geometry=1.5, xyz_format=True)\n",
    "basis='sto-3g'\n",
    "\n",
    "lih = tq.quantumchemistry.Molecule(geometry=xyz_data, basis_set=basis)\n",
    "\n",
    "print('Number of spin-orbitals (qubits): {} \\n'.format(2*lih.n_orbitals))\n",
    "\n",
    "E_FCI = lih.compute_energy(method='fci', backend='qulacs_gpu')\n",
    "\n",
    "print('FCI energy: {}'.format(E_FCI))"
   ]
  },
  {
   "cell_type": "markdown",
   "source": [
    "\n",
    "- UCCSD\n",
    " - Used GpyOpt because Scipy took too long"
   ],
   "metadata": {
    "collapsed": false,
    "pycharm": {
     "name": "#%% md\n"
    }
   }
  },
  {
   "cell_type": "code",
   "execution_count": 3,
   "outputs": [
    {
     "name": "stdout",
     "output_type": "stream",
     "text": [
      "\n",
      "Hamiltonian has 631 terms\n",
      "\n",
      "\n",
      "Number of UCCSD amplitudes: 24 \n",
      "\n",
      "\n",
      "Starting optimization:\n",
      "\n",
      "Optimizer: <class 'tequila.optimizers.optimizer_gpyopt.OptimizerGPyOpt'> \n",
      "backend         : qulacs\n",
      "samples         : None\n",
      "save_history    : True\n",
      "noise           : None\n",
      "\n",
      "method          : lbfgs\n",
      "Objective       : 1 expectationvalues\n",
      "num acquisition: 1, time elapsed: 0.46s\n",
      "num acquisition: 2, time elapsed: 1.36s\n",
      "num acquisition: 3, time elapsed: 2.12s\n",
      "num acquisition: 4, time elapsed: 3.19s\n",
      "num acquisition: 5, time elapsed: 4.02s\n",
      "num acquisition: 6, time elapsed: 4.78s\n",
      "num acquisition: 7, time elapsed: 5.44s\n",
      "num acquisition: 8, time elapsed: 6.30s\n",
      "num acquisition: 9, time elapsed: 7.18s\n",
      "num acquisition: 10, time elapsed: 7.98s\n",
      "num acquisition: 11, time elapsed: 8.52s\n",
      "num acquisition: 12, time elapsed: 9.05s\n",
      "num acquisition: 13, time elapsed: 9.75s\n",
      "num acquisition: 14, time elapsed: 10.28s\n",
      "num acquisition: 15, time elapsed: 10.93s\n",
      "num acquisition: 16, time elapsed: 11.54s\n",
      "num acquisition: 17, time elapsed: 12.21s\n",
      "num acquisition: 18, time elapsed: 13.28s\n",
      "num acquisition: 19, time elapsed: 13.84s\n",
      "num acquisition: 20, time elapsed: 14.61s\n",
      "num acquisition: 21, time elapsed: 15.11s\n",
      "num acquisition: 22, time elapsed: 15.67s\n",
      "num acquisition: 23, time elapsed: 16.23s\n",
      "num acquisition: 24, time elapsed: 16.80s\n",
      "num acquisition: 25, time elapsed: 17.68s\n",
      "num acquisition: 26, time elapsed: 18.47s\n",
      "num acquisition: 27, time elapsed: 19.16s\n",
      "num acquisition: 28, time elapsed: 19.70s\n",
      "num acquisition: 29, time elapsed: 20.28s\n",
      "num acquisition: 30, time elapsed: 20.87s\n",
      "num acquisition: 31, time elapsed: 21.82s\n",
      "num acquisition: 32, time elapsed: 22.38s\n",
      "num acquisition: 33, time elapsed: 22.97s\n",
      "num acquisition: 34, time elapsed: 23.63s\n",
      "num acquisition: 35, time elapsed: 24.44s\n",
      "num acquisition: 36, time elapsed: 24.96s\n",
      "num acquisition: 37, time elapsed: 25.57s\n",
      "num acquisition: 38, time elapsed: 26.14s\n",
      "num acquisition: 39, time elapsed: 27.39s\n",
      "num acquisition: 40, time elapsed: 28.12s\n",
      "num acquisition: 41, time elapsed: 28.72s\n",
      "num acquisition: 42, time elapsed: 29.59s\n",
      "num acquisition: 43, time elapsed: 30.25s\n",
      "num acquisition: 44, time elapsed: 31.00s\n",
      "num acquisition: 45, time elapsed: 31.81s\n",
      "num acquisition: 46, time elapsed: 32.59s\n",
      "num acquisition: 47, time elapsed: 33.52s\n",
      "num acquisition: 48, time elapsed: 34.43s\n",
      "num acquisition: 49, time elapsed: 35.13s\n",
      "num acquisition: 50, time elapsed: 35.83s\n",
      "num acquisition: 51, time elapsed: 36.90s\n",
      "num acquisition: 52, time elapsed: 37.57s\n",
      "num acquisition: 53, time elapsed: 38.29s\n",
      "num acquisition: 54, time elapsed: 39.02s\n",
      "num acquisition: 55, time elapsed: 39.99s\n",
      "num acquisition: 56, time elapsed: 40.63s\n",
      "num acquisition: 57, time elapsed: 41.46s\n",
      "num acquisition: 58, time elapsed: 42.45s\n",
      "num acquisition: 59, time elapsed: 43.69s\n",
      "num acquisition: 60, time elapsed: 44.79s\n",
      "num acquisition: 61, time elapsed: 45.99s\n",
      "num acquisition: 62, time elapsed: 47.37s\n",
      "num acquisition: 63, time elapsed: 48.23s\n",
      "num acquisition: 64, time elapsed: 49.42s\n",
      "num acquisition: 65, time elapsed: 50.49s\n",
      "num acquisition: 66, time elapsed: 51.69s\n",
      "num acquisition: 67, time elapsed: 52.98s\n",
      "num acquisition: 68, time elapsed: 54.41s\n",
      "num acquisition: 69, time elapsed: 55.60s\n",
      "num acquisition: 70, time elapsed: 56.34s\n",
      "num acquisition: 71, time elapsed: 57.09s\n",
      "num acquisition: 72, time elapsed: 57.98s\n",
      "num acquisition: 73, time elapsed: 58.78s\n",
      "num acquisition: 74, time elapsed: 59.52s\n",
      "num acquisition: 75, time elapsed: 60.71s\n",
      "num acquisition: 76, time elapsed: 61.45s\n",
      "num acquisition: 77, time elapsed: 62.31s\n",
      "num acquisition: 78, time elapsed: 63.04s\n",
      "num acquisition: 79, time elapsed: 63.85s\n",
      "num acquisition: 80, time elapsed: 64.85s\n",
      "num acquisition: 81, time elapsed: 65.68s\n",
      "num acquisition: 82, time elapsed: 66.88s\n",
      "num acquisition: 83, time elapsed: 67.89s\n",
      "num acquisition: 84, time elapsed: 68.73s\n",
      "num acquisition: 85, time elapsed: 69.78s\n",
      "num acquisition: 86, time elapsed: 70.56s\n",
      "num acquisition: 87, time elapsed: 71.47s\n",
      "num acquisition: 88, time elapsed: 72.73s\n",
      "num acquisition: 89, time elapsed: 73.82s\n",
      "num acquisition: 90, time elapsed: 74.90s\n",
      "num acquisition: 91, time elapsed: 75.75s\n",
      "num acquisition: 92, time elapsed: 76.61s\n",
      "num acquisition: 93, time elapsed: 77.82s\n",
      "num acquisition: 94, time elapsed: 78.93s\n",
      "num acquisition: 95, time elapsed: 79.70s\n",
      "num acquisition: 96, time elapsed: 80.71s\n",
      "num acquisition: 97, time elapsed: 81.80s\n",
      "num acquisition: 98, time elapsed: 83.12s\n",
      "num acquisition: 99, time elapsed: 84.27s\n",
      "num acquisition: 100, time elapsed: 85.10s\n",
      "num acquisition: 101, time elapsed: 86.25s\n",
      "num acquisition: 102, time elapsed: 87.36s\n",
      "num acquisition: 103, time elapsed: 88.21s\n",
      "num acquisition: 104, time elapsed: 89.18s\n",
      "num acquisition: 105, time elapsed: 90.51s\n",
      "num acquisition: 106, time elapsed: 91.87s\n",
      "num acquisition: 107, time elapsed: 92.79s\n",
      "num acquisition: 108, time elapsed: 94.03s\n",
      "num acquisition: 109, time elapsed: 95.04s\n",
      "num acquisition: 110, time elapsed: 96.07s\n",
      "num acquisition: 111, time elapsed: 97.14s\n",
      "num acquisition: 112, time elapsed: 97.95s\n",
      "num acquisition: 113, time elapsed: 99.12s\n",
      "num acquisition: 114, time elapsed: 100.05s\n",
      "num acquisition: 115, time elapsed: 101.07s\n",
      "num acquisition: 116, time elapsed: 101.97s\n",
      "num acquisition: 117, time elapsed: 103.12s\n",
      "num acquisition: 118, time elapsed: 104.60s\n",
      "num acquisition: 119, time elapsed: 106.06s\n",
      "num acquisition: 120, time elapsed: 107.16s\n",
      "num acquisition: 121, time elapsed: 108.48s\n",
      "num acquisition: 122, time elapsed: 109.96s\n",
      "num acquisition: 123, time elapsed: 111.82s\n",
      "num acquisition: 124, time elapsed: 113.20s\n",
      "num acquisition: 125, time elapsed: 114.47s\n",
      "num acquisition: 126, time elapsed: 116.13s\n",
      "num acquisition: 127, time elapsed: 118.35s\n",
      "num acquisition: 128, time elapsed: 119.92s\n",
      "num acquisition: 129, time elapsed: 121.50s\n",
      "num acquisition: 130, time elapsed: 123.30s\n",
      "num acquisition: 131, time elapsed: 124.37s\n",
      "num acquisition: 132, time elapsed: 126.06s\n",
      "num acquisition: 133, time elapsed: 126.97s\n",
      "num acquisition: 134, time elapsed: 128.20s\n",
      "num acquisition: 135, time elapsed: 129.64s\n",
      "num acquisition: 136, time elapsed: 131.54s\n",
      "num acquisition: 137, time elapsed: 132.91s\n",
      "num acquisition: 138, time elapsed: 134.32s\n",
      "num acquisition: 139, time elapsed: 135.91s\n",
      "num acquisition: 140, time elapsed: 137.61s\n",
      "num acquisition: 141, time elapsed: 138.89s\n",
      "num acquisition: 142, time elapsed: 140.83s\n",
      "num acquisition: 143, time elapsed: 142.50s\n",
      "num acquisition: 144, time elapsed: 143.81s\n",
      "num acquisition: 145, time elapsed: 144.83s\n",
      "num acquisition: 146, time elapsed: 146.25s\n",
      "num acquisition: 147, time elapsed: 147.72s\n",
      "num acquisition: 148, time elapsed: 149.27s\n",
      "num acquisition: 149, time elapsed: 151.06s\n",
      "num acquisition: 150, time elapsed: 152.38s\n",
      "num acquisition: 151, time elapsed: 153.61s\n",
      "num acquisition: 152, time elapsed: 154.57s\n",
      "num acquisition: 153, time elapsed: 155.73s\n",
      "num acquisition: 154, time elapsed: 156.95s\n",
      "num acquisition: 155, time elapsed: 158.40s\n",
      "num acquisition: 156, time elapsed: 159.71s\n",
      "num acquisition: 157, time elapsed: 161.28s\n",
      "num acquisition: 158, time elapsed: 162.47s\n",
      "num acquisition: 159, time elapsed: 163.50s\n",
      "num acquisition: 160, time elapsed: 165.36s\n",
      "num acquisition: 161, time elapsed: 167.43s\n",
      "num acquisition: 162, time elapsed: 169.81s\n",
      "num acquisition: 163, time elapsed: 172.33s\n",
      "num acquisition: 164, time elapsed: 174.00s\n",
      "num acquisition: 165, time elapsed: 175.76s\n",
      "num acquisition: 166, time elapsed: 177.60s\n",
      "num acquisition: 167, time elapsed: 180.02s\n",
      "num acquisition: 168, time elapsed: 182.57s\n",
      "num acquisition: 169, time elapsed: 184.71s\n",
      "num acquisition: 170, time elapsed: 187.81s\n",
      "num acquisition: 171, time elapsed: 189.80s\n",
      "num acquisition: 172, time elapsed: 192.02s\n",
      "num acquisition: 173, time elapsed: 194.18s\n",
      "num acquisition: 174, time elapsed: 196.56s\n",
      "num acquisition: 175, time elapsed: 197.88s\n",
      "num acquisition: 176, time elapsed: 199.32s\n",
      "num acquisition: 177, time elapsed: 200.96s\n",
      "num acquisition: 178, time elapsed: 202.39s\n",
      "num acquisition: 179, time elapsed: 203.72s\n",
      "num acquisition: 180, time elapsed: 205.08s\n",
      "num acquisition: 181, time elapsed: 206.42s\n",
      "num acquisition: 182, time elapsed: 207.90s\n",
      "num acquisition: 183, time elapsed: 209.46s\n",
      "num acquisition: 184, time elapsed: 210.84s\n",
      "num acquisition: 185, time elapsed: 212.17s\n",
      "num acquisition: 186, time elapsed: 213.60s\n",
      "num acquisition: 187, time elapsed: 215.05s\n",
      "num acquisition: 188, time elapsed: 216.65s\n",
      "num acquisition: 189, time elapsed: 217.86s\n",
      "num acquisition: 190, time elapsed: 219.35s\n",
      "num acquisition: 191, time elapsed: 220.82s\n",
      "num acquisition: 192, time elapsed: 222.28s\n",
      "num acquisition: 193, time elapsed: 224.06s\n",
      "num acquisition: 194, time elapsed: 225.46s\n",
      "num acquisition: 195, time elapsed: 227.07s\n",
      "num acquisition: 196, time elapsed: 228.50s\n",
      "num acquisition: 197, time elapsed: 229.86s\n",
      "num acquisition: 198, time elapsed: 231.43s\n",
      "num acquisition: 199, time elapsed: 233.14s\n",
      "num acquisition: 200, time elapsed: 234.84s\n",
      "num acquisition: 201, time elapsed: 236.39s\n",
      "num acquisition: 202, time elapsed: 237.94s\n",
      "num acquisition: 203, time elapsed: 239.85s\n",
      "num acquisition: 204, time elapsed: 241.54s\n",
      "num acquisition: 205, time elapsed: 243.39s\n",
      "num acquisition: 206, time elapsed: 244.95s\n",
      "num acquisition: 207, time elapsed: 246.54s\n",
      "num acquisition: 208, time elapsed: 248.10s\n",
      "num acquisition: 209, time elapsed: 250.04s\n",
      "num acquisition: 210, time elapsed: 252.03s\n",
      "num acquisition: 211, time elapsed: 253.62s\n",
      "num acquisition: 212, time elapsed: 255.46s\n",
      "num acquisition: 213, time elapsed: 256.92s\n",
      "num acquisition: 214, time elapsed: 258.46s\n",
      "num acquisition: 215, time elapsed: 260.22s\n",
      "num acquisition: 216, time elapsed: 261.53s\n",
      "num acquisition: 217, time elapsed: 262.83s\n",
      "num acquisition: 218, time elapsed: 264.20s\n",
      "num acquisition: 219, time elapsed: 266.33s\n",
      "num acquisition: 220, time elapsed: 267.94s\n",
      "num acquisition: 221, time elapsed: 269.31s\n",
      "num acquisition: 222, time elapsed: 270.94s\n",
      "num acquisition: 223, time elapsed: 272.52s\n",
      "num acquisition: 224, time elapsed: 274.23s\n",
      "num acquisition: 225, time elapsed: 275.65s\n",
      "num acquisition: 226, time elapsed: 277.09s\n",
      "num acquisition: 227, time elapsed: 278.68s\n",
      "num acquisition: 228, time elapsed: 280.16s\n",
      "num acquisition: 229, time elapsed: 281.84s\n",
      "num acquisition: 230, time elapsed: 283.67s\n",
      "num acquisition: 231, time elapsed: 285.65s\n",
      "num acquisition: 232, time elapsed: 287.76s\n",
      "num acquisition: 233, time elapsed: 289.79s\n",
      "num acquisition: 234, time elapsed: 291.35s\n",
      "num acquisition: 235, time elapsed: 292.84s\n",
      "num acquisition: 236, time elapsed: 294.35s\n",
      "num acquisition: 237, time elapsed: 296.17s\n",
      "num acquisition: 238, time elapsed: 297.68s\n",
      "num acquisition: 239, time elapsed: 299.17s\n",
      "num acquisition: 240, time elapsed: 300.83s\n",
      "num acquisition: 241, time elapsed: 302.27s\n",
      "num acquisition: 242, time elapsed: 303.93s\n",
      "num acquisition: 243, time elapsed: 305.73s\n",
      "num acquisition: 244, time elapsed: 307.65s\n",
      "num acquisition: 245, time elapsed: 309.34s\n",
      "num acquisition: 246, time elapsed: 310.80s\n",
      "num acquisition: 247, time elapsed: 312.76s\n",
      "num acquisition: 248, time elapsed: 314.54s\n",
      "num acquisition: 249, time elapsed: 316.09s\n",
      "num acquisition: 250, time elapsed: 317.66s\n",
      "num acquisition: 251, time elapsed: 319.33s\n",
      "num acquisition: 252, time elapsed: 321.48s\n",
      "num acquisition: 253, time elapsed: 323.19s\n",
      "num acquisition: 254, time elapsed: 326.44s\n",
      "num acquisition: 255, time elapsed: 330.10s\n",
      "num acquisition: 256, time elapsed: 333.81s\n",
      "num acquisition: 257, time elapsed: 337.04s\n",
      "num acquisition: 258, time elapsed: 340.67s\n",
      "num acquisition: 259, time elapsed: 344.27s\n",
      "num acquisition: 260, time elapsed: 347.58s\n",
      "num acquisition: 261, time elapsed: 349.45s\n",
      "num acquisition: 262, time elapsed: 351.20s\n",
      "num acquisition: 263, time elapsed: 353.36s\n",
      "num acquisition: 264, time elapsed: 355.41s\n",
      "num acquisition: 265, time elapsed: 357.41s\n",
      "num acquisition: 266, time elapsed: 359.41s\n",
      "num acquisition: 267, time elapsed: 361.58s\n",
      "num acquisition: 268, time elapsed: 363.81s\n",
      "num acquisition: 269, time elapsed: 365.98s\n",
      "num acquisition: 270, time elapsed: 367.94s\n",
      "num acquisition: 271, time elapsed: 370.19s\n",
      "num acquisition: 272, time elapsed: 372.18s\n",
      "num acquisition: 273, time elapsed: 374.32s\n",
      "num acquisition: 274, time elapsed: 376.57s\n",
      "num acquisition: 275, time elapsed: 378.89s\n",
      "num acquisition: 276, time elapsed: 380.83s\n",
      "num acquisition: 277, time elapsed: 383.13s\n",
      "num acquisition: 278, time elapsed: 385.28s\n",
      "num acquisition: 279, time elapsed: 387.77s\n",
      "num acquisition: 280, time elapsed: 390.03s\n",
      "num acquisition: 281, time elapsed: 392.19s\n",
      "num acquisition: 282, time elapsed: 394.61s\n",
      "num acquisition: 283, time elapsed: 397.07s\n",
      "num acquisition: 284, time elapsed: 399.33s\n",
      "num acquisition: 285, time elapsed: 401.37s\n",
      "num acquisition: 286, time elapsed: 403.57s\n",
      "num acquisition: 287, time elapsed: 405.80s\n",
      "num acquisition: 288, time elapsed: 408.57s\n",
      "num acquisition: 289, time elapsed: 411.00s\n",
      "num acquisition: 290, time elapsed: 412.94s\n",
      "num acquisition: 291, time elapsed: 415.16s\n",
      "num acquisition: 292, time elapsed: 417.54s\n",
      "num acquisition: 293, time elapsed: 419.92s\n",
      "num acquisition: 294, time elapsed: 422.11s\n",
      "num acquisition: 295, time elapsed: 424.53s\n",
      "num acquisition: 296, time elapsed: 426.84s\n",
      "num acquisition: 297, time elapsed: 428.94s\n",
      "num acquisition: 298, time elapsed: 431.32s\n",
      "num acquisition: 299, time elapsed: 433.78s\n",
      "num acquisition: 300, time elapsed: 435.98s\n",
      "\n",
      "Obtained UCCSD energy: -7.863357602993555\n"
     ]
    }
   ],
   "source": [
    "H = lih.make_hamiltonian()\n",
    "\n",
    "print(\"\\nHamiltonian has {} terms\\n\".format(len(H)))\n",
    "\n",
    "U_UCCSD = lih.make_uccsd_ansatz(initial_amplitudes='MP2',threshold=threshold, trotter_steps=trotter_steps)\n",
    "\n",
    "E = tq.ExpectationValue(H=H, U=U_UCCSD)\n",
    "\n",
    "print('\\nNumber of UCCSD amplitudes: {} \\n'.format(len(E.extract_variables())))\n",
    "\n",
    "print('\\nStarting optimization:\\n')\n",
    "\n",
    "result = tq.optimizers.optimizer_gpyopt.minimize(objective=E, initial_values={k:0.0 for k in E.extract_variables()}, tol=1e-4, backend='qulacs', maxiter=300)\n",
    "print('\\nObtained UCCSD energy: {}'.format(result.energy))"
   ],
   "metadata": {
    "collapsed": false,
    "pycharm": {
     "name": "#%%\n"
    }
   }
  },
  {
   "cell_type": "markdown",
   "metadata": {},
   "source": [
    "- QCC"
   ]
  },
  {
   "cell_type": "code",
   "execution_count": 4,
   "outputs": [
    {
     "name": "stdout",
     "output_type": "stream",
     "text": [
      "Grouping gradient magnitudes (Grouping : Gradient magnitude):\n",
      "1 : 0.123\n",
      "2 : 0.0335\n",
      "3 : 0.0335\n",
      "4 : 0.024\n",
      "5 : 0.024\n",
      "6 : 0.0215\n",
      "7 : 0.0121\n",
      "8 : 0.0098\n",
      "9 : 0.0098\n",
      "10 : 0.0076\n",
      "11 : 0.0076\n",
      "12 : 0.0076\n",
      "13 : 0.0076\n",
      "14 : 0.0072\n",
      "15 : 0.002\n",
      "16 : 0.002\n",
      "17 : 0.0013\n",
      "18 : 0.0013\n",
      "19 : 0.0012\n",
      "20 : 0.0012\n",
      "21 : 0.0007\n",
      "22 : 0.0007\n",
      "23 : 0.0004\n",
      "24 : 0.0004\n",
      "25 : 0.0002\n",
      "26 : 0.0002\n",
      "27 : 0.0\n",
      "28 : 0.0\n",
      "29 : 0.0\n",
      "30 : 0.0\n",
      "31 : 0.0\n",
      "32 : 0.0\n"
     ]
    }
   ],
   "source": [
    "hf_reference = hf_occ(2*lih.n_orbitals, lih.n_electrons)\n",
    "\n",
    "H = lih.make_hamiltonian()\n",
    "\n",
    "\n",
    "\n",
    "#Rank entanglers using energy gradient criterion\n",
    "ranked_entangler_groupings = generate_QCC_gradient_groupings(H.to_openfermion(),\n",
    "                                                             2*lih.n_orbitals,\n",
    "                                                             hf_reference,\n",
    "                                                             cutoff=threshold)\n",
    "\n",
    "print('Grouping gradient magnitudes (Grouping : Gradient magnitude):')\n",
    "for i in range(len(ranked_entangler_groupings)):\n",
    "    print('{} : {}'.format(i+1,ranked_entangler_groupings[i][1]))"
   ],
   "metadata": {
    "collapsed": false,
    "pycharm": {
     "name": "#%%\n"
    }
   }
  },
  {
   "cell_type": "markdown",
   "source": [
    "#### We see that selecting 14 orbitals will be required, but eventually it does not work very well"
   ],
   "metadata": {
    "collapsed": false,
    "pycharm": {
     "name": "#%% md\n"
    }
   }
  },
  {
   "cell_type": "code",
   "execution_count": 5,
   "outputs": [
    {
     "name": "stdout",
     "output_type": "stream",
     "text": [
      "\n",
      "Selected entanglers:\n",
      "1.0 [X2 Y3 X10 X11]\n",
      "1.0 [X2 Y3 X5 X10]\n",
      "1.0 [X2 Y3 X4 X11]\n",
      "1.0 [X2 Y3 X6 X7]\n",
      "1.0 [X2 Y3 X8 X9]\n",
      "1.0 [X0 Y1 X4 X5]\n",
      "1.0 [X2 Y3 X4 X5]\n",
      "1.0 [X0 Y1 X6 X7]\n",
      "1.0 [X0 Y1 X8 X9]\n",
      "1.0 [X0 Y3 X6 X7]\n",
      "1.0 [X0 Y3 X8 X9]\n",
      "1.0 [X1 Y2 X6 X7]\n",
      "1.0 [X1 Y2 X8 X9]\n",
      "1.0 [X0 Y1 X10 X11]\n",
      "Optimizer: <class 'tequila.optimizers.optimizer_scipy.OptimizerSciPy'> \n",
      "backend         : qulacs\n",
      "samples         : None\n",
      "save_history    : True\n",
      "noise           : None\n",
      "\n",
      "Method          : BFGS\n",
      "Objective       : 1 expectationvalues\n",
      "gradient        : 76 expectationvalues\n",
      "\n",
      "active variables : 38\n",
      "\n",
      "E=-6.25839976  angles= {beta_0: 3.141592653589793, gamma_0: 0.0, beta_1: 3.141592653589793, gamma_1: 0.0, beta_2: 3.141592653589793, gamma_2: 0.0, beta_3: 3.141592653589793, gamma_3: 0.0, beta_4: 0.0, gamma_4: 0.0, beta_5: 0.0, gamma_5: 0.0, beta_6: 0.0, gamma_6: 0.0, beta_7: 0.0, gamma_7: 0.0, beta_8: 0.0, gamma_8: 0.0, beta_9: 0.0, gamma_9: 0.0, beta_10: 3.141592653589793, gamma_10: 0.0, beta_11: 3.141592653589793, gamma_11: 0.0, tau_0: 0.0, tau_1: 0.0, tau_2: 0.0, tau_3: 0.0, tau_4: 0.0, tau_5: 0.0, tau_6: 0.0, tau_7: 0.0, tau_8: 0.0, tau_9: 0.0, tau_10: 0.0, tau_11: 0.0, tau_12: 0.0, tau_13: 0.0}  samples= None\n",
      "E=-6.25961715  angles= {beta_0: 3.141592653589793, gamma_0: 0.0, beta_1: 3.141592653589793, gamma_1: 0.0, beta_2: 3.141592653589793, gamma_2: 0.0, beta_3: 3.141592653589793, gamma_3: 0.0, beta_4: 0.0, gamma_4: 0.0, beta_5: 0.0, gamma_5: 0.0, beta_6: 0.0, gamma_6: 0.0, beta_7: 0.0, gamma_7: 0.0, beta_8: 0.0, gamma_8: 0.0, beta_9: 0.0, gamma_9: 0.0, beta_10: 3.141592653589793, gamma_10: 0.0, beta_11: 3.141592653589793, gamma_11: 0.0, tau_0: 0.0, tau_1: 0.0, tau_2: 0.0, tau_3: 0.0239865779876709, tau_4: 0.0239865779876709, tau_5: 0.021511316299438477, tau_6: 0.012140750885009766, tau_7: 0.00981903076171875, tau_8: 0.00981903076171875, tau_9: -0.0075762271881103516, tau_10: -0.0075762271881103516, tau_11: 0.0075762271881103516, tau_12: 0.0075762271881103516, tau_13: 0.0}  samples= None\n",
      "E=-6.26166127  angles= {beta_0: 3.141592653589793, gamma_0: 0.0, beta_1: 3.1415924404971562, gamma_1: 0.0, beta_2: 3.141592653589793, gamma_2: 0.0, beta_3: 3.141592653589793, gamma_3: 0.0, beta_4: 0.0, gamma_4: 0.0, beta_5: 0.0, gamma_5: 0.0, beta_6: 0.0, gamma_6: 0.0, beta_7: 0.0, gamma_7: 0.0, beta_8: 0.0, gamma_8: 0.0, beta_9: 0.0, gamma_9: 0.0, beta_10: 3.141592653589793, gamma_10: 0.0, beta_11: 3.141592653589793, gamma_11: 0.0, tau_0: 0.0005242078869365078, tau_1: 0.0002382375681280551, tau_2: -0.00023823756812805516, tau_3: 0.07021852378268376, tau_4: 0.07021852378268376, tau_5: 0.01820728102160236, tau_6: 0.03531752322604677, tau_7: 0.007549543995057732, tau_8: 0.007549543995057732, tau_9: -0.016602506955836746, tau_10: -0.016602506955836746, tau_11: 0.01660250695583675, tau_12: 0.016602506955836746, tau_13: 0.0004193663095492061}  samples= None\n",
      "E=-6.26440654  angles= {beta_0: 3.141592653589793, gamma_0: 0.0, beta_1: 3.141592331531005, gamma_1: 0.0, beta_2: 3.141592653589793, gamma_2: 0.0, beta_3: 3.141592653589793, gamma_3: 0.0, beta_4: 0.0, gamma_4: 0.0, beta_5: 0.0, gamma_5: 0.0, beta_6: 0.0, gamma_6: 0.0, beta_7: 0.0, gamma_7: 0.0, beta_8: 0.0, gamma_8: 0.0, beta_9: 0.0, gamma_9: 0.0, beta_10: 3.141592653589793, gamma_10: 0.0, beta_11: 3.141592653589793, gamma_11: 0.0, tau_0: 0.0039823243662404665, tau_1: 0.0020822880926318153, tau_2: -0.0020827600647795653, tau_3: 0.17209529359917697, tau_4: 0.172095293599177, tau_5: 0.010595368358055555, tau_6: 0.08567620169918233, tau_7: 0.007590980148896389, tau_8: 0.007590980148896388, tau_9: -0.017906329459002, tau_10: -0.017906329459002005, tau_11: 0.017906329459002016, tau_12: 0.017906329459002, tau_13: -0.0006152625933399528}  samples= None\n",
      "E=-6.26482973  angles= {beta_0: 3.141592653589793, gamma_0: 0.0, beta_1: 3.1415925782475087, gamma_1: 0.0, beta_2: 3.141592653589793, gamma_2: 0.0, beta_3: 3.141592653589793, gamma_3: 0.0, beta_4: 0.0, gamma_4: 0.0, beta_5: 0.0, gamma_5: 0.0, beta_6: 0.0, gamma_6: 0.0, beta_7: 0.0, gamma_7: 0.0, beta_8: 0.0, gamma_8: 0.0, beta_9: 0.0, gamma_9: 0.0, beta_10: 3.141592653589793, gamma_10: 0.0, beta_11: 3.141592653589793, gamma_11: 0.0, tau_0: 0.009293859125228468, tau_1: 0.006064587930637659, tau_2: -0.00606545065072739, tau_3: 0.2195325412503197, tau_4: 0.21953254125031976, tau_5: 0.012182413643832697, tau_6: 0.10678581049055952, tau_7: -0.0010462749884439567, tau_8: -0.0010462749884439576, tau_9: -0.009196998861036114, tau_10: -0.009196998861036122, tau_11: 0.009196998861036136, tau_12: 0.009196998861036119, tau_13: 0.001739026274498988}  samples= None\n",
      "E=-6.26499351  angles= {beta_0: 3.141592653589793, gamma_0: 0.0, beta_1: 3.141592613197079, gamma_1: 0.0, beta_2: 3.141592653589793, gamma_2: 0.0, beta_3: 3.141592653589793, gamma_3: 0.0, beta_4: 0.0, gamma_4: 0.0, beta_5: 0.0, gamma_5: 0.0, beta_6: 0.0, gamma_6: 0.0, beta_7: 0.0, gamma_7: 0.0, beta_8: 0.0, gamma_8: 0.0, beta_9: 0.0, gamma_9: 0.0, beta_10: 3.141592653589793, gamma_10: 0.0, beta_11: 3.141592653589793, gamma_11: 0.0, tau_0: 0.013346682178039112, tau_1: 0.010103328738349673, tau_2: -0.010104560616729529, tau_3: 0.2140511225476761, tau_4: 0.21405112254767616, tau_5: 0.004969582667527554, tau_6: 0.10130551768639288, tau_7: 0.0053116412143067145, tau_8: 0.0053116412143067145, tau_9: -0.005071733941323244, tau_10: -0.005071733941323255, tau_11: 0.005071546636870019, tau_12: 0.00507154663687, tau_13: -0.0008203618132527585}  samples= None\n",
      "E=-6.26516242  angles= {beta_0: 3.141592653589793, gamma_0: 0.0, beta_1: 3.141592817336153, gamma_1: 0.0, beta_2: 3.141592653589793, gamma_2: 0.0, beta_3: 3.141592653589793, gamma_3: 0.0, beta_4: 0.0, gamma_4: 0.0, beta_5: 0.0, gamma_5: 0.0, beta_6: 0.0, gamma_6: 0.0, beta_7: 0.0, gamma_7: 0.0, beta_8: 0.0, gamma_8: 0.0, beta_9: 0.0, gamma_9: 0.0, beta_10: 3.141592653589793, gamma_10: 0.0, beta_11: 3.141592653589793, gamma_11: 0.0, tau_0: 0.01961057212872754, tau_1: 0.01697433745131441, tau_2: -0.016976345594044123, tau_3: 0.20390944621104706, tau_4: 0.20390944621104712, tau_5: 0.007057177717414788, tau_6: 0.09299882499256802, tau_7: 0.0041752831683927825, tau_8: 0.0041752831683927825, tau_9: -0.004014334741265323, tau_10: -0.004014334741265333, tau_11: 0.004014268094256455, tau_12: 0.004014268094256436, tau_13: -0.0005610294750919467}  samples= None\n",
      "E=-6.26553624  angles= {beta_0: 3.141592653589793, gamma_0: 0.0, beta_1: 3.1415931494644243, gamma_1: 0.0, beta_2: 3.141592653589793, gamma_2: 0.0, beta_3: 3.141592653589793, gamma_3: 0.0, beta_4: 0.0, gamma_4: 0.0, beta_5: 0.0, gamma_5: 0.0, beta_6: 0.0, gamma_6: 0.0, beta_7: 0.0, gamma_7: 0.0, beta_8: 0.0, gamma_8: 0.0, beta_9: 0.0, gamma_9: 0.0, beta_10: 3.141592653589793, gamma_10: 0.0, beta_11: 3.141592653589793, gamma_11: 0.0, tau_0: 0.03317451938821084, tau_1: 0.032095051106322756, tau_2: -0.03209875165374966, tau_3: 0.19055923875003022, tau_4: 0.19055923875003028, tau_5: 0.009992215064700851, tau_6: 0.07991586051344189, tau_7: 0.0027225597474632873, tau_8: 0.0027225597474632873, tau_9: -0.002077057498682778, tau_10: -0.0020770574986827854, tau_11: 0.002077142709334065, tau_12: 0.002077142709334046, tau_13: -0.00016209232757127617}  samples= None\n",
      "E=-6.26780136  angles= {beta_0: 3.141592653589793, gamma_0: 0.0, beta_1: 3.1415944779775087, gamma_1: 0.0, beta_2: 3.141592653589793, gamma_2: 0.0, beta_3: 3.141592653589793, gamma_3: 0.0, beta_4: 0.0, gamma_4: 0.0, beta_5: 0.0, gamma_5: 0.0, beta_6: 0.0, gamma_6: 0.0, beta_7: 0.0, gamma_7: 0.0, beta_8: 0.0, gamma_8: 0.0, beta_9: 0.0, gamma_9: 0.0, beta_10: 3.141592653589793, gamma_10: 0.0, beta_11: 3.141592653589793, gamma_11: 0.0, tau_0: 0.08743030842614405, tau_1: 0.09257790572635613, tau_2: -0.09258837589257182, tau_3: 0.13715840890596281, tau_4: 0.1371584089059629, tau_5: 0.021732364453845104, tau_6: 0.027584002596937385, tau_7: -0.003088333936254693, tau_8: -0.003088333936254693, tau_9: 0.0056720514716474026, tau_10: 0.005672051471647403, tau_11: -0.005671358830355492, tau_12: -0.005671358830355513, tau_13: 0.0014336562625114062}  samples= None\n",
      "E=-6.29226830  angles= {beta_0: 3.141592653589793, gamma_0: 0.0, beta_1: 3.1415997920298455, gamma_1: 0.0, beta_2: 3.141592653589793, gamma_2: 0.0, beta_3: 3.141592653589793, gamma_3: 0.0, beta_4: 0.0, gamma_4: 0.0, beta_5: 0.0, gamma_5: 0.0, beta_6: 0.0, gamma_6: 0.0, beta_7: 0.0, gamma_7: 0.0, beta_8: 0.0, gamma_8: 0.0, beta_9: 0.0, gamma_9: 0.0, beta_10: 3.141592653589793, gamma_10: 0.0, beta_11: 3.141592653589793, gamma_11: 0.0, tau_0: 0.3044534645778769, tau_1: 0.3345093242064897, tau_2: -0.33454687284786044, tau_3: -0.07644491047030677, tau_4: -0.07644491047030666, tau_5: 0.06869296201042212, tau_6: -0.1817434290690807, tau_7: -0.02633190867112662, tau_8: -0.02633190867112662, tau_9: 0.03666848735296813, tau_10: 0.03666848735296816, tau_11: -0.03666536498911373, tau_12: -0.03666536498911375, tau_13: 0.007816650622842137}  samples= None\n",
      "E=-6.24494073  angles= {beta_0: 3.141592653589793, gamma_0: 0.0, beta_1: 3.1416210482391937, gamma_1: 0.0, beta_2: 3.141592653589793, gamma_2: 0.0, beta_3: 3.141592653589793, gamma_3: 0.0, beta_4: 0.0, gamma_4: 0.0, beta_5: 0.0, gamma_5: 0.0, beta_6: 0.0, gamma_6: 0.0, beta_7: 0.0, gamma_7: 0.0, beta_8: 0.0, gamma_8: 0.0, beta_9: 0.0, gamma_9: 0.0, beta_10: 3.141592653589793, gamma_10: 0.0, beta_11: 3.141592653589793, gamma_11: 0.0, tau_0: 1.1725460891848083, tau_1: 1.3022349981270238, tau_2: -1.302380860669015, tau_3: -0.930858187975385, tau_4: -0.9308581879753846, tau_5: 0.2565353522367302, tau_6: -1.0190531557331528, tau_7: -0.1193062076106143, tau_8: -0.1193062076106143, tau_9: 0.160654230878251, tau_10: 0.1606542308782512, tau_11: -0.16064138962414665, tau_12: -0.1606413896241467, tau_13: 0.033348628064165046}  samples= None\n",
      "E=-6.34728643  angles= {beta_0: 3.141592653589793, gamma_0: 0.0, beta_1: 3.141609528988602, gamma_1: 0.0, beta_2: 3.141592653589793, gamma_2: 0.0, beta_3: 3.141592653589793, gamma_3: 0.0, beta_4: 0.0, gamma_4: 0.0, beta_5: 0.0, gamma_5: 0.0, beta_6: 0.0, gamma_6: 0.0, beta_7: 0.0, gamma_7: 0.0, beta_8: 0.0, gamma_8: 0.0, beta_9: 0.0, gamma_9: 0.0, beta_10: 3.141592653589793, gamma_10: 0.0, beta_11: 3.141592653589793, gamma_11: 0.0, tau_0: 0.7021058373236926, tau_1: 0.7778012028534118, tau_2: -0.7778883674900834, tau_3: -0.4678311029970145, tau_4: -0.46783110299701425, tau_5: 0.15473904748379985, tau_6: -0.5652948959207669, tau_7: -0.0689212010227424, tau_8: -0.0689212010227424, tau_9: 0.09346337732430868, tau_10: 0.09346337732430877, tau_11: -0.0934558029703569, tau_12: -0.09345580297035694, tau_13: 0.0195122360046807}  samples= None\n",
      "E=-6.34823074  angles= {beta_0: 3.141592653589793, gamma_0: 0.0, beta_1: 3.1416105455405403, gamma_1: 0.0, beta_2: 3.141592653589793, gamma_2: 0.0, beta_3: 3.141592653589793, gamma_3: 0.0, beta_4: 0.0, gamma_4: 0.0, beta_5: 0.0, gamma_5: 0.0, beta_6: 0.0, gamma_6: 0.0, beta_7: 0.0, gamma_7: 0.0, beta_8: 0.0, gamma_8: 0.0, beta_9: 0.0, gamma_9: 0.0, beta_10: 3.141592653589793, gamma_10: 0.0, beta_11: 3.141592653589793, gamma_11: 0.0, tau_0: 0.7436212940776449, tau_1: 0.8240814870379809, tau_2: -0.8241738316530668, tau_3: -0.5086923618843666, tau_4: -0.5086923618843663, tau_5: 0.1637223776111931, tau_6: -0.6053381986302279, tau_7: -0.07336758194735753, tau_8: -0.07336758194735753, tau_9: 0.09939284225411521, tau_10: 0.09939284225411531, tau_11: -0.09938480310625039, tau_12: -0.09938480310625042, tau_13: 0.020733271266658738}  samples= None\n",
      "E=-3.19683454  angles= {beta_0: 3.141592521635726, gamma_0: 0.0, beta_1: 3.141775860302124, gamma_1: 0.0, beta_2: 3.141592653589793, gamma_2: 0.0, beta_3: 3.141592521635726, gamma_3: 0.0, beta_4: 0.0, gamma_4: 0.0, beta_5: 1.319540671530543e-07, gamma_5: 0.0, beta_6: 0.0, gamma_6: 0.0, beta_7: 0.0, gamma_7: 0.0, beta_8: 0.0, gamma_8: 0.0, beta_9: 0.0, gamma_9: 0.0, beta_10: 3.141592653589793, gamma_10: 0.0, beta_11: 3.141592653589793, gamma_11: 0.0, tau_0: 7.487368034983026, tau_1: 8.326885194611663, tau_2: -8.32781214095811, tau_3: -6.887301894855981, tau_4: -6.8873018948560185, tau_5: 1.5934188232300168, tau_6: -7.013826650205058, tau_7: -0.7851281674400361, tau_8: -0.7851281674400377, tau_9: 1.0549653776665244, tau_10: 1.054965377666522, tau_11: -1.0548754266035236, tau_12: -1.0548754266035274, tau_13: 0.2193783183663026}  samples= None\n",
      "E=-6.34660657  angles= {beta_0: 3.1415926515196744, gamma_0: 0.0, beta_1: 3.1416131390280055, gamma_1: 0.0, beta_2: 3.141592653589793, gamma_2: 0.0, beta_3: 3.1415926515196744, gamma_3: 0.0, beta_4: 0.0, gamma_4: 0.0, beta_5: 2.0701189408623673e-09, gamma_5: 0.0, beta_6: 0.0, gamma_6: 0.0, beta_7: 0.0, gamma_7: 0.0, beta_8: 0.0, gamma_8: 0.0, beta_9: 0.0, gamma_9: 0.0, beta_10: 3.141592653589793, gamma_10: 0.0, beta_11: 3.141592653589793, gamma_11: 0.0, tau_0: 0.8494183957655708, tau_1: 0.9417868098046174, tau_2: -0.9418922478005246, tau_3: -0.6087611259282505, tau_4: -0.6087611259282507, tau_5: 0.18615171045112916, tau_6: -0.7058757084783714, tau_7: -0.08453380896238877, tau_8: -0.0845338089623888, tau_9: 0.11438403462585649, tau_10: 0.11438403462585654, tau_11: -0.11437471042925718, tau_12: -0.11437471042925726, tau_13: 0.023849650195945506}  samples= None\n",
      "E=-6.34865455  angles= {beta_0: 3.1415926529382814, gamma_0: 0.0, beta_1: 3.141611361767675, gamma_1: 0.0, beta_2: 3.141592653589793, gamma_2: 0.0, beta_3: 3.1415926529382814, gamma_3: 0.0, beta_4: 0.0, gamma_4: 0.0, beta_5: 6.515116322352882e-10, gamma_5: 0.0, beta_6: 0.0, gamma_6: 0.0, beta_7: 0.0, gamma_7: 0.0, beta_8: 0.0, gamma_8: 0.0, beta_9: 0.0, gamma_9: 0.0, beta_10: 3.141592653589793, gamma_10: 0.0, beta_11: 3.141592653589793, gamma_11: 0.0, tau_0: 0.776917952084044, tau_1: 0.8611259222367269, tau_2: -0.8612223876246544, tau_3: -0.5401861869545529, tau_4: -0.5401861869545528, tau_5: 0.17078137840580823, tau_6: -0.6369795482401923, tau_7: -0.0768818374062454, tau_8: -0.07688183740624542, tau_9: 0.10411089782979999, tau_10: 0.10411089782980007, tau_11: -0.10410245424903908, tau_12: -0.10410245424903912, tau_13: 0.021714063762590146}  samples= None\n",
      "E=-6.34951094  angles= {beta_0: 3.141592666359023, gamma_0: 0.0, beta_1: 3.1416114463005855, gamma_1: 0.0, beta_2: 3.141592653589793, gamma_2: 0.0, beta_3: 3.1415926397465186, gamma_3: 0.0, beta_4: 0.0, gamma_4: 0.0, beta_5: 5.370221752758545e-10, gamma_5: 0.0, beta_6: 0.0, gamma_6: 0.0, beta_7: 0.0, gamma_7: 0.0, beta_8: 0.0, gamma_8: 0.0, beta_9: 0.0, gamma_9: 0.0, beta_10: 3.141592653589793, gamma_10: 0.0, beta_11: 3.141592653589793, gamma_11: 0.0, tau_0: 0.780084318599598, tau_1: 0.8640462630285947, tau_2: -0.8641429185900544, tau_3: -0.5407312526591511, tau_4: -0.5407312526591539, tau_5: 0.17151498307241272, tau_6: -0.6392919759686828, tau_7: -0.07725817137258925, tau_8: -0.07725817137258947, tau_9: 0.10446330668126297, tau_10: 0.10446330668126322, tau_11: -0.10445461151728365, tau_12: -0.10445461151728468, tau_13: 0.021811011788884702}  samples= None\n",
      "E=-6.35294210  angles= {beta_0: 3.141592720041989, gamma_0: 0.0, beta_1: 3.141611784432227, gamma_1: 0.0, beta_2: 3.141592653589793, gamma_2: 0.0, beta_3: 3.1415925869794674, gamma_3: 0.0, beta_4: 0.0, gamma_4: 0.0, beta_5: 7.906434743811987e-11, gamma_5: 0.0, beta_6: 0.0, gamma_6: 0.0, beta_7: 0.0, gamma_7: 0.0, beta_8: 0.0, gamma_8: 0.0, beta_9: 0.0, gamma_9: 0.0, beta_10: 3.141592653589793, gamma_10: 0.0, beta_11: 3.141592653589793, gamma_11: 0.0, tau_0: 0.7927497846618139, tau_1: 0.8757276261960657, tau_2: -0.8758250424516545, tau_3: -0.542911515477544, tau_4: -0.5429115154775584, tau_5: 0.1744494017388307, tau_6: -0.648541686882645, tau_7: -0.07876350723796463, tau_8: -0.07876350723796566, tau_9: 0.1058729420871149, tau_10: 0.10587294208711578, tau_11: -0.1058632405902619, tau_12: -0.10586324059026687, tau_13: 0.022198803894062927}  samples= None\n",
      "E=-6.36668985  angles= {beta_0: 3.1415929347738527, gamma_0: 0.0, beta_1: 3.141613136958792, gamma_1: 0.0, beta_2: 3.141592653589793, gamma_2: 0.0, beta_3: 3.1415923759112627, gamma_3: 0.0, beta_4: 0.0, gamma_4: 0.0, beta_5: -1.7527669639128187e-09, gamma_5: 0.0, beta_6: 0.0, gamma_6: 0.0, beta_7: 0.0, gamma_7: 0.0, beta_8: 0.0, gamma_8: 0.0, beta_9: 0.0, gamma_9: 0.0, beta_10: 3.141592653589793, gamma_10: 0.0, beta_11: 3.141592653589793, gamma_11: 0.0, tau_0: 0.8434116489106775, tau_1: 0.92245307886595, tau_2: -0.9225535378980548, tau_3: -0.5516325667511154, tau_4: -0.5516325667511767, tau_5: 0.1861870764045026, tau_6: -0.6855405305384935, tau_7: -0.08478485069946613, tau_8: -0.08478485069947041, tau_9: 0.11151148371052258, tau_10: 0.11151148371052609, tau_11: -0.11149775688217493, tau_12: -0.11149775688219568, tau_13: 0.02374997231477582}  samples= None\n",
      "E=-6.41711264  angles= {beta_0: 3.141593793701309, gamma_0: 0.0, beta_1: 3.1416185470650526, gamma_1: 0.0, beta_2: 3.141592653589793, gamma_2: 0.0, beta_3: 3.141591531638444, gamma_3: 0.0, beta_4: 0.0, gamma_4: 0.0, beta_5: -9.080092209316574e-09, gamma_5: 0.0, beta_6: 0.0, gamma_6: 0.0, beta_7: 0.0, gamma_7: 0.0, beta_8: 0.0, gamma_8: 0.0, beta_9: 0.0, gamma_9: 0.0, beta_10: 3.141592653589793, gamma_10: 0.0, beta_11: 3.141592653589793, gamma_11: 0.0, tau_0: 1.0460591059061322, tau_1: 1.109354889545487, tau_2: -1.1094675196836563, tau_3: -0.5865167718454012, tau_4: -0.5865167718456495, tau_5: 0.2331377750671902, tau_6: -0.8335359051618875, tau_7: -0.10887022454547217, tau_8: -0.10887022454548945, tau_9: 0.13406565020415334, tau_10: 0.13406565020416727, tau_11: -0.13403582204982706, tau_12: -0.13403582204991088, tau_13: 0.029954645997627403}  samples= None\n",
      "E=-6.48648135  angles= {beta_0: 3.141595010719942, gamma_0: 0.0, beta_1: 3.1416283505056666, gamma_1: 0.0, beta_2: 3.141592653589793, gamma_2: 0.0, beta_3: 3.1415895898859105, gamma_3: 0.0, beta_4: 0.0, gamma_4: 0.0, beta_5: -7.199870393822782e-09, gamma_5: 0.0, beta_6: 0.0, gamma_6: 0.0, beta_7: 0.0, gamma_7: 0.0, beta_8: 0.0, gamma_8: 0.0, beta_9: 0.0, gamma_9: 0.0, beta_10: 3.141592653589793, gamma_10: 0.0, beta_11: 3.1415928338331485, gamma_11: 0.0, tau_0: 1.4748325111211762, tau_1: 1.4940647297737397, tau_2: -1.4941828056174646, tau_3: -0.6507590099097262, tau_4: -0.6507590099104755, tau_5: 0.28776857102082937, tau_6: -1.1926426404672985, tau_7: -0.1371893166007371, tau_8: -0.13718931660079012, tau_9: 0.1607071996168823, tau_10: 0.16070719961692528, tau_11: -0.16066679549182056, tau_12: -0.1606667954920779, tau_13: 0.043625988031726064}  samples= None\n",
      "E=-6.60451446  angles= {beta_0: 3.1415941296262604, gamma_0: 0.0, beta_1: 3.141626900187287, gamma_1: 0.0, beta_2: 3.141592653589793, gamma_2: 0.0, beta_3: 3.1415890061984175, gamma_3: 0.0, beta_4: 0.0, gamma_4: 0.0, beta_5: 1.1294798894676656e-07, gamma_5: 0.0, beta_6: 0.0, gamma_6: 0.0, beta_7: 0.0, gamma_7: 0.0, beta_8: 0.0, gamma_8: 0.0, beta_9: 0.0, gamma_9: 0.0, beta_10: 3.141592653589793, gamma_10: 0.0, beta_11: 3.1415926887569863, gamma_11: 0.0, tau_0: 1.4481852122595928, tau_1: 1.4815506606268998, tau_2: -1.481658270880282, tau_3: -0.46174926342455447, tau_4: -0.46174926342564576, tau_5: 0.26230337550994887, tau_6: -1.147287040474434, tau_7: -0.12661168358823485, tau_8: -0.12661168358831387, tau_9: 0.13137925596527816, tau_10: 0.13137925596534317, tau_11: -0.13140031469257782, tau_12: -0.13140031469296254, tau_13: 0.03162882322349632}  samples= None\n",
      "E=-6.78913045  angles= {beta_0: 3.1415939420667383, gamma_0: 0.0, beta_1: 3.1416165438195534, gamma_1: 0.0, beta_2: 3.141592653589793, gamma_2: 0.0, beta_3: 3.141586789987145, gamma_3: 0.0, beta_4: 0.0, gamma_4: 0.0, beta_5: 4.7628836048134306e-07, gamma_5: 0.0, beta_6: 0.0, gamma_6: 0.0, beta_7: 0.0, gamma_7: 0.0, beta_8: 0.0, gamma_8: 0.0, beta_9: 0.0, gamma_9: 0.0, beta_10: 3.141592653589793, gamma_10: 0.0, beta_11: 3.1415926338044455, gamma_11: 0.0, tau_0: 1.4747325169003305, tau_1: 1.5838138694977872, tau_2: -1.5839342212046144, tau_3: -0.23074692598146523, tau_4: -0.2307469259834007, tau_5: 0.14161232170868293, tau_6: -1.1742736064823187, tau_7: -0.07350754709344409, tau_8: -0.07350754709358419, tau_9: 0.07475209029933252, tau_10: 0.07475209029945173, tau_11: -0.0747290897085956, tau_12: -0.07472908970928398, tau_13: 0.024075912973418167}  samples= None\n",
      "E=-6.89485551  angles= {beta_0: 3.1415932783141174, gamma_0: 0.0, beta_1: 3.1415907598488553, gamma_1: 0.0, beta_2: 3.141592653589793, gamma_2: 0.0, beta_3: 3.1415828746495764, gamma_3: 0.0, beta_4: -5.383312925660171e-07, gamma_4: 0.0, beta_5: 6.47215583785525e-07, gamma_5: 0.0, beta_6: 0.0, gamma_6: 0.0, beta_7: 0.0, gamma_7: 0.0, beta_8: 0.0, gamma_8: 0.0, beta_9: 0.0, gamma_9: 0.0, beta_10: 3.141592653589793, gamma_10: 0.0, beta_11: 3.141592831333977, gamma_11: 0.0, tau_0: 1.3498947062619329, tau_1: 1.6985853088716503, tau_2: -1.6987690497650674, tau_3: 0.05398801800030861, tau_4: 0.05398801799730871, tau_5: -0.021595352243717975, tau_6: -1.1084987764318348, tau_7: 0.010200635063286695, tau_8: 0.010200635063071825, tau_9: -0.017045573529822555, tau_10: -0.017045573529634095, tau_11: 0.017133399174233635, tau_12: 0.017133399173163075, tau_13: -0.017817649977317784}  samples= None\n",
      "E=-6.91923459  angles= {beta_0: 3.1415925451448277, gamma_0: 0.0, beta_1: 3.141587528043895, gamma_1: 0.0, beta_2: 3.141592653589793, gamma_2: 0.0, beta_3: 3.141579838010533, gamma_3: 0.0, beta_4: -6.230981412733209e-07, gamma_4: 0.0, beta_5: 6.822318558327236e-07, gamma_5: 0.0, beta_6: 0.0, gamma_6: 0.0, beta_7: 0.0, gamma_7: 0.0, beta_8: 0.0, gamma_8: 0.0, beta_9: 0.0, gamma_9: 0.0, beta_10: 3.141592653589793, gamma_10: 0.0, beta_11: 3.1415934644016565, gamma_11: 0.0, tau_0: 1.227774566211922, tau_1: 1.7843362714947566, tau_2: -1.7845481621300674, tau_3: 0.1517111034761097, tau_4: 0.15171110347280967, tau_5: -0.03862286502804601, tau_6: -1.0677164600692646, tau_7: 0.02750075438838236, tau_8: 0.027500754388148436, tau_9: -0.029545763631230654, tau_10: -0.02954576363102278, tau_11: 0.029519559211061315, tau_12: 0.029519559209880038, tau_13: 0.026736964481757424}  samples= None\n",
      "E=-6.96476665  angles= {beta_0: 3.1415916097233327, gamma_0: 0.0, beta_1: 3.1415836114219635, gamma_1: 0.0, beta_2: 3.141592653589793, gamma_2: 0.0, beta_3: 3.1415740091203026, gamma_3: 0.0, beta_4: -7.485459957011861e-07, gamma_4: 0.0, beta_5: 5.92817547962807e-07, gamma_5: 0.0, beta_6: 0.0, gamma_6: 0.0, beta_7: 0.0, gamma_7: 0.0, beta_8: 0.0, gamma_8: 0.0, beta_9: 0.0, gamma_9: 0.0, beta_10: 3.141592653589793, gamma_10: 0.0, beta_11: 3.14159456225855, gamma_11: 0.0, tau_0: 0.9768432569652784, tau_1: 1.9424313125820556, tau_2: -1.9426882366297515, tau_3: 0.2960804683878794, tau_4: 0.2960804683841224, tau_5: -0.05814014822111861, tau_6: -0.9816334176945795, tau_7: 0.04627048842439682, tau_8: 0.046270488424135385, tau_9: -0.04544336071178809, tau_10: -0.04544336071155046, tau_11: 0.045270549006396474, tau_12: 0.045270549005046165, tau_13: 0.04569280153063645}  samples= None\n",
      "E=-7.03097575  angles= {beta_0: 3.141590008822204, gamma_0: 0.0, beta_1: 3.1415794492718025, gamma_1: 0.0, beta_2: 3.141592653589793, gamma_2: 0.0, beta_3: 3.1415629835883103, gamma_3: 0.0, beta_4: -9.379975372346254e-07, gamma_4: 0.0, beta_5: 6.970163187254815e-07, gamma_5: 0.0, beta_6: 0.0, gamma_6: 0.0, beta_7: 0.0, gamma_7: 0.0, beta_8: 0.0, gamma_8: 0.0, beta_9: 0.0, gamma_9: 0.0, beta_10: 3.141592653589793, gamma_10: 0.0, beta_11: 3.141596522910111, gamma_11: 0.0, tau_0: 0.5018613114881356, tau_1: 2.237020676917985, tau_2: -2.237340672186087, tau_3: 0.4823849901023062, tau_4: 0.4823849900978662, tau_5: -0.07986077558344803, tau_6: -0.8341110547283432, tau_7: 0.07365717313869453, tau_8: 0.07365717313839465, tau_9: -0.06767624116618261, tau_10: -0.06767624116590035, tau_11: 0.06726304488165073, tau_12: 0.06726304488004717, tau_13: 0.09209619318030893}  samples= None\n",
      "E=-7.09665423  angles= {beta_0: 3.1415888424689826, gamma_0: 0.0, beta_1: 3.1415812578099795, gamma_1: 0.0, beta_2: 3.141592653589793, gamma_2: 0.0, beta_3: 3.1415462717159106, gamma_3: 0.0, beta_4: -1.115881565745607e-06, gamma_4: 0.0, beta_5: 1.6259653961051863e-06, gamma_5: 0.0, beta_6: 0.0, gamma_6: 0.0, beta_7: 0.0, gamma_7: 0.0, beta_8: 0.0, gamma_8: 0.0, beta_9: 0.0, gamma_9: 0.0, beta_10: 3.141592653589793, gamma_10: 0.0, beta_11: 3.141597636379465, gamma_11: 0.0, tau_0: 0.06429781721056144, tau_1: 2.740651389643788, tau_2: -2.7409956880175845, tau_3: 0.5828400847899172, tau_4: 0.582840084784688, tau_5: -0.05443329725523334, tau_6: -0.8110351222574371, tau_7: 0.07964520894825106, tau_8: 0.07964520894790827, tau_9: -0.07939673256839791, tau_10: -0.0793967325680651, tau_11: 0.07864953209376967, tau_12: 0.07864953209187545, tau_13: 0.09709797101879034}  samples= None\n",
      "E=-7.18947057  angles= {beta_0: 3.14158999087845, gamma_0: 0.0, beta_1: 3.141589331882975, gamma_1: 0.0, beta_2: 3.141592653589793, gamma_2: 0.0, beta_3: 3.1415400720757645, gamma_3: 0.0, beta_4: -1.0407239923278338e-06, gamma_4: 0.0, beta_5: 2.305205389706623e-06, gamma_5: 0.0, beta_6: 0.0, gamma_6: 0.0, beta_7: 0.0, gamma_7: 0.0, beta_8: 0.0, gamma_8: 0.0, beta_9: 0.0, gamma_9: 0.0, beta_10: 3.141592653589793, gamma_10: 0.0, beta_11: 3.1415955557089155, gamma_11: 0.0, tau_0: 0.18651391232280584, tau_1: 2.871161455543597, tau_2: -2.871461757144503, tau_3: 0.4423900796184344, tau_4: 0.44239007961330734, tau_5: -0.008282639362208397, tau_6: -0.8762382182199012, tau_7: 0.03903489587374254, tau_8: 0.039034895873409234, tau_9: -0.04091217694647375, tau_10: -0.04091217694614856, tau_11: 0.04029986715925342, tau_12: 0.04029986715740533, tau_13: 0.055850156265293015}  samples= None\n",
      "E=-7.31862281  angles= {beta_0: 3.1415936595637337, gamma_0: 0.0, beta_1: 3.1415956434849264, gamma_1: 0.0, beta_2: 3.141592653589793, gamma_2: 0.0, beta_3: 3.1415212298762176, gamma_3: 0.0, beta_4: -1.3060172657552475e-06, gamma_4: 0.0, beta_5: 4.805137019732661e-06, gamma_5: 0.0, beta_6: 0.0, gamma_6: 0.0, beta_7: 0.0, gamma_7: 0.0, beta_8: 0.0, gamma_8: 0.0, beta_9: 0.0, gamma_9: 0.0, beta_10: 3.141592653589793, gamma_10: 0.0, beta_11: 3.1415898224065777, gamma_11: 0.0, tau_0: 0.0798000532886253, tau_1: 2.963864752228984, tau_2: -2.9640732219316606, tau_3: 0.1533513515280065, tau_4: 0.15335135152320928, tau_5: 0.008876395034452578, tau_6: -0.5716073239055511, tau_7: -0.010975030689472878, tau_8: -0.010975030689773173, tau_9: 0.017007533672215303, tau_10: 0.017007533672519552, tau_11: -0.016916577322835837, tau_12: -0.016916577324530585, tau_13: 0.01916536775655079}  samples= None\n",
      "E=-7.35603577  angles= {beta_0: 3.1415941238820344, gamma_0: 0.0, beta_1: 3.1415951799564037, gamma_1: 0.0, beta_2: 3.141592653589793, gamma_2: 0.0, beta_3: 3.14150363380257, gamma_3: 0.0, beta_4: -1.691681751681016e-06, gamma_4: 0.0, beta_5: 8.504117771442055e-06, gamma_5: 0.0, beta_6: 0.0, gamma_6: 0.0, beta_7: 0.0, gamma_7: 0.0, beta_8: 0.0, gamma_8: 0.0, beta_9: 0.0, gamma_9: 0.0, beta_10: 3.141592653589793, gamma_10: 0.0, beta_11: 3.141587078996439, gamma_11: 0.0, tau_0: 0.12249628444474013, tau_1: 2.914328345392089, tau_2: -2.914449831648846, tau_3: -0.07860592500625924, tau_4: -0.07860592501081845, tau_5: 0.02085302746647373, tau_6: -0.2235792757310931, tau_7: -0.01653495505524087, tau_8: -0.016534955055519922, tau_9: 0.011705341228491732, tau_10: 0.011705341228781422, tau_11: -0.01154722919000527, tau_12: -0.0115472291915751, tau_13: -0.028227894104373798}  samples= None\n",
      "E=-7.36701883  angles= {beta_0: 3.1415931918933246, gamma_0: 0.0, beta_1: 3.1415947205991652, gamma_1: 0.0, beta_2: 3.141592653589793, gamma_2: 0.0, beta_3: 3.1414963963251497, gamma_3: 0.0, beta_4: -1.9326139497570438e-06, gamma_4: 0.0, beta_5: 1.133085172988484e-05, gamma_5: 0.0, beta_6: 0.0, gamma_6: 0.0, beta_7: 0.0, gamma_7: 0.0, beta_8: 0.0, gamma_8: 0.0, beta_9: 0.0, gamma_9: 0.0, beta_10: 3.141592653589793, gamma_10: 0.0, beta_11: 3.141588385701912, gamma_11: 0.0, tau_0: 0.11466676386077998, tau_1: 2.9767804193669023, tau_2: -2.976884858136423, tau_3: -0.031180962115030707, tau_4: -0.03118096211981826, tau_5: 0.011002918550197275, tau_6: -0.1859606756430574, tau_7: -0.007975514441421805, tau_8: -0.007975514441715993, tau_9: 0.0013174868036627523, tau_10: 0.0013174868039670332, tau_11: -0.001233350488394118, tau_12: -0.001233350490042322, tau_13: -0.014202305711852919}  samples= None\n",
      "E=-7.38001933  angles= {beta_0: 3.1415923834285904, gamma_0: 0.0, beta_1: 3.14159229998294, gamma_1: 0.0, beta_2: 3.141592653589793, gamma_2: 0.0, beta_3: 3.141471535828449, gamma_3: 0.0, beta_4: -2.766766947366481e-06, gamma_4: 0.0, beta_5: 2.1302805622410542e-05, gamma_5: 0.0, beta_6: 0.0, gamma_6: 0.0, beta_7: 0.0, gamma_7: 0.0, beta_8: 0.0, gamma_8: 0.0, beta_9: 0.0, gamma_9: 0.0, beta_10: 3.141592653589793, gamma_10: 0.0, beta_11: 3.1415900338264655, gamma_11: 0.0, tau_0: 0.18077612231068796, tau_1: 3.078905535847416, tau_2: -3.078943901716206, tau_3: 0.04330728238038644, tau_4: 0.043307282375152495, tau_5: -0.005285587021869114, tau_6: -0.038182383630060435, tau_7: 0.0071698693350155315, tau_8: 0.007169869334691478, tau_9: -0.011195050875064828, tau_10: -0.011195050874732108, tau_11: 0.011185661776547506, tau_12: 0.01118566177475658, tau_13: 0.001323318257295458}  samples= None\n",
      "E=-7.38091748  angles= {beta_0: 3.141592360909547, gamma_0: 0.0, beta_1: 3.1415911988135257, gamma_1: 0.0, beta_2: 3.141592653589793, gamma_2: 0.0, beta_3: 3.1414576262803453, gamma_3: 0.0, beta_4: -3.781858664193737e-06, gamma_4: 0.0, beta_5: 2.8808816122170318e-05, gamma_5: 0.0, beta_6: 0.0, gamma_6: 0.0, beta_7: 0.0, gamma_7: 0.0, beta_8: 0.0, gamma_8: 0.0, beta_9: 0.0, gamma_9: 0.0, beta_10: 3.1415923686372285, gamma_10: 0.0, beta_11: 3.1415894646357, gamma_11: 0.0, tau_0: 0.20438097671774377, tau_1: 3.1126266655004966, tau_2: -3.112640467209853, tau_3: 0.04972711455290787, tau_4: 0.04972711454758278, tau_5: -0.0019698198179868447, tau_6: 0.010765124080962314, tau_7: 0.006242272780980069, tau_8: 0.006242272780650357, tau_9: -0.0077371185009453185, tau_10: -0.00773711850060688, tau_11: 0.007725225549234108, tau_12: 0.007725225547416693, tau_13: 0.0035209406518537964}  samples= None\n",
      "E=-7.38096857  angles= {beta_0: 3.141592841771829, gamma_0: 0.0, beta_1: 3.141590598150729, gamma_1: 0.0, beta_2: 3.141592653589793, gamma_2: 0.0, beta_3: 3.1414481801175507, gamma_3: 0.0, beta_4: -4.914984310835011e-06, gamma_4: 0.0, beta_5: 3.593534339255198e-05, gamma_5: 0.0, beta_6: 0.0, gamma_6: 0.0, beta_7: 0.0, gamma_7: 0.0, beta_8: 0.0, gamma_8: 0.0, beta_9: 0.0, gamma_9: 0.0, beta_10: 3.1415926320516423, gamma_10: 0.0, beta_11: 3.141588651822951, gamma_11: 0.0, tau_0: 0.2110633744676571, tau_1: 3.11697212550175, tau_2: -3.1169816823302376, tau_3: 0.04847546633017324, tau_4: 0.048475466324844674, tau_5: -0.0002637694116558618, tau_6: 0.013751009361679289, tau_7: 0.004345221825296836, tau_8: 0.0043452218249669375, tau_9: -0.0060684482037487684, tau_10: -0.006068448203410153, tau_11: 0.006064775259846923, tau_12: 0.006064775258028991, tau_13: 0.0015437321250453334}  samples= None\n",
      "E=-7.38097015  angles= {beta_0: 3.1415925992633875, gamma_0: 0.0, beta_1: 3.141590593901178, gamma_1: 0.0, beta_2: 3.141592653589793, gamma_2: 0.0, beta_3: 3.141439021641118, gamma_3: 0.0, beta_4: -5.999646452863368e-06, gamma_4: 0.0, beta_5: 4.426664971925363e-05, gamma_5: 0.0, beta_6: 0.0, gamma_6: 0.0, beta_7: 0.0, gamma_7: 0.0, beta_8: 0.0, gamma_8: 0.0, beta_9: 0.0, gamma_9: 0.0, beta_10: 3.14159238026929, gamma_10: 0.0, beta_11: 3.1415880923053177, gamma_11: 0.0, tau_0: 0.21176423797880567, tau_1: 3.1167685510720733, tau_2: -3.1167769735165707, tau_3: 0.047030689284575884, tau_4: 0.04703068927925144, tau_5: 0.00012696883093837158, tau_6: 0.012968573277607878, tau_7: 0.003934997409667337, tau_8: 0.0039349974093377295, tau_9: -0.005693613287394585, tau_10: -0.005693613287056242, tau_11: 0.005693573851028765, tau_12: 0.005693573849212313, tau_13: 0.0021831004101501594}  samples= None\n",
      "E=-7.38097039  angles= {beta_0: 3.1415925780390475, gamma_0: 0.0, beta_1: 3.14159040823186, gamma_1: 0.0, beta_2: 3.141592653589793, gamma_2: 0.0, beta_3: 3.1414318008097593, gamma_3: 0.0, beta_4: -6.993984263184384e-06, gamma_4: 0.0, beta_5: 5.184585606687589e-05, gamma_5: 0.0, beta_6: 0.0, gamma_6: 0.0, beta_7: 0.0, gamma_7: 0.0, beta_8: 0.0, gamma_8: 0.0, beta_9: 0.0, gamma_9: 0.0, beta_10: 3.141592550503131, gamma_10: 0.0, beta_11: 3.1415875030290863, gamma_11: 0.0, tau_0: 0.21169821372979797, tau_1: 3.1169773050266207, tau_2: -3.1169850571958606, tau_3: 0.04722168365654709, tau_4: 0.04722168365122192, tau_5: 6.664058117478332e-05, tau_6: 0.012611936059171956, tau_7: 0.003962520061565433, tau_8: 0.003962520061235772, tau_9: -0.0057651297199101705, tau_10: -0.0057651297195717805, tau_11: 0.005763728561133932, tau_12: 0.005763728559317191, tau_13: 0.0018304334197455155}  samples= None\n",
      "Optimization terminated successfully.\n",
      "         Current function value: -7.380970\n",
      "         Iterations: 26\n",
      "         Function evaluations: 37\n",
      "         Gradient evaluations: 37\n",
      "\n",
      "Obtained QCC energy (14 entanglers): -7.380970390353081\n"
     ]
    }
   ],
   "source": [
    "n_ents = 14\n",
    "entanglers = get_QCC_entanglers(ranked_entangler_groupings, n_ents, 2*lih.n_orbitals)\n",
    "\n",
    "print('\\nSelected entanglers:')\n",
    "for ent in entanglers:\n",
    "    print(ent)\n",
    "\n",
    "\n",
    "U_MF = construct_QMF_ansatz(n_qubits = 2*lih.n_orbitals)\n",
    "#Entangling part of U:\n",
    "U_ENT = construct_QCC_ansatz(entanglers)\n",
    "\n",
    "U_QCC = U_MF + U_ENT\n",
    "\n",
    "E = tq.ExpectationValue(H=H, U=U_QCC)\n",
    "\n",
    "initial_vals = init_qcc_params(hf_reference, E.extract_variables())\n",
    "\n",
    "#Minimize wrt the entangler amplitude and MF angles:\n",
    "result = tq.minimize(objective=E, method=\"BFGS\", initial_values=initial_vals, tol=1.e-4, backend='qulacs')\n",
    "\n",
    "\n",
    "print('\\nObtained QCC energy ({} entanglers): {}'.format(len(entanglers), result.energy))"
   ],
   "metadata": {
    "collapsed": false,
    "pycharm": {
     "name": "#%%\n"
    }
   }
  },
  {
   "cell_type": "markdown",
   "source": [
    "#### We instead working on 6-31G basis and select orbitals to be used in the calculation"
   ],
   "metadata": {
    "collapsed": false,
    "pycharm": {
     "name": "#%% md\n"
    }
   }
  },
  {
   "cell_type": "code",
   "execution_count": 5,
   "outputs": [
    {
     "name": "stdout",
     "output_type": "stream",
     "text": [
      "There are known issues with some psi4 methods and frozen virtual orbitals. Proceed with fingers crossed for hf.\n",
      "There are known issues with some psi4 methods and frozen virtual orbitals. Proceed with fingers crossed for fci.\n",
      "FCI energy: -7.977129915419726\n"
     ]
    }
   ],
   "source": [
    "xyz_data = get_molecular_data('lih', geometry=1.5, xyz_format=True)\n",
    "basis='6-31g'\n",
    "active = {'A1': [0, 1], 'B1': [0], 'B2': [0]}\n",
    "lih = tq.quantumchemistry.Molecule(geometry=xyz_data, basis_set=basis, active_orbitals=active)\n",
    "\n",
    "E_FCI = lih.compute_energy(method='fci', backend='qulacs')\n",
    "\n",
    "print('FCI energy: {}'.format(E_FCI))\n"
   ],
   "metadata": {
    "collapsed": false,
    "pycharm": {
     "name": "#%%\n"
    }
   }
  },
  {
   "cell_type": "markdown",
   "source": [
    "- UCCSD\n",
    " - Calculation cost is cheaper than in STO-3 full orbital case"
   ],
   "metadata": {
    "collapsed": false
   }
  },
  {
   "cell_type": "code",
   "execution_count": 6,
   "outputs": [
    {
     "name": "stdout",
     "output_type": "stream",
     "text": [
      "\n",
      "Hamiltonian has 105 terms\n",
      "\n",
      "\n",
      "Number of UCCSD amplitudes: 8 \n",
      "\n",
      "\n",
      "Starting optimization:\n",
      "\n",
      "Optimizer: <class 'tequila.optimizers.optimizer_scipy.OptimizerSciPy'> \n",
      "backend         : qulacs\n",
      "samples         : None\n",
      "save_history    : True\n",
      "noise           : None\n",
      "\n",
      "Method          : BFGS\n",
      "Objective       : 1 expectationvalues\n",
      "gradient        : 256 expectationvalues\n",
      "\n",
      "active variables : 8\n",
      "\n",
      "E=-7.97685913  angles= {(3, 0, 3, 0): 0.0, (2, 1, 2, 1): 0.0, (3, 1, 3, 1): 0.0, (2, 0, 2, 1): 0.0, (3, 0, 3, 1): 0.0, (2, 1, 2, 0): 0.0, (3, 1, 3, 0): 0.0, (2, 0, 2, 0): 0.0}  samples= None\n",
      "E=-7.97706708  angles= {(3, 0, 3, 0): -0.0006241798400878906, (2, 1, 2, 1): -0.01934528350830078, (3, 1, 3, 1): -0.01934528350830078, (2, 0, 2, 1): 0.0015673637390136719, (3, 0, 3, 1): 0.0015673637390136719, (2, 1, 2, 0): 0.0015673637390136719, (3, 1, 3, 0): 0.0015673637390136719, (2, 0, 2, 0): -0.0006241798400878906}  samples= None\n",
      "E=-7.97682716  angles= {(3, 0, 3, 0): 0.0039079496940328425, (2, 1, 2, 1): -0.017093156109609754, (3, 1, 3, 1): -0.017095783053012403, (2, 0, 2, 1): -0.002993264434366403, (3, 0, 3, 1): -0.0029932644343664038, (2, 1, 2, 0): -0.0029932644343664046, (3, 1, 3, 0): -0.0029932644343664046, (2, 0, 2, 0): 0.003907949694032841}  samples= None\n",
      "E=-7.97709374  angles= {(3, 0, 3, 0): 0.00046461091884807994, (2, 1, 2, 1): -0.0188042364174839, (3, 1, 3, 1): -0.018804867509706554, (2, 0, 2, 1): 0.00047172651754078237, (3, 0, 3, 1): 0.00047172651754078215, (2, 1, 2, 0): 0.00047172651754078193, (3, 1, 3, 0): 0.00047172651754078193, (2, 0, 2, 0): 0.0004646109188480797}  samples= None\n",
      "E=-7.97711045  angles= {(3, 0, 3, 0): -0.0006405076763674542, (2, 1, 2, 1): -0.016208670888373244, (3, 1, 3, 1): -0.016210372590098686, (2, 0, 2, 1): -0.0005915848279575316, (3, 0, 3, 1): -0.0005915848279575318, (2, 1, 2, 0): -0.0005915848279575324, (3, 1, 3, 0): -0.0005915848279575324, (2, 0, 2, 0): -0.0006403682603631951}  samples= None\n",
      "E=-7.97712855  angles= {(3, 0, 3, 0): -0.0002565556733500552, (2, 1, 2, 1): -0.013571531396849253, (3, 1, 3, 1): -0.013573826945416367, (2, 0, 2, 1): 3.084072433866638e-05, (3, 0, 3, 1): 3.089389340082656e-05, (2, 1, 2, 0): 3.084072433866595e-05, (3, 1, 3, 0): 3.084072433866573e-05, (2, 0, 2, 0): -0.0002567301313487477}  samples= None\n",
      "E=-7.97712991  angles= {(3, 0, 3, 0): -2.924690101291079e-05, (2, 1, 2, 1): -0.013974444416739113, (3, 1, 3, 1): -0.013974963101846117, (2, 0, 2, 1): 0.0002608169332130819, (3, 0, 3, 1): 0.0002608161745203299, (2, 1, 2, 0): 0.00026081693321308177, (3, 1, 3, 0): 0.00026081693321308133, (2, 0, 2, 0): -2.68662084613381e-05}  samples= None\n",
      "E=-7.97712991  angles= {(3, 0, 3, 0): -2.1841340585286776e-05, (2, 1, 2, 1): -0.013953140925562034, (3, 1, 3, 1): -0.013954112359219076, (2, 0, 2, 1): 0.0002541404071298125, (3, 0, 3, 1): 0.00025483289721059925, (2, 1, 2, 0): 0.00025414040712981237, (3, 1, 3, 0): 0.00025483228059376646, (2, 0, 2, 0): -4.807074697188923e-05}  samples= None\n",
      "E=-7.97712991  angles= {(3, 0, 3, 0): -2.589801069610674e-05, (2, 1, 2, 1): -0.013964810702179049, (3, 1, 3, 1): -0.013965534126042825, (2, 0, 2, 1): 0.0002577977216667487, (3, 0, 3, 1): 0.0002581104590459726, (2, 1, 2, 0): 0.0002577977216667486, (3, 1, 3, 0): 0.0002581105958059217, (2, 0, 2, 0): -3.6455175344303167e-05}  samples= None\n",
      "E=-7.97712992  angles= {(3, 0, 3, 0): -3.5046404217416594e-05, (2, 1, 2, 1): -0.013952825884169429, (3, 1, 3, 1): -0.013953928922495862, (2, 0, 2, 1): 0.00025448784084438584, (3, 0, 3, 1): 0.0002543225169954961, (2, 1, 2, 0): 0.0002544438824474009, (3, 1, 3, 0): 0.00025432187985149495, (2, 0, 2, 0): -3.505038353569187e-05}  samples= None\n",
      "Optimization terminated successfully.\n",
      "         Current function value: -7.977130\n",
      "         Iterations: 7\n",
      "         Function evaluations: 10\n",
      "         Gradient evaluations: 10\n",
      "\n",
      "Obtained UCCSD energy: -7.9771299154185655\n"
     ]
    }
   ],
   "source": [
    "H = lih.make_hamiltonian()\n",
    "\n",
    "print(\"\\nHamiltonian has {} terms\\n\".format(len(H)))\n",
    "\n",
    "U_UCCSD = lih.make_uccsd_ansatz(initial_amplitudes='MP2',threshold=threshold, trotter_steps=trotter_steps)\n",
    "\n",
    "E = tq.ExpectationValue(H=H, U=U_UCCSD)\n",
    "\n",
    "print('\\nNumber of UCCSD amplitudes: {} \\n'.format(len(E.extract_variables())))\n",
    "\n",
    "print('\\nStarting optimization:\\n')\n",
    "\n",
    "result = tq.minimize(objective=E, initial_values={k:0.0 for k in E.extract_variables()}, tol=1e-6, backend='qulacs', method='bfgs')\n",
    "print('\\nObtained UCCSD energy: {}'.format(result.energy))\n"
   ],
   "metadata": {
    "collapsed": false,
    "pycharm": {
     "name": "#%%\n"
    }
   }
  },
  {
   "cell_type": "markdown",
   "source": [
    "- QCC\n",
    " - Has consistency with FCI\n",
    " - ~100x performance boost compared to UCCSD"
   ],
   "metadata": {
    "collapsed": false
   }
  },
  {
   "cell_type": "code",
   "execution_count": 7,
   "outputs": [
    {
     "name": "stdout",
     "output_type": "stream",
     "text": [
      "\n",
      "Hamiltonian has 105 terms\n",
      "\n",
      "Grouping gradient magnitudes (Grouping : Gradient magnitude):\n",
      "1 : 0.0097\n",
      "2 : 0.0097\n",
      "3 : 0.0008\n",
      "4 : 0.0008\n",
      "5 : 0.0008\n",
      "6 : 0.0008\n",
      "7 : 0.0003\n",
      "8 : 0.0003\n"
     ]
    }
   ],
   "source": [
    "hf_reference = hf_occ(2*lih.n_orbitals, lih.n_electrons)\n",
    "\n",
    "H = lih.make_hamiltonian()\n",
    "\n",
    "print(\"\\nHamiltonian has {} terms\\n\".format(len(H)))\n",
    "\n",
    "\n",
    "#Define number of entanglers to enter ansatz\n",
    "\n",
    "#Rank entanglers using energy gradient criterion\n",
    "ranked_entangler_groupings = generate_QCC_gradient_groupings(H.to_openfermion(),\n",
    "                                                             2*lih.n_orbitals,\n",
    "                                                             hf_reference,\n",
    "                                                             cutoff=threshold)\n",
    "\n",
    "print('Grouping gradient magnitudes (Grouping : Gradient magnitude):')\n",
    "for i in range(len(ranked_entangler_groupings)):\n",
    "    print('{} : {}'.format(i+1,ranked_entangler_groupings[i][1]))\n"
   ],
   "metadata": {
    "collapsed": false,
    "pycharm": {
     "name": "#%%\n"
    }
   }
  },
  {
   "cell_type": "markdown",
   "source": [
    "#### We only need 2 engangulars this case."
   ],
   "metadata": {
    "collapsed": false,
    "pycharm": {
     "name": "#%% md\n"
    }
   }
  },
  {
   "cell_type": "code",
   "execution_count": 9,
   "outputs": [
    {
     "name": "stdout",
     "output_type": "stream",
     "text": [
      "\n",
      "Selected entanglers:\n",
      "1.0 [X2 Y3 X4 X5]\n",
      "1.0 [X2 Y3 X6 X7]\n",
      "Optimizer: <class 'tequila.optimizers.optimizer_scipy.OptimizerSciPy'> \n",
      "backend         : qulacs\n",
      "samples         : None\n",
      "save_history    : True\n",
      "noise           : None\n",
      "\n",
      "Method          : BFGS\n",
      "Objective       : 1 expectationvalues\n",
      "gradient        : 36 expectationvalues\n",
      "\n",
      "active variables : 18\n",
      "\n",
      "E=-7.97685913  angles= {beta_0: 3.141592653589793, gamma_0: 0.0, beta_1: 3.141592653589793, gamma_1: 0.0, beta_2: 3.141592653589793, gamma_2: 0.0, beta_3: 3.141592653589793, gamma_3: 0.0, beta_4: 0.0, gamma_4: 0.0, beta_5: 0.0, gamma_5: 0.0, beta_6: 0.0, gamma_6: 0.0, beta_7: 0.0, gamma_7: 0.0, tau_0: 0.0, tau_1: 0.0}  samples= None\n",
      "E=-7.97701384  angles= {beta_0: 3.141592653589793, gamma_0: 0.0, beta_1: 3.141592653589793, gamma_1: 0.0, beta_2: 3.141592415171214, gamma_2: 0.0, beta_3: 3.141592415171214, gamma_3: 0.0, beta_4: 0.0, gamma_4: 0.0, beta_5: 0.0, gamma_5: 0.0, beta_6: 0.0, gamma_6: 0.0, beta_7: 0.0, gamma_7: 0.0, tau_0: 0.00967264175415039, tau_1: 0.00967264175415039}  samples= None\n",
      "E=-7.97712917  angles= {beta_0: 3.141592653589793, gamma_0: 0.0, beta_1: 3.141592653589793, gamma_1: 0.0, beta_2: 3.1415924151712136, gamma_2: 0.0, beta_3: 3.1415924151712136, gamma_3: 0.0, beta_4: 0.0, gamma_4: 0.0, beta_5: 0.0, gamma_5: 0.0, beta_6: 0.0, gamma_6: 0.0, beta_7: 0.0, gamma_7: 0.0, tau_0: 0.02792620808183044, tau_1: 0.02792620808183044}  samples= None\n",
      "Optimization terminated successfully.\n",
      "         Current function value: -7.977129\n",
      "         Iterations: 2\n",
      "         Function evaluations: 3\n",
      "         Gradient evaluations: 3\n",
      "\n",
      "Obtained QCC energy (2 entanglers): -7.977129172029752\n"
     ]
    }
   ],
   "source": [
    "n_ents = 2\n",
    "entanglers = get_QCC_entanglers(ranked_entangler_groupings, n_ents, 2*lih.n_orbitals)\n",
    "\n",
    "print('\\nSelected entanglers:')\n",
    "for ent in entanglers:\n",
    "    print(ent)\n",
    "\n",
    "#Mean-field part of U (Omega):\n",
    "U_MF = construct_QMF_ansatz(n_qubits = 2*lih.n_orbitals)\n",
    "#Entangling part of U:\n",
    "U_ENT = construct_QCC_ansatz(entanglers)\n",
    "\n",
    "U_QCC = U_MF + U_ENT\n",
    "\n",
    "E = tq.ExpectationValue(H=H, U=U_QCC)\n",
    "\n",
    "initial_vals = init_qcc_params(hf_reference, E.extract_variables())\n",
    "\n",
    "#Minimize wrt the entangler amplitude and MF angles:\n",
    "result = tq.minimize(objective=E, method=\"BFGS\", initial_values=initial_vals, tol=1.e-4, backend='qulacs')\n",
    "\n",
    "print('\\nObtained QCC energy ({} entanglers): {}'.format(len(entanglers), result.energy))\n"
   ],
   "metadata": {
    "collapsed": false,
    "pycharm": {
     "name": "#%%\n"
    }
   }
  },
  {
   "cell_type": "markdown",
   "source": [
    "### H4 in 6-31G basis\n",
    "\n",
    "- FCI"
   ],
   "metadata": {
    "collapsed": false,
    "pycharm": {
     "name": "#%% md\n"
    }
   }
  },
  {
   "cell_type": "code",
   "execution_count": 3,
   "metadata": {},
   "outputs": [
    {
     "name": "stdout",
     "output_type": "stream",
     "text": [
      "There are known issues with some psi4 methods and frozen virtual orbitals. Proceed with fingers crossed for hf.\n",
      "[QuantumChemistryPsi4.OrbitalData(irrep='AG', idx_irrep=0, idx_total=0, energy=-0.6577756529605916), QuantumChemistryPsi4.OrbitalData(irrep='B1U', idx_irrep=0, idx_total=1, energy=-0.3241801225581642), QuantumChemistryPsi4.OrbitalData(irrep='B2U', idx_irrep=0, idx_total=2, energy=-0.021997174708868056), QuantumChemistryPsi4.OrbitalData(irrep='B3G', idx_irrep=0, idx_total=3, energy=0.2489349600035358)]\n",
      "[-0.6577756529605916, -0.3241801225581642, -0.021997174708868056, 0.2489349600035358]\n",
      "Number of spin-orbitals (qubits): 8 \n",
      "\n",
      "There are known issues with some psi4 methods and frozen virtual orbitals. Proceed with fingers crossed for fci.\n",
      "FCI energy: -1.9783982153570014\n"
     ]
    }
   ],
   "source": [
    "xyz_data = get_molecular_data('h4', geometry=90, xyz_format=True)\n",
    "\n",
    "basis = '6-31g'\n",
    "active = { 'AG':[0,1], 'B1U': [0], 'B2U': [0]}\n",
    "h4 = tq.quantumchemistry.Molecule(geometry=xyz_data, basis_set = basis, active_orbitals=active)\n",
    "\n",
    "print(list(map(lambda item: item[1][0], h4.orbitals_by_irrep.items())))\n",
    "print(list(map(lambda item: item[1][0].energy, h4.orbitals_by_irrep.items())))\n",
    "\n",
    "print('Number of spin-orbitals (qubits): {} \\n'.format(2*h4.n_orbitals))\n",
    "\n",
    "E_FCI = h4.compute_energy(method='fci', backend='qulacs')\n",
    "\n",
    "print('FCI energy: {}'.format(E_FCI))"
   ]
  },
  {
   "cell_type": "markdown",
   "metadata": {},
   "source": [
    "- UCCSD"
   ]
  },
  {
   "cell_type": "code",
   "execution_count": 4,
   "outputs": [
    {
     "name": "stdout",
     "output_type": "stream",
     "text": [
      "\n",
      "Hamiltonian has 105 terms\n",
      "\n",
      "\n",
      "Number of UCCSD amplitudes: 4 \n",
      "\n",
      "\n",
      "Starting optimization:\n",
      "\n",
      "Optimizer: <class 'tequila.optimizers.optimizer_scipy.OptimizerSciPy'> \n",
      "backend         : qulacs\n",
      "samples         : None\n",
      "save_history    : True\n",
      "noise           : None\n",
      "\n",
      "Method          : BFGS\n",
      "Objective       : 1 expectationvalues\n",
      "gradient        : 128 expectationvalues\n",
      "\n",
      "active variables : 4\n",
      "\n",
      "E=-1.93303733  angles= {(3, 0, 3, 0): 0.0, (2, 1, 2, 1): 0.0, (3, 1, 3, 1): 0.0, (2, 0, 2, 0): 0.0}  samples= None\n",
      "E=-1.92926868  angles= {(3, 0, 3, 0): -0.0867493599653244, (2, 1, 2, 1): -0.09617340564727783, (3, 1, 3, 1): -0.06707680225372314, (2, 0, 2, 0): -0.20908880233764648}  samples= None\n",
      "E=-1.94840960  angles= {(3, 0, 3, 0): -0.04088724847850404, (2, 1, 2, 1): -0.04532904836757326, (3, 1, 3, 1): -0.031615056087880414, (2, 0, 2, 0): -0.09854903619657156}  samples= None\n",
      "E=-1.93634995  angles= {(3, 0, 3, 0): 0.04710623158006605, (2, 1, 2, 1): -0.15248204298221218, (3, 1, 3, 1): 0.003034757883097469, (2, 0, 2, 0): -0.2454763428746461}  samples= None\n",
      "E=-1.95397016  angles= {(3, 0, 3, 0): -0.009448331728192927, (2, 1, 2, 1): -0.0836134084700928, (3, 1, 3, 1): -0.019235131846649725, (2, 0, 2, 0): -0.15104423652192256}  samples= None\n",
      "E=-1.95753262  angles= {(3, 0, 3, 0): -0.019433173565863698, (2, 1, 2, 1): -0.15573191171863593, (3, 1, 3, 1): 0.004149607472085495, (2, 0, 2, 0): -0.14321975835413572}  samples= None\n",
      "E=-1.96429140  angles= {(3, 0, 3, 0): -0.020193528662721456, (2, 1, 2, 1): -0.2805578938525181, (3, 1, 3, 1): 0.007854682227374806, (2, 0, 2, 0): -0.12068834107996687}  samples= None\n",
      "E=-1.97489206  angles= {(3, 0, 3, 0): -0.01999960683052471, (2, 1, 2, 1): -0.5361855757822159, (3, 1, 3, 1): 0.008999134511463575, (2, 0, 2, 0): -0.06609447216896833}  samples= None\n",
      "E=-1.97813094  angles= {(3, 0, 3, 0): -0.016642497590251167, (2, 1, 2, 1): -0.800514554082824, (3, 1, 3, 1): 0.0046535908660885915, (2, 0, 2, 0): 0.006843115661904736}  samples= None\n",
      "E=-1.97838040  angles= {(3, 0, 3, 0): -0.015710593587967326, (2, 1, 2, 1): -0.74208521647772, (3, 1, 3, 1): 0.0007310591848700759, (2, 0, 2, 0): -0.003073336268452005}  samples= None\n",
      "E=-1.97839203  angles= {(3, 0, 3, 0): -0.015829247406149067, (2, 1, 2, 1): -0.7404783870168142, (3, 1, 3, 1): -0.0013224346320223745, (2, 0, 2, 0): -0.0039006597825975145}  samples= None\n",
      "E=-1.97839458  angles= {(3, 0, 3, 0): -0.015917855279301965, (2, 1, 2, 1): -0.7415331280989964, (3, 1, 3, 1): -0.0027339108797497474, (2, 0, 2, 0): -0.0037373752207763436}  samples= None\n",
      "Optimization terminated successfully.\n",
      "         Current function value: -1.978395\n",
      "         Iterations: 9\n",
      "         Function evaluations: 12\n",
      "         Gradient evaluations: 12\n",
      "\n",
      "Obtained UCCSD energy: -1.9783945754506025\n"
     ]
    }
   ],
   "source": [
    "H = h4.make_hamiltonian()\n",
    "\n",
    "print(\"\\nHamiltonian has {} terms\\n\".format(len(H)))\n",
    "\n",
    "U_UCCSD = h4.make_uccsd_ansatz(initial_amplitudes='MP2',threshold=threshold, trotter_steps=trotter_steps)\n",
    "\n",
    "E = tq.ExpectationValue(H=H, U=U_UCCSD)\n",
    "\n",
    "print('\\nNumber of UCCSD amplitudes: {} \\n'.format(len(E.extract_variables())))\n",
    "\n",
    "print('\\nStarting optimization:\\n')\n",
    "\n",
    "result = tq.minimize(objective=E,  initial_values={k:0.0 for k in E.extract_variables()}, tol=1e-4, method='bfgs')\n",
    "\n",
    "print('\\nObtained UCCSD energy: {}'.format(result.energy))"
   ],
   "metadata": {
    "collapsed": false,
    "pycharm": {
     "name": "#%%\n"
    }
   }
  },
  {
   "cell_type": "markdown",
   "metadata": {
    "pycharm": {
     "name": "#%% md\n"
    }
   },
   "source": [
    "#### We can check its consistency using random search"
   ]
  },
  {
   "cell_type": "code",
   "execution_count": null,
   "outputs": [],
   "source": [
    "n=5\n",
    "result = minimize_E_random_guesses(objective=E, method='BFGS', tol=1e-4, n=n)"
   ],
   "metadata": {
    "collapsed": false,
    "pycharm": {
     "name": "#%%\n"
    }
   }
  },
  {
   "cell_type": "markdown",
   "metadata": {},
   "source": [
    "- QCC"
   ]
  },
  {
   "cell_type": "code",
   "execution_count": 6,
   "outputs": [
    {
     "name": "stdout",
     "output_type": "stream",
     "text": [
      "\n",
      "Hamiltonian has 105 terms\n",
      "\n",
      "Grouping gradient magnitudes (Grouping : Gradient magnitude):\n",
      "1 : 0.1045\n",
      "2 : 0.0481\n",
      "3 : 0.0434\n",
      "4 : 0.0335\n",
      "5 : 0.0\n",
      "6 : 0.0\n"
     ]
    }
   ],
   "source": [
    "hf_reference = hf_occ(2*h4.n_orbitals, h4.n_electrons)\n",
    "\n",
    "\n",
    "H = h4.make_hamiltonian()\n",
    "\n",
    "print(\"\\nHamiltonian has {} terms\\n\".format(len(H)))\n",
    "\n",
    "#Define number of entanglers to enter ansatz\n",
    "\n",
    "#Rank entanglers using energy gradient criterion\n",
    "ranked_entangler_groupings = generate_QCC_gradient_groupings(H.to_openfermion(), \n",
    "                                                             2*h4.n_orbitals,\n",
    "                                                             hf_reference, \n",
    "                                                             cutoff=threshold)\n",
    "\n",
    "print('Grouping gradient magnitudes (Grouping : Gradient magnitude):')\n",
    "for i in range(len(ranked_entangler_groupings)):\n",
    "    print('{} : {}'.format(i+1,ranked_entangler_groupings[i][1]))\n",
    "\n"
   ],
   "metadata": {
    "collapsed": false,
    "pycharm": {
     "name": "#%%\n"
    }
   }
  },
  {
   "cell_type": "markdown",
   "metadata": {},
   "source": [
    "#### We can see that 4 entangulars will be sufficient"
   ]
  },
  {
   "cell_type": "code",
   "execution_count": 7,
   "metadata": {},
   "outputs": [
    {
     "name": "stdout",
     "output_type": "stream",
     "text": [
      "\n",
      "Selected entanglers:\n",
      "1.0 [X0 Y1 X4 X5]\n",
      "1.0 [X2 Y3 X4 X5]\n",
      "1.0 [X0 Y1 X6 X7]\n",
      "1.0 [X2 Y3 X6 X7]\n",
      "Optimizer: <class 'tequila.optimizers.optimizer_scipy.OptimizerSciPy'> \n",
      "backend         : qulacs\n",
      "samples         : None\n",
      "save_history    : True\n",
      "noise           : None\n",
      "\n",
      "Method          : BFGS\n",
      "Objective       : 1 expectationvalues\n",
      "gradient        : 40 expectationvalues\n",
      "\n",
      "active variables : 20\n",
      "\n",
      "E=-1.93303733  angles= {beta_0: 3.141592653589793, gamma_0: 0.0, beta_1: 3.141592653589793, gamma_1: 0.0, beta_2: 3.141592653589793, gamma_2: 0.0, beta_3: 3.141592653589793, gamma_3: 0.0, beta_4: 0.0, gamma_4: 0.0, beta_5: 0.0, gamma_5: 0.0, beta_6: 0.0, gamma_6: 0.0, beta_7: 0.0, gamma_7: 0.0, tau_0: 0.0, tau_1: 0.0, tau_2: 0.0, tau_3: 0.0}  samples= None\n",
      "E=-1.94498346  angles= {beta_0: 3.141592653589793, gamma_0: 0.0, beta_1: 3.141592653589793, gamma_1: 0.0, beta_2: 3.141592653589793, gamma_2: 0.0, beta_3: 3.141592653589793, gamma_3: 0.0, beta_4: 0.0, gamma_4: 0.0, beta_5: 0.0, gamma_5: 0.0, beta_6: 0.0, gamma_6: 0.0, beta_7: 0.0, gamma_7: 0.0, tau_0: 0.10454440116882324, tau_1: 0.048086702823638916, tau_2: 0.0433746874332428, tau_3: 0.03353840112686157}  samples= None\n",
      "E=-1.95317315  angles= {beta_0: 3.141592653589793, gamma_0: 0.0, beta_1: 3.141592653589793, gamma_1: 0.0, beta_2: 3.141592653589793, gamma_2: 0.0, beta_3: 3.141592653589793, gamma_3: 0.0, beta_4: 0.0, gamma_4: 0.0, beta_5: 0.0, gamma_5: 0.0, beta_6: 0.0, gamma_6: 0.0, beta_7: 0.0, gamma_7: 0.0, tau_0: 0.28109074136346845, tau_1: 0.15123527108136914, tau_2: 0.030661176527786507, tau_3: 0.04312091668773995}  samples= None\n",
      "E=-1.95393379  angles= {beta_0: 3.141592653589793, gamma_0: 0.0, beta_1: 3.141592653589793, gamma_1: 0.0, beta_2: 3.141592653589793, gamma_2: 0.0, beta_3: 3.141592653589793, gamma_3: 0.0, beta_4: 0.0, gamma_4: 0.0, beta_5: 0.0, gamma_5: 0.0, beta_6: 0.0, gamma_6: 0.0, beta_7: 0.0, gamma_7: 0.0, tau_0: 0.2810965263851351, tau_1: 0.17930902956860548, tau_2: 0.02763736680886412, tau_3: 0.029652677105856277}  samples= None\n",
      "E=-1.95531447  angles= {beta_0: 3.141592653589793, gamma_0: 0.0, beta_1: 3.141592653589793, gamma_1: 0.0, beta_2: 3.141592653589793, gamma_2: 0.0, beta_3: 3.141592653589793, gamma_3: 0.0, beta_4: 0.0, gamma_4: 0.0, beta_5: 0.0, gamma_5: 0.0, beta_6: 0.0, gamma_6: 0.0, beta_7: 0.0, gamma_7: 0.0, tau_0: 0.2685481412352829, tau_1: 0.24121299674424568, tau_2: 0.023899008241683374, tau_3: 0.014999284057460932}  samples= None\n",
      "E=-1.95787694  angles= {beta_0: 3.141592653589793, gamma_0: 0.0, beta_1: 3.141592653589793, gamma_1: 0.0, beta_2: 3.141592653589793, gamma_2: 0.0, beta_3: 3.141592653589793, gamma_3: 0.0, beta_4: 0.0, gamma_4: 0.0, beta_5: 0.0, gamma_5: 0.0, beta_6: 0.0, gamma_6: 0.0, beta_7: 0.0, gamma_7: 0.0, tau_0: 0.2347522477259184, tau_1: 0.36743656716490614, tau_2: 0.02023159678244348, tau_3: -0.0029909752113105124}  samples= None\n",
      "E=-1.96296182  angles= {beta_0: 3.141592653589793, gamma_0: 0.0, beta_1: 3.141592653589793, gamma_1: 0.0, beta_2: 3.141592653589793, gamma_2: 0.0, beta_3: 3.141592653589793, gamma_3: 0.0, beta_4: 0.0, gamma_4: 0.0, beta_5: 0.0, gamma_5: 0.0, beta_6: 0.0, gamma_6: 0.0, beta_7: 0.0, gamma_7: 0.0, tau_0: 0.15961021743428253, tau_1: 0.6153413391066778, tau_2: 0.016566964526219814, tau_3: -0.027476565521103204}  samples= None\n",
      "E=-1.95242474  angles= {beta_0: 3.141592653589793, gamma_0: 0.0, beta_1: 3.141592653589793, gamma_1: 0.0, beta_2: 3.141592653589793, gamma_2: 0.0, beta_3: 3.141592653589793, gamma_3: 0.0, beta_4: 0.0, gamma_4: 0.0, beta_5: 0.0, gamma_5: 0.0, beta_6: 0.0, gamma_6: 0.0, beta_7: 0.0, gamma_7: 0.0, tau_0: -0.14095790373226103, tau_1: 1.6069604268737638, tau_2: 0.001908435501325162, tau_3: -0.12541892676027397}  samples= None\n",
      "E=-1.96959253  angles= {beta_0: 3.141592653589793, gamma_0: 0.0, beta_1: 3.141592653589793, gamma_1: 0.0, beta_2: 3.141592653589793, gamma_2: 0.0, beta_3: 3.141592653589793, gamma_3: 0.0, beta_4: 0.0, gamma_4: 0.0, beta_5: 0.0, gamma_5: 0.0, beta_6: 0.0, gamma_6: 0.0, beta_7: 0.0, gamma_7: 0.0, tau_0: 0.03540582642204257, tau_1: 1.0251101610103803, tau_2: 0.010509590032856737, tau_3: -0.0679494915413298}  samples= None\n",
      "E=-1.95257522  angles= {beta_0: 3.141592653589793, gamma_0: 0.0, beta_1: 3.141592653589793, gamma_1: 0.0, beta_2: 3.141592653589793, gamma_2: 0.0, beta_3: 3.141592653589793, gamma_3: 0.0, beta_4: 0.0, gamma_4: 0.0, beta_5: 0.0, gamma_5: 0.0, beta_6: 0.0, gamma_6: 0.0, beta_7: 0.0, gamma_7: 0.0, tau_0: -0.137092906787333, tau_1: 1.9719743135671939, tau_2: -0.001769599369475218, tau_3: -0.09150386416131381}  samples= None\n",
      "E=-1.97212480  angles= {beta_0: 3.141592653589793, gamma_0: 0.0, beta_1: 3.141592653589793, gamma_1: 0.0, beta_2: 3.141592653589793, gamma_2: 0.0, beta_3: 3.141592653589793, gamma_3: 0.0, beta_4: 0.0, gamma_4: 0.0, beta_5: 0.0, gamma_5: 0.0, beta_6: 0.0, gamma_6: 0.0, beta_7: 0.0, gamma_7: 0.0, tau_0: -0.011673630032998934, tau_1: 1.2835343755524695, tau_2: 0.007158275202801661, tau_3: -0.07437810141837954}  samples= None\n",
      "E=-1.97577695  angles= {beta_0: 3.141592653589793, gamma_0: 0.0, beta_1: 3.141592653589793, gamma_1: 0.0, beta_2: 3.141592653589793, gamma_2: 0.0, beta_3: 3.141592653589793, gamma_3: 0.0, beta_4: 0.0, gamma_4: 0.0, beta_5: 0.0, gamma_5: 0.0, beta_6: 0.0, gamma_6: 0.0, beta_7: 0.0, gamma_7: 0.0, tau_0: 0.01192051875273882, tau_1: 1.43323337369852, tau_2: 0.006468595985901434, tau_3: -0.04927278017425256}  samples= None\n",
      "E=-1.97809429  angles= {beta_0: 3.141592653589793, gamma_0: 0.0, beta_1: 3.141592653589793, gamma_1: 0.0, beta_2: 3.141592653589793, gamma_2: 0.0, beta_3: 3.141592653589793, gamma_3: 0.0, beta_4: 0.0, gamma_4: 0.0, beta_5: 0.0, gamma_5: 0.0, beta_6: 0.0, gamma_6: 0.0, beta_7: 0.0, gamma_7: 0.0, tau_0: 0.002101410095873904, tau_1: 1.557455389913278, tau_2: 0.01854966199509403, tau_3: -0.008194687244286562}  samples= None\n",
      "E=-1.97836164  angles= {beta_0: 3.141592653589793, gamma_0: 0.0, beta_1: 3.141592653589793, gamma_1: 0.0, beta_2: 3.141592653589793, gamma_2: 0.0, beta_3: 3.141592653589793, gamma_3: 0.0, beta_4: 0.0, gamma_4: 0.0, beta_5: 0.0, gamma_5: 0.0, beta_6: 0.0, gamma_6: 0.0, beta_7: 0.0, gamma_7: 0.0, tau_0: 0.006264654465434338, tau_1: 1.5048562536724983, tau_2: 0.03144487086692771, tau_3: 0.0011448809277664583}  samples= None\n",
      "E=-1.97838232  angles= {beta_0: 3.141592653589793, gamma_0: 0.0, beta_1: 3.141592653589793, gamma_1: 0.0, beta_2: 3.141592653589793, gamma_2: 0.0, beta_3: 3.141592653589793, gamma_3: 0.0, beta_4: 0.0, gamma_4: 0.0, beta_5: 0.0, gamma_5: 0.0, beta_6: 0.0, gamma_6: 0.0, beta_7: 0.0, gamma_7: 0.0, tau_0: -0.0002358974449430066, tau_1: 1.4969466906653508, tau_2: 0.031951168846517594, tau_3: 0.0023040407414688336}  samples= None\n",
      "E=-1.97838347  angles= {beta_0: 3.141592653589793, gamma_0: 0.0, beta_1: 3.141592653589793, gamma_1: 0.0, beta_2: 3.141592653589793, gamma_2: 0.0, beta_3: 3.141592653589793, gamma_3: 0.0, beta_4: 0.0, gamma_4: 0.0, beta_5: 0.0, gamma_5: 0.0, beta_6: 0.0, gamma_6: 0.0, beta_7: 0.0, gamma_7: 0.0, tau_0: 0.001113151574588045, tau_1: 1.4945134312876838, tau_2: 0.03185012201085507, tau_3: 0.0018841847678164976}  samples= None\n",
      "Optimization terminated successfully.\n",
      "         Current function value: -1.978383\n",
      "         Iterations: 12\n",
      "         Function evaluations: 16\n",
      "         Gradient evaluations: 16\n",
      "\n",
      "Obtained QCC energy (4 entanglers): -1.9783834725768927\n"
     ]
    }
   ],
   "source": [
    "n_ents = 4\n",
    "\n",
    "entanglers = get_QCC_entanglers(ranked_entangler_groupings, n_ents, 2*h4.n_orbitals)\n",
    "print('\\nSelected entanglers:')\n",
    "for ent in entanglers:\n",
    "    print(ent)\n",
    "\n",
    "#Mean-field part of U (Omega):\n",
    "U_MF = construct_QMF_ansatz(n_qubits = 2*h4.n_orbitals)\n",
    "#Entangling part of U:\n",
    "U_ENT = construct_QCC_ansatz(entanglers)\n",
    "\n",
    "U_QCC = U_MF + U_ENT\n",
    "\n",
    "E = tq.ExpectationValue(H=H, U=U_QCC)\n",
    "\n",
    "initial_vals = init_qcc_params(hf_reference, E.extract_variables())\n",
    "\n",
    "#Minimize wrt the entangler amplitude and MF angles:\n",
    "result = tq.minimize(objective=E, method=\"BFGS\", initial_values=initial_vals, tol=1.e-4, backend='qulacs')\n",
    "\n",
    "\n",
    "print('\\nObtained QCC energy ({} entanglers): {}'.format(len(entanglers), result.energy))"
   ]
  },
  {
   "cell_type": "markdown",
   "source": [
    "## NH3\n",
    "\n",
    "- FCI w/ STO-3G"
   ],
   "metadata": {
    "collapsed": false
   }
  },
  {
   "cell_type": "code",
   "execution_count": 12,
   "outputs": [
    {
     "name": "stdout",
     "output_type": "stream",
     "text": [
      "Number of spin-orbitals (qubits): 16 \n",
      "\n",
      "FCI energy: -55.32940782498641\n"
     ]
    }
   ],
   "source": [
    "\n",
    "xyz_data = get_molecular_data('nh3', geometry=1.5, xyz_format=True)\n",
    "basis='sto-3g'\n",
    "\n",
    "nh3 = tq.quantumchemistry.Molecule(geometry=xyz_data, basis_set=basis)\n",
    "\n",
    "print('Number of spin-orbitals (qubits): {} \\n'.format(2*nh3.n_orbitals))\n",
    "\n",
    "E_FCI = nh3.compute_energy(method='fci', backend='qulacs')\n",
    "\n",
    "print('FCI energy: {}'.format(E_FCI))"
   ],
   "metadata": {
    "collapsed": false,
    "pycharm": {
     "name": "#%%\n"
    }
   }
  },
  {
   "cell_type": "markdown",
   "source": [
    "- FCI w/6-31G"
   ],
   "metadata": {
    "collapsed": false,
    "pycharm": {
     "name": "#%% md\n"
    }
   }
  },
  {
   "cell_type": "code",
   "execution_count": 13,
   "outputs": [
    {
     "name": "stdout",
     "output_type": "stream",
     "text": [
      "[QuantumChemistryPsi4.OrbitalData(irrep=\"A'\", idx_irrep=0, idx_total=0, energy=-15.682567409874116), QuantumChemistryPsi4.OrbitalData(irrep='A\"', idx_irrep=0, idx_total=2, energy=-0.47571264826135573)]\n",
      "[-15.682567409874116, -0.47571264826135573]\n"
     ]
    }
   ],
   "source": [
    "basis='6-31g'\n",
    "\n",
    "nh3 = tq.quantumchemistry.Molecule(geometry=xyz_data, basis_set=basis)\n",
    "\n",
    "\n",
    "print(list(map(lambda item: item[1][0], nh3.orbitals_by_irrep.items())))\n",
    "print(list(map(lambda item: item[1][0].energy, nh3.orbitals_by_irrep.items())))"
   ],
   "metadata": {
    "collapsed": false,
    "pycharm": {
     "name": "#%%\n"
    }
   }
  },
  {
   "cell_type": "code",
   "execution_count": 14,
   "outputs": [
    {
     "name": "stdout",
     "output_type": "stream",
     "text": [
      "There are known issues with some psi4 methods and frozen virtual orbitals. Proceed with fingers crossed for hf.\n",
      "Number of spin-orbitals (qubits): 8 \n",
      "\n",
      "There are known issues with some psi4 methods and frozen virtual orbitals. Proceed with fingers crossed for fci.\n",
      "FCI energy: -55.91582659486136\n"
     ]
    }
   ],
   "source": [
    "active = {'A\\'': [2, 3], 'A\"': [0, 1]}\n",
    "nh3 = tq.quantumchemistry.Molecule(geometry=xyz_data, basis_set=basis, active_orbitals=active)\n",
    "\n",
    "print('Number of spin-orbitals (qubits): {} \\n'.format(2*nh3.n_orbitals))\n",
    "\n",
    "E_FCI = nh3.compute_energy(method='fci', backend='qulacs')\n",
    "\n",
    "print('FCI energy: {}'.format(E_FCI))"
   ],
   "metadata": {
    "collapsed": false,
    "pycharm": {
     "name": "#%%\n"
    }
   }
  },
  {
   "cell_type": "markdown",
   "source": [
    "- UCCSD w/6-31G\n"
   ],
   "metadata": {
    "collapsed": false,
    "pycharm": {
     "name": "#%% md\n"
    }
   }
  },
  {
   "cell_type": "code",
   "execution_count": 18,
   "outputs": [
    {
     "name": "stdout",
     "output_type": "stream",
     "text": [
      "\n",
      "Hamiltonian has 173 terms\n",
      "\n",
      "\n",
      "Number of UCCSD amplitudes: 5 \n",
      "\n",
      "\n",
      "Starting optimization:\n",
      "\n",
      "Optimizer: <class 'tequila.optimizers.optimizer_scipy.OptimizerSciPy'> \n",
      "backend         : qulacs\n",
      "samples         : None\n",
      "save_history    : True\n",
      "noise           : None\n",
      "\n",
      "Method          : BFGS\n",
      "Objective       : 1 expectationvalues\n",
      "gradient        : 160 expectationvalues\n",
      "\n",
      "active variables : 5\n",
      "\n",
      "E=-55.89755128  angles= {(3, 0, 3, 0): 0.0, (3, 2, 3, 1): 0.0, (3, 1, 3, 1): 0.0, (3, 1, 3, 2): 0.0, (3, 2, 3, 2): 0.0}  samples= None\n",
      "E=-55.91076011  angles= {(3, 0, 3, 0): -0.21731948852539062, (3, 2, 3, 1): -0.030841827392578125, (3, 1, 3, 1): -0.04653167724609375, (3, 1, 3, 2): -0.030841827392578125, (3, 2, 3, 2): -0.061626434326171875}  samples= None\n",
      "E=-55.91581393  angles= {(3, 0, 3, 0): -0.14209939410142164, (3, 2, 3, 1): -0.024074677804474108, (3, 1, 3, 1): -0.02166660543360647, (3, 1, 3, 2): -0.02407467780447411, (3, 2, 3, 2): -0.04620084889566002}  samples= None\n",
      "E=-55.91581903  angles= {(3, 0, 3, 0): -0.14175295100249172, (3, 2, 3, 1): -0.022648690991197346, (3, 1, 3, 1): -0.025503716293802117, (3, 1, 3, 2): -0.022650582007031586, (3, 2, 3, 2): -0.045860314162994284}  samples= None\n",
      "E=-55.91582057  angles= {(3, 0, 3, 0): -0.1421543319610035, (3, 2, 3, 1): -0.023066735502785884, (3, 1, 3, 1): -0.024259846168339285, (3, 1, 3, 2): -0.02306993571680699, (3, 2, 3, 2): -0.04577628782428341}  samples= None\n",
      "Optimization terminated successfully.\n",
      "         Current function value: -55.915821\n",
      "         Iterations: 4\n",
      "         Function evaluations: 5\n",
      "         Gradient evaluations: 5\n"
     ]
    }
   ],
   "source": [
    "H = nh3.make_hamiltonian()\n",
    "\n",
    "print(\"\\nHamiltonian has {} terms\\n\".format(len(H)))\n",
    "\n",
    "U_UCCSD = nh3.make_uccsd_ansatz(initial_amplitudes='MP2',threshold=threshold, trotter_steps=trotter_steps)\n",
    "\n",
    "E = tq.ExpectationValue(H=H, U=U_UCCSD)\n",
    "\n",
    "print('\\nNumber of UCCSD amplitudes: {} \\n'.format(len(E.extract_variables())))\n",
    "\n",
    "print('\\nStarting optimization:\\n')\n",
    "\n",
    "result = tq.minimize(objective=E,  initial_values={k:0.0 for k in E.extract_variables()}, tol=1e-4, method='bfgs')\n"
   ],
   "metadata": {
    "collapsed": false,
    "pycharm": {
     "name": "#%%\n"
    }
   }
  },
  {
   "cell_type": "markdown",
   "source": [
    "- QCC w/6-31G"
   ],
   "metadata": {
    "collapsed": false,
    "pycharm": {
     "name": "#%% md\n"
    }
   }
  },
  {
   "cell_type": "code",
   "execution_count": 15,
   "outputs": [
    {
     "name": "stdout",
     "output_type": "stream",
     "text": [
      "\n",
      "Hamiltonian has 173 terms\n",
      "\n"
     ]
    }
   ],
   "source": [
    "hf_reference = hf_occ(2*nh3.n_orbitals, nh3.n_electrons)\n",
    "\n",
    "H = nh3.make_hamiltonian()\n",
    "\n",
    "print(\"\\nHamiltonian has {} terms\\n\".format(len(H)))"
   ],
   "metadata": {
    "collapsed": false,
    "pycharm": {
     "name": "#%%\n"
    }
   }
  },
  {
   "cell_type": "code",
   "execution_count": 16,
   "outputs": [
    {
     "name": "stdout",
     "output_type": "stream",
     "text": [
      "Grouping gradient magnitudes (Grouping : Gradient magnitude):\n",
      "1 : 0.1087\n",
      "2 : 0.0308\n",
      "3 : 0.0233\n",
      "4 : 0.0154\n",
      "5 : 0.0154\n",
      "6 : 0.0\n",
      "7 : 0.0\n",
      "\n",
      "Selected entanglers:\n",
      "1.0 [X0 Y1 X6 X7]\n",
      "1.0 [X4 Y5 X6 X7]\n",
      "1.0 [X2 Y3 X6 X7]\n",
      "1.0 [X2 Y5 X6 X7]\n",
      "1.0 [X3 Y4 X6 X7]\n",
      "Optimizer: <class 'tequila.optimizers.optimizer_scipy.OptimizerSciPy'> \n",
      "backend         : qulacs\n",
      "samples         : None\n",
      "save_history    : True\n",
      "noise           : None\n",
      "\n",
      "Method          : BFGS\n",
      "Objective       : 1 expectationvalues\n",
      "gradient        : 42 expectationvalues\n",
      "\n",
      "active variables : 21\n",
      "\n",
      "E=-55.89755128  angles= {beta_0: 3.141592653589793, gamma_0: 0.0, beta_1: 3.141592653589793, gamma_1: 0.0, beta_2: 3.141592653589793, gamma_2: 0.0, beta_3: 3.141592653589793, gamma_3: 0.0, beta_4: 3.141592653589793, gamma_4: 0.0, beta_5: 3.141592653589793, gamma_5: 0.0, beta_6: 0.0, gamma_6: 0.0, beta_7: 0.0, gamma_7: 0.0, tau_0: 0.0, tau_1: 0.0, tau_2: 0.0, tau_3: 0.0, tau_4: 0.0}  samples= None\n",
      "E=-55.90874580  angles= {beta_0: 3.141592653589793, gamma_0: 0.0, beta_1: 3.141592653589793, gamma_1: 0.0, beta_2: 3.141592653589793, gamma_2: 0.0, beta_3: 3.141592653589793, gamma_3: 0.0, beta_4: 3.141592653589793, gamma_4: 0.0, beta_5: 3.141592653589793, gamma_5: 0.0, beta_6: 0.0, gamma_6: 0.0, beta_7: 0.0, gamma_7: 0.0, tau_0: 0.10865974426269531, tau_1: 0.030813217163085938, tau_2: 0.023265838623046875, tau_3: 0.015420913696289062, tau_4: -0.015420913696289062}  samples= None\n",
      "E=-55.91547072  angles= {beta_0: 3.141592653589793, gamma_0: 0.0, beta_1: 3.141592653589793, gamma_1: 0.0, beta_2: 3.141592653589793, gamma_2: 0.0, beta_3: 3.141592653589793, gamma_3: 0.0, beta_4: 3.141592653589793, gamma_4: 0.0, beta_5: 3.141592653589793, gamma_5: 0.0, beta_6: 0.0, gamma_6: 0.0, beta_7: 0.0, gamma_7: 0.0, tau_0: 0.2883538893579686, tau_1: 0.083886009996602, tau_2: 0.0563369757420031, tau_3: 0.042480493672849264, tau_4: -0.042480493672849264}  samples= None\n",
      "E=-55.91551739  angles= {beta_0: 3.141592653589793, gamma_0: 0.0, beta_1: 3.141592653589793, gamma_1: 0.0, beta_2: 3.141592653589793, gamma_2: 0.0, beta_3: 3.141592653589793, gamma_3: 0.0, beta_4: 3.141592653589793, gamma_4: 0.0, beta_5: 3.141592653589793, gamma_5: 0.0, beta_6: 0.0, gamma_6: 0.0, beta_7: 0.0, gamma_7: 0.0, tau_0: 0.2782839572667792, tau_1: 0.07991192401052608, tau_2: 0.04973783224639333, tau_3: 0.04068649368527735, tau_4: -0.04068649368527735}  samples= None\n",
      "E=-55.91552440  angles= {beta_0: 3.141592653589793, gamma_0: 0.0, beta_1: 3.141592653589793, gamma_1: 0.0, beta_2: 3.141592653589793, gamma_2: 0.0, beta_3: 3.141592653589793, gamma_3: 0.0, beta_4: 3.141592653589793, gamma_4: 0.0, beta_5: 3.141592653589793, gamma_5: 0.0, beta_6: 0.0, gamma_6: 0.0, beta_7: 0.0, gamma_7: 0.0, tau_0: 0.27882230521362944, tau_1: 0.07938828298771666, tau_2: 0.04625325925518943, tau_3: 0.04047846462566027, tau_4: -0.04047846462566027}  samples= None\n",
      "E=-55.91552691  angles= {beta_0: 3.141592653589793, gamma_0: 0.0, beta_1: 3.141592653589793, gamma_1: 0.0, beta_2: 3.141592653589793, gamma_2: 0.0, beta_3: 3.141592653589793, gamma_3: 0.0, beta_4: 3.141592653589793, gamma_4: 0.0, beta_5: 3.141592653589793, gamma_5: 0.0, beta_6: 0.0, gamma_6: 0.0, beta_7: 0.0, gamma_7: 0.0, tau_0: 0.28075356514881916, tau_1: 0.07925926819398624, tau_2: 0.04333662151723429, tau_3: 0.04030484565465921, tau_4: -0.04030484565465921}  samples= None\n",
      "E=-55.91552697  angles= {beta_0: 3.141592653589793, gamma_0: 0.0, beta_1: 3.141592653589793, gamma_1: 0.0, beta_2: 3.141592653589793, gamma_2: 0.0, beta_3: 3.141592653589793, gamma_3: 0.0, beta_4: 3.141592653589793, gamma_4: 0.0, beta_5: 3.141592653589793, gamma_5: 0.0, beta_6: 0.0, gamma_6: 0.0, beta_7: 0.0, gamma_7: 0.0, tau_0: 0.28104602086856795, tau_1: 0.0792502789439926, tau_2: 0.0433205302668355, tau_3: 0.040185506394641614, tau_4: -0.040185506394641614}  samples= None\n",
      "Optimization terminated successfully.\n",
      "         Current function value: -55.915527\n",
      "         Iterations: 6\n",
      "         Function evaluations: 7\n",
      "         Gradient evaluations: 7\n",
      "\n",
      "Obtained QCC energy (5 entanglers): -55.91552696622523\n"
     ]
    }
   ],
   "source": [
    "#Define number of entanglers to enter ansatz\n",
    "n_ents = 5\n",
    "\n",
    "#Rank entanglers using energy gradient criterion\n",
    "ranked_entangler_groupings = generate_QCC_gradient_groupings(H.to_openfermion(),\n",
    "                                                             2*nh3.n_orbitals,\n",
    "                                                             hf_reference,\n",
    "                                                             cutoff=threshold)\n",
    "\n",
    "print('Grouping gradient magnitudes (Grouping : Gradient magnitude):')\n",
    "for i in range(len(ranked_entangler_groupings)):\n",
    "    print('{} : {}'.format(i+1,ranked_entangler_groupings[i][1]))\n",
    "\n",
    "\n",
    "entanglers = get_QCC_entanglers(ranked_entangler_groupings, n_ents, 2*nh3.n_orbitals)\n",
    "\n",
    "print('\\nSelected entanglers:')\n",
    "for ent in entanglers:\n",
    "    print(ent)\n",
    "\n",
    "U_MF = construct_QMF_ansatz(n_qubits = 2*nh3.n_orbitals)\n",
    "#Entangling part of U:\n",
    "U_ENT = construct_QCC_ansatz(entanglers)\n",
    "\n",
    "U_QCC = U_MF + U_ENT\n",
    "\n",
    "E = tq.ExpectationValue(H=H, U=U_QCC)\n",
    "\n",
    "initial_vals = init_qcc_params(hf_reference, E.extract_variables())\n",
    "\n",
    "#Minimize wrt the entangler amplitude and MF angles:\n",
    "result = tq.minimize(objective=E, method=\"BFGS\", initial_values=initial_vals, tol=1.e-4, backend='qulacs')\n",
    "\n",
    "\n",
    "print('\\nObtained QCC energy ({} entanglers): {}'.format(len(entanglers), result.energy))"
   ],
   "metadata": {
    "collapsed": false,
    "pycharm": {
     "name": "#%%\n"
    }
   }
  },
  {
   "cell_type": "markdown",
   "source": [
    "## N2\n",
    "\n",
    "- FCI w/STO-3G"
   ],
   "metadata": {
    "collapsed": false,
    "pycharm": {
     "name": "#%% md\n"
    }
   }
  },
  {
   "cell_type": "code",
   "execution_count": 1,
   "outputs": [
    {
     "name": "stdout",
     "output_type": "stream",
     "text": [
      "Number of spin-orbitals (qubits): 20 \n",
      "\n",
      "FCI energy: -107.58163492166018\n"
     ]
    }
   ],
   "source": [
    "import numpy as np\n",
    "import tequila as tq\n",
    "from utility import *\n",
    "threshold = 1e-6 #Cutoff for UCC MP2 amplitudes and QCC ranking gradients\n",
    "trotter_steps = 1\n",
    "\n",
    "\n",
    "xyz_data = get_molecular_data('n2', geometry=1.5, xyz_format=True)\n",
    "basis='sto-3g'\n",
    "\n",
    "n2 = tq.quantumchemistry.Molecule(geometry=xyz_data, basis_set=basis)\n",
    "\n",
    "print('Number of spin-orbitals (qubits): {} \\n'.format(2*n2.n_orbitals))\n",
    "\n",
    "E_FCI = n2.compute_energy(method='fci', backend='qulacs')\n",
    "\n",
    "print('FCI energy: {}'.format(E_FCI))\n"
   ],
   "metadata": {
    "collapsed": false,
    "pycharm": {
     "name": "#%%\n"
    }
   }
  },
  {
   "cell_type": "markdown",
   "source": [
    "- FCI w/6-31G"
   ],
   "metadata": {
    "collapsed": false,
    "pycharm": {
     "name": "#%% md\n"
    }
   }
  },
  {
   "cell_type": "code",
   "execution_count": 2,
   "outputs": [
    {
     "name": "stdout",
     "output_type": "stream",
     "text": [
      "[QuantumChemistryPsi4.OrbitalData(irrep='AG', idx_irrep=0, idx_total=0, energy=-15.806613506138117), QuantumChemistryPsi4.OrbitalData(irrep='B1U', idx_irrep=0, idx_total=1, energy=-15.805900361433766), QuantumChemistryPsi4.OrbitalData(irrep='B2U', idx_irrep=0, idx_total=5, energy=-0.4968324586317101), QuantumChemistryPsi4.OrbitalData(irrep='B3U', idx_irrep=0, idx_total=6, energy=-0.49683245863119674), QuantumChemistryPsi4.OrbitalData(irrep='B3G', idx_irrep=0, idx_total=7, energy=-0.005793047017178504), QuantumChemistryPsi4.OrbitalData(irrep='B2G', idx_irrep=0, idx_total=8, energy=-0.005793047016557085)]\n",
      "[-15.806613506138117, -15.805900361433766, -0.4968324586317101, -0.49683245863119674, -0.005793047017178504, -0.005793047016557085]\n"
     ]
    }
   ],
   "source": [
    "basis='6-31g'\n",
    "\n",
    "n2 = tq.quantumchemistry.Molecule(geometry=xyz_data, basis_set=basis)\n",
    "print(list(map(lambda item: item[1][0], n2.orbitals_by_irrep.items())))\n",
    "print(list(map(lambda item: item[1][0].energy, n2.orbitals_by_irrep.items())))"
   ],
   "metadata": {
    "collapsed": false,
    "pycharm": {
     "name": "#%%\n"
    }
   }
  },
  {
   "cell_type": "code",
   "execution_count": 3,
   "outputs": [
    {
     "name": "stdout",
     "output_type": "stream",
     "text": [
      "There are known issues with some psi4 methods and frozen virtual orbitals. Proceed with fingers crossed for hf.\n",
      "Number of spin-orbitals (qubits): 8 \n",
      "\n",
      "There are known issues with some psi4 methods and frozen virtual orbitals. Proceed with fingers crossed for fci.\n",
      "FCI energy: -108.62442717371962\n"
     ]
    }
   ],
   "source": [
    "active = {'AG': [1, 2], 'B1U': [1], 'B2U': [1]}\n",
    "n2 = tq.quantumchemistry.Molecule(geometry=xyz_data, basis_set=basis, active_orbitals=active)\n",
    "\n",
    "print('Number of spin-orbitals (qubits): {} \\n'.format(2*n2.n_orbitals))\n",
    "\n",
    "E_FCI = n2.compute_energy(method='fci', backend='qulacs')\n",
    "\n",
    "print('FCI energy: {}'.format(E_FCI))"
   ],
   "metadata": {
    "collapsed": false,
    "pycharm": {
     "name": "#%%\n"
    }
   }
  },
  {
   "cell_type": "markdown",
   "source": [
    "- UCCSD w/6-31G"
   ],
   "metadata": {
    "collapsed": false,
    "pycharm": {
     "name": "#%% md\n"
    }
   }
  },
  {
   "cell_type": "code",
   "execution_count": 4,
   "outputs": [
    {
     "name": "stdout",
     "output_type": "stream",
     "text": [
      "\n",
      "Hamiltonian has 105 terms\n",
      "\n",
      "\n",
      "Number of UCCSD amplitudes: 5 \n",
      "\n",
      "\n",
      "Starting optimization:\n",
      "\n",
      "Optimizer: <class 'tequila.optimizers.optimizer_scipy.OptimizerSciPy'> \n",
      "backend         : qulacs\n",
      "samples         : None\n",
      "save_history    : True\n",
      "noise           : None\n",
      "\n",
      "Method          : BFGS\n",
      "Objective       : 1 expectationvalues\n",
      "gradient        : 160 expectationvalues\n",
      "\n",
      "active variables : 5\n",
      "\n",
      "E=-108.62411657  angles= {(3, 0, 3, 0): 0.0, (3, 1, 3, 1): 0.0, (3, 2, 3, 0): 0.0, (3, 0, 3, 2): 0.0, (3, 2, 3, 2): 0.0}  samples= None\n",
      "E=-108.61512395  angles= {(3, 0, 3, 0): -0.03958892822265625, (3, 1, 3, 1): -0.04364013671875, (3, 2, 3, 0): -0.00821685791015625, (3, 0, 3, 2): -0.00821685791015625, (3, 2, 3, 2): -0.01963043212890625}  samples= None\n",
      "E=-108.62442311  angles= {(3, 0, 3, 0): -0.0060732169145442565, (3, 1, 3, 1): -0.0066947004723825684, (3, 2, 3, 0): -0.0012605231483839208, (3, 0, 3, 2): -0.0012605231483839208, (3, 2, 3, 2): -0.0030114448103916694}  samples= None\n",
      "E=-108.62433384  angles= {(3, 0, 3, 0): -0.00152097461759511, (3, 1, 3, 1): -0.010350412529594379, (3, 2, 3, 0): -0.0010857157454884055, (3, 0, 3, 2): -0.0010895343763704856, (3, 2, 3, 2): -0.006614244951284721}  samples= None\n",
      "E=-108.62442710  angles= {(3, 0, 3, 0): -0.005292972551954335, (3, 1, 3, 1): -0.0073212815148290845, (3, 2, 3, 0): -0.001230561542267388, (3, 0, 3, 2): -0.0012312160472397072, (3, 2, 3, 2): -0.0036289568662314733}  samples= None\n",
      "E=-108.62442597  angles= {(3, 0, 3, 0): -0.005448493385254377, (3, 1, 3, 1): -0.007045608963738836, (3, 2, 3, 0): -0.0008815546653353084, (3, 0, 3, 2): -0.0008860896149231598, (3, 2, 3, 2): -0.0042866999305695664}  samples= None\n",
      "E=-108.62442717  angles= {(3, 0, 3, 0): -0.005324396150858688, (3, 1, 3, 1): -0.007265580786569179, (3, 2, 3, 0): -0.0011600433236926705, (3, 0, 3, 2): -0.0011614818878330228, (3, 2, 3, 2): -0.0037618564514337004}  samples= None\n",
      "Optimization terminated successfully.\n",
      "         Current function value: -108.624427\n",
      "         Iterations: 3\n",
      "         Function evaluations: 7\n",
      "         Gradient evaluations: 7\n"
     ]
    }
   ],
   "source": [
    "H = n2.make_hamiltonian()\n",
    "\n",
    "print(\"\\nHamiltonian has {} terms\\n\".format(len(H)))\n",
    "\n",
    "U_UCCSD = n2.make_uccsd_ansatz(initial_amplitudes='MP2',threshold=threshold, trotter_steps=trotter_steps)\n",
    "\n",
    "E = tq.ExpectationValue(H=H, U=U_UCCSD)\n",
    "\n",
    "print('\\nNumber of UCCSD amplitudes: {} \\n'.format(len(E.extract_variables())))\n",
    "\n",
    "print('\\nStarting optimization:\\n')\n",
    "\n",
    "result = tq.minimize(objective=E,  initial_values={k:0.0 for k in E.extract_variables()}, tol=1e-4, method='bfgs')\n"
   ],
   "metadata": {
    "collapsed": false,
    "pycharm": {
     "name": "#%%\n"
    }
   }
  },
  {
   "cell_type": "markdown",
   "source": [
    "- QCC w/6-31G"
   ],
   "metadata": {
    "collapsed": false
   }
  },
  {
   "cell_type": "code",
   "execution_count": 5,
   "outputs": [
    {
     "name": "stdout",
     "output_type": "stream",
     "text": [
      "\n",
      "Hamiltonian has 105 terms\n",
      "\n"
     ]
    }
   ],
   "source": [
    "hf_reference = hf_occ(2*n2.n_orbitals, n2.n_electrons)\n",
    "\n",
    "H = n2.make_hamiltonian()\n",
    "\n",
    "print(\"\\nHamiltonian has {} terms\\n\".format(len(H)))"
   ],
   "metadata": {
    "collapsed": false,
    "pycharm": {
     "name": "#%%\n"
    }
   }
  },
  {
   "cell_type": "code",
   "execution_count": 7,
   "outputs": [
    {
     "name": "stdout",
     "output_type": "stream",
     "text": [
      "Grouping gradient magnitudes (Grouping : Gradient magnitude):\n",
      "1 : 0.0218\n",
      "2 : 0.0198\n",
      "3 : 0.0098\n",
      "4 : 0.0041\n",
      "5 : 0.0041\n"
     ]
    }
   ],
   "source": [
    "#Define number of entanglers to enter ansatz\n",
    "n_ents = 5\n",
    "\n",
    "#Rank entanglers using energy gradient criterion\n",
    "ranked_entangler_groupings = generate_QCC_gradient_groupings(H.to_openfermion(),\n",
    "                                                             2*n2.n_orbitals,\n",
    "                                                             hf_reference,\n",
    "                                                             cutoff=threshold)\n",
    "\n",
    "print('Grouping gradient magnitudes (Grouping : Gradient magnitude):')\n",
    "for i in range(len(ranked_entangler_groupings)):\n",
    "    print('{} : {}'.format(i+1,ranked_entangler_groupings[i][1]))"
   ],
   "metadata": {
    "collapsed": false,
    "pycharm": {
     "name": "#%%\n"
    }
   }
  },
  {
   "cell_type": "code",
   "execution_count": 8,
   "outputs": [
    {
     "name": "stdout",
     "output_type": "stream",
     "text": [
      "\n",
      "Selected entanglers:\n",
      "1.0 [X2 Y3 X6 X7]\n",
      "1.0 [X0 Y1 X6 X7]\n",
      "1.0 [X4 Y5 X6 X7]\n",
      "1.0 [X0 Y5 X6 X7]\n",
      "1.0 [X1 Y4 X6 X7]\n",
      "Optimizer: <class 'tequila.optimizers.optimizer_scipy.OptimizerSciPy'> \n",
      "backend         : qulacs\n",
      "samples         : None\n",
      "save_history    : True\n",
      "noise           : None\n",
      "\n",
      "Method          : BFGS\n",
      "Objective       : 1 expectationvalues\n",
      "gradient        : 42 expectationvalues\n",
      "\n",
      "active variables : 21\n",
      "\n",
      "E=-108.62411657  angles= {beta_0: 3.141592653589793, gamma_0: 0.0, beta_1: 3.141592653589793, gamma_1: 0.0, beta_2: 3.141592653589793, gamma_2: 0.0, beta_3: 3.141592653589793, gamma_3: 0.0, beta_4: 3.141592653589793, gamma_4: 0.0, beta_5: 3.141592653589793, gamma_5: 0.0, beta_6: 0.0, gamma_6: 0.0, beta_7: 0.0, gamma_7: 0.0, tau_0: 0.0, tau_1: 0.0, tau_2: 0.0, tau_3: 0.0, tau_4: 0.0}  samples= None\n",
      "E=-108.62430214  angles= {beta_0: 3.141592653589793, gamma_0: 0.0, beta_1: 3.141592653589793, gamma_1: 0.0, beta_2: 3.141592653589793, gamma_2: 0.0, beta_3: 3.141592653589793, gamma_3: 0.0, beta_4: 3.141592653589793, gamma_4: 0.0, beta_5: 3.141592653589793, gamma_5: 0.0, beta_6: 0.0, gamma_6: 0.0, beta_7: 0.0, gamma_7: 0.0, tau_0: 0.021820068359375, tau_1: 0.019794464111328125, tau_2: 0.009815216064453125, tau_3: 0.004108428955078125, tau_4: -0.004108428955078125}  samples= None\n",
      "E=-108.62442624  angles= {beta_0: 3.141592653589793, gamma_0: 0.0, beta_1: 3.141592653589793, gamma_1: 0.0, beta_2: 3.141592653589793, gamma_2: 0.0, beta_3: 3.141592653589793, gamma_3: 0.0, beta_4: 3.141592653589793, gamma_4: 0.0, beta_5: 3.141592653589793, gamma_5: 0.0, beta_6: 0.0, gamma_6: 0.0, beta_7: 0.0, gamma_7: 0.0, tau_0: 0.01522393345200063, tau_1: 0.009878639834300363, tau_2: 0.007820990416689589, tau_3: 0.0024367036150157203, tau_4: -0.00243670361501572}  samples= None\n",
      "E=-108.62442691  angles= {beta_0: 3.141592653589793, gamma_0: 0.0, beta_1: 3.141592653589793, gamma_1: 0.0, beta_2: 3.141592653589793, gamma_2: 0.0, beta_3: 3.141592653589793, gamma_3: 0.0, beta_4: 3.141592653589793, gamma_4: 0.0, beta_5: 3.141592653589793, gamma_5: 0.0, beta_6: 0.0, gamma_6: 0.0, beta_7: 0.0, gamma_7: 0.0, tau_0: 0.014095775660694861, tau_1: 0.010960008883053641, tau_2: 0.0074238492598639955, tau_3: 0.002210951149923454, tau_4: -0.0022109511499234535}  samples= None\n",
      "E=-108.62442715  angles= {beta_0: 3.141592653589793, gamma_0: 0.0, beta_1: 3.141592653589793, gamma_1: 0.0, beta_2: 3.141592653589793, gamma_2: 0.0, beta_3: 3.141592653589793, gamma_3: 0.0, beta_4: 3.141592653589793, gamma_4: 0.0, beta_5: 3.141592653589793, gamma_5: 0.0, beta_6: 0.0, gamma_6: 0.0, beta_7: 0.0, gamma_7: 0.0, tau_0: 0.014515100229508337, tau_1: 0.010657633274739736, tau_2: 0.007544088839867546, tau_3: 0.002358922869994376, tau_4: -0.0023589228699943754}  samples= None\n",
      "Optimization terminated successfully.\n",
      "         Current function value: -108.624427\n",
      "         Iterations: 4\n",
      "         Function evaluations: 5\n",
      "         Gradient evaluations: 5\n",
      "\n",
      "Obtained QCC energy (5 entanglers): -108.62442715453423\n"
     ]
    }
   ],
   "source": [
    "entanglers = get_QCC_entanglers(ranked_entangler_groupings, n_ents, 2*n2.n_orbitals)\n",
    "\n",
    "print('\\nSelected entanglers:')\n",
    "for ent in entanglers:\n",
    "    print(ent)\n",
    "\n",
    "U_MF = construct_QMF_ansatz(n_qubits = 2*n2.n_orbitals)\n",
    "#Entangling part of U:\n",
    "U_ENT = construct_QCC_ansatz(entanglers)\n",
    "\n",
    "U_QCC = U_MF + U_ENT\n",
    "\n",
    "E = tq.ExpectationValue(H=H, U=U_QCC)\n",
    "\n",
    "initial_vals = init_qcc_params(hf_reference, E.extract_variables())\n",
    "\n",
    "#Minimize wrt the entangler amplitude and MF angles:\n",
    "result = tq.minimize(objective=E, method=\"BFGS\", initial_values=initial_vals, tol=1.e-4, backend='qulacs')\n",
    "\n",
    "\n",
    "print('\\nObtained QCC energy ({} entanglers): {}'.format(len(entanglers), result.energy))"
   ],
   "metadata": {
    "collapsed": false,
    "pycharm": {
     "name": "#%%\n"
    }
   }
  },
  {
   "cell_type": "code",
   "execution_count": null,
   "outputs": [],
   "source": [
    "\n"
   ],
   "metadata": {
    "collapsed": false,
    "pycharm": {
     "name": "#%%\n"
    }
   }
  }
 ],
 "metadata": {
  "kernelspec": {
   "name": "cohortproject_2020_37",
   "language": "python",
   "display_name": "CohortProject_2020_37"
  },
  "language_info": {
   "codemirror_mode": {
    "name": "ipython",
    "version": 3
   },
   "file_extension": ".py",
   "mimetype": "text/x-python",
   "name": "python",
   "nbconvert_exporter": "python",
   "pygments_lexer": "ipython3",
   "version": "3.7.7"
  }
 },
 "nbformat": 4,
 "nbformat_minor": 2
}