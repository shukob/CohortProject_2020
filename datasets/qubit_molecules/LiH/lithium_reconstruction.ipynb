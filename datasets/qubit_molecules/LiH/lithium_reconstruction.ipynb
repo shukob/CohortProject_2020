{
 "cells": [
  {
   "cell_type": "markdown",
   "metadata": {},
   "source": [
    "# Qubit-data for Lithium Hydride"
   ]
  },
  {
   "cell_type": "code",
   "execution_count": 1,
   "metadata": {},
   "outputs": [],
   "source": [
    "import pickle\n",
    "from pylab import *\n",
    "import numpy as np\n",
    "import math as m\n",
    "from functools import reduce\n",
    "import matplotlib.pyplot as plt"
   ]
  },
  {
   "cell_type": "markdown",
   "metadata": {},
   "source": [
    "## Preliminaries"
   ]
  },
  {
   "cell_type": "markdown",
   "metadata": {},
   "source": [
    "The fermionic Hamiltonian in second quantization (with $M$ orbitals)\n",
    "\n",
    "$$ H = \\sum_{\\alpha,\\beta=1}^M t_{\\alpha\\beta}c^\\dagger_\\alpha c_\\beta + \\frac{1}{2}\\sum_{\\alpha\\beta=1}^M\\sum_{\\gamma\\delta=1}^M u_{\\alpha\\beta\\gamma\\delta}c^\\dagger_\\alpha c^\\dagger_\\gamma c_\\delta c_\\beta$$\n",
    "\n",
    "is mapped into a qubit Hamiltonian in the form\n",
    "\n",
    "$$ H = \\sum_kc_kP_k $$\n",
    "\n",
    "where $c_k$ are interaction coefficients and $P_k$ are elements of the $N$-qubit Pauli group $\\mathcal{P}_N=\\{\\mathbb{1},X,Y,Z\\}^{\\otimes N}$.\n",
    "\n",
    "The interaction coefficients and the Pauli operators can be found in the `interaction.file` and the `pauli.file` respectively.\n",
    "\n",
    "Specifics:\n",
    "- Number of qubits: 4\n",
    "- Molecule geometry: bond distance\n",
    "- Fermionic basis: atomic STO-3G\n",
    "- Qubit mapping: spin-parity"
   ]
  },
  {
   "cell_type": "markdown",
   "metadata": {},
   "source": [
    "## Exact diagonalization"
   ]
  },
  {
   "cell_type": "code",
   "execution_count": 2,
   "metadata": {},
   "outputs": [],
   "source": [
    "# Identity \n",
    "I = np.asarray([[1.,0.],[0.,1.]])\n",
    "# Pauli X\n",
    "X = np.asarray([[0.,1.],[1.,0.]])\n",
    "# Pauli Y\n",
    "Y = np.asarray([[0.,-1j],[1j,0.]])\n",
    "# Pauli Z\n",
    "Z = np.asarray([[1.,0.],[0.,-1.]])"
   ]
  },
  {
   "cell_type": "code",
   "execution_count": 3,
   "metadata": {},
   "outputs": [],
   "source": [
    "def operatorfromstring(pauli_string):\n",
    "    \"\"\"\n",
    "    Generate a many-body operator from a list of single-qubit \n",
    "    pauli matrices.\n",
    "    ---------------------------------------------------------\n",
    "    Input    pauli_string: str , (ex: [X,Z,X,Y,...])\n",
    "    \n",
    "    Output   pauli_op: np.array, shape = [2**N,2**N]\n",
    "    \"\"\"\n",
    "    op_list = []\n",
    "    for k in range(len(pauli_string)):\n",
    "        if (pauli_string[k] == 'X'):\n",
    "            op_list.append(X)\n",
    "        elif (pauli_string[k] == 'Y'):\n",
    "            op_list.append(Y)\n",
    "        elif (pauli_string[k] == 'Z'):\n",
    "            op_list.append(Z)\n",
    "        else:\n",
    "            op_list.append(I)\n",
    "\n",
    "    return reduce(np.kron,op_list)\n",
    "\n",
    "def hamiltonian(pauli_list,interactions):\n",
    "    \"\"\"\n",
    "    Generate a many-body hamiltonian\n",
    "    ---------------------------------------------------------\n",
    "    Input    pauli_list: list of pauli strings\n",
    "             interactions: list of interaction strengths\n",
    "    \n",
    "    Output   hamiltonian: np.array, shape = [2**N,2**N]\n",
    "    \"\"\"\n",
    "    N = len(pauli_list[0])\n",
    "    hamiltonian = np.zeros((1<<N,1<<N),dtype=complex)\n",
    "    for i,pauli in enumerate(pauli_list):\n",
    "        hamiltonian += interactions[i]*operatorfromstring(pauli)\n",
    "    return hamiltonian\n",
    "\n",
    "def eigensolve(hamiltonian):\n",
    "    \"\"\"\n",
    "    Compute ground state energy and wavefunction\n",
    "    \"\"\"\n",
    "    (eigenvalues,eigenstates) = np.linalg.eigh(hamiltonian)\n",
    "    return eigenvalues[0],eigenstates[:,0]"
   ]
  },
  {
   "cell_type": "code",
   "execution_count": 4,
   "metadata": {},
   "outputs": [
    {
     "name": "stdout",
     "output_type": "stream",
     "text": [
      "Pauli: IIII  | Interaction: -8.022E+00\n",
      "Pauli: ZIII  | Interaction: -9.276E-02\n",
      "Pauli: XZII  | Interaction: -2.941E-03\n",
      "Pauli: XIII  | Interaction: 2.941E-03\n",
      "Pauli: ZZII  | Interaction: -2.119E-01\n",
      "Pauli: YYII  | Interaction: 7.428E-04\n",
      "Pauli: XXII  | Interaction: -7.428E-04\n",
      "Pauli: ZXII  | Interaction: 1.939E-02\n",
      "Pauli: IXII  | Interaction: 1.939E-02\n",
      "Pauli: IZII  | Interaction: 3.653E-01\n",
      "...\n"
     ]
    }
   ],
   "source": [
    "pauli_list   = np.load('paulis.file',allow_pickle=True)\n",
    "interactions = np.load('interactions.file',allow_pickle = True)\n",
    "for k in range(10):\n",
    "    print('Pauli:',pauli_list[k],' | Interaction: %.3E' % interactions[k])\n",
    "print('...')"
   ]
  },
  {
   "cell_type": "code",
   "execution_count": 5,
   "metadata": {},
   "outputs": [
    {
     "name": "stdout",
     "output_type": "stream",
     "text": [
      "Ground state energy: -8.9073963113\n",
      "\n",
      "Ground state wavefunction:\n",
      "\n",
      " [-4.96394908e-03+0.j  2.49800181e-16+0.j -5.76276175e-02+0.j\n",
      "  1.11651339e-01+0.j -3.26381702e-02+0.j  5.08356315e-16+0.j\n",
      "  3.54539651e-02+0.j -5.76276175e-02+0.j  1.38777878e-16+0.j\n",
      "  1.23592416e-25+0.j  5.01265465e-18+0.j -1.14084922e-17+0.j\n",
      " -9.88663405e-01+0.j -2.63778775e-17+0.j -3.26381702e-02+0.j\n",
      " -4.96394908e-03+0.j]\n"
     ]
    }
   ],
   "source": [
    "# Build the full Hamiltonian and get the ground state energy / wavefunction\n",
    "H = hamiltonian(pauli_list,interactions)\n",
    "E0,psi0 = eigensolve(H)\n",
    "print('Ground state energy: %.10f\\n' % E0 )\n",
    "print('Ground state wavefunction:\\n\\n',psi0)"
   ]
  },
  {
   "cell_type": "markdown",
   "metadata": {},
   "source": [
    " ## Neural-network reconstruction"
   ]
  },
  {
   "cell_type": "markdown",
   "metadata": {},
   "source": [
    "Quantum state reconstruction of the LiH ground state with a restricted Boltzmann machine, using the NetKet library.\n",
    "\n",
    "References:\n",
    "- _\"Machine learning quantum states in the NISQ era\"_ : review of quantum state reconstruction with restricted Boltzmann machines. https://arxiv.org/abs/1905.04312\n",
    "- _\"Precise measurement of quantum observables with neural-network estimators\"_ RBM reconstruction of molecular ground states. https://arxiv.org/abs/1910.07596\n",
    "- _\"NetKet: A Machine Learning Toolkit for Many-Body Quantum Systems\"_ Overview of the NetKet software library. https://arxiv.org/abs/1904.00031"
   ]
  },
  {
   "cell_type": "code",
   "execution_count": 6,
   "metadata": {},
   "outputs": [],
   "source": [
    "from mpi4py import MPI \n",
    "import netket as nk"
   ]
  },
  {
   "cell_type": "code",
   "execution_count": 7,
   "metadata": {},
   "outputs": [],
   "source": [
    "# Unitary matrices for the rotation in the X and Y bases\n",
    "rotationX = 1./(math.sqrt(2))*np.asarray([[1.,1.],[1.,-1.]])\n",
    "rotationY= 1./(math.sqrt(2))*np.asarray([[1.,-1j],[1.,1j]])\n",
    "\n",
    "def LoadData(N,hilbert,path_to_samples, path_to_bases):\n",
    "    training_samples = []\n",
    "    training_bases = []\n",
    "\n",
    "    tsamples = np.loadtxt(path_to_samples)\n",
    "    assert(N == tsamples.shape[1])\n",
    "    fin_bases = open(path_to_bases, 'r')\n",
    "    lines = fin_bases.readlines()\n",
    "\n",
    "    bases = []\n",
    "\n",
    "    for b in lines:\n",
    "        basis = \"\"\n",
    "        assert(len(b) == N + 1)\n",
    "        for j in range(N):\n",
    "            basis += b[j]\n",
    "        bases.append(basis)\n",
    "    index_list = sorted(range(len(bases)), key=lambda k: bases[k])\n",
    "    bases.sort()\n",
    "\n",
    "    for i in range(len(tsamples)):\n",
    "        training_samples.append(tsamples[index_list[i]].tolist())\n",
    "\n",
    "    rotations = []\n",
    "\n",
    "    tmp = ''\n",
    "    b_index = -1\n",
    "    for b in bases:\n",
    "        if (b != tmp):\n",
    "            tmp = b\n",
    "            localop = nk.operator.LocalOperator(hilbert, 1.0)\n",
    "\n",
    "            for j in range(N):\n",
    "                if (tmp[j] == 'X'):\n",
    "                    localop *= nk.operator.LocalOperator(hilbert, rotationX, [j])\n",
    "                if (tmp[j] == 'Y'):\n",
    "                    localop *= nk.operator.LocalOperator(hilbert, rotationY, [j])\n",
    "\n",
    "            rotations.append(localop)\n",
    "            b_index += 1\n",
    "        training_bases.append(b_index)\n",
    "\n",
    "    return tuple(rotations), np.asarray(training_samples), np.asarray(training_bases)\n",
    "\n",
    "def OperatorFromString(op_string):                                                \n",
    "    OpList = []                                                                   \n",
    "    Sites = []                                                                    \n",
    "    for k in range(len(op_string)):                                               \n",
    "        if (op_string[k] == 'X'):                                                 \n",
    "            OpList.append(X)                                                      \n",
    "            Sites.append(k)                                                       \n",
    "        elif (op_string[k] == 'Y'):                                               \n",
    "            OpList.append(Y)                                                      \n",
    "            Sites.append(k)                                                       \n",
    "        elif (op_string[k] == 'Z'):                                               \n",
    "            OpList.append(Z)                                                      \n",
    "            Sites.append(k)                                                       \n",
    "    return Sites,reduce(np.kron,OpList) \n",
    "\n",
    "def BuildHamiltonian(N,hilbert,pauli_path,interactions_path):                     \n",
    "    pauli = np.load(pauli_path,allow_pickle=True)                                 \n",
    "    interactions = np.load(interactions_path,allow_pickle=True)                   \n",
    "                                                                                  \n",
    "    hamiltonian = nk.operator.LocalOperator(hilbert, 0.0)                                                                                 \n",
    "    for h in range(0,len(pauli)):                                                                                           \n",
    "        flag = 0                                                                  \n",
    "        for j in range(N):                                                        \n",
    "            if (pauli[h][j]!='I'): flag = 1; break                                \n",
    "        if flag == 0:                                                             \n",
    "            hamiltonian += nk.operator.LocalOperator(hilbert,np.real(interactions[h]))\n",
    "        else:                                                                     \n",
    "            sites,operator = OperatorFromString(pauli[h])                         \n",
    "            h_term = interactions[h]*operator\n",
    "            hamiltonian += nk.operator.LocalOperator(hilbert,h_term,sites)        \n",
    "            \n",
    "    return hamiltonian "
   ]
  },
  {
   "cell_type": "code",
   "execution_count": 8,
   "metadata": {},
   "outputs": [],
   "source": [
    "N = 4          # Number of qubits\n",
    "ns = 100000    # Number of training samples\n",
    "lr = 0.01      # Learning rate\n",
    "M = 10000      # Number of samples for the negative CD phase\n",
    "bs = 1000      # Batch size\n",
    "epochs = 500   # Epochs\n",
    "\n",
    "samples_path = \"train_samples.txt\"\n",
    "bases_path = \"train_bases.txt\"\n",
    "pauli_path = \"paulis.file\"\n",
    "interactions_path = \"interactions.file\""
   ]
  },
  {
   "cell_type": "code",
   "execution_count": 9,
   "metadata": {},
   "outputs": [],
   "source": [
    "# Lattice\n",
    "graph = nk.graph.Hypercube(length=N, n_dim=1,pbc=False)\n",
    "# Hilbert space\n",
    "hilbert = nk.hilbert.Qubit(graph=graph)\n",
    "# NetKet Hamiltonian\n",
    "hamiltonian = BuildHamiltonian(N,hilbert,pauli_path,interactions_path)"
   ]
  },
  {
   "cell_type": "code",
   "execution_count": 10,
   "metadata": {},
   "outputs": [],
   "source": [
    "# Load training data\n",
    "rotations, tr_samples, tr_bases = LoadData(N,hilbert,samples_path, bases_path)\n",
    "if (ns > tr_samples.shape[0]):\n",
    "    \"Not enough training samples\"\n",
    "else:\n",
    "    training_samples = tr_samples[0:ns]\n",
    "    training_bases   = tr_bases[0:ns]"
   ]
  },
  {
   "cell_type": "code",
   "execution_count": 11,
   "metadata": {},
   "outputs": [],
   "source": [
    "# RBM wavefunction\n",
    "#ma = nk.machine.RbmSpinPhase(hilbert=hilbert, alpha=1)  # Real-weights RBM (amplitude + phase)\n",
    "ma = nk.machine.RbmSpin(hilbert=hilbert, alpha=1)        # Complex-weights RBM, alpha=num_hidden/N\n",
    "ma.init_random_parameters(seed=1234, sigma=0.01)"
   ]
  },
  {
   "cell_type": "code",
   "execution_count": 12,
   "metadata": {},
   "outputs": [],
   "source": [
    "# Sampler\n",
    "sa = nk.sampler.MetropolisLocal(machine=ma)\n",
    "\n",
    "# Optimizer + Stochastic Reconfiguration\n",
    "#op = nk.optimizer.Sgd(learning_rate=lr)\n",
    "op = nk.optimizer.RmsProp(learning_rate=lr,beta=0.9,epscut = 1.0e-6)\n",
    "sr = nk.optimizer.SR(diag_shift=0.1)"
   ]
  },
  {
   "cell_type": "code",
   "execution_count": 13,
   "metadata": {},
   "outputs": [],
   "source": [
    "# Quantum state tomography object\n",
    "qst = nk.Qsr(\n",
    "    sampler=sa,\n",
    "    optimizer=op,\n",
    "    samples=training_samples,\n",
    "    rotations=rotations,\n",
    "    bases=training_bases,\n",
    "    n_samples=M,\n",
    "    n_samples_data=bs,\n",
    "    sr=sr,\n",
    "    #sr=None\n",
    ")\n",
    "# Measure the energy while training\n",
    "qst.add_observable(hamiltonian, \"Energy\")"
   ]
  },
  {
   "cell_type": "code",
   "execution_count": 14,
   "metadata": {},
   "outputs": [
    {
     "name": "stdout",
     "output_type": "stream",
     "text": [
      "Epoch = 10   Overlap = 0.327257   observables={'Energy': (-8.0233 - 0.0000i) ± 0.0062 [var=0.5156, R=0.99979]}\n",
      "Epoch = 20   Overlap = 0.376776   observables={'Energy': (-8.0692 + 0.0003i) ± 0.0076 [var=0.5423, R=1.00005]}\n",
      "Epoch = 30   Overlap = 0.428146   observables={'Energy': (-8.1155 + 0.0007i) ± 0.0080 [var=0.5612, R=1.00011]}\n",
      "Epoch = 40   Overlap = 0.491451   observables={'Energy': (-8.1778 + 0.0009i) ± 0.0063 [var=0.5494, R=0.99978]}\n",
      "Epoch = 50   Overlap = 0.564125   observables={'Energy': (-8.2760 - 0.0002i) ± 0.0079 [var=0.5185, R=1.00017]}\n",
      "Epoch = 60   Overlap = 0.665552   observables={'Energy': (-8.3761 + 0.0020i) ± 0.0094 [var=0.4770, R=1.00067]}\n",
      "Epoch = 70   Overlap = 0.763417   observables={'Energy': (-8.5273 - 0.0009i) ± 0.0095 [var=0.3850, R=1.00109]}\n",
      "Epoch = 80   Overlap = 0.855221   observables={'Energy': (-8.6480 + 0.0010i) ± 0.0069 [var=0.2699, R=1.00061]}\n",
      "Epoch = 90   Overlap = 0.916431   observables={'Energy': (-8.7575 + 0.0007i) ± 0.0077 [var=0.1559, R=1.00221]}\n",
      "Epoch = 100   Overlap = 0.951151   observables={'Energy': (-8.8152 - 0.0004i) ± 0.0087 [var=0.0960, R=1.00551]}\n",
      "Epoch = 110   Overlap = 0.963635   observables={'Energy': (-8.822 - 0.003i) ± 0.020 [var=0.097, R=1.03089]}\n",
      "Epoch = 120   Overlap = 0.959087   observables={'Energy': (-8.8629 + 0.0084i) ± 0.0050 [var=0.0200, R=1.00934]}\n",
      "Epoch = 130   Overlap = 0.974665   observables={'Energy': (-8.8607 + 0.0016i) ± 0.0083 [var=0.0435, R=1.01194]}\n",
      "Epoch = 140   Overlap = 0.982254   observables={'Energy': (-8.8737 - 0.0034i) ± 0.0096 [var=0.0349, R=1.02035]}\n",
      "Epoch = 150   Overlap = 0.986361   observables={'Energy': (-8.885 + 0.001i) ± 0.010 [var=0.022, R=1.03725]}\n",
      "Epoch = 160   Overlap = 0.991018   observables={'Energy': (-8.888 - 0.004i) ± 0.010 [var=0.019, R=1.04179]}\n",
      "Epoch = 170   Overlap = 0.993444   observables={'Energy': (-8.8989 + 0.0046i) ± 0.0038 [var=0.0068, R=1.01577]}\n",
      "Epoch = 180   Overlap = 0.995299   observables={'Energy': (-8.9012 + 0.0031i) ± 0.0042 [var=0.0061, R=1.02196]}\n",
      "Epoch = 190   Overlap = 0.994232   observables={'Energy': (-8.9027 + 0.0045i) ± 0.0065 [var=0.0063, R=1.05135]}\n",
      "Epoch = 200   Overlap = 0.997021   observables={'Energy': (-8.9041 + 0.0057i) ± 0.0020 [var=0.0034, R=1.00830]}\n",
      "Epoch = 210   Overlap = 0.996943   observables={'Energy': (-8.9088 + 0.0043i) ± 0.0019 [var=0.0021, R=1.01241]}\n",
      "Epoch = 220   Overlap = 0.998480   observables={'Energy': (-8.9053 + 0.0012i) ± 0.0013 [var=0.0021, R=1.00586]}\n",
      "Epoch = 230   Overlap = 0.998087   observables={'Energy': (-8.90391 + 0.00126i) ± 0.00084 [var=0.00404, R=1.00059]}\n",
      "Epoch = 240   Overlap = 0.998531   observables={'Energy': (-8.8986 - 0.0055i) ± 0.0039 [var=0.0055, R=1.02063]}\n",
      "Epoch = 250   Overlap = 0.999184   observables={'Energy': (-8.90649 + 0.00028i) ± 0.00050 [var=0.00036, R=1.00475]}\n",
      "Epoch = 260   Overlap = 0.998960   observables={'Energy': (-8.90636 - 0.00170i) ± 0.00099 [var=0.00122, R=1.00555]}\n",
      "Epoch = 270   Overlap = 0.998730   observables={'Energy': (-8.9035 + 0.0006i) ± 0.0020 [var=0.0022, R=1.01338]}\n",
      "Epoch = 280   Overlap = 0.999141   observables={'Energy': (-8.9026 + 0.0016i) ± 0.0025 [var=0.0022, R=1.02143]}\n",
      "Epoch = 290   Overlap = 0.997833   observables={'Energy': (-8.9052 - 0.0003i) ± 0.0019 [var=0.0052, R=1.00494]}\n",
      "Epoch = 300   Overlap = 0.999170   observables={'Energy': (-8.9060 + 0.0010i) ± 0.0013 [var=0.0030, R=1.00340]}\n",
      "Epoch = 310   Overlap = 0.998943   observables={'Energy': (-8.9060 - 0.0001i) ± 0.0011 [var=0.0016, R=1.00475]}\n",
      "Epoch = 320   Overlap = 0.998417   observables={'Energy': (-8.9008 - 0.0011i) ± 0.0028 [var=0.0043, R=1.01431]}\n",
      "Epoch = 330   Overlap = 0.998897   observables={'Energy': (-8.9070 - 0.0000i) ± 0.0014 [var=0.0009, R=1.01581]}\n",
      "Epoch = 340   Overlap = 0.999499   observables={'Energy': (-8.9070 + 0.0000i) ± 0.0020 [var=0.0011, R=1.02857]}\n",
      "Epoch = 350   Overlap = 0.999104   observables={'Energy': (-8.9032 + 0.0003i) ± 0.0023 [var=0.0032, R=1.01238]}\n",
      "Epoch = 360   Overlap = 0.998945   observables={'Energy': (-8.9068 - 0.0015i) ± 0.0018 [var=0.0030, R=1.00795]}\n",
      "Epoch = 370   Overlap = 0.996236   observables={'Energy': (-8.9139 + 0.0036i) ± 0.0015 [var=0.0011, R=1.01604]}\n",
      "Epoch = 380   Overlap = 0.998327   observables={'Energy': (-8.9069 + 0.0018i) ± 0.0019 [var=0.0019, R=1.01344]}\n",
      "Epoch = 390   Overlap = 0.999449   observables={'Energy': (-8.90660 + 0.00064i) ± 0.00049 [var=0.00063, R=1.00231]}\n",
      "Epoch = 400   Overlap = 0.999233   observables={'Energy': (-8.9082 - 0.0010i) ± 0.0028 [var=0.0017, R=1.03676]}\n",
      "Epoch = 410   Overlap = 0.999122   observables={'Energy': (-8.8982 - 0.0022i) ± 0.0031 [var=0.0037, R=1.01918]}\n",
      "Epoch = 420   Overlap = 0.998911   observables={'Energy': (-8.9075 - 0.0000i) ± 0.0027 [var=0.0014, R=1.04236]}\n",
      "Epoch = 430   Overlap = 0.999436   observables={'Energy': (-8.9067 - 0.0020i) ± 0.0011 [var=0.0014, R=1.00602]}\n",
      "Epoch = 440   Overlap = 0.999391   observables={'Energy': (-8.90716 - 0.00016i) ± 0.00062 [var=0.00053, R=1.00499]}\n",
      "Epoch = 450   Overlap = 0.999413   observables={'Energy': (-8.90676 + 0.00020i) ± 0.00062 [var=0.00111, R=1.00194]}\n",
      "Epoch = 460   Overlap = 0.998248   observables={'Energy': (-8.8970 - 0.0041i) ± 0.0052 [var=0.0067, R=1.03108]}\n",
      "Epoch = 470   Overlap = 0.998806   observables={'Energy': (-8.9039 - 0.0014i) ± 0.0030 [var=0.0024, R=1.02853]}\n",
      "Epoch = 480   Overlap = 0.999014   observables={'Energy': (-8.9072 - 0.0049i) ± 0.0027 [var=0.0040, R=1.01337]}\n",
      "Epoch = 490   Overlap = 0.998935   observables={'Energy': (-8.9056 + 0.0011i) ± 0.0022 [var=0.0020, R=1.01776]}\n",
      "Epoch = 500   Overlap = 0.999349   observables={'Energy': (-8.90714 + 0.00028i) ± 0.00092 [var=0.00156, R=1.00353]}\n"
     ]
    }
   ],
   "source": [
    "# Training loop\n",
    "for ep in qst.iter(epochs, 10):\n",
    "    # Get energy measurement\n",
    "    obs = qst.get_observable_stats()\n",
    "    # Compute fidelity with exact state\n",
    "    psima = ma.to_array()\n",
    "    overlap = np.abs(np.vdot(psima, psi0))\n",
    "\n",
    "    print('Epoch = %d   ' % ep,end='')\n",
    "    print('Overlap = %.6f   '% overlap,end='')\n",
    "    print(\"observables={}\".format(obs))"
   ]
  },
  {
   "cell_type": "code",
   "execution_count": null,
   "metadata": {},
   "outputs": [],
   "source": []
  }
 ],
 "metadata": {
  "kernelspec": {
   "display_name": "Python 3",
   "language": "python",
   "name": "python3"
  },
  "language_info": {
   "codemirror_mode": {
    "name": "ipython",
    "version": 3
   },
   "file_extension": ".py",
   "mimetype": "text/x-python",
   "name": "python",
   "nbconvert_exporter": "python",
   "pygments_lexer": "ipython3",
   "version": "3.7.3"
  }
 },
 "nbformat": 4,
 "nbformat_minor": 2
}