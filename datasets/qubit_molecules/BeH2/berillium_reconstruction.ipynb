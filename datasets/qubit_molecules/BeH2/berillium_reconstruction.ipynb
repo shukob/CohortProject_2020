{
 "cells": [
  {
   "cell_type": "markdown",
   "metadata": {},
   "source": [
    "# Qubit-data for Berillium Hydride"
   ]
  },
  {
   "cell_type": "code",
   "execution_count": 1,
   "metadata": {},
   "outputs": [],
   "source": [
    "import pickle\n",
    "from pylab import *\n",
    "import numpy as np\n",
    "import math as m\n",
    "from functools import reduce\n",
    "import matplotlib.pyplot as plt"
   ]
  },
  {
   "cell_type": "markdown",
   "metadata": {},
   "source": [
    "## Preliminaries"
   ]
  },
  {
   "cell_type": "markdown",
   "metadata": {},
   "source": [
    "The fermionic Hamiltonian in second quantization (with $M$ orbitals)\n",
    "\n",
    "$$ H = \\sum_{\\alpha,\\beta=1}^M t_{\\alpha\\beta}c^\\dagger_\\alpha c_\\beta + \\frac{1}{2}\\sum_{\\alpha\\beta=1}^M\\sum_{\\gamma\\delta=1}^M u_{\\alpha\\beta\\gamma\\delta}c^\\dagger_\\alpha c^\\dagger_\\gamma c_\\delta c_\\beta $$\n",
    "\n",
    "is mapped into a qubit Hamiltonian in the form\n",
    "\n",
    "$$ H = \\sum_kc_kP_k $$\n",
    "\n",
    "where $c_k$ are interaction coefficients and $P_k$ are elements of the $N$-qubit Pauli group $\\mathcal{P}_N=\\{\\mathbb{1},X,Y,Z\\}^{\\otimes N}$.\n",
    "\n",
    "The interaction coefficients and the Pauli operators can be found in the `interaction.file` and the `pauli.file` respectively.\n",
    "\n",
    "Specifics:\n",
    "- Number of qubits: 6\n",
    "- Molecule geometry: bond distance\n",
    "- Fermionic basis: atomic STO-3G\n",
    "- Qubit mapping: spin-parity + qubit tapering"
   ]
  },
  {
   "cell_type": "markdown",
   "metadata": {},
   "source": [
    "## Exact diagonalization"
   ]
  },
  {
   "cell_type": "code",
   "execution_count": 2,
   "metadata": {},
   "outputs": [],
   "source": [
    "# Identity \n",
    "I = np.asarray([[1.,0.],[0.,1.]])\n",
    "# Pauli X\n",
    "X = np.asarray([[0.,1.],[1.,0.]])\n",
    "# Pauli Y\n",
    "Y = np.asarray([[0.,-1j],[1j,0.]])\n",
    "# Pauli Z\n",
    "Z = np.asarray([[1.,0.],[0.,-1.]])"
   ]
  },
  {
   "cell_type": "code",
   "execution_count": 3,
   "metadata": {},
   "outputs": [],
   "source": [
    "def operatorfromstring(pauli_string):\n",
    "    \"\"\"\n",
    "    Generate a many-body operator from a list of single-qubit \n",
    "    pauli matrices.\n",
    "    ---------------------------------------------------------\n",
    "    Input    pauli_string: str , (ex: [X,Z,X,Y,...])\n",
    "    \n",
    "    Output   pauli_op: np.array, shape = [2**N,2**N]\n",
    "    \"\"\"\n",
    "    op_list = []\n",
    "    for k in range(len(pauli_string)):\n",
    "        if (pauli_string[k] == 'X'):\n",
    "            op_list.append(X)\n",
    "        elif (pauli_string[k] == 'Y'):\n",
    "            op_list.append(Y)\n",
    "        elif (pauli_string[k] == 'Z'):\n",
    "            op_list.append(Z)\n",
    "        else:\n",
    "            op_list.append(I)\n",
    "\n",
    "    return reduce(np.kron,op_list)\n",
    "\n",
    "def hamiltonian(pauli_list,interactions):\n",
    "    \"\"\"\n",
    "    Generate a many-body hamiltonian\n",
    "    ---------------------------------------------------------\n",
    "    Input    pauli_list: list of pauli strings\n",
    "             interactions: list of interaction strengths\n",
    "    \n",
    "    Output   hamiltonian: np.array, shape = [2**N,2**N]\n",
    "    \"\"\"\n",
    "    N = len(pauli_list[0])\n",
    "    hamiltonian = np.zeros((1<<N,1<<N),dtype=complex)\n",
    "    for i,pauli in enumerate(pauli_list):\n",
    "        hamiltonian += interactions[i]*operatorfromstring(pauli)\n",
    "    return hamiltonian\n",
    "\n",
    "def eigensolve(hamiltonian):\n",
    "    \"\"\"\n",
    "    Compute ground state energy and wavefunction\n",
    "    \"\"\"\n",
    "    (eigenvalues,eigenstates) = np.linalg.eigh(hamiltonian)\n",
    "    return eigenvalues[0],eigenstates[:,0]"
   ]
  },
  {
   "cell_type": "code",
   "execution_count": 4,
   "metadata": {},
   "outputs": [
    {
     "name": "stdout",
     "output_type": "stream",
     "text": [
      "Pauli: IIIIII  | Interaction: -1.707E+01\n",
      "Pauli: ZIIIII  | Interaction: 1.156E-01\n",
      "Pauli: XXZIII  | Interaction: 7.270E-03\n",
      "Pauli: YYIIII  | Interaction: 7.270E-03\n",
      "Pauli: ZZIIII  | Interaction: 1.000E-01\n",
      "Pauli: ZXXIII  | Interaction: -4.618E-03\n",
      "Pauli: IYYIII  | Interaction: -4.618E-03\n",
      "Pauli: IZZIII  | Interaction: -1.599E-01\n",
      "Pauli: IIZIII  | Interaction: -3.908E-01\n",
      "Pauli: IIIZII  | Interaction: 1.156E-01\n",
      "...\n"
     ]
    }
   ],
   "source": [
    "pauli_list   = np.load('paulis.file',allow_pickle=True)\n",
    "interactions = np.load('interactions.file',allow_pickle = True)\n",
    "for k in range(10):\n",
    "    print('Pauli:',pauli_list[k],' | Interaction: %.3E' % interactions[k])\n",
    "print('...')"
   ]
  },
  {
   "cell_type": "code",
   "execution_count": 5,
   "metadata": {},
   "outputs": [
    {
     "name": "stdout",
     "output_type": "stream",
     "text": [
      "Ground state energy: -19.0387950494\n",
      "\n",
      "Ground state wavefunction:\n",
      "\n",
      " [ 0.00000000e+00+0.j -6.47852018e-29+0.j -8.02672576e-28+0.j\n",
      "  5.42296813e-16+0.j  1.07582190e-28+0.j -1.37780097e-16+0.j\n",
      "  1.03208053e-16+0.j  1.49663083e-28+0.j -4.55082528e-16+0.j\n",
      " -8.71311245e-03+0.j -1.62174211e-03+0.j -3.26281516e-16+0.j\n",
      "  5.64321033e-03+0.j  2.22414554e-17+0.j -2.22038102e-16+0.j\n",
      " -1.87897356e-03+0.j  8.57222821e-16+0.j -1.62174211e-03+0.j\n",
      "  6.18030936e-02+0.j -3.57279738e-16+0.j  2.66801733e-03+0.j\n",
      "  1.56648199e-17+0.j -9.94474300e-17+0.j -4.75449726e-02+0.j\n",
      " -3.79470760e-19+0.j  1.77788017e-16+0.j -1.55986546e-16+0.j\n",
      "  2.79809215e-02+0.j -1.44125987e-15+0.j  7.19978005e-21+0.j\n",
      " -4.19017623e-02+0.j  2.90617249e-17+0.j  5.19755245e-17+0.j\n",
      "  5.64321033e-03+0.j  2.66801733e-03+0.j  1.25630230e-15+0.j\n",
      " -9.89989331e-01+0.j -4.70387295e-19+0.j -1.32105193e-15+0.j\n",
      "  3.19908661e-03+0.j  1.37780097e-16+0.j -6.90890812e-18+0.j\n",
      " -1.88746515e-17+0.j -4.95973280e-18+0.j -7.26961993e-19+0.j\n",
      " -1.91901657e-31+0.j -4.41831156e-19+0.j  3.90108547e-18+0.j\n",
      "  1.37511293e-20+0.j -1.79396098e-17+0.j  1.02367076e-15+0.j\n",
      " -4.19017623e-02+0.j  4.68754884e-15+0.j -2.40990326e-22+0.j\n",
      "  7.44036686e-02+0.j -4.98868914e-17+0.j -1.91352426e-17+0.j\n",
      " -1.87897356e-03+0.j -4.75449726e-02+0.j -2.03209348e-16+0.j\n",
      "  3.19908661e-03+0.j -5.55336235e-18+0.j  1.15359111e-16+0.j\n",
      "  3.95406695e-02+0.j]\n"
     ]
    }
   ],
   "source": [
    "# Build the full Hamiltonian and get the ground state energy / wavefunction\n",
    "H = hamiltonian(pauli_list,interactions)\n",
    "E0,psi0 = eigensolve(H)\n",
    "print('Ground state energy: %.10f\\n' % E0 )\n",
    "print('Ground state wavefunction:\\n\\n',psi0)"
   ]
  },
  {
   "cell_type": "markdown",
   "metadata": {},
   "source": [
    " ## Neural-network reconstruction"
   ]
  },
  {
   "cell_type": "markdown",
   "metadata": {},
   "source": [
    "Quantum state reconstruction of the BeH2 ground state with a restricted Boltzmann machine, using the NetKet library.\n",
    "\n",
    "References:\n",
    "- _\"Machine learning quantum states in the NISQ era\"_ : review of quantum state reconstruction with restricted Boltzmann machines. https://arxiv.org/abs/1905.04312\n",
    "- _\"Precise measurement of quantum observables with neural-network estimators\"_ RBM reconstruction of molecular ground states. https://arxiv.org/abs/1910.07596\n",
    "- _\"NetKet: A Machine Learning Toolkit for Many-Body Quantum Systems\"_ Overview of the NetKet software library. https://arxiv.org/abs/1904.00031"
   ]
  },
  {
   "cell_type": "code",
   "execution_count": 6,
   "metadata": {},
   "outputs": [
    {
     "ename": "ModuleNotFoundError",
     "evalue": "No module named 'mpi4py'",
     "output_type": "error",
     "traceback": [
      "\u001B[0;31m---------------------------------------------------------------------------\u001B[0m",
      "\u001B[0;31mModuleNotFoundError\u001B[0m                       Traceback (most recent call last)",
      "\u001B[0;32m<ipython-input-6-c0e5866123a6>\u001B[0m in \u001B[0;36m<module>\u001B[0;34m\u001B[0m\n\u001B[0;32m----> 1\u001B[0;31m \u001B[0;32mfrom\u001B[0m \u001B[0mmpi4py\u001B[0m \u001B[0;32mimport\u001B[0m \u001B[0mMPI\u001B[0m\u001B[0;34m\u001B[0m\u001B[0;34m\u001B[0m\u001B[0m\n\u001B[0m\u001B[1;32m      2\u001B[0m \u001B[0;32mimport\u001B[0m \u001B[0mnetket\u001B[0m \u001B[0;32mas\u001B[0m \u001B[0mnk\u001B[0m\u001B[0;34m\u001B[0m\u001B[0;34m\u001B[0m\u001B[0m\n\u001B[1;32m      3\u001B[0m \u001B[0;34m\u001B[0m\u001B[0m\n",
      "\u001B[0;31mModuleNotFoundError\u001B[0m: No module named 'mpi4py'"
     ]
    }
   ],
   "source": [
    "from mpi4py import MPI \n",
    "import netket as nk"
   ]
  },
  {
   "cell_type": "code",
   "execution_count": 7,
   "metadata": {},
   "outputs": [],
   "source": [
    "# Unitary matrices for the rotation in the X and Y bases\n",
    "rotationX = 1./(math.sqrt(2))*np.asarray([[1.,1.],[1.,-1.]])\n",
    "rotationY= 1./(math.sqrt(2))*np.asarray([[1.,-1j],[1.,1j]])\n",
    "\n",
    "def LoadData(N,hilbert,path_to_samples, path_to_bases):\n",
    "    training_samples = []\n",
    "    training_bases = []\n",
    "\n",
    "    tsamples = np.loadtxt(path_to_samples)\n",
    "    assert(N == tsamples.shape[1])\n",
    "    fin_bases = open(path_to_bases, 'r')\n",
    "    lines = fin_bases.readlines()\n",
    "\n",
    "    bases = []\n",
    "\n",
    "    for b in lines:\n",
    "        basis = \"\"\n",
    "        assert(len(b) == N + 1)\n",
    "        for j in range(N):\n",
    "            basis += b[j]\n",
    "        bases.append(basis)\n",
    "    index_list = sorted(range(len(bases)), key=lambda k: bases[k])\n",
    "    bases.sort()\n",
    "\n",
    "    for i in range(len(tsamples)):\n",
    "        training_samples.append(tsamples[index_list[i]].tolist())\n",
    "\n",
    "    rotations = []\n",
    "\n",
    "    tmp = ''\n",
    "    b_index = -1\n",
    "    for b in bases:\n",
    "        if (b != tmp):\n",
    "            tmp = b\n",
    "            localop = nk.operator.LocalOperator(hilbert, 1.0)\n",
    "\n",
    "            for j in range(N):\n",
    "                if (tmp[j] == 'X'):\n",
    "                    localop *= nk.operator.LocalOperator(hilbert, rotationX, [j])\n",
    "                if (tmp[j] == 'Y'):\n",
    "                    localop *= nk.operator.LocalOperator(hilbert, rotationY, [j])\n",
    "\n",
    "            rotations.append(localop)\n",
    "            b_index += 1\n",
    "        training_bases.append(b_index)\n",
    "\n",
    "    return tuple(rotations), np.asarray(training_samples), np.asarray(training_bases)\n",
    "\n",
    "def OperatorFromString(op_string):                                                \n",
    "    OpList = []                                                                   \n",
    "    Sites = []                                                                    \n",
    "    for k in range(len(op_string)):                                               \n",
    "        if (op_string[k] == 'X'):                                                 \n",
    "            OpList.append(X)                                                      \n",
    "            Sites.append(k)                                                       \n",
    "        elif (op_string[k] == 'Y'):                                               \n",
    "            OpList.append(Y)                                                      \n",
    "            Sites.append(k)                                                       \n",
    "        elif (op_string[k] == 'Z'):                                               \n",
    "            OpList.append(Z)                                                      \n",
    "            Sites.append(k)                                                       \n",
    "    return Sites,reduce(np.kron,OpList) \n",
    "\n",
    "def BuildHamiltonian(N,hilbert,pauli_path,interactions_path):                     \n",
    "    pauli = np.load(pauli_path,allow_pickle=True)                                 \n",
    "    interactions = np.load(interactions_path,allow_pickle=True)                   \n",
    "                                                                                  \n",
    "    hamiltonian = nk.operator.LocalOperator(hilbert, 0.0)                                                                                 \n",
    "    for h in range(0,len(pauli)):                                                                                           \n",
    "        flag = 0                                                                  \n",
    "        for j in range(N):                                                        \n",
    "            if (pauli[h][j]!='I'): flag = 1; break                                \n",
    "        if flag == 0:                                                             \n",
    "            hamiltonian += nk.operator.LocalOperator(hilbert,np.real(interactions[h]))\n",
    "        else:                                                                     \n",
    "            sites,operator = OperatorFromString(pauli[h])                         \n",
    "            h_term = interactions[h]*operator\n",
    "            hamiltonian += nk.operator.LocalOperator(hilbert,h_term,sites)        \n",
    "            \n",
    "    return hamiltonian "
   ]
  },
  {
   "cell_type": "code",
   "execution_count": 8,
   "metadata": {},
   "outputs": [],
   "source": [
    "N = 6          # Number of qubits\n",
    "ns = 100000    # Number of training samples\n",
    "lr = 0.01      # Learning rate\n",
    "M = 20000      # Number of samples for the negative CD phase\n",
    "bs = 10000     # Batch size\n",
    "epochs = 300   # Epochs\n",
    "\n",
    "samples_path = \"train_samples.txt\"\n",
    "bases_path = \"train_bases.txt\"\n",
    "pauli_path = \"paulis.file\"\n",
    "interactions_path = \"interactions.file\""
   ]
  },
  {
   "cell_type": "code",
   "execution_count": 9,
   "metadata": {},
   "outputs": [],
   "source": [
    "# Lattice\n",
    "graph = nk.graph.Hypercube(length=N, n_dim=1,pbc=False)\n",
    "# Hilbert space\n",
    "hilbert = nk.hilbert.Qubit(graph=graph)\n",
    "# NetKet Hamiltonian\n",
    "hamiltonian = BuildHamiltonian(N,hilbert,pauli_path,interactions_path)"
   ]
  },
  {
   "cell_type": "code",
   "execution_count": 10,
   "metadata": {},
   "outputs": [],
   "source": [
    "# Load training data\n",
    "rotations, tr_samples, tr_bases = LoadData(N,hilbert,samples_path, bases_path)\n",
    "if (ns > tr_samples.shape[0]):\n",
    "    \"Not enough training samples\"\n",
    "else:\n",
    "    training_samples = tr_samples[0:ns]\n",
    "    training_bases   = tr_bases[0:ns]"
   ]
  },
  {
   "cell_type": "code",
   "execution_count": 11,
   "metadata": {},
   "outputs": [],
   "source": [
    "# RBM wavefunction\n",
    "#ma = nk.machine.RbmSpinPhase(hilbert=hilbert, alpha=1)  # Real-weights RBM (amplitude + phase)\n",
    "ma = nk.machine.RbmSpin(hilbert=hilbert, alpha=1)        # Complex-weights RBM, alpha=num_hidden/N\n",
    "ma.init_random_parameters(seed=12345, sigma=0.01)"
   ]
  },
  {
   "cell_type": "code",
   "execution_count": 12,
   "metadata": {},
   "outputs": [],
   "source": [
    "# Sampler\n",
    "sa = nk.sampler.MetropolisLocal(machine=ma)\n",
    "\n",
    "# Optimizer + Stochastic Reconfiguration\n",
    "#op = nk.optimizer.Sgd(learning_rate=lr)\n",
    "op = nk.optimizer.RmsProp(learning_rate=lr,beta=0.9,epscut = 1.0e-6)\n",
    "sr = nk.optimizer.SR(diag_shift=0.1)"
   ]
  },
  {
   "cell_type": "code",
   "execution_count": 13,
   "metadata": {},
   "outputs": [],
   "source": [
    "# Quantum state tomography object\n",
    "qst = nk.Qsr(\n",
    "    sampler=sa,\n",
    "    optimizer=op,\n",
    "    samples=training_samples,\n",
    "    rotations=rotations,\n",
    "    bases=training_bases,\n",
    "    n_samples=M,\n",
    "    n_samples_data=bs,\n",
    "    sr=sr,\n",
    "    #sr=None\n",
    ")\n",
    "# Measure the energy while training\n",
    "qst.add_observable(hamiltonian, \"Energy\")"
   ]
  },
  {
   "cell_type": "code",
   "execution_count": 14,
   "metadata": {},
   "outputs": [
    {
     "name": "stdout",
     "output_type": "stream",
     "text": [
      "Epoch = 10   Overlap = 0.134155   observables={'Energy': (-16.9483 - 0.0003i) ± 0.0062 [var=0.8227, R=0.99997]}\n",
      "Epoch = 20   Overlap = 0.172400   observables={'Energy': (-17.0582 + 0.0009i) ± 0.0076 [var=0.9579, R=1.00008]}\n",
      "Epoch = 30   Overlap = 0.272103   observables={'Energy': (-17.3133 + 0.0005i) ± 0.0071 [var=1.1117, R=0.99996]}\n",
      "Epoch = 40   Overlap = 0.432497   observables={'Energy': (-17.7019 - 0.0006i) ± 0.0081 [var=1.1209, R=1.00007]}\n",
      "Epoch = 50   Overlap = 0.597499   observables={'Energy': (-18.055 + 0.001i) ± 0.014 [var=1.001, R=1.00116]}\n",
      "Epoch = 60   Overlap = 0.735652   observables={'Energy': (-18.377 - 0.001i) ± 0.011 [var=0.804, R=1.00079]}\n",
      "Epoch = 70   Overlap = 0.841320   observables={'Energy': (-18.642 - 0.000i) ± 0.011 [var=0.536, R=1.00154]}\n",
      "Epoch = 80   Overlap = 0.914462   observables={'Energy': (-18.816 - 0.000i) ± 0.011 [var=0.331, R=1.00243]}\n",
      "Epoch = 90   Overlap = 0.953910   observables={'Energy': (-18.9227 - 0.0001i) ± 0.0091 [var=0.1785, R=1.00328]}\n",
      "Epoch = 100   Overlap = 0.970549   observables={'Energy': (-18.9486 - 0.0001i) ± 0.0074 [var=0.1590, R=1.00234]}\n",
      "Epoch = 110   Overlap = 0.979270   observables={'Energy': (-18.9828 + 0.0018i) ± 0.0051 [var=0.0894, R=1.00197]}\n",
      "Epoch = 120   Overlap = 0.981595   observables={'Energy': (-18.9975 - 0.0019i) ± 0.0053 [var=0.0556, R=1.00371]}\n",
      "Epoch = 130   Overlap = 0.984022   observables={'Energy': (-18.9897 - 0.0042i) ± 0.0088 [var=0.0840, R=1.00688]}\n",
      "Epoch = 140   Overlap = 0.987000   observables={'Energy': (-18.9972 - 0.0020i) ± 0.0066 [var=0.0833, R=1.00381]}\n",
      "Epoch = 150   Overlap = 0.984869   observables={'Energy': (-18.962 - 0.016i) ± 0.023 [var=0.160, R=1.02516]}\n",
      "Epoch = 160   Overlap = 0.989024   observables={'Energy': (-18.9960 - 0.0015i) ± 0.0076 [var=0.0979, R=1.00429]}\n",
      "Epoch = 170   Overlap = 0.989991   observables={'Energy': (-19.000 - 0.007i) ± 0.010 [var=0.067, R=1.01206]}\n",
      "Epoch = 180   Overlap = 0.992365   observables={'Energy': (-19.0105 - 0.0034i) ± 0.0059 [var=0.0809, R=1.00306]}\n",
      "Epoch = 190   Overlap = 0.976188   observables={'Energy': (-19.0334 + 0.0123i) ± 0.0057 [var=0.0163, R=1.01547]}\n",
      "Epoch = 200   Overlap = 0.991720   observables={'Energy': (-19.0082 - 0.0059i) ± 0.0069 [var=0.0469, R=1.00768]}\n",
      "Epoch = 210   Overlap = 0.993128   observables={'Energy': (-19.0197 - 0.0002i) ± 0.0067 [var=0.0269, R=1.01279]}\n",
      "Epoch = 220   Overlap = 0.992475   observables={'Energy': (-18.965 - 0.008i) ± 0.024 [var=0.102, R=1.04240]}\n",
      "Epoch = 230   Overlap = 0.994169   observables={'Energy': (-19.0326 + 0.0021i) ± 0.0039 [var=0.0152, R=1.00755]}\n",
      "Epoch = 240   Overlap = 0.996314   observables={'Energy': (-19.0188 - 0.0030i) ± 0.0070 [var=0.0601, R=1.00604]}\n",
      "Epoch = 250   Overlap = 0.994556   observables={'Energy': (-19.010 + 0.002i) ± 0.010 [var=0.047, R=1.01807]}\n",
      "Epoch = 260   Overlap = 0.991859   observables={'Energy': (-19.0398 - 0.0036i) ± 0.0019 [var=0.0069, R=1.00382]}\n",
      "Epoch = 270   Overlap = 0.990182   observables={'Energy': (-19.0007 + 0.0017i) ± 0.0093 [var=0.0567, R=1.01165]}\n",
      "Epoch = 280   Overlap = 0.997058   observables={'Energy': (-19.0295 + 0.0007i) ± 0.0033 [var=0.0183, R=1.00432]}\n",
      "Epoch = 290   Overlap = 0.997474   observables={'Energy': (-19.0285 - 0.0001i) ± 0.0047 [var=0.0273, R=1.00597]}\n",
      "Epoch = 300   Overlap = 0.997522   observables={'Energy': (-19.0330 + 0.0006i) ± 0.0014 [var=0.0098, R=1.00115]}\n"
     ]
    }
   ],
   "source": [
    "# Training loop\n",
    "for ep in qst.iter(epochs, 10):\n",
    "    # Get energy measurement\n",
    "    obs = qst.get_observable_stats()\n",
    "    # Compute fidelity with exact state\n",
    "    psima = ma.to_array()\n",
    "    overlap = np.abs(np.vdot(psima, psi0))\n",
    "\n",
    "    print('Epoch = %d   ' % ep,end='')\n",
    "    print('Overlap = %.6f   '% overlap,end='')\n",
    "    print(\"observables={}\".format(obs))"
   ]
  },
  {
   "cell_type": "code",
   "execution_count": null,
   "metadata": {},
   "outputs": [],
   "source": []
  }
 ],
 "metadata": {
  "kernelspec": {
   "display_name": "Python 3",
   "language": "python",
   "name": "python3"
  },
  "language_info": {
   "codemirror_mode": {
    "name": "ipython",
    "version": 3
   },
   "file_extension": ".py",
   "mimetype": "text/x-python",
   "name": "python",
   "nbconvert_exporter": "python",
   "pygments_lexer": "ipython3",
   "version": "3.7.3"
  }
 },
 "nbformat": 4,
 "nbformat_minor": 2
}