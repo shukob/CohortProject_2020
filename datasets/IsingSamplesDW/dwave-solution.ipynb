{
 "cells": [
  {
   "cell_type": "markdown",
   "metadata": {
    "pycharm": {
     "name": "#%% md\n"
    }
   },
   "source": [
    "# Dwave dataset\n",
    "- Training RBM to learn distribution of Dwave output\n",
    "\n",
    "# Tasks\n",
    "1. Generate 10000 samples\n",
    "2. Ensure the samples are generated from an equilibrated model. What metric do you use to prove equilibrium?\n",
    "3. Report the mean of each Ising variable\n",
    "4. Report the mean correlation of pairs of variables listed\n",
    "\n",
    "#### Training\n",
    "- We first train RBM using PCD and track likelihood of training data to see if it converges.\n",
    "- Visible node count = 2041 is quite a high demand. With time limited for the cohort, the training is incomplete.\n",
    " - I could not use sufficient node count ~O(visible) for hidden nodes.\n",
    " - I could not use sufficient CD-k steps ~O(visible).\n",
    " - I could not do sufficient epochs.\n",
    "\n",
    "- Convergence, i.e. equilibrium, are tracked while training using log-likelihood ."
   ]
  },
  {
   "cell_type": "code",
   "execution_count": null,
   "metadata": {
    "collapsed": true
   },
   "outputs": [],
   "source": [
    "from datetime import datetime\n",
    "import pandas as pd\n",
    "import torch\n",
    "from helper import load_dataset\n",
    "train_data, test_data = load_dataset('dataset_x1a46w3557od23s750k9.npz')\n",
    "df = pd.read_csv('correlated_features.csv')\n",
    "\n",
    "from RBM_helper import RBM\n",
    "\n",
    "total_data_count, visible_nodes = train_data.shape\n",
    "\n",
    "\n",
    "n_vis = visible_nodes\n",
    "n_hin = int(n_vis / 10)\n",
    "rbm = RBM(n_vis, n_hin)\n",
    "\n",
    "train_data = torch.Tensor(train_data)\n",
    "\n",
    "def train(rbm):\n",
    "    epochs = 100\n",
    "    # num_samples = visible_nodes * 10\n",
    "    k_train = 100\n",
    "    k_validate = n_vis + n_hin\n",
    "    print('Starting training on n_h = ', n_hin)\n",
    "    energies = []\n",
    "    for e in range(1, epochs+1):\n",
    "        # do one epoch of training\n",
    "        start = datetime.now()\n",
    "        rbm.train(train_data, k=k_train)\n",
    "        end = datetime.now()\n",
    "        print(f\"Elapsed {end - start} for epoch {e}\")\n",
    "        # now generate samples and calculate the energy\n",
    "        if e % 10 == 0:\n",
    "            print(\"\\nEpoch: \", e)\n",
    "            # We check if log likelihood of training data converges\n",
    "            energy = rbm.effective_energy(train_data).item()\n",
    "            energies.append(energy)\n",
    "            print(\"Energy : \", energy)\n",
    "    return energies"
   ]
  },
  {
   "cell_type": "code",
   "execution_count": null,
   "metadata": {
    "pycharm": {
     "name": "#%%\n"
    }
   },
   "outputs": [],
   "source": [
    "likelihooods = train(rbm)\n",
    "rbm.save_params('dwave_k100_e400')\n",
    "df = pd.DataFrame(likelihoods)\n",
    "df.to_csv('dwave_k100_e400_ll.csv')"
   ]
  },
  {
   "cell_type": "markdown",
   "metadata": {
    "pycharm": {
     "name": "#%% md\n"
    }
   },
   "source": [
    "## 1 Drawing samples\n",
    "- Drawing from random state"
   ]
  },
  {
   "cell_type": "code",
   "execution_count": 1,
   "metadata": {
    "pycharm": {
     "name": "#%%\n"
    }
   },
   "outputs": [
    {
     "name": "stdout",
     "output_type": "stream",
     "text": [
      "Elapsed 0:00:10.529769 for k = 1000\n",
      "Elapsed 0:00:10.407516 for k = 1000\n"
     ]
    }
   ],
   "source": [
    "import torch\n",
    "from RBM_helper import RBM\n",
    "from datetime import datetime\n",
    "rbm = RBM.from_weights('params/dwave_k100_e400')\n",
    "n_vis = rbm.n_vis\n",
    "sample_count = 10000\n",
    "k = 1000\n",
    "initial_state = torch.rand((sample_count, n_vis)).cuda()\n",
    "rbm = rbm.to(initial_state)\n",
    "start = datetime.now()\n",
    "samples = rbm.draw_samples(k, initial_state)\n",
    "end = datetime.now()\n",
    "print(f\"Elapsed {end - start} for k = {k}\")\n",
    "\n",
    "rbm2 = RBM.from_weights('params/dwave_k100_e401-1000')\n",
    "rbm2 = rbm2.to(initial_state)\n",
    "start = datetime.now()\n",
    "samples2 = rbm.draw_samples(k, initial_state)\n",
    "end = datetime.now()\n",
    "print(f\"Elapsed {end - start} for k = {k}\")"
   ]
  },
  {
   "cell_type": "markdown",
   "source": [
    "## 2 Check if training is converged\n",
    "- By viewing log likelihood tracking, it seems the training is still ongoing.\n",
    "- However for rough qualitative point of view, it seems almost sufficient as shown in the following sections."
   ],
   "metadata": {
    "collapsed": false
   }
  },
  {
   "cell_type": "code",
   "execution_count": 1,
   "outputs": [
    {
     "data": {
      "text/plain": "<matplotlib.axes._subplots.AxesSubplot at 0x11e029d10>"
     },
     "execution_count": 1,
     "metadata": {},
     "output_type": "execute_result"
    },
    {
     "data": {
      "text/plain": "<Figure size 432x288 with 1 Axes>",
      "image/png": "[encoded data removed]"
     },
     "metadata": {
      "needs_background": "light"
     },
     "output_type": "display_data"
    }
   ],
   "source": [
    "import pandas as pd\n",
    "ll_df1 = pd.read_csv('training_logs/dwave_k100_e400_ll.csv', names=['Log Likelihood'], skiprows=1)\n",
    "ll_df2 = pd.read_csv('training_logs/dwave_k100_e401-1000_ll.csv', names=['Log Likelihood'], skiprows=1)\n",
    "ll_df2.index = list(range(400, 1000))\n",
    "ll_df = pd.concat([ll_df1, ll_df2])\n",
    "ll_df.index.name = 'Epoch'\n",
    "ll_df.plot()"
   ],
   "metadata": {
    "collapsed": false,
    "pycharm": {
     "name": "#%%\n"
    }
   }
  },
  {
   "cell_type": "markdown",
   "metadata": {
    "pycharm": {
     "name": "#%% md\n"
    }
   },
   "source": [
    "## 2 Calculating mean of each spins\n",
    "- While the log likelihood is still decreasing, another 600 epochs after 400 epochs does not change mean spin population.\n",
    "- It shows it almost reached the equilibrium state."
   ]
  },
  {
   "cell_type": "code",
   "execution_count": 12,
   "metadata": {
    "pycharm": {
     "name": "#%%\n"
    }
   },
   "outputs": [
    {
     "data": {
      "text/plain": [
       "Text(0.5, 0, 'Spin mean')"
      ]
     },
     "execution_count": 12,
     "metadata": {},
     "output_type": "execute_result"
    },
    {
     "data": {
      "image/png": "[encoded data removed]",
      "text/plain": [
       "<Figure size 432x288 with 1 Axes>"
      ]
     },
     "metadata": {
      "needs_background": "light"
     },
     "output_type": "display_data"
    }
   ],
   "source": [
    "import pandas as pd\n",
    "samples_numpy = samples.cpu().numpy()\n",
    "average = samples_numpy.mean(axis=1)\n",
    "\n",
    "samples_numpy2 = samples2.cpu().numpy()\n",
    "average2 = samples_numpy2.mean(axis=1)\n",
    "\n",
    "df = pd.DataFrame(average, columns=['Spin mean(400 epochs)'])\n",
    "ax = df.plot.hist(bins=80)\n",
    "df2 = pd.DataFrame(average2, columns=['Spin mean(1000 epochs)'])\n",
    "df2.plot.hist(bins=80, ax=ax, alpha=0.4)\n",
    "ax.set_xlabel('Spin mean')\n",
    "\n"
   ]
  },
  {
   "cell_type": "markdown",
   "metadata": {
    "pycharm": {
     "name": "#%% md\n"
    }
   },
   "source": [
    "## 3 Calculate correlation between each pairs specified\n",
    "- Spin correlations are also does not significantly changes if we train more."
   ]
  },
  {
   "cell_type": "code",
   "execution_count": 10,
   "metadata": {
    "pycharm": {
     "name": "#%%\n"
    }
   },
   "outputs": [
    {
     "data": {
      "text/plain": [
       "<matplotlib.axes._subplots.AxesSubplot at 0x7fbc56cf5310>"
      ]
     },
     "execution_count": 10,
     "metadata": {},
     "output_type": "execute_result"
    },
    {
     "data": {
      "image/png": "[encoded data removed]",
      "text/plain": [
       "<Figure size 432x288 with 1 Axes>"
      ]
     },
     "metadata": {
      "needs_background": "light"
     },
     "output_type": "display_data"
    }
   ],
   "source": [
    "correlated_df = pd.read_csv('correlated_features.csv', index_col=0)\n",
    "correlated_df\n",
    "samples_df = pd.DataFrame(samples_numpy)\n",
    "\n",
    "\n",
    "correlations = pd.DataFrame(columns=['correlation(400 epochs)'])\n",
    "for i in correlated_df.index:\n",
    "    correlations.loc[i] = samples_df[correlated_df['left'][i]].corr(samples_df[correlated_df['right'][i]])\n",
    "\n",
    "\n",
    "\n",
    "samples_df2 = pd.DataFrame(samples_numpy2)\n",
    "\n",
    "\n",
    "correlations2 = pd.DataFrame(columns=['correlation(1000 epochs)'])\n",
    "for i in correlated_df.index:\n",
    "    correlations2.loc[i] = samples_df2[correlated_df['left'][i]].corr(samples_df2[correlated_df['right'][i]])\n",
    "\n",
    "ax = correlations.plot.hist(bins=100)\n",
    "correlations2.plot.hist(bins=100, ax=ax, alpha=0.4)\n",
    "\n",
    "    "
   ]
  },
  {
   "cell_type": "code",
   "execution_count": 13,
   "metadata": {},
   "outputs": [],
   "source": [
    "correlations.to_csv('correlations_e400.csv')\n",
    "correlations2.to_csv('correlations_e401-100.csv')"
   ]
  },
  {
   "cell_type": "markdown",
   "metadata": {},
   "source": []
  }
 ],
 "metadata": {
  "kernelspec": {
   "display_name": "Python 3",
   "language": "python",
   "name": "python3"
  },
  "language_info": {
   "codemirror_mode": {
    "name": "ipython",
    "version": 3
   },
   "file_extension": ".py",
   "mimetype": "text/x-python",
   "name": "python",
   "nbconvert_exporter": "python",
   "pygments_lexer": "ipython3",
   "version": "3.8.3"
  }
 },
 "nbformat": 4,
 "nbformat_minor": 1
}