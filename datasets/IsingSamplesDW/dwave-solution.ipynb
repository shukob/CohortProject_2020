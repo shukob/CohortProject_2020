{
 "cells": [
  {
   "cell_type": "markdown",
   "metadata": {
    "pycharm": {
     "name": "#%% md\n"
    }
   },
   "source": [
    "# Dwave dataset\n",
    "- Training RBM to learn distribution of Dwave output\n",
    "\n",
    "# Tasks\n",
    "1. Generate 10000 samples\n",
    "2. Ensure the samples are generated from an equilibrated model. What metric do you use to prove equilibrium?\n",
    "3. Report the mean of each Ising variable\n",
    "4. Report the mean correlation of pairs of variables listed\n",
    "\n",
    "#### Training\n",
    "- We first train RBM using PCD and track likelihood of training data to see if it converges.\n",
    "- Visible node count = 2041 is quite a high demand. With time limited for the cohort, the training is incomplete.\n",
    " - I could not use sufficient node count ~O(visible) for hidden nodes.\n",
    " - I could not use sufficient CD-k steps ~O(visible).\n",
    " - I could not do sufficient epochs.\n",
    "\n",
    "- Convergence, i.e. equilibrium, are tracked while training using log-likelihood ."
   ]
  },
  {
   "cell_type": "code",
   "execution_count": null,
   "metadata": {
    "collapsed": true
   },
   "outputs": [],
   "source": [
    "from datetime import datetime\n",
    "import pandas as pd\n",
    "import torch\n",
    "from helper import load_dataset\n",
    "train_data, test_data = load_dataset('dataset_x1a46w3557od23s750k9.npz')\n",
    "df = pd.read_csv('correlated_features.csv')\n",
    "\n",
    "from RBM_helper import RBM\n",
    "\n",
    "total_data_count, visible_nodes = train_data.shape\n",
    "\n",
    "\n",
    "n_vis = visible_nodes\n",
    "n_hin = int(n_vis / 10)\n",
    "rbm = RBM(n_vis, n_hin)\n",
    "\n",
    "train_data = torch.Tensor(train_data)\n",
    "\n",
    "def train(rbm):\n",
    "    epochs = 100\n",
    "    # num_samples = visible_nodes * 10\n",
    "    k_train = 100\n",
    "    k_validate = n_vis + n_hin\n",
    "    print('Starting training on n_h = ', n_hin)\n",
    "    energies = []\n",
    "    for e in range(1, epochs+1):\n",
    "        # do one epoch of training\n",
    "        start = datetime.now()\n",
    "        rbm.train(train_data, k=k_train)\n",
    "        end = datetime.now()\n",
    "        print(f\"Elapsed {end - start} for epoch {e}\")\n",
    "        # now generate samples and calculate the energy\n",
    "        if e % 10 == 0:\n",
    "            print(\"\\nEpoch: \", e)\n",
    "            # We check if log likelihood of training data converges\n",
    "            energy = rbm.effective_energy(train_data).item()\n",
    "            energies.append(energy)\n",
    "            print(\"Energy : \", energy)\n",
    "    return energies"
   ]
  },
  {
   "cell_type": "code",
   "execution_count": null,
   "metadata": {
    "pycharm": {
     "name": "#%%\n"
    }
   },
   "outputs": [],
   "source": [
    "likelihooods = train(rbm)\n",
    "rbm.save_params('dwave_k100_e400')\n",
    "df = pd.DataFrame(likelihoods)\n",
    "df.to_csv('dwave_k100_e400_ll.csv')"
   ]
  },
  {
   "cell_type": "markdown",
   "metadata": {
    "pycharm": {
     "name": "#%% md\n"
    }
   },
   "source": [
    "## 1 Drawing samples\n",
    "- Drawing from random state"
   ]
  },
  {
   "cell_type": "code",
   "execution_count": 4,
   "metadata": {
    "pycharm": {
     "name": "#%%\n"
    }
   },
   "outputs": [
    {
     "name": "stdout",
     "output_type": "stream",
     "text": [
      "Elapsed 0:00:10.357798 for k = 1000\n"
     ]
    }
   ],
   "source": [
    "import torch\n",
    "from RBM_helper import RBM\n",
    "from datetime import datetime\n",
    "rbm = RBM.from_weights('dwave_k100_e400')\n",
    "n_vis = rbm.n_vis\n",
    "sample_count = 10000\n",
    "k = 1000\n",
    "initial_state = torch.rand((sample_count, n_vis)).cuda()\n",
    "rbm = rbm.to(initial_state)\n",
    "start = datetime.now()\n",
    "samples = rbm.draw_samples(k, initial_state)\n",
    "end = datetime.now()\n",
    "print(f\"Elapsed {end - start} for k = {k}\")"
   ]
  },
  {
   "cell_type": "markdown",
   "source": [
    "## 2 Check if training is converged\n",
    "- It seems midway by viewing log likelihood tracking, but with time limited following analysis are done trained to this extent."
   ],
   "metadata": {
    "collapsed": false,
    "pycharm": {
     "name": "#%% md\n"
    }
   }
  },
  {
   "cell_type": "code",
   "execution_count": 14,
   "outputs": [
    {
     "data": {
      "text/plain": "<matplotlib.axes._subplots.AxesSubplot at 0x1279d7cd0>"
     },
     "execution_count": 14,
     "metadata": {},
     "output_type": "execute_result"
    },
    {
     "data": {
      "text/plain": "<Figure size 432x288 with 1 Axes>",
      "image/png": "[encoded data removed]"
     },
     "metadata": {
      "needs_background": "light"
     },
     "output_type": "display_data"
    }
   ],
   "source": [
    "import pandas as pd\n",
    "ll_df = pd.read_csv('training_logs/dwave_k100_e400_ll.csv', names=['Log Likelihood'], skiprows=1)\n",
    "ll_df.index.name = 'Epoch'\n",
    "ll_df.plot()"
   ],
   "metadata": {
    "collapsed": false,
    "pycharm": {
     "name": "#%%\n"
    }
   }
  },
  {
   "cell_type": "markdown",
   "metadata": {
    "pycharm": {
     "name": "#%% md\n"
    }
   },
   "source": [
    "## 3 Calculating mean of each spins"
   ]
  },
  {
   "cell_type": "code",
   "execution_count": 20,
   "metadata": {
    "pycharm": {
     "name": "#%%\n"
    }
   },
   "outputs": [
    {
     "data": {
      "text/plain": [
       "Text(0.5, 0, 'Spin mean')"
      ]
     },
     "execution_count": 20,
     "metadata": {},
     "output_type": "execute_result"
    },
    {
     "data": {
      "image/png": "[encoded data removed]",
      "text/plain": [
       "<Figure size 432x288 with 1 Axes>"
      ]
     },
     "metadata": {
      "needs_background": "light"
     },
     "output_type": "display_data"
    }
   ],
   "source": [
    "import pandas as pd\n",
    "samples_numpy = samples.cpu().numpy()\n",
    "average = samples_numpy.mean(axis=1)\n",
    "df = pd.DataFrame(average)\n",
    "ax = df.plot.hist(bins=80)\n",
    "ax.set_xlabel('Spin mean')"
   ]
  },
  {
   "cell_type": "markdown",
   "metadata": {
    "pycharm": {
     "name": "#%% md\n"
    }
   },
   "source": [
    "## 4 Calculate correlation between each pairs specified"
   ]
  },
  {
   "cell_type": "code",
   "execution_count": 50,
   "metadata": {
    "pycharm": {
     "name": "#%%\n"
    }
   },
   "outputs": [
    {
     "data": {
      "text/html": [
       "<div>\n",
       "<style scoped>\n",
       "    .dataframe tbody tr th:only-of-type {\n",
       "        vertical-align: middle;\n",
       "    }\n",
       "\n",
       "    .dataframe tbody tr th {\n",
       "        vertical-align: top;\n",
       "    }\n",
       "\n",
       "    .dataframe thead th {\n",
       "        text-align: right;\n",
       "    }\n",
       "</style>\n",
       "<table border=\"1\" class=\"dataframe\">\n",
       "  <thead>\n",
       "    <tr style=\"text-align: right;\">\n",
       "      <th></th>\n",
       "      <th>correlation</th>\n",
       "    </tr>\n",
       "  </thead>\n",
       "  <tbody>\n",
       "    <tr>\n",
       "      <th>0</th>\n",
       "      <td>-0.626150</td>\n",
       "    </tr>\n",
       "    <tr>\n",
       "      <th>1</th>\n",
       "      <td>-0.744683</td>\n",
       "    </tr>\n",
       "    <tr>\n",
       "      <th>2</th>\n",
       "      <td>0.865052</td>\n",
       "    </tr>\n",
       "    <tr>\n",
       "      <th>3</th>\n",
       "      <td>-0.790401</td>\n",
       "    </tr>\n",
       "    <tr>\n",
       "      <th>4</th>\n",
       "      <td>-0.631158</td>\n",
       "    </tr>\n",
       "    <tr>\n",
       "      <th>...</th>\n",
       "      <td>...</td>\n",
       "    </tr>\n",
       "    <tr>\n",
       "      <th>5969</th>\n",
       "      <td>-0.904896</td>\n",
       "    </tr>\n",
       "    <tr>\n",
       "      <th>5970</th>\n",
       "      <td>0.692717</td>\n",
       "    </tr>\n",
       "    <tr>\n",
       "      <th>5971</th>\n",
       "      <td>-0.931708</td>\n",
       "    </tr>\n",
       "    <tr>\n",
       "      <th>5972</th>\n",
       "      <td>0.443240</td>\n",
       "    </tr>\n",
       "    <tr>\n",
       "      <th>5973</th>\n",
       "      <td>0.868746</td>\n",
       "    </tr>\n",
       "  </tbody>\n",
       "</table>\n",
       "<p>5974 rows × 1 columns</p>\n",
       "</div>"
      ],
      "text/plain": [
       "      correlation\n",
       "0       -0.626150\n",
       "1       -0.744683\n",
       "2        0.865052\n",
       "3       -0.790401\n",
       "4       -0.631158\n",
       "...           ...\n",
       "5969    -0.904896\n",
       "5970     0.692717\n",
       "5971    -0.931708\n",
       "5972     0.443240\n",
       "5973     0.868746\n",
       "\n",
       "[5974 rows x 1 columns]"
      ]
     },
     "execution_count": 50,
     "metadata": {},
     "output_type": "execute_result"
    }
   ],
   "source": [
    "correlated_df = pd.read_csv('correlated_features.csv', index_col=0)\n",
    "correlated_df\n",
    "samples_df = pd.DataFrame(samples_numpy)\n",
    "# samples_df[correlated_df['left'][0]]\n",
    "\n",
    "\n",
    "correlations = pd.DataFrame(columns=['correlation'])\n",
    "for i in correlated_df.index:\n",
    "    correlations.loc[i] = samples_df[correlated_df['left'][i]].corr(samples_df[correlated_df['right'][i]])\n",
    "\n",
    "\n",
    "correlations\n",
    "\n",
    "        \n"
   ]
  },
  {
   "cell_type": "code",
   "execution_count": 52,
   "metadata": {},
   "outputs": [
    {
     "data": {
      "text/plain": [
       "<matplotlib.axes._subplots.AxesSubplot at 0x7f45a0d625e0>"
      ]
     },
     "execution_count": 52,
     "metadata": {},
     "output_type": "execute_result"
    },
    {
     "data": {
      "image/png": "[encoded data removed]",
      "text/plain": [
       "<Figure size 432x288 with 1 Axes>"
      ]
     },
     "metadata": {
      "needs_background": "light"
     },
     "output_type": "display_data"
    }
   ],
   "source": [
    "correlations.plot.hist(bins=100)\n",
    "correlations.to_csv('correlations.csv')"
   ]
  },
  {
   "cell_type": "code",
   "execution_count": null,
   "metadata": {},
   "outputs": [],
   "source": []
  }
 ],
 "metadata": {
  "kernelspec": {
   "display_name": "Python 3",
   "language": "python",
   "name": "python3"
  },
  "language_info": {
   "codemirror_mode": {
    "name": "ipython",
    "version": 3
   },
   "file_extension": ".py",
   "mimetype": "text/x-python",
   "name": "python",
   "nbconvert_exporter": "python",
   "pygments_lexer": "ipython3",
   "version": "3.8.3"
  }
 },
 "nbformat": 4,
 "nbformat_minor": 1
}