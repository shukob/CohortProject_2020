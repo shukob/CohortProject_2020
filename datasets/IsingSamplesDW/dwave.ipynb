{
 "cells": [
  {
   "cell_type": "markdown",
   "source": [
    "# Dwave dataset\n",
    "- Training RBM to learn distribution of Dwave output\n",
    "\n",
    "# Tasks\n",
    "1. Generate 10000 samples\n",
    "2. Ensure the samples are generated from an equilibrated model. What metric do you use to prove equilibrium?\n",
    "3. Report the mean of each Ising variable\n",
    "4. Report the mean correlation of pairs of variables listed\n",
    "\n",
    "#### Training\n",
    "- We first train RBM using PCD and track likelihood of training data to see if it converges.\n",
    "- Visible node count = 2041 is quite a high demand. With time limited for the cohort, the training is incomplete.\n",
    " - I could not use sufficient node count ~O(visible) for hidden nodes.\n",
    " - I could not use sufficient CD-k steps ~O(visible).\n",
    " - I could not do sufficient epochs.\n",
    "\n",
    "- Convergence, i.e. equilibrium, are tracked while training using log-likelihood ."
   ],
   "metadata": {
    "collapsed": false,
    "pycharm": {
     "name": "#%% md\n"
    }
   }
  },
  {
   "cell_type": "code",
   "execution_count": null,
   "metadata": {
    "collapsed": true
   },
   "outputs": [],
   "source": [
    "from datetime import datetime\n",
    "import pandas as pd\n",
    "import torch\n",
    "from helper import load_dataset\n",
    "train_data, test_data = load_dataset('dataset_x1a46w3557od23s750k9.npz')\n",
    "df = pd.read_csv('correlated_features.csv')\n",
    "\n",
    "from RBM_helper import RBM\n",
    "\n",
    "total_data_count, visible_nodes = train_data.shape\n",
    "\n",
    "\n",
    "n_vis = visible_nodes\n",
    "n_hin = int(n_vis / 10)\n",
    "rbm = RBM(n_vis, n_hin)\n",
    "\n",
    "train_data = torch.Tensor(train_data)\n",
    "\n",
    "def train(rbm):\n",
    "    epochs = 100\n",
    "    # num_samples = visible_nodes * 10\n",
    "    k_train = 100\n",
    "    k_validate = n_vis + n_hin\n",
    "    print('Starting training on n_h = ', n_hin)\n",
    "    energies = []\n",
    "    for e in range(1, epochs+1):\n",
    "        # do one epoch of training\n",
    "        start = datetime.now()\n",
    "        rbm.train(train_data, k=k_train)\n",
    "        end = datetime.now()\n",
    "        print(f\"Elapsed {end - start} for epoch {e}\")\n",
    "        # now generate samples and calculate the energy\n",
    "        if e % 10 == 0:\n",
    "            print(\"\\nEpoch: \", e)\n",
    "            # We check if log likelihood of training data converges\n",
    "            energy = rbm.effective_energy(train_data).item()\n",
    "            energies.append(energy)\n",
    "            print(\"Energy : \", energy)\n",
    "    return energies"
   ]
  },
  {
   "cell_type": "code",
   "execution_count": null,
   "outputs": [],
   "source": [
    "train(rbm)"
   ],
   "metadata": {
    "collapsed": false,
    "pycharm": {
     "name": "#%%\n"
    }
   }
  },
  {
   "cell_type": "markdown",
   "source": [
    "## 1 Drawing samples\n",
    "- Drawing from random state"
   ],
   "metadata": {
    "collapsed": false,
    "pycharm": {
     "name": "#%% md\n"
    }
   }
  },
  {
   "cell_type": "code",
   "execution_count": 8,
   "outputs": [
    {
     "name": "stdout",
     "output_type": "stream",
     "text": [
      "Elapsed 0:00:00.577740 for k = 1\n"
     ]
    }
   ],
   "source": [
    "import torch\n",
    "from RBM_helper import RBM\n",
    "from datetime import datetime\n",
    "rbm = RBM.from_weights('dwave_k100_e400')\n",
    "n_vis = rbm.n_vis\n",
    "sample_count = 10000\n",
    "k = 1\n",
    "initial_state = torch.rand((sample_count, n_vis))\n",
    "start = datetime.now()\n",
    "samples = rbm.draw_samples(k, initial_state)\n",
    "end = datetime.now()\n",
    "print(f\"Elapsed {end - start} for k = {k}\")"
   ],
   "metadata": {
    "collapsed": false,
    "pycharm": {
     "name": "#%%\n"
    }
   }
  },
  {
   "cell_type": "markdown",
   "source": [
    "## 2 Calculating mean of each spins"
   ],
   "metadata": {
    "collapsed": false,
    "pycharm": {
     "name": "#%% md\n"
    }
   }
  },
  {
   "cell_type": "code",
   "execution_count": null,
   "outputs": [],
   "source": [],
   "metadata": {
    "collapsed": false,
    "pycharm": {
     "name": "#%%\n"
    }
   }
  },
  {
   "cell_type": "markdown",
   "source": [
    "## 3 Calculate correlation between each pairs specified"
   ],
   "metadata": {
    "collapsed": false,
    "pycharm": {
     "name": "#%% md\n"
    }
   }
  },
  {
   "cell_type": "code",
   "execution_count": null,
   "outputs": [],
   "source": [
    "\n",
    "\n",
    "\n",
    "\n",
    "\n",
    "\n",
    "\n",
    "\n"
   ],
   "metadata": {
    "collapsed": false,
    "pycharm": {
     "name": "#%%\n"
    }
   }
  }
 ],
 "metadata": {
  "kernelspec": {
   "display_name": "Python 3",
   "language": "python",
   "name": "python3"
  },
  "language_info": {
   "codemirror_mode": {
    "name": "ipython",
    "version": 2
   },
   "file_extension": ".py",
   "mimetype": "text/x-python",
   "name": "python",
   "nbconvert_exporter": "python",
   "pygments_lexer": "ipython2",
   "version": "2.7.6"
  }
 },
 "nbformat": 4,
 "nbformat_minor": 0
}