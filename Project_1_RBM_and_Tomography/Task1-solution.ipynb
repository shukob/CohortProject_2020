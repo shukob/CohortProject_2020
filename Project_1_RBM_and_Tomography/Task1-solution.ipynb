{
 "cells": [
  {
   "cell_type": "markdown",
   "metadata": {
    "collapsed": true,
    "pycharm": {
     "name": "#%% md\n"
    }
   },
   "source": [
    "# Task 1\n",
    "\n",
    "## Reconstruct H2 wave function from projective measurement results\n",
    "\n",
    "- Simply train RBM for respective $r$'s\n",
    "- Draw data points calculated by sampled configurations over ground truth energy curve\n",
    "\n",
    "## Training\n",
    "- I trained parallely on CPU using multiprocessing for each $r$.\n",
    "- Eventually GPU was much faster.\n",
    "- Problem for Pytorch in multiprocessing on GPU is that it requires another wrapper layer to work (cf. [document](https://pytorch.org/docs/master/notes/multiprocessing.html#asynchronous-multiprocess-training-e-g-hogwild)).\n",
    "- Implementation here is for single process CPU for easiness."
   ]
  },
  {
   "cell_type": "code",
   "execution_count": null,
   "outputs": [],
   "source": [
    "\n",
    "import csv\n",
    "import re\n",
    "from glob import glob\n",
    "from pathlib import Path\n",
    "\n",
    "import numpy as np\n",
    "import torch\n",
    "\n",
    "import H2_energy_calculator\n",
    "from RBM_helper import RBM\n",
    "n_vis = 2\n",
    "n_hin = 10\n",
    "epochs = 1000 # number of training steps\n",
    "num_samples = 2000 # number of samples to generate from the RBM to calculate the H2 energy\n",
    "\n",
    "coeffs = np.loadtxt(\"H2_data/H2_coefficients.txt\")\n",
    "\n",
    "log_dir = Path(\"training_logs\")\n",
    "logs = { }\n",
    "samples = [sample_file for sample_file in glob('H2_data/*_samples.txt')]\n",
    "\n",
    "for sample_file in glob('H2_data/*_samples.txt'):\n",
    "    print(sample_file)\n",
    "    match = re.match(r\".*R_([0-9.]+)_samples.txt\", sample_file)\n",
    "    r = match.groups(0)[0]\n",
    "    coeff_idx = np.where(coeffs[:,0].astype(np.float) == float(r))[0][0]\n",
    "    coeff = coeffs[coeff_idx,:]\n",
    "\n",
    "    psi_file = f\"H2_data/R_{r}_psi.txt\"\n",
    "    psi = np.loadtxt(psi_file)\n",
    "    training_data = torch.from_numpy(np.loadtxt(sample_file))\n",
    "\n",
    "    rbm = RBM(n_vis, n_hin)\n",
    "\n",
    "    true_energy = H2_energy_calculator.energy_from_freq(training_data, coeff)\n",
    "    print(f\"H2 energy for r = {r}: \",true_energy)\n",
    "    logs[f\"r_{r}_energy_diff\"] = []\n",
    "    logs[f\"r_{r}_fidelity\"] = []\n",
    "    save_dir = f'params/trained_r_{r}'\n",
    "    for e in range(1, epochs+1):\n",
    "        # do one epoch of training\n",
    "        rbm.train(training_data)\n",
    "\n",
    "        # now generate samples and calculate the energy\n",
    "        if e % 1 == 0:\n",
    "            print(\"Epoch: \", e)\n",
    "            # For sampling the RBM, we need to do Gibbs sampling.\n",
    "            # Initialize the Gibbs sampling chain with init_state as defined below.\n",
    "            init_state = torch.zeros(num_samples, n_vis)\n",
    "            RBM_samples = rbm.draw_samples(15, init_state)\n",
    "            energies = H2_energy_calculator.energy(RBM_samples, coeff, rbm.wavefunction)\n",
    "            energy = energies.item()\n",
    "            print(\"Energy from RBM samples: \", energies.item())\n",
    "\n",
    "            energy_difference = abs(true_energy - energy)\n",
    "            print(\"Energy difference from RBM samples: \", energy_difference)\n",
    "            logs[f\"r_{r}_energy_diff\"].append(energy_difference)\n",
    "\n",
    "            rbm_psi = rbm.psi()\n",
    "            overlap = np.abs(np.vdot(psi, rbm_psi))\n",
    "            print(\"Fidelity from RBM samples: \", overlap)\n",
    "            logs[f\"r_{r}_fidelity\"].append(overlap)\n",
    "\n",
    "            log_likelihood = rbm.effective_energy(training_data).sum().item()/len(training_data)\n",
    "            print(\"Log likelihood: \", log_likelihood)\n",
    "            print()"
   ],
   "metadata": {
    "collapsed": false,
    "pycharm": {
     "name": "#%%\n"
    }
   }
  },
  {
   "cell_type": "code",
   "execution_count": null,
   "outputs": [],
   "source": [
    "with open(log_dir / f\"task1_log.csv\", 'w') as f:\n",
    "    w = csv.DictWriter(f, logs.keys())\n",
    "    w.writeheader()\n",
    "    w.writerow(logs)"
   ],
   "metadata": {
    "collapsed": false,
    "pycharm": {
     "name": "#%%\n"
    }
   }
  },
  {
   "cell_type": "markdown",
   "source": [
    "## Results"
   ],
   "metadata": {
    "collapsed": false,
    "pycharm": {
     "name": "#%% md\n"
    }
   }
  },
  {
   "cell_type": "code",
   "execution_count": null,
   "outputs": [],
   "source": [
    "import pandas as pd\n",
    "import numpy as np\n",
    "\n",
    "df = pd.read_csv('training_logs/task1-r-E.csv', index_col=0).sort_index()\n",
    "\n",
    "ax = df['true'].plot()\n",
    "df['experiment'].plot(ax=ax)\n",
    "\n",
    "std = np.sqrt(np.sum((df['true'] - df['experiment'])**2))/len(df)\n",
    "print(f\"MSE: {std} [ev]\")"
   ],
   "metadata": {
    "collapsed": false,
    "pycharm": {
     "name": "#%%\n"
    }
   }
  },
  {
   "cell_type": "markdown",
   "source": [
    "### Appendix\n",
    "\n",
    "- CPU multiprocessing"
   ],
   "metadata": {
    "collapsed": false,
    "pycharm": {
     "name": "#%% md\n"
    }
   }
  },
  {
   "cell_type": "code",
   "execution_count": null,
   "outputs": [],
   "source": [
    "def train_once(sample_file):\n",
    "    print(sample_file)\n",
    "    match = re.match(r\".*R_([0-9.]+)_samples.txt\", sample_file)\n",
    "    r = match.groups(0)[0]\n",
    "    coeff_idx = np.where(coeffs[:,0].astype(np.float) == float(r))[0][0]\n",
    "    coeff = coeffs[coeff_idx,:]\n",
    "\n",
    "    psi_file = f\"H2_data/R_{r}_psi.txt\"\n",
    "    training_data = torch.from_numpy(np.loadtxt(sample_file))\n",
    "    rbm = RBM(n_vis, n_hin).to(training_data)\n",
    "\n",
    "    true_energy = H2_energy_calculator.energy_from_freq(training_data, coeff)\n",
    "    print(f\"H2 energy for r = {r}: \",true_energy)\n",
    "    energies = []\n",
    "    for e in range(1, epochs+1):\n",
    "        # do one epoch of training\n",
    "        rbm.train(training_data)\n",
    "\n",
    "        # now generate samples and calculate the energy\n",
    "        if e % 100 == 0:\n",
    "            # For sampling the RBM, we need to do Gibbs sampling.\n",
    "            # Initialize the Gibbs sampling chain with init_state as defined below.\n",
    "            init_state = torch.zeros(num_samples, n_vis)\n",
    "            RBM_samples = rbm.draw_samples(15, init_state)\n",
    "            energy = H2_energy_calculator.energy(RBM_samples, coeff, rbm.wavefunction).item()\n",
    "            energies.append(energy)\n",
    "    return energies\n",
    "\n",
    "from multiprocessing import Pool\n",
    "with Pool(16) as p:\n",
    "    results = p.map(train_once, samples)"
   ],
   "metadata": {
    "collapsed": false,
    "pycharm": {
     "name": "#%%\n"
    }
   }
  }
 ],
 "metadata": {
  "kernelspec": {
   "display_name": "Python 3",
   "language": "python",
   "name": "python3"
  },
  "language_info": {
   "codemirror_mode": {
    "name": "ipython",
    "version": 2
   },
   "file_extension": ".py",
   "mimetype": "text/x-python",
   "name": "python",
   "nbconvert_exporter": "python",
   "pygments_lexer": "ipython2",
   "version": "2.7.6"
  }
 },
 "nbformat": 4,
 "nbformat_minor": 0
}