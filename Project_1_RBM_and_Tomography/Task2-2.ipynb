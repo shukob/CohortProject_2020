{
 "cells": [
  {
   "cell_type": "code",
   "execution_count": 4,
   "metadata": {
    "collapsed": true
   },
   "outputs": [
    {
     "name": "stdout",
     "output_type": "stream",
     "text": [
      "{0: 92478, 1: 92461, 2: 92475, 3: 92487, 4: 92484, 5: 92490, 6: 92481, 7: 92493, 8: 92499, 9: 92496, 10: 92502, 11: 92462, 12: 92466, 13: 92472, 14: 92463, 15: 92469}\n"
     ]
    }
   ],
   "source": [
    "import os\n",
    "from pathlib import Path\n",
    "import numpy as np\n",
    "import torch\n",
    "from RBM_helper import RBM\n",
    "import csv\n",
    "import Rydberg_energy_calculator\n",
    "from datetime import datetime\n",
    "import ipyparallel as ipp\n",
    "\n",
    "rc = ipp.Client()"
   ]
  },
  {
   "cell_type": "code",
   "execution_count": null,
   "outputs": [],
   "source": [
    "training_data = torch.from_numpy(np.loadtxt(\"Rydberg_data.txt\"))\n",
    "n_vis = training_data.shape[1]\n",
    "\n",
    "target = 0.0001\n",
    "exact_energy = -4.1203519096\n",
    "print(\"Exact energy: \",exact_energy)\n",
    "output_dir = Path(\"training_logs\")\n",
    "\n",
    "if not output_dir.exists():\n",
    "    output_dir.mkdir(parents=True)\n",
    "differences = {}\n",
    "training_num = training_data.shape[0]\n",
    "print(training_num)"
   ],
   "metadata": {
    "collapsed": false,
    "pycharm": {
     "name": "#%%\n"
    }
   }
  },
  {
   "cell_type": "code",
   "execution_count": null,
   "outputs": [],
   "source": [
    "target = 0.0001\n",
    "exact_energy = -4.1203519096\n",
    "print(\"Exact energy: \",exact_energy)\n",
    "output_dir = Path(\"training_logs\")\n",
    "if not output_dir.exists():\n",
    "    output_dir.mkdir(parents=True)\n",
    "differences = {}\n",
    "n_hin = 20\n",
    "for i in range(19):\n",
    "    train_num = 500 + i * 1000\n",
    "    print(\"Training samples: \", train_num)\n",
    "    sub_training_data = training_data[:train_num]\n",
    "    rbm = RBM(n_vis, n_hin)\n",
    "    epochs = 500\n",
    "    num_samples = 2000\n",
    "    min_difference = 10000\n",
    "    min_difference_epoch = 0\n",
    "    print('Starting training on n_h = ', n_hin)\n",
    "    differences[n_hin] = []\n",
    "    for e in range(1, epochs+1):\n",
    "        # do one epoch of training\n",
    "        rbm.train(training_data)\n",
    "\n",
    "        # now generate samples and calculate the energy\n",
    "        if e % 100 == 0:\n",
    "            print(\"\\nEpoch: \", e)\n",
    "            # print(\"Sampling...\")\n",
    "\n",
    "            init_state = torch.zeros(num_samples, n_vis)\n",
    "            RBM_samples = rbm.draw_samples(100, init_state)\n",
    "\n",
    "            # print(\"Done sampling. Calculating energy...\")\n",
    "\n",
    "            energies = Rydberg_energy_calculator.energy(RBM_samples, rbm.wavefunction)\n",
    "            energy_difference = abs(exact_energy - energies.item())\n",
    "            differences[n_hin].append(energy_difference)\n",
    "            print(\"Energy difference: \", energy_difference)\n",
    "            if min_difference > energy_difference:\n",
    "                min_difference = energy_difference\n",
    "                min_difference_epoch = e\n",
    "            if  min_difference < target:\n",
    "                print(\"Target energy difference obtained at epoch = \", e)\n",
    "                print(\"Final energy difference for n_h = \", n_hin, ' : ', energy_difference)\n",
    "                break\n",
    "\n",
    "\n",
    "    print(\"Final energy difference for n_h = \", n_hin, ' : ', min_difference, 'at epoch ', min_difference_epoch)\n",
    "    if min_difference < target:\n",
    "        print(\"Required samples: \", num_samples)\n",
    "    with open(str(output_dir / f\"task2_2_train_num_{train_num}.csv\"), 'w') as f:\n",
    "        w = csv.writer(f)\n",
    "        w.writerow(differences[n_hin])\n"
   ],
   "metadata": {
    "collapsed": false,
    "pycharm": {
     "name": "#%%\n"
    }
   }
  },
  {
   "cell_type": "code",
   "execution_count": null,
   "outputs": [],
   "source": [
    "\n",
    "\n",
    "\n"
   ],
   "metadata": {
    "collapsed": false,
    "pycharm": {
     "name": "#%%\n"
    }
   }
  }
 ],
 "metadata": {
  "kernelspec": {
   "display_name": "Python 3",
   "language": "python",
   "name": "python3"
  },
  "language_info": {
   "codemirror_mode": {
    "name": "ipython",
    "version": 2
   },
   "file_extension": ".py",
   "mimetype": "text/x-python",
   "name": "python",
   "nbconvert_exporter": "python",
   "pygments_lexer": "ipython2",
   "version": "2.7.6"
  }
 },
 "nbformat": 4,
 "nbformat_minor": 0
}