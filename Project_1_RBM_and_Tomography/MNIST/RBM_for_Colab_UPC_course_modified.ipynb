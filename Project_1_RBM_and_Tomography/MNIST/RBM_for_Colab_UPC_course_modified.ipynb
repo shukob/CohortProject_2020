{
 "nbformat": 4,
 "nbformat_minor": 0,
 "metadata": {
  "colab": {
   "name": "RBM for Colab UPC course_modified.ipynb",
   "provenance": [],
   "collapsed_sections": [],
   "toc_visible": true
  },
  "kernelspec": {
   "name": "python3",
   "language": "python",
   "display_name": "Python 3"
  },
  "accelerator": "GPU"
 },
 "cells": [
  {
   "cell_type": "code",
   "metadata": {
    "id": "-I20o8TOpM7J",
    "colab_type": "code",
    "colab": {
     "base_uri": "https://localhost:8080/",
     "height": 187
    },
    "outputId": "d0dfe47a-219b-42f3-ab96-ba6ebd7b5973"
   },
   "source": [
    "import numpy as np\n",
    "import torch\n",
    "import torch.utils.data\n",
    "import torch.nn as nn\n",
    "import torch.nn.functional as F\n",
    "import torch.optim as optim\n",
    "from torch.autograd import Variable\n",
    "from RBM_helper import RBM"
   ],
   "execution_count": 2,
   "outputs": []
  },
  {
   "cell_type": "markdown",
   "source": [
    "**This is to load MNIST as numpy array**"
   ],
   "metadata": {
    "collapsed": false,
    "pycharm": {
     "name": "#%% md\n"
    }
   }
  },
  {
   "cell_type": "code",
   "metadata": {
    "id": "SQ2vqfUowune",
    "colab_type": "code",
    "colab": {
     "base_uri": "https://localhost:8080/",
     "height": 119
    },
    "outputId": "bfeb18fb-d67c-4b71-8c88-5c9a52299483"
   },
   "source": [
    "import numpy as np\n",
    "from urllib import request\n",
    "import gzip\n",
    "import pickle\n",
    "\n",
    "filename = [\n",
    "[\"training_images\",\"train-images-idx3-ubyte.gz\"],\n",
    "[\"test_images\",\"t10k-images-idx3-ubyte.gz\"],\n",
    "[\"training_labels\",\"train-labels-idx1-ubyte.gz\"],\n",
    "[\"test_labels\",\"t10k-labels-idx1-ubyte.gz\"]\n",
    "]\n",
    "\n",
    "def download_mnist():\n",
    "    base_url = \"http://yann.lecun.com/exdb/mnist/\"\n",
    "    for name in filename:\n",
    "        print(\"Downloading \"+name[1]+\"...\")\n",
    "        request.urlretrieve(base_url+name[1], name[1])\n",
    "    print(\"Download complete.\")\n",
    "\n",
    "def save_mnist():\n",
    "    mnist = {}\n",
    "    for name in filename[:2]:\n",
    "        with gzip.open(name[1], 'rb') as f:\n",
    "            mnist[name[0]] = np.frombuffer(f.read(), np.uint8, offset=16).reshape(-1,28*28)\n",
    "    for name in filename[-2:]:\n",
    "        with gzip.open(name[1], 'rb') as f:\n",
    "            mnist[name[0]] = np.frombuffer(f.read(), np.uint8, offset=8)\n",
    "    with open(\"mnist.pkl\", 'wb') as f:\n",
    "        pickle.dump(mnist,f)\n",
    "    print(\"Save complete.\")\n",
    "\n",
    "def init():\n",
    "    download_mnist()\n",
    "    save_mnist()\n",
    "\n",
    "def load():\n",
    "    with open(\"mnist.pkl\",'rb') as f:\n",
    "        mnist = pickle.load(f)\n",
    "    return mnist[\"training_images\"], mnist[\"training_labels\"], mnist[\"test_images\"], mnist[\"test_labels\"]\n",
    "\n",
    "\n",
    "init()\n",
    "data = load()\n",
    "labels = data[1]\n",
    "data = data[0]\n",
    "data = data/255 # normalize grey scale values between 0 and 255 to values between 0 and 1\n",
    "data = np.where(data > 0.5, 1, 0)"
   ],
   "execution_count": 3,
   "outputs": [
    {
     "name": "stdout",
     "output_type": "stream",
     "text": [
      "Downloading train-images-idx3-ubyte.gz...\n",
      "Downloading t10k-images-idx3-ubyte.gz...\n",
      "Downloading train-labels-idx1-ubyte.gz...\n",
      "Downloading t10k-labels-idx1-ubyte.gz...\n",
      "Download complete.\n",
      "Save complete.\n"
     ]
    }
   ]
  },
  {
   "cell_type": "code",
   "metadata": {
    "id": "TFhlW46e1qlO",
    "colab_type": "code",
    "colab": {
     "base_uri": "https://localhost:8080/",
     "height": 282
    },
    "outputId": "14854efe-b6ec-44d2-bbd0-0809fe288440"
   },
   "source": [
    "img = data[1000].reshape(28,28)\n",
    "import matplotlib.pyplot as plt\n",
    "plt.imshow(img)"
   ],
   "execution_count": 4,
   "outputs": [
    {
     "data": {
      "text/plain": "<matplotlib.image.AxesImage at 0x135de4150>"
     },
     "execution_count": 4,
     "metadata": {},
     "output_type": "execute_result"
    },
    {
     "data": {
      "text/plain": "<Figure size 432x288 with 1 Axes>",
      "image/png": "[encoded data removed]"
     },
     "metadata": {
      "needs_background": "light"
     },
     "output_type": "display_data"
    }
   ]
  },
  {
   "cell_type": "markdown",
   "metadata": {
    "id": "iOp--cP5pwfF",
    "colab_type": "text"
   },
   "source": [
    "**This is the whole RBM training routine**"
   ]
  },
  {
   "cell_type": "code",
   "metadata": {
    "id": "UHzZcEEu3hJ1",
    "colab_type": "code",
    "colab": {}
   },
   "source": [
    "import torch\n",
    "from RBM_helper import RBM\n",
    "\n",
    "batch_size = 64\n",
    "\n",
    "epochs = 1000\n",
    "\n",
    "## Loading the images from the file\n",
    "dims = data.shape\n",
    "data = torch.FloatTensor(data)#.cuda()\n",
    "\n",
    "## Starting the Machinery\n",
    "vis = dims[1]   # Number of visible layers\n",
    "hid = vis\n",
    "k = 200\n",
    "rbm = RBM(n_vis=vis, n_hin=hid).to(data) #Creation of the RBM"
   ],
   "execution_count": 5,
   "outputs": []
  },
  {
   "cell_type": "code",
   "metadata": {
    "id": "3aLbZxLypuxI",
    "colab_type": "code",
    "colab": {
     "base_uri": "https://localhost:8080/",
     "height": 1000
    },
    "outputId": "07f17735-9660-4fc4-92f1-9e3cfb341999",
    "pycharm": {
     "is_executing": true
    }
   },
   "source": [
    "for epoch in range(epochs):\n",
    "    # loading data into the RBM\n",
    "    # Faster as the epochs increase\n",
    "    # Learnig rate. Faster initially, slower at the end\n",
    "    lr = .1*np.exp(-epoch/epochs)+1e-4\n",
    "    # Training the RBm with this parameters\n",
    "    rbm.train(data, lr=lr, k=k, batch_size = batch_size)\n",
    "\n",
    "    init_state = (torch.rand(1, vis)>0.5)*1.0\n",
    "    rbm_samples = rbm.draw_samples(20, init_state)\n",
    "    fe = rbm.free_energy(rbm_samples)\n",
    "    likelihood = rbm.pseudo_likelihood(data, rbm_samples)\n",
    "    print(fe, likelihood)\n",
    "    if (epoch % 10 == 0):\n",
    "        print(epoch)\n",
    "        init_state = (torch.rand(1, vis)>0.5)*1.0\n",
    "        rbm_samples = rbm.draw_samples(20, init_state)\n",
    "        img = rbm_samples.cpu()\n",
    "        img = img.detach().numpy()\n",
    "        img = img.reshape(28,28)\n",
    "        plt.imshow(img)\n",
    "        plt.show()"
   ],
   "execution_count": null,
   "outputs": []
  },
  {
   "cell_type": "markdown",
   "metadata": {
    "id": "MYGWK99A6iPH",
    "colab_type": "text"
   },
   "source": [
    "**Draw sample from a given initial image**"
   ]
  },
  {
   "cell_type": "code",
   "metadata": {
    "id": "nKwjCvKMAYID",
    "colab_type": "code",
    "colab": {
     "base_uri": "https://localhost:8080/",
     "height": 218
    },
    "outputId": "e9d9656b-5360-4611-b088-370de2b4694e"
   },
   "source": [
    "initial_image = data[1]\n",
    "\n",
    "k = 100\n",
    "init_state = (torch.rand(1, vis)>0.5)*1.0\n",
    "rbm_samples = rbm.draw_samples(k, initial_image)\n",
    "\n",
    "initial_image = initial_image.cpu()\n",
    "initial_image = initial_image.detach().numpy()\n",
    "initial_image = initial_image.reshape(28,28)\n",
    "\n",
    "img = rbm_samples.cpu()\n",
    "img = img.detach().numpy()\n",
    "img = img.reshape(28,28)\n",
    "\n",
    "f, axarr = plt.subplots(1,2)\n",
    "axarr[0].imshow(initial_image)\n",
    "axarr[1].imshow(img)"
   ],
   "execution_count": null,
   "outputs": [
    {
     "output_type": "execute_result",
     "data": {
      "text/plain": [
       "<matplotlib.image.AxesImage at 0x7f6773b36d68>"
      ]
     },
     "metadata": {
      "tags": []
     },
     "execution_count": 9
    },
    {
     "output_type": "display_data",
     "data": {
      "image/png": "[encoded data removed]",
      "text/plain": [
       "<Figure size 432x288 with 2 Axes>"
      ]
     },
     "metadata": {
      "tags": [],
      "needs_background": "light"
     }
    }
   ]
  },
  {
   "cell_type": "code",
   "metadata": {
    "id": "NGf0Sv9t3oVB",
    "colab_type": "code",
    "colab": {}
   },
   "source": [
    "rbm.save_params('/content/drive/My Drive/CDL/Cohot1')"
   ],
   "execution_count": null,
   "outputs": []
  },
  {
   "cell_type": "code",
   "metadata": {
    "id": "eYFpPlU-u6kZ",
    "colab_type": "code",
    "colab": {
     "base_uri": "https://localhost:8080/",
     "height": 218
    },
    "outputId": "bb7d31a8-5c80-4e61-d20d-54b7611e3d24"
   },
   "source": [
    "rbm2 = RBM(vis, vis)\n",
    "rbm2.load_params('/content/drive/My Drive/CDL/Cohot1')\n",
    "img2 = rbm2.draw_samples(1000, init_state).cpu().detach().numpy().reshape(28, 28)\n",
    "f, axarr = plt.subplots(1, 2)\n",
    "axarr[0].imshow(initial_image)\n",
    "axarr[1].imshow(img2)"
   ],
   "execution_count": null,
   "outputs": [
    {
     "output_type": "execute_result",
     "data": {
      "text/plain": [
       "<matplotlib.image.AxesImage at 0x7f67724c2780>"
      ]
     },
     "metadata": {
      "tags": []
     },
     "execution_count": 31
    },
    {
     "output_type": "display_data",
     "data": {
      "image/png": "[encoded data removed]",
      "text/plain": [
       "<Figure size 432x288 with 2 Axes>"
      ]
     },
     "metadata": {
      "tags": [],
      "needs_background": "light"
     }
    }
   ]
  },
  {
   "cell_type": "code",
   "metadata": {
    "id": "-8Ut94x0vXNP",
    "colab_type": "code",
    "colab": {}
   },
   "source": [
    ""
   ],
   "execution_count": null,
   "outputs": []
  }
 ]
}