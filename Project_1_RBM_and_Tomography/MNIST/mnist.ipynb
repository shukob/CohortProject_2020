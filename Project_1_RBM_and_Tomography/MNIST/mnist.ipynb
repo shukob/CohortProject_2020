{
 "cells": [
  {
   "cell_type": "markdown",
   "source": [
    "# MNIST generator by RBM\n",
    "\n",
    "- Provided sample notebook to train single character generator on Colab, I checked what affects the generation quality.\n",
    "- Comparison of 2 different models by changing CD steps\n",
    " - $k=1$ for training\n",
    " - $k=200$ for training\n",
    "- Generation quality is also affected by\n",
    " - CD step $k$ for sampling\n",
    " - Initial state for sampling"
   ],
   "metadata": {
    "collapsed": false,
    "pycharm": {
     "name": "#%% md\n"
    }
   }
  },
  {
   "cell_type": "code",
   "execution_count": 13,
   "metadata": {
    "collapsed": true,
    "pycharm": {
     "name": "#%%\n"
    }
   },
   "outputs": [],
   "source": [
    "from RBM_helper import  RBM\n",
    "import torch\n",
    "import matplotlib.pyplot as plt\n",
    "\n",
    "rbm_1 = RBM.from_weights('../params/MNIST_k_1_e_500')\n",
    "rbm_2 = RBM.from_weights('../params/MNIST_k_200_e_500')"
   ]
  },
  {
   "cell_type": "markdown",
   "source": [
    "## Comparing different models with same initial input and CD steps\n",
    "- We see that from same random initial input, the model trained larger CD-k step produces better quality image."
   ],
   "metadata": {
    "collapsed": false,
    "pycharm": {
     "name": "#%% md\n"
    }
   }
  },
  {
   "cell_type": "code",
   "execution_count": 20,
   "outputs": [
    {
     "data": {
      "text/plain": "Text(0.5, 0, 'k=200, e=1000')"
     },
     "execution_count": 20,
     "metadata": {},
     "output_type": "execute_result"
    },
    {
     "data": {
      "text/plain": "<Figure size 432x288 with 2 Axes>",
      "image/png": "[encoded data removed]"
     },
     "metadata": {
      "needs_background": "light"
     },
     "output_type": "display_data"
    }
   ],
   "source": [
    "n_vis = rbm_1.n_vis\n",
    "initial_state = torch.rand(n_vis)\n",
    "k = 500\n",
    "image_1 = rbm_1.draw_samples(k, initial_state.clone()).cpu().detach().numpy().reshape(28, 28)\n",
    "image_2 = rbm_2.draw_samples(k, initial_state.clone()).cpu().detach().numpy().reshape(28, 28)\n",
    "\n",
    "\n",
    "f, axarr = plt.subplots(1,2)\n",
    "axarr[0].imshow(image_1)\n",
    "axarr[0].set_xlabel('k=1, e=500')\n",
    "axarr[1].imshow(image_2)\n",
    "axarr[1].set_xlabel('k=200, e=1000')"
   ],
   "metadata": {
    "collapsed": false,
    "pycharm": {
     "name": "#%%\n"
    }
   }
  },
  {
   "cell_type": "markdown",
   "source": [
    "## PCD-k to sample from low quality model\n",
    "- Persistent contrastive divergence: using training data as initial state, we can draw high quality sample from less trained model.\n",
    "- In this case, the image quality for both models do not differ much."
   ],
   "metadata": {
    "collapsed": false,
    "pycharm": {
     "name": "#%% md\n"
    }
   }
  },
  {
   "cell_type": "code",
   "execution_count": 31,
   "outputs": [
    {
     "name": "stdout",
     "output_type": "stream",
     "text": [
      "Save complete.\n"
     ]
    },
    {
     "data": {
      "text/plain": "Text(0.5, 0, 'k=200, e=1000')"
     },
     "execution_count": 31,
     "metadata": {},
     "output_type": "execute_result"
    },
    {
     "data": {
      "text/plain": "<Figure size 432x288 with 2 Axes>",
      "image/png": "[encoded data removed]"
     },
     "metadata": {
      "needs_background": "light"
     },
     "output_type": "display_data"
    }
   ],
   "source": [
    "\n",
    "import numpy as np\n",
    "from urllib import request\n",
    "import gzip\n",
    "import pickle\n",
    "\n",
    "filename = [\n",
    "[\"training_images\",\"train-images-idx3-ubyte.gz\"],\n",
    "[\"test_images\",\"t10k-images-idx3-ubyte.gz\"],\n",
    "[\"training_labels\",\"train-labels-idx1-ubyte.gz\"],\n",
    "[\"test_labels\",\"t10k-labels-idx1-ubyte.gz\"]\n",
    "]\n",
    "\n",
    "def download_mnist():\n",
    "    base_url = \"http://yann.lecun.com/exdb/mnist/\"\n",
    "    for name in filename:\n",
    "        print(\"Downloading \"+name[1]+\"...\")\n",
    "        request.urlretrieve(base_url+name[1], name[1])\n",
    "    print(\"Download complete.\")\n",
    "\n",
    "def save_mnist():\n",
    "    mnist = {}\n",
    "    for name in filename[:2]:\n",
    "        with gzip.open(name[1], 'rb') as f:\n",
    "            mnist[name[0]] = np.frombuffer(f.read(), np.uint8, offset=16).reshape(-1,28*28)\n",
    "    for name in filename[-2:]:\n",
    "        with gzip.open(name[1], 'rb') as f:\n",
    "            mnist[name[0]] = np.frombuffer(f.read(), np.uint8, offset=8)\n",
    "    with open(\"mnist.pkl\", 'wb') as f:\n",
    "        pickle.dump(mnist,f)\n",
    "    print(\"Save complete.\")\n",
    "\n",
    "def init():\n",
    "    # download_mnist()\n",
    "    save_mnist()\n",
    "\n",
    "def load():\n",
    "    with open(\"mnist.pkl\",'rb') as f:\n",
    "        mnist = pickle.load(f)\n",
    "    return mnist[\"training_images\"], mnist[\"training_labels\"], mnist[\"test_images\"], mnist[\"test_labels\"]\n",
    "\n",
    "load()\n",
    "init()\n",
    "data = load()\n",
    "labels = data[1]\n",
    "data = data[0]\n",
    "data = data/255 # normalize grey scale values between 0 and 255 to values between 0 and 1\n",
    "data = np.where(data > 0.5, 1, 0)\n",
    "data = data[labels == 0]\n",
    "\n",
    "training_initial_state = torch.Tensor(data[0])\n",
    "image_3 = rbm_1.draw_samples(k, training_initial_state).cpu().detach().numpy().reshape(28, 28)\n",
    "image_4 = rbm_2.draw_samples(k, training_initial_state).cpu().detach().numpy().reshape(28, 28)\n",
    "f, axarr = plt.subplots(1,2)\n",
    "\n",
    "axarr[0].imshow(image_3)\n",
    "axarr[0].set_xlabel('k=1, e=500')\n",
    "axarr[1].imshow(image_4)\n",
    "axarr[1].set_xlabel('k=200, e=1000')"
   ],
   "metadata": {
    "collapsed": false,
    "pycharm": {
     "name": "#%%\n"
    }
   }
  },
  {
   "cell_type": "markdown",
   "source": [
    "## Likelihood convergence comparison between different CD steps\n",
    "- To see how CD step difference affects training, I compare learning curve of different $k$'s\n",
    "- It clearly shows CD step causes a bottle neck of the training."
   ],
   "metadata": {
    "collapsed": false,
    "pycharm": {
     "name": "#%% md\n"
    }
   }
  },
  {
   "cell_type": "code",
   "execution_count": 54,
   "outputs": [
    {
     "data": {
      "text/plain": "Text(0, 0.5, 'Log likelihood')"
     },
     "execution_count": 54,
     "metadata": {},
     "output_type": "execute_result"
    },
    {
     "data": {
      "text/plain": "<Figure size 432x288 with 1 Axes>",
      "image/png": "[encoded data removed]"
     },
     "metadata": {
      "needs_background": "light"
     },
     "output_type": "display_data"
    }
   ],
   "source": [
    "import pandas as pd\n",
    "\n",
    "df_k1 = pd.read_csv('../training_logs/mnist_k_1_ll.csv', names=['likelihood_k1'], skiprows=1)\n",
    "df_k100 = pd.read_csv('../training_logs/mnist_k100_ll.csv', names=['likelihood_k100'], skiprows=1)\n",
    "\n",
    "df_k1.index = list(range(1, 501))\n",
    "df_k100.index = list(range(1, 101))\n",
    "df_k1.index.name = 'Epoch'\n",
    "df_k100.index.name = 'Epoch'\n",
    "\n",
    "combined_df = pd.concat([df_k1.iloc[:100], df_k100], axis=1)\n",
    "ax = combined_df.plot()\n",
    "ax.set_ylabel('Log likelihood')"
   ],
   "metadata": {
    "collapsed": false,
    "pycharm": {
     "name": "#%%\n"
    }
   }
  },
  {
   "cell_type": "code",
   "execution_count": null,
   "outputs": [],
   "source": [
    "\n"
   ],
   "metadata": {
    "collapsed": false,
    "pycharm": {
     "name": "#%%\n"
    }
   }
  }
 ],
 "metadata": {
  "kernelspec": {
   "display_name": "Python 3",
   "language": "python",
   "name": "python3"
  },
  "language_info": {
   "codemirror_mode": {
    "name": "ipython",
    "version": 2
   },
   "file_extension": ".py",
   "mimetype": "text/x-python",
   "name": "python",
   "nbconvert_exporter": "python",
   "pygments_lexer": "ipython2",
   "version": "2.7.6"
  }
 },
 "nbformat": 4,
 "nbformat_minor": 0
}