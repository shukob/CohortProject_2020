{
 "cells": [
  {
   "cell_type": "markdown",
   "metadata": {},
   "source": [
    "# Task #1 \n",
    "\n",
    "A template code for training an RBM on H$_2$ data for $r = 1.2$ is shown here. Modify this!\n",
    "\n",
    "Imports and loading in data:"
   ]
  },
  {
   "cell_type": "code",
   "execution_count": 19,
   "metadata": {
    "ExecuteTime": {
     "end_time": "2020-06-26T14:55:19.174279Z",
     "start_time": "2020-06-26T14:55:16.177972Z"
    }
   },
   "outputs": [],
   "source": [
    "import re\n",
    "from glob import glob\n",
    "import numpy as np\n",
    "import torch\n",
    "import matplotlib.pyplot as plt\n",
    "\n",
    "from RBM_helper import RBM\n",
    "\n",
    "import H2_energy_calculator\n",
    "from datetime import datetime\n"
   ]
  },
  {
   "cell_type": "markdown",
   "metadata": {},
   "source": [
    "Define the RBM:"
   ]
  },
  {
   "cell_type": "code",
   "execution_count": 20,
   "metadata": {
    "ExecuteTime": {
     "end_time": "2020-06-26T14:55:21.183670Z",
     "start_time": "2020-06-26T14:55:21.179123Z"
    }
   },
   "outputs": [],
   "source": [
    "n_vis = 2\n",
    "n_hin = 10\n",
    "\n",
    "rbm = RBM(n_vis, n_hin)"
   ]
  },
  {
   "cell_type": "markdown",
   "metadata": {},
   "source": [
    "Train the RBM:"
   ]
  },
  {
   "cell_type": "code",
   "execution_count": 21,
   "metadata": {
    "ExecuteTime": {
     "end_time": "2020-06-26T14:56:24.307961Z",
     "start_time": "2020-06-26T14:55:39.819468Z"
    },
    "pycharm": {
     "name": "#%%\n"
    }
   },
   "outputs": [
    {
     "name": "stdout",
     "output_type": "stream",
     "text": [
      "H2_data/R_1.5_samples.txt\n",
      "H2 energy for r = 1.5:  -1.0497107493775149\n",
      "\n",
      "Epoch:  100\n",
      "\n",
      "Elapsed:  0:00:08.395806\n",
      "Sampling the RBM...\n",
      "Done sampling. Calculating energy...\n",
      "Energy from RBM samples:  -0.9561737956832073\n",
      "\n",
      "Epoch:  200\n",
      "\n",
      "Elapsed:  0:00:08.644560\n",
      "Sampling the RBM...\n",
      "Done sampling. Calculating energy...\n",
      "Energy from RBM samples:  -0.9912419795364287\n",
      "\n",
      "Epoch:  300\n",
      "\n",
      "Elapsed:  0:00:08.797434\n",
      "Sampling the RBM...\n",
      "Done sampling. Calculating energy...\n",
      "Energy from RBM samples:  -0.9763509756356642\n",
      "\n",
      "Epoch:  400\n",
      "\n",
      "Elapsed:  0:00:09.081706\n",
      "Sampling the RBM...\n",
      "Done sampling. Calculating energy...\n",
      "Energy from RBM samples:  -0.953318889546748\n",
      "\n",
      "Epoch:  500\n",
      "\n",
      "Elapsed:  0:00:09.051178\n",
      "Sampling the RBM...\n",
      "Done sampling. Calculating energy...\n",
      "Energy from RBM samples:  -0.9553125924624883\n"
     ]
    },
    {
     "ename": "AttributeError",
     "evalue": "'RBM' object has no attribute 'save_params'",
     "output_type": "error",
     "traceback": [
      "\u001B[0;31m---------------------------------------------------------------------------\u001B[0m",
      "\u001B[0;31mAttributeError\u001B[0m                            Traceback (most recent call last)",
      "\u001B[0;32m<ipython-input-21-71d98afa4140>\u001B[0m in \u001B[0;36m<module>\u001B[0;34m\u001B[0m\n\u001B[1;32m     36\u001B[0m \u001B[0;34m\u001B[0m\u001B[0m\n\u001B[1;32m     37\u001B[0m     \u001B[0msave_dir\u001B[0m \u001B[0;34m=\u001B[0m \u001B[0;34mf'params/trained_r_{r}'\u001B[0m\u001B[0;34m\u001B[0m\u001B[0;34m\u001B[0m\u001B[0m\n\u001B[0;32m---> 38\u001B[0;31m     \u001B[0mrbm\u001B[0m\u001B[0;34m.\u001B[0m\u001B[0msave_params\u001B[0m\u001B[0;34m(\u001B[0m\u001B[0msave_dir\u001B[0m\u001B[0;34m)\u001B[0m\u001B[0;34m\u001B[0m\u001B[0;34m\u001B[0m\u001B[0m\n\u001B[0m\u001B[1;32m     39\u001B[0m     \u001B[0;31m#%%\u001B[0m\u001B[0;34m\u001B[0m\u001B[0;34m\u001B[0m\u001B[0;34m\u001B[0m\u001B[0m\n\u001B[1;32m     40\u001B[0m \u001B[0;34m\u001B[0m\u001B[0m\n",
      "\u001B[0;31mAttributeError\u001B[0m: 'RBM' object has no attribute 'save_params'"
     ]
    }
   ],
   "source": [
    "epochs = 500 # number of training steps\n",
    "num_samples = 1000 # number of samples to generate from the RBM to calculate the H2 energy\n",
    "coeff = np.loadtxt(\"H2_data/H2_coefficients.txt\")[20,:]\n",
    "\n",
    "for sample_file in glob('H2_data/*_samples.txt'):\n",
    "    print(sample_file)\n",
    "    match = re.match(r\".*R_([0-9.]+)_samples.txt\", sample_file)\n",
    "    r = match.groups(0)[0]\n",
    "    training_data = torch.from_numpy(np.loadtxt(sample_file))\n",
    "\n",
    "    true_energy = H2_energy_calculator.energy_from_freq(training_data, coeff)\n",
    "    print(f\"H2 energy for r = {r}: \",true_energy)\n",
    "\n",
    "    start = datetime.now()\n",
    "    for e in range(1, epochs+1):\n",
    "        # do one epoch of training\n",
    "        rbm.train(training_data)\n",
    "\n",
    "        # now generate samples and calculate the energy\n",
    "        if e % 100 == 0:\n",
    "            end = datetime.now()\n",
    "            print(\"\\nEpoch: \", e)\n",
    "            print(\"\\nElapsed: \", end - start)\n",
    "            print(\"Sampling the RBM...\")\n",
    "\n",
    "            # For sampling the RBM, we need to do Gibbs sampling.\n",
    "            # Initialize the Gibbs sampling chain with init_state as defined below.\n",
    "            init_state = torch.zeros(num_samples, n_vis)\n",
    "            RBM_samples = rbm.draw_samples(15, init_state)\n",
    "\n",
    "            print(\"Done sampling. Calculating energy...\")\n",
    "\n",
    "            energies = H2_energy_calculator.energy(RBM_samples, coeff, rbm.wavefunction)\n",
    "            print(\"Energy from RBM samples: \", energies.item())\n",
    "            start = datetime.now()\n",
    "\n",
    "    save_dir = f'params/trained_r_{r}'\n",
    "    rbm.save_params(save_dir)\n",
    "    #%%\n",
    "\n"
   ]
  },
  {
   "cell_type": "code",
   "execution_count": null,
   "outputs": [],
   "source": [
    "\n"
   ],
   "metadata": {
    "collapsed": false,
    "pycharm": {
     "name": "#%%\n"
    }
   }
  }
 ],
 "metadata": {
  "kernelspec": {
   "display_name": "Python 3",
   "language": "python",
   "name": "python3"
  },
  "language_info": {
   "codemirror_mode": {
    "name": "ipython",
    "version": 3
   },
   "file_extension": ".py",
   "mimetype": "text/x-python",
   "name": "python",
   "nbconvert_exporter": "python",
   "pygments_lexer": "ipython3",
   "version": "3.7.3"
  },
  "toc": {
   "base_numbering": 1,
   "nav_menu": {},
   "number_sections": true,
   "sideBar": true,
   "skip_h1_title": false,
   "title_cell": "Table of Contents",
   "title_sidebar": "Contents",
   "toc_cell": false,
   "toc_position": {},
   "toc_section_display": true,
   "toc_window_display": false
  },
  "varInspector": {
   "cols": {
    "lenName": 16,
    "lenType": 16,
    "lenVar": 40
   },
   "kernels_config": {
    "python": {
     "delete_cmd_postfix": "",
     "delete_cmd_prefix": "del ",
     "library": "var_list.py",
     "varRefreshCmd": "print(var_dic_list())"
    },
    "r": {
     "delete_cmd_postfix": ") ",
     "delete_cmd_prefix": "rm(",
     "library": "var_list.r",
     "varRefreshCmd": "cat(var_dic_list()) "
    }
   },
   "types_to_exclude": [
    "module",
    "function",
    "builtin_function_or_method",
    "instance",
    "_Feature"
   ],
   "window_display": false
  }
 },
 "nbformat": 4,
 "nbformat_minor": 2
}