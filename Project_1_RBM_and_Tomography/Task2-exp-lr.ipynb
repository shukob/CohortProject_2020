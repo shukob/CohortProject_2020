{
 "cells": [
  {
   "cell_type": "markdown",
   "metadata": {},
   "source": [
    "# Task #2\n",
    "\n",
    "A template code for training an RBM on Rydberg atom data (the full dataset) is provided below. For the first part of this task (determining the minimum number of hidden units), start with 20 hidden units. \n",
    "\n",
    "Imports and loadining in data:"
   ]
  },
  {
   "cell_type": "code",
   "execution_count": 1,
   "metadata": {},
   "outputs": [
    {
     "name": "stdout",
     "output_type": "stream",
     "text": [
      "Exact energy:  -4.1203519096\n",
      "20000\n"
     ]
    }
   ],
   "source": [
    "from pathlib import Path\n",
    "import numpy as np\n",
    "import torch\n",
    "from RBM_helper import RBM\n",
    "import csv\n",
    "import Rydberg_energy_calculator\n",
    "from datetime import datetime\n",
    "\n",
    "training_data = torch.from_numpy(np.loadtxt(\"Rydberg_data.txt\"))\n",
    "n_vis = training_data.shape[1]\n",
    "\n",
    "target = 0.0001\n",
    "exact_energy = -4.1203519096\n",
    "print(\"Exact energy: \",exact_energy)\n",
    "output_dir = Path(\"training_logs\")\n",
    "\n",
    "if not output_dir.exists():\n",
    "    output_dir.mkdir(parents=True)\n",
    "differences = {}\n",
    "training_num = training_data.shape[0]\n",
    "print(training_num)\n",
    "\n",
    "def train(n_hin):\n",
    "    rbm = RBM(n_vis, n_hin)\n",
    "    epochs = 1000\n",
    "    num_samples = 2000\n",
    "    print('Starting training on n_h = ', n_hin)\n",
    "    differences = []\n",
    "    for e in range(1, epochs+1):\n",
    "        # do one epoch of training\n",
    "        lr = .1*np.exp(-e/epochs)+1e-4\n",
    "        rbm.train(training_data, lr=lr)\n",
    "\n",
    "        # now generate samples and calculate the energy\n",
    "        if e % 100 == 0:\n",
    "            print(\"\\nEpoch: \", e)\n",
    "            # print(\"Sampling...\")\n",
    "\n",
    "            init_state = torch.zeros(num_samples, n_vis)\n",
    "            # idx = np.random.rand(training_num)\n",
    "            RBM_samples = rbm.draw_samples(100, init_state)\n",
    "\n",
    "            # print(\"Done sampling. Calculating energy...\")\n",
    "\n",
    "            energies = Rydberg_energy_calculator.energy(RBM_samples, rbm.wavefunction)\n",
    "            energy_difference = abs(exact_energy - energies.item())\n",
    "            differences.append(energy_difference)\n",
    "            print(\"Energy difference: \", energy_difference)\n",
    "    return differences"
   ]
  },
  {
   "cell_type": "code",
   "execution_count": null,
   "outputs": [
    {
     "name": "stdout",
     "output_type": "stream",
     "text": [
      "Starting training on n_h = Starting training on n_h = Starting training on n_h = Starting training on n_h = Starting training on n_h = Starting training on n_h = Starting training on n_h =  Starting training on n_h =  Starting training on n_h =     2060   4080\n",
      "120\n",
      "100160180140\n",
      "\n",
      "\n",
      "\n",
      "\n",
      "\n",
      "\n",
      "\n",
      "Epoch:  100\n",
      "Energy difference:  0.0007025816205450397\n",
      "\n",
      "Epoch:  100\n",
      "Energy difference:  0.0014494232242681093\n",
      "\n",
      "Epoch:  100\n",
      "Energy difference:  0.0015504857419443852\n",
      "\n",
      "Epoch:  100\n",
      "Energy difference:  0.0013437700676854902\n",
      "\n",
      "Epoch:  100\n",
      "Energy difference:  0.00152831364534034\n",
      "\n",
      "Epoch:  100\n",
      "Energy difference:  0.0010909322492738127\n",
      "\n",
      "Epoch:  100\n",
      "Energy difference:  0.0017779533968456107\n",
      "\n",
      "Epoch:  100\n",
      "Energy difference:  0.0015779668493811627\n",
      "\n",
      "Epoch:  100\n",
      "Energy difference:  0.0011502170167068115\n",
      "\n",
      "Epoch:  200\n",
      "Energy difference:  0.0006641824233124538\n",
      "\n",
      "Epoch:  200\n",
      "Energy difference:  0.0011177536903961283\n",
      "\n",
      "Epoch:  200\n",
      "Energy difference:  0.0009909075029286285\n",
      "\n",
      "Epoch:  200\n",
      "Energy difference:  0.0013755140318680859\n",
      "\n",
      "Epoch:  200\n",
      "Energy difference:  0.0016186744553134957\n",
      "\n",
      "Epoch:  200\n",
      "Energy difference:  0.0018630945822009082\n",
      "\n",
      "Epoch:  200\n",
      "Energy difference:  0.0012982753103800704\n",
      "\n",
      "Epoch:  200\n",
      "Energy difference:  0.0024003587201386622\n",
      "\n",
      "Epoch:  200\n",
      "Energy difference:  0.0015221281767017203\n",
      "\n",
      "Epoch:  300\n",
      "Energy difference:  0.0010662197511113192\n",
      "\n",
      "Epoch:  300\n",
      "Energy difference:  0.0008697602189098319\n",
      "\n",
      "Epoch:  300\n",
      "Energy difference:  0.0018412230655986406\n"
     ]
    },
    {
     "name": "stderr",
     "output_type": "stream",
     "text": [
      "../aten/src/ATen/native/BinaryOps.cpp:81: UserWarning: Integer division of tensors using div or / is deprecated, and in a future release div will perform true division as in Python 3. Use true_divide or floor_divide (// in Python) instead.\n",
      "../aten/src/ATen/native/BinaryOps.cpp:81: UserWarning: Integer division of tensors using div or / is deprecated, and in a future release div will perform true division as in Python 3. Use true_divide or floor_divide (// in Python) instead.\n",
      "../aten/src/ATen/native/BinaryOps.cpp:81: UserWarning: Integer division of tensors using div or / is deprecated, and in a future release div will perform true division as in Python 3. Use true_divide or floor_divide (// in Python) instead.\n",
      "../aten/src/ATen/native/BinaryOps.cpp:81: UserWarning: Integer division of tensors using div or / is deprecated, and in a future release div will perform true division as in Python 3. Use true_divide or floor_divide (// in Python) instead.\n",
      "../aten/src/ATen/native/BinaryOps.cpp:81: UserWarning: Integer division of tensors using div or / is deprecated, and in a future release div will perform true division as in Python 3. Use true_divide or floor_divide (// in Python) instead.\n",
      "../aten/src/ATen/native/BinaryOps.cpp:81: UserWarning: Integer division of tensors using div or / is deprecated, and in a future release div will perform true division as in Python 3. Use true_divide or floor_divide (// in Python) instead.\n",
      "../aten/src/ATen/native/BinaryOps.cpp:81: UserWarning: Integer division of tensors using div or / is deprecated, and in a future release div will perform true division as in Python 3. Use true_divide or floor_divide (// in Python) instead.\n",
      "../aten/src/ATen/native/BinaryOps.cpp:81: UserWarning: Integer division of tensors using div or / is deprecated, and in a future release div will perform true division as in Python 3. Use true_divide or floor_divide (// in Python) instead.\n",
      "../aten/src/ATen/native/BinaryOps.cpp:81: UserWarning: Integer division of tensors using div or / is deprecated, and in a future release div will perform true division as in Python 3. Use true_divide or floor_divide (// in Python) instead.\n"
     ]
    }
   ],
   "source": [
    "from multiprocessing import Pool\n",
    "\n",
    "with Pool(16) as p:\n",
    "    results = p.map(train, range(20, 500, 20))"
   ],
   "metadata": {
    "collapsed": false,
    "pycharm": {
     "name": "#%%\n",
     "is_executing": true
    }
   }
  },
  {
   "cell_type": "code",
   "execution_count": 41,
   "outputs": [
    {
     "name": "stdout",
     "output_type": "stream",
     "text": [
      "[[0.0006310583671433889, 0.000921435257033032, 0.0008249763915291197, 0.0002358291517472466, 0.0006430586721304365, 0.0003901989711065923, 0.0007728823973174315, 0.0006230158105875461, 0.0005175208083594285, 0.0004245495499004548], [0.0008475099397609043, 0.000907373093994579, 0.0011729905574560107, 0.0003560218662768122, 0.0008484090512315134, 0.0007706714996400521, 0.00020168960690103432, 0.0005729445511457598, 0.0002453111560356547, 0.0004575601778320504], [0.0014029966640736191, 0.0006042227534681643, 0.0007287060625564834, 0.0009619315357349834, 0.0009193632576200983, 0.0005213437419566702, 0.0010433943246521693, 0.00065047332706758, 0.0003492967387073165, 0.0006075443657289625], [0.0012212809912872657, 0.0012316421801124022, 0.0008570149984956643, 0.0004220908718819416, 0.001006561875807499, 0.000722634701970648, 0.0006617482548394449, 0.0005886573291196129, 0.0007469560301824885, 0.0002095538275765918], [0.0012133892398695778, 0.0009662753229386922, 0.0010948102160490691, 0.0010286400542742768, 0.0011811100712026956, 0.000678421918550498, 0.001101297987389671, 0.0005115909895225812, 0.0009848442252655687, 0.0005375643837055577], [0.0010189420076880396, 0.0009970074673324447, 0.0011435451134147456, 0.0005807644717474858, 0.00044438656559542267, 0.0008471295571270687, 0.0004119675724574279, 0.0005328127325094911, 0.0005624017767225098, 0.00019645658596800786], [0.0021627517748035174, 0.0009886362960598305, 0.0013291908375610006, 0.0008991770325286197, 0.0008160704599857738, 0.0007849247098761225, 0.000569594431183873, 0.000970087032116318, 0.0006482802103366936, 0.0006414999254378273], [0.0020950748428001376, 0.0014542779464079558, 0.0008765495576739113, 0.0013778420284671355, 0.0010635896090906982, 0.001035669398290473, 0.0009958002201662097, 0.0009355610014889493, 0.0006045938123317995, 0.0010549230667260545], [0.0015080759041579128, 0.0007203292256354743, 0.0011367278009277726, 0.0011737109813978464, 0.000705454193186128, 0.000761030771463389, 0.0008534948664369324, 0.0011634549598591448, 0.000689764002426152, 0.0006144545186712591], [0.0017266989903559349, 0.0008887337798384465, 0.0014259349037759605, 0.0013727460161510052, 0.0010322091684846768, 0.0006755671940936736, 0.0005235957467766283, 0.0011782472015617884, 0.0006722832888410579, 0.0006064927597435599], [0.0018733365560530402, 0.0012416010067459737, 0.0008378700682394324, 0.0014897627762069376, 0.0010735586499981409, 0.0008465487731603716, 0.00038165867245165686, 0.0006844048065604014, 0.0007199625615124106, 0.001008841282923001], [0.0021386429360426007, 0.000817520417497164, 0.000495736946976244, 0.0009868819538771945, 0.0005725193623833391, 0.001070370121015074, 0.0005973230120721595, 0.0008321742655406084, 0.0007317559942316976, 0.0009544128782188466], [0.0013876396032461713, 0.0009289224282360564, 0.0018126056571041715, 0.0006243564078687314, 0.0011965883801732247, 0.00099862077997237, 0.0012756366518615891, 0.0006943812107866876, 0.0010176348565975601, 0.0009342015559283823], [0.0009735296757638068, 0.0009866970964438337, 0.0007508543373919707, 0.001381834840255891, 0.0007432267407310178, 0.0011597643154557247, 0.0007466277747054662, 0.0009499656336418028, 0.0011661992223128692, 0.0009375437259633301], [0.0006171513448203214, 0.0012012799573595245, 0.0009505222992549633, 0.0013763182533717, 0.001369395843568988, 0.00098231987183528, 0.0009192465024927543, 0.0007647095667850934, 0.000844119794667364, 0.0004856792790075559], [0.001167613814302193, 0.0009072285560840498, 0.0009556844494440497, 0.0007564397724735272, 0.0008815145550844505, 0.0008135201796806157, 0.0009927219721914682, 0.0008969291208060781, 0.0012196646989055537, 0.0010012235280161264]]\n"
     ]
    }
   ],
   "source": [
    "print(results)"
   ],
   "metadata": {
    "collapsed": false,
    "pycharm": {
     "name": "#%%\n"
    }
   }
  },
  {
   "cell_type": "code",
   "execution_count": 42,
   "outputs": [],
   "source": [
    "with open(str(output_dir / f\"task2.csv\"), 'w') as f:\n",
    "    w = csv.writer(f)\n",
    "    w.writerows(results)"
   ],
   "metadata": {
    "collapsed": false,
    "pycharm": {
     "name": "#%%\n"
    }
   }
  },
  {
   "cell_type": "code",
   "execution_count": null,
   "outputs": [],
   "source": [
    "\n"
   ],
   "metadata": {
    "collapsed": false,
    "pycharm": {
     "name": "#%%\n"
    }
   }
  }
 ],
 "metadata": {
  "kernelspec": {
   "display_name": "Python 3",
   "language": "python",
   "name": "python3"
  },
  "language_info": {
   "codemirror_mode": {
    "name": "ipython",
    "version": 3
   },
   "file_extension": ".py",
   "mimetype": "text/x-python",
   "name": "python",
   "nbconvert_exporter": "python",
   "pygments_lexer": "ipython3",
   "version": "3.7.4"
  },
  "toc": {
   "base_numbering": 1,
   "nav_menu": {},
   "number_sections": true,
   "sideBar": true,
   "skip_h1_title": false,
   "title_cell": "Table of Contents",
   "title_sidebar": "Contents",
   "toc_cell": false,
   "toc_position": {},
   "toc_section_display": true,
   "toc_window_display": false
  },
  "varInspector": {
   "cols": {
    "lenName": 16,
    "lenType": 16,
    "lenVar": 40
   },
   "kernels_config": {
    "python": {
     "delete_cmd_postfix": "",
     "delete_cmd_prefix": "del ",
     "library": "var_list.py",
     "varRefreshCmd": "print(var_dic_list())"
    },
    "r": {
     "delete_cmd_postfix": ") ",
     "delete_cmd_prefix": "rm(",
     "library": "var_list.r",
     "varRefreshCmd": "cat(var_dic_list()) "
    }
   },
   "types_to_exclude": [
    "module",
    "function",
    "builtin_function_or_method",
    "instance",
    "_Feature"
   ],
   "window_display": false
  }
 },
 "nbformat": 4,
 "nbformat_minor": 2
}