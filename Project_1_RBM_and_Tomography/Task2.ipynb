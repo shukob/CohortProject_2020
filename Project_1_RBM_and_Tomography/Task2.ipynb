{
 "cells": [
  {
   "cell_type": "markdown",
   "metadata": {},
   "source": [
    "# Task #2\n",
    "\n",
    "A template code for training an RBM on Rydberg atom data (the full dataset) is provided below. For the first part of this task (determining the minimum number of hidden units), start with 20 hidden units. \n",
    "\n",
    "Imports and loadining in data:"
   ]
  },
  {
   "cell_type": "code",
   "execution_count": 7,
   "metadata": {},
   "outputs": [],
   "source": [
    "import numpy as np\n",
    "import torch\n",
    "from RBM_helper import RBM\n",
    "\n",
    "import Rydberg_energy_calculator\n",
    "from datetime import datetime\n",
    "\n",
    "training_data = torch.from_numpy(np.loadtxt(\"Rydberg_data.txt\"))"
   ]
  },
  {
   "cell_type": "markdown",
   "metadata": {},
   "source": [
    "Define the RBM:"
   ]
  },
  {
   "cell_type": "code",
   "execution_count": 8,
   "metadata": {},
   "outputs": [],
   "source": [
    "n_vis = training_data.shape[1]\n"
   ]
  },
  {
   "cell_type": "markdown",
   "metadata": {},
   "source": [
    "Train the RBM:"
   ]
  },
  {
   "cell_type": "code",
   "execution_count": null,
   "metadata": {
    "pycharm": {
     "is_executing": true
    }
   },
   "outputs": [
    {
     "name": "stdout",
     "output_type": "stream",
     "text": [
      "Exact energy:  -4.1203519096\n",
      "\n",
      "Epoch:  100\n",
      "Sampling...\n",
      "Done sampling. Calculating energy...\n",
      "Energy from RBM samples:  -4.120193766780767\n",
      "\n",
      "Epoch:  200\n",
      "Sampling...\n",
      "Done sampling. Calculating energy...\n",
      "Energy from RBM samples:  -4.11961079988695\n",
      "\n",
      "Epoch:  300\n",
      "Sampling...\n",
      "Done sampling. Calculating energy...\n",
      "Energy from RBM samples:  -4.119939209179385\n",
      "\n",
      "Epoch:  400\n",
      "Sampling...\n",
      "Done sampling. Calculating energy...\n",
      "Energy from RBM samples:  -4.120176211621991\n",
      "\n",
      "Epoch:  500\n",
      "Sampling...\n",
      "Done sampling. Calculating energy...\n",
      "Energy from RBM samples:  -4.120192685667855\n",
      "Final energy difference for n_h =  1  :  0.00015922393214484742\n",
      "Exact energy:  -4.1203519096\n",
      "\n",
      "Epoch:  100\n",
      "Sampling...\n",
      "Done sampling. Calculating energy...\n",
      "Energy from RBM samples:  -4.119883469982222\n",
      "\n",
      "Epoch:  200\n",
      "Sampling...\n",
      "Done sampling. Calculating energy...\n",
      "Energy from RBM samples:  -4.119848888522061\n",
      "\n",
      "Epoch:  300\n",
      "Sampling...\n",
      "Done sampling. Calculating energy...\n",
      "Energy from RBM samples:  -4.120097834322031\n",
      "\n",
      "Epoch:  400\n",
      "Sampling...\n",
      "Done sampling. Calculating energy...\n",
      "Energy from RBM samples:  -4.119999646048213\n",
      "\n",
      "Epoch:  500\n",
      "Sampling...\n",
      "Done sampling. Calculating energy...\n",
      "Energy from RBM samples:  -4.120043329386806\n",
      "Final energy difference for n_h =  2  :  0.0003085802131943538\n",
      "Exact energy:  -4.1203519096\n",
      "\n",
      "Epoch:  100\n",
      "Sampling...\n",
      "Done sampling. Calculating energy...\n",
      "Energy from RBM samples:  -4.119923713683881\n",
      "\n",
      "Epoch:  200\n",
      "Sampling...\n",
      "Done sampling. Calculating energy...\n",
      "Energy from RBM samples:  -4.120059097748558\n",
      "\n",
      "Epoch:  300\n",
      "Sampling...\n",
      "Done sampling. Calculating energy...\n",
      "Energy from RBM samples:  -4.1199063744916335\n",
      "\n",
      "Epoch:  400\n",
      "Sampling...\n",
      "Done sampling. Calculating energy...\n",
      "Energy from RBM samples:  -4.1200933432107085\n",
      "\n",
      "Epoch:  500\n",
      "Sampling...\n",
      "Done sampling. Calculating energy...\n",
      "Energy from RBM samples:  -4.119955752263844\n",
      "Final energy difference for n_h =  3  :  0.0003961573361559445\n",
      "Exact energy:  -4.1203519096\n",
      "\n",
      "Epoch:  100\n",
      "Sampling...\n",
      "Done sampling. Calculating energy...\n",
      "Energy from RBM samples:  -4.119995976975182\n",
      "\n",
      "Epoch:  200\n",
      "Sampling...\n",
      "Done sampling. Calculating energy...\n",
      "Energy from RBM samples:  -4.120206984144533\n",
      "\n",
      "Epoch:  300\n",
      "Sampling...\n",
      "Done sampling. Calculating energy...\n",
      "Energy from RBM samples:  -4.119939867499012\n",
      "\n",
      "Epoch:  400\n",
      "Sampling...\n",
      "Done sampling. Calculating energy...\n",
      "Energy from RBM samples:  -4.11981445881272\n",
      "\n",
      "Epoch:  500\n",
      "Sampling...\n",
      "Done sampling. Calculating energy...\n",
      "Energy from RBM samples:  -4.119965114641401\n",
      "Final energy difference for n_h =  4  :  0.0003867949585991681\n",
      "Exact energy:  -4.1203519096\n",
      "\n",
      "Epoch:  100\n",
      "Sampling...\n",
      "Done sampling. Calculating energy...\n",
      "Energy from RBM samples:  -4.120206443273983\n",
      "\n",
      "Epoch:  200\n",
      "Sampling...\n",
      "Done sampling. Calculating energy...\n",
      "Energy from RBM samples:  -4.119837518420544\n"
     ]
    }
   ],
   "source": [
    "\n",
    "for n_hin in range(1, 10):\n",
    "    rbm = RBM(n_vis, n_hin)\n",
    "    epochs = 500\n",
    "    num_samples = 2000\n",
    "\n",
    "    exact_energy = -4.1203519096\n",
    "    print(\"Exact energy: \",exact_energy)\n",
    "    start = datetime.now()\n",
    "    for e in range(1, epochs+1):\n",
    "        # do one epoch of training\n",
    "        rbm.train(training_data)\n",
    "\n",
    "        # now generate samples and calculate the energy\n",
    "        if e % 100 == 0:\n",
    "            print(\"\\nEpoch: \", e)\n",
    "            print(\"Sampling...\")\n",
    "\n",
    "            init_state = torch.zeros(num_samples, n_vis)\n",
    "            RBM_samples = rbm.draw_samples(100, init_state)\n",
    "\n",
    "            print(\"Done sampling. Calculating energy...\")\n",
    "\n",
    "            energies = Rydberg_energy_calculator.energy(RBM_samples, rbm.wavefunction)\n",
    "            print(\"Energy from RBM samples: \", energies.item())\n",
    "    print(\"Final energy difference for n_h = \", n_hin, ' : ', abs(exact_energy - energies.item()))"
   ]
  },
  {
   "cell_type": "code",
   "execution_count": null,
   "outputs": [],
   "source": [
    "\n"
   ],
   "metadata": {
    "collapsed": false,
    "pycharm": {
     "name": "#%%\n"
    }
   }
  }
 ],
 "metadata": {
  "kernelspec": {
   "display_name": "Python 3",
   "language": "python",
   "name": "python3"
  },
  "language_info": {
   "codemirror_mode": {
    "name": "ipython",
    "version": 3
   },
   "file_extension": ".py",
   "mimetype": "text/x-python",
   "name": "python",
   "nbconvert_exporter": "python",
   "pygments_lexer": "ipython3",
   "version": "3.7.4"
  },
  "toc": {
   "base_numbering": 1,
   "nav_menu": {},
   "number_sections": true,
   "sideBar": true,
   "skip_h1_title": false,
   "title_cell": "Table of Contents",
   "title_sidebar": "Contents",
   "toc_cell": false,
   "toc_position": {},
   "toc_section_display": true,
   "toc_window_display": false
  },
  "varInspector": {
   "cols": {
    "lenName": 16,
    "lenType": 16,
    "lenVar": 40
   },
   "kernels_config": {
    "python": {
     "delete_cmd_postfix": "",
     "delete_cmd_prefix": "del ",
     "library": "var_list.py",
     "varRefreshCmd": "print(var_dic_list())"
    },
    "r": {
     "delete_cmd_postfix": ") ",
     "delete_cmd_prefix": "rm(",
     "library": "var_list.r",
     "varRefreshCmd": "cat(var_dic_list()) "
    }
   },
   "types_to_exclude": [
    "module",
    "function",
    "builtin_function_or_method",
    "instance",
    "_Feature"
   ],
   "window_display": false
  }
 },
 "nbformat": 4,
 "nbformat_minor": 2
}