{
 "cells": [
  {
   "cell_type": "markdown",
   "metadata": {},
   "source": [
    "# Electronic Structure Calculations using Generalized Ising Hamiltonians\n",
    "\n",
    "Your final task is to calculate the ground state energy of a hydrogen molecule using a Generalized Ising Hamiltonian:\n",
    "\n",
    "$ H = E_0 + \\sum_i h_i\\sigma_i + \\sum_{ij} J_{ij}\\sigma_i\\sigma_j + \\sum_{ijk} K_{ijk}\\sigma_i\\sigma_j\\sigma_k + \\sum_{ijkl} L_{ijkl}\\sigma_i\\sigma_j\\sigma_k\\sigma_l + \\cdots $\n",
    "\n",
    "where the Hamiltonian parameters ($E_0, h_i, J_{ij}, K_{ijk}, L_{ijkl}$) will be provided to you by the `read_generalized_ising_hamiltonian` function below.\n",
    "\n",
    "These Ising Hamiltonians were produced using the *Iterative Qubit Coupled Cluster* method (https://arxiv.org/abs/1906.11192).\n",
    "\n",
    "The $H_2$ Ising Hamiltonian only needs 4 spins to fully describe the ground state, hence our Hamiltonian only needs a 4-point interaction at most."
   ]
  },
  {
   "cell_type": "code",
   "execution_count": 6,
   "metadata": {},
   "outputs": [],
   "source": [
    "import numpy as np\n",
    "\n",
    "from abstract_ising import AbstractIsing\n",
    "from ising_animator import IsingAnimator\n",
    "import matplotlib.pyplot as plt\n",
    "\n",
    "%matplotlib inline"
   ]
  },
  {
   "cell_type": "code",
   "execution_count": 7,
   "metadata": {},
   "outputs": [],
   "source": [
    "def read_generalized_ising_hamiltonian(path):\n",
    "    with open(path, \"r\") as f:\n",
    "        f.readline()  # discard first line\n",
    "        compressed_hamiltonian = [\n",
    "            tuple(line.strip().split())\n",
    "            for line in f.readlines()\n",
    "        ]\n",
    "    \n",
    "    num_sites = len(compressed_hamiltonian[0][0])\n",
    "    hamiltonian_terms = [np.zeros((num_sites,)*i) for i in range(num_sites+1)]\n",
    "\n",
    "    for sites, val in compressed_hamiltonian:\n",
    "        num_zs = 0\n",
    "        site_nums = []\n",
    "        for i, x in enumerate(sites):\n",
    "            if x == 'z':\n",
    "                site_nums.append(i)\n",
    "                num_zs += 1\n",
    "\n",
    "        hamiltonian_terms[num_zs][tuple(site_nums)] = float(val)\n",
    "\n",
    "    return hamiltonian_terms"
   ]
  },
  {
   "cell_type": "code",
   "execution_count": 18,
   "metadata": {},
   "outputs": [
    {
     "name": "stdout",
     "output_type": "stream",
     "text": [
      "[0.         0.18262644 0.12584137 0.19100352]\n",
      "[[ 0.          0.          0.12584137  0.00837708]\n",
      " [ 0.          0.          0.          0.1729761 ]\n",
      " [ 0.          0.          0.         -0.27288405]\n",
      " [ 0.          0.          0.          0.        ]]\n",
      "[[[ 0.          0.          0.          0.        ]\n",
      "  [ 0.          0.         -0.26450696  0.17866778]\n",
      "  [ 0.          0.          0.         -0.00837708]\n",
      "  [ 0.          0.          0.          0.        ]]\n",
      "\n",
      " [[ 0.          0.          0.          0.        ]\n",
      "  [ 0.          0.          0.          0.        ]\n",
      "  [ 0.          0.          0.          0.16992098]\n",
      "  [ 0.          0.          0.          0.        ]]\n",
      "\n",
      " [[ 0.          0.          0.          0.        ]\n",
      "  [ 0.          0.          0.          0.        ]\n",
      "  [ 0.          0.          0.          0.        ]\n",
      "  [ 0.          0.          0.          0.        ]]\n",
      "\n",
      " [[ 0.          0.          0.          0.        ]\n",
      "  [ 0.          0.          0.          0.        ]\n",
      "  [ 0.          0.          0.          0.        ]\n",
      "  [ 0.          0.          0.          0.        ]]]\n",
      "[[[[0.         0.         0.         0.        ]\n",
      "   [0.         0.         0.         0.        ]\n",
      "   [0.         0.         0.         0.        ]\n",
      "   [0.         0.         0.         0.        ]]\n",
      "\n",
      "  [[0.         0.         0.         0.        ]\n",
      "   [0.         0.         0.         0.        ]\n",
      "   [0.         0.         0.         0.16992098]\n",
      "   [0.         0.         0.         0.        ]]\n",
      "\n",
      "  [[0.         0.         0.         0.        ]\n",
      "   [0.         0.         0.         0.        ]\n",
      "   [0.         0.         0.         0.        ]\n",
      "   [0.         0.         0.         0.        ]]\n",
      "\n",
      "  [[0.         0.         0.         0.        ]\n",
      "   [0.         0.         0.         0.        ]\n",
      "   [0.         0.         0.         0.        ]\n",
      "   [0.         0.         0.         0.        ]]]\n",
      "\n",
      "\n",
      " [[[0.         0.         0.         0.        ]\n",
      "   [0.         0.         0.         0.        ]\n",
      "   [0.         0.         0.         0.        ]\n",
      "   [0.         0.         0.         0.        ]]\n",
      "\n",
      "  [[0.         0.         0.         0.        ]\n",
      "   [0.         0.         0.         0.        ]\n",
      "   [0.         0.         0.         0.        ]\n",
      "   [0.         0.         0.         0.        ]]\n",
      "\n",
      "  [[0.         0.         0.         0.        ]\n",
      "   [0.         0.         0.         0.        ]\n",
      "   [0.         0.         0.         0.        ]\n",
      "   [0.         0.         0.         0.        ]]\n",
      "\n",
      "  [[0.         0.         0.         0.        ]\n",
      "   [0.         0.         0.         0.        ]\n",
      "   [0.         0.         0.         0.        ]\n",
      "   [0.         0.         0.         0.        ]]]\n",
      "\n",
      "\n",
      " [[[0.         0.         0.         0.        ]\n",
      "   [0.         0.         0.         0.        ]\n",
      "   [0.         0.         0.         0.        ]\n",
      "   [0.         0.         0.         0.        ]]\n",
      "\n",
      "  [[0.         0.         0.         0.        ]\n",
      "   [0.         0.         0.         0.        ]\n",
      "   [0.         0.         0.         0.        ]\n",
      "   [0.         0.         0.         0.        ]]\n",
      "\n",
      "  [[0.         0.         0.         0.        ]\n",
      "   [0.         0.         0.         0.        ]\n",
      "   [0.         0.         0.         0.        ]\n",
      "   [0.         0.         0.         0.        ]]\n",
      "\n",
      "  [[0.         0.         0.         0.        ]\n",
      "   [0.         0.         0.         0.        ]\n",
      "   [0.         0.         0.         0.        ]\n",
      "   [0.         0.         0.         0.        ]]]\n",
      "\n",
      "\n",
      " [[[0.         0.         0.         0.        ]\n",
      "   [0.         0.         0.         0.        ]\n",
      "   [0.         0.         0.         0.        ]\n",
      "   [0.         0.         0.         0.        ]]\n",
      "\n",
      "  [[0.         0.         0.         0.        ]\n",
      "   [0.         0.         0.         0.        ]\n",
      "   [0.         0.         0.         0.        ]\n",
      "   [0.         0.         0.         0.        ]]\n",
      "\n",
      "  [[0.         0.         0.         0.        ]\n",
      "   [0.         0.         0.         0.        ]\n",
      "   [0.         0.         0.         0.        ]\n",
      "   [0.         0.         0.         0.        ]]\n",
      "\n",
      "  [[0.         0.         0.         0.        ]\n",
      "   [0.         0.         0.         0.        ]\n",
      "   [0.         0.         0.         0.        ]\n",
      "   [0.         0.         0.         0.        ]]]]\n"
     ]
    }
   ],
   "source": [
    "E0, h, J, K, L = read_generalized_ising_hamiltonian(\"./hamiltonians/Ising-H2-STO-3G-bk-samespin-R=0.65.inp\")\n",
    "\n",
    "print(h)\n",
    "print(J)\n",
    "print(K)\n",
    "print(L)"
   ]
  },
  {
   "cell_type": "markdown",
   "metadata": {},
   "source": [
    "First, you must write a class that describes the Generalized Ising Model given the arrays containing the Hamiltonian parameters. You will need to write a function which computes energy of the stored spin configuration (see the previous tasks for inspiration), as well as a function which computes the change in energy resulting from a single-spin-flip (you could of course use the naive approach and simply compute the energy of two spin configurations and subtract one from the other)."
   ]
  },
  {
   "cell_type": "code",
   "execution_count": 15,
   "metadata": {},
   "outputs": [],
   "source": [
    "# Write a class to describe the generalized Ising Model given its Hamiltonian parameters\n",
    "def spinfield_1d(index, spin_count):\n",
    "    spins = [1 if digit=='1' else -1 for digit in bin(index)[2:]]\n",
    "    res = -np.ones(spin_count)\n",
    "    res[spin_count -len(spins):spin_count] = spins\n",
    "    return res\n",
    "\n",
    "class GeneralizedIsingModel(AbstractIsing):\n",
    "    def __init__(self, E0, h, J, K, L, seed=0):\n",
    "        super().__init__()\n",
    "        self.E0 = E0\n",
    "        self.h = h\n",
    "        self.J = J\n",
    "        self.K = K\n",
    "        self.L = L\n",
    "        np.random.seed(seed)\n",
    "        self.num_spins = h.shape[0]\n",
    "        self.spins = 2*(np.random.rand(self.num_spins) < 0.5) - 1\n",
    "\n",
    "    def energy(self, spins=None):\n",
    "        spins = self.spins if spins is None else spins\n",
    "\n",
    "        interaction1d = spins.dot(self.h)\n",
    "        interaction2d = spins.dot(self.J.dot(spins))\n",
    "        interaction3d = np.einsum(\"ijk,i,j,k\", self.K, self.spins, self.spins, self.spins)\n",
    "        interaction4d = np.einsum(\"ijkl,i,j,k,l\", self.L, self.spins, self.spins, self.spins, self.spins)\n",
    "\n",
    "        return self.E0 + interaction1d + interaction2d + interaction3d + interaction4d\n",
    "\n",
    "    def exact(self):\n",
    "        n = len(self.spins)\n",
    "        all_one = 2 ** n - 1\n",
    "        E = np.inf\n",
    "        for i in range(all_one + 1):\n",
    "            spins = spinfield_1d(i, n)\n",
    "            E = min(E, self.energy(spins))\n",
    "        return E\n",
    "    \n",
    "    def energy_diff(self, i):\n",
    "        diff1d = self.h[i]\n",
    "        diff2d = self.J[i, :].dot(self.spins) + self.J[:, i].dot(self.spins)\n",
    "        diff3d = self.K[i, i, :].dot(self.spins) + self.K[:, i, i].dot(self.spins) + self.K[i, :, i].dot(self.spins)\n",
    "        diff4d = self.L[i, i, i, :].dot(self.spins) + self.L[:, i,i, i].dot(self.spins) + self.L[i, :, i, i].dot(self.spins) +  self.L[i, i, :, i].dot(self.spins)\n",
    "\n",
    "        return -2 * self.spins[i] * (diff1d + diff2d + diff3d + diff4d)\n",
    "\n",
    "    def rand_site(self):\n",
    "        return (np.random.randint(self.num_spins),)"
   ]
  },
  {
   "cell_type": "markdown",
   "metadata": {},
   "source": [
    "Next you'll run a Monte Carlo simulation for this model at some finite temperature for 1000 steps, printing out the energy of the state every so often"
   ]
  },
  {
   "cell_type": "code",
   "execution_count": 19,
   "metadata": {},
   "outputs": [],
   "source": [
    "N = 1000\n",
    "t = np.arange(N+1)\n",
    "T_i = 400\n",
    "T_f = 0.1\n",
    "Ts = T_i * ((T_f/T_i) ** (t/N))\n",
    "\n",
    "def exp_schedule(T_i, T_f, N):\n",
    "    t = np.arange(N+1)\n",
    "    Ts = T_i * ((T_f/T_i) ** (t/N))\n",
    "    return Ts\n",
    "\n",
    "def anneal(ising,Ts):\n",
    "    Es = np.zeros_like(Ts)\n",
    "    for i, t in enumerate(Ts):\n",
    "        Es[i] = ising.mc_step(T=t)\n",
    "    return Es\n",
    "\n",
    "def calc_once(ising, Ts, include_exact=True):\n",
    "\n",
    "    ising.method = 'metropolis'\n",
    "    Es = anneal(ising, Ts)\n",
    "    Ea = min(Es)\n",
    "\n",
    "    plt.plot(np.arange(len(Es)), Es)\n",
    "    plt.plot(np.arange(len(Ts)), np.repeat(Ea, len(Ts)), color='g')\n",
    "    if include_exact:\n",
    "        Et = ising.exact()\n",
    "        print(\"Exact: \", Et)\n",
    "        plt.plot(np.arange(len(Ts)), np.repeat(Et, len(Ts)), color='r')\n",
    "    plt.show()\n"
   ]
  },
  {
   "cell_type": "markdown",
   "metadata": {},
   "source": [
    "Now, apply (one of) the annealing procedure(s) you came up with in the previous task to this problem to find a ground state of the system:"
   ]
  },
  {
   "cell_type": "code",
   "execution_count": 20,
   "metadata": {},
   "outputs": [
    {
     "name": "stdout",
     "output_type": "stream",
     "text": [
      "Exact:  -1.1299047752322906\n"
     ]
    },
    {
     "data": {
      "text/plain": "<Figure size 432x288 with 1 Axes>",
      "image/png": "[encoded data removed]"
     },
     "metadata": {
      "needs_background": "light"
     },
     "output_type": "display_data"
    }
   ],
   "source": [
    "E0, h, J, K, L = read_generalized_ising_hamiltonian(\"./hamiltonians/Ising-H2-STO-3G-bk-samespin-R=0.65.inp\")\n",
    "ising = GeneralizedIsingModel(E0, h, J, K, L)\n",
    "calc_once(ising, exp_schedule(400, 0.1, 300))\n",
    "# your annealing code here"
   ]
  },
  {
   "cell_type": "markdown",
   "metadata": {},
   "source": [
    "Finally, iterate over the entire spin configuration space (this is tractable since we only have 4 spins) to find the exact ground state energy. Compare this energy to the one you found above using your annealer."
   ]
  },
  {
   "cell_type": "code",
   "execution_count": 7,
   "metadata": {},
   "outputs": [],
   "source": [
    "# exact ground state calculation"
   ]
  },
  {
   "cell_type": "markdown",
   "metadata": {},
   "source": [
    "Now, clean up your code a little, and write a for-loop that iterates over all the different values of the Hydrogen seperation distance $R$ available in the `hamiltonians` directory. \n",
    "\n",
    "For each $R$ you must:\n",
    "- Read in the associated Ising Hamiltonian\n",
    "- Perform an annealed Monte Carlo simulation to find a candidate ground state energy\n",
    "- Compute the exact ground state energy\n",
    "- Compare the two results"
   ]
  },
  {
   "cell_type": "code",
   "execution_count": null,
   "metadata": {},
   "outputs": [],
   "source": []
  }
 ],
 "metadata": {
  "kernelspec": {
   "display_name": "Python 3",
   "language": "python",
   "name": "python3"
  },
  "language_info": {
   "codemirror_mode": {
    "name": "ipython",
    "version": 3
   },
   "file_extension": ".py",
   "mimetype": "text/x-python",
   "name": "python",
   "nbconvert_exporter": "python",
   "pygments_lexer": "ipython3",
   "version": "3.8.0"
  }
 },
 "nbformat": 4,
 "nbformat_minor": 4
}