{
 "cells": [
  {
   "cell_type": "markdown",
   "metadata": {},
   "source": [
    "# Electronic Structure Calculations using Generalized Ising Hamiltonians\n",
    "\n",
    "Your final task is to calculate the ground state energy of a hydrogen molecule using a Generalized Ising Hamiltonian:\n",
    "\n",
    "$$ \n",
    "H = E_0 + \\sum_i h_i\\sigma_i + \\sum_{ij} J_{ij}\\sigma_i\\sigma_j\n",
    "+ \\sum_{ijk} K_{ijk}\\sigma_i\\sigma_j\\sigma_k\n",
    "+ \\sum_{ijkl} L_{ijkl}\\sigma_i\\sigma_j\\sigma_k\\sigma_l\n",
    "+ \\cdots\n",
    "$$\n",
    "\n",
    "where the Hamiltonian parameters ($E_0, h_i, J_{ij}, K_{ijk}, L_{ijkl}$) will be provided to you by the `read_generalized_ising_hamiltonian` function below.\n",
    "\n",
    "These Ising Hamiltonians were produced using the *Iterative Qubit Coupled Cluster* method (https://arxiv.org/abs/1906.11192).\n",
    "\n",
    "The $H_2$ Ising Hamiltonian only needs 4 spins to fully describe the ground state, hence our Hamiltonian only needs a 4-point interaction at most."
   ]
  },
  {
   "cell_type": "code",
   "execution_count": 1,
   "metadata": {},
   "outputs": [],
   "source": [
    "import numpy as np\n",
    "\n",
    "from abstract_ising import AbstractIsing\n",
    "from ising_animator import IsingAnimator\n",
    "\n",
    "%matplotlib inline"
   ]
  },
  {
   "cell_type": "code",
   "execution_count": 2,
   "metadata": {},
   "outputs": [],
   "source": [
    "def read_generalized_ising_hamiltonian(path):\n",
    "    with open(path, \"r\") as f:\n",
    "        f.readline()  # discard first line\n",
    "        compressed_hamiltonian = [\n",
    "            tuple(line.strip().split())\n",
    "            for line in f.readlines()\n",
    "        ]\n",
    "    \n",
    "    num_sites = len(compressed_hamiltonian[0][0])\n",
    "    hamiltonian_terms = [np.zeros((num_sites,)*i) for i in range(num_sites+1)]\n",
    "\n",
    "    for sites, val in compressed_hamiltonian:\n",
    "        num_zs = 0\n",
    "        site_nums = []\n",
    "        for i, x in enumerate(sites):\n",
    "            if x == 'z':\n",
    "                site_nums.append(i)\n",
    "                num_zs += 1\n",
    "\n",
    "        hamiltonian_terms[num_zs][tuple(site_nums)] = float(val)\n",
    "\n",
    "    return hamiltonian_terms"
   ]
  },
  {
   "cell_type": "code",
   "execution_count": 3,
   "metadata": {},
   "outputs": [],
   "source": [
    "E0, h, J, K, L = read_generalized_ising_hamiltonian(\"./hamiltonians/Ising-H2-STO-3G-bk-samespin-R=0.65.inp\")"
   ]
  },
  {
   "cell_type": "markdown",
   "metadata": {},
   "source": [
    "First, you must write a class that describes the Generalized Ising Model given the arrays containing the Hamiltonian parameters. You will need to write a function which computes energy of the stored spin configuration (see the previous tasks for inspiration), as well as a function which computes the change in energy resulting from a single-spin-flip (you could of course use the naive approach and simply compute the energy of two spin configurations and subtract one from the other)."
   ]
  },
  {
   "cell_type": "code",
   "execution_count": 4,
   "metadata": {},
   "outputs": [],
   "source": [
    "# Write a class to describe the generalized Ising Model given its Hamiltonian parameters\n",
    "\n",
    "class GeneralizedIsingModel(AbstractIsing):\n",
    "    def __init__(self):\n",
    "        pass\n",
    "    \n",
    "    def energy(self):\n",
    "        # hint: np.einsum may be helpful here\n",
    "        pass\n",
    "    \n",
    "    def energy_diff(self, *coords):\n",
    "        pass\n",
    "    \n",
    "    def rand_site(self):\n",
    "        pass"
   ]
  },
  {
   "cell_type": "markdown",
   "metadata": {},
   "source": [
    "Next you'll run a Monte Carlo simulation for this model at some finite temperature for 1000 steps, printing out the energy of the state every so often"
   ]
  },
  {
   "cell_type": "code",
   "execution_count": 5,
   "metadata": {},
   "outputs": [],
   "source": [
    "# your MC simulation here"
   ]
  },
  {
   "cell_type": "markdown",
   "metadata": {},
   "source": [
    "Now, apply (one of) the annealing procedure(s) you came up with in the previous task to this problem to find a ground state of the system:"
   ]
  },
  {
   "cell_type": "code",
   "execution_count": 6,
   "metadata": {},
   "outputs": [],
   "source": [
    "# your annealing code here"
   ]
  },
  {
   "cell_type": "markdown",
   "metadata": {},
   "source": [
    "Finally, iterate over the entire spin configuration space (this is tractable since we only have 4 spins) to find the exact ground state energy. Compare this energy to the one you found above using your annealer."
   ]
  },
  {
   "cell_type": "code",
   "execution_count": 7,
   "metadata": {},
   "outputs": [],
   "source": [
    "# exact ground state calculation"
   ]
  },
  {
   "cell_type": "markdown",
   "metadata": {},
   "source": [
    "Now, clean up your code a little, and write a for-loop that iterates over all the different values of the Hydrogen seperation distance $R$ available in the `hamiltonians` directory. \n",
    "\n",
    "For each $R$ you must:\n",
    "- Read in the associated Ising Hamiltonian\n",
    "- Perform an annealed Monte Carlo simulation to find a candidate ground state energy\n",
    "- Compute the exact ground state energy\n",
    "- Compare the two results"
   ]
  },
  {
   "cell_type": "code",
   "execution_count": null,
   "metadata": {},
   "outputs": [],
   "source": []
  }
 ],
 "metadata": {
  "kernelspec": {
   "display_name": "Python 3",
   "language": "python",
   "name": "python3"
  },
  "language_info": {
   "codemirror_mode": {
    "name": "ipython",
    "version": 3
   },
   "file_extension": ".py",
   "mimetype": "text/x-python",
   "name": "python",
   "nbconvert_exporter": "python",
   "pygments_lexer": "ipython3",
   "version": "3.8.0"
  }
 },
 "nbformat": 4,
 "nbformat_minor": 4
}
