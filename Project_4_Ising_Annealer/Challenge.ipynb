{
 "cells": [
  {
   "cell_type": "markdown",
   "metadata": {
    "collapsed": true,
    "pycharm": {
     "name": "#%% md\n"
    }
   },
   "source": [
    "# Locality Reduction"
   ]
  },
  {
   "cell_type": "code",
   "execution_count": 59,
   "outputs": [],
   "source": [
    "import itertools\n",
    "from sympy import *\n",
    "import re\n",
    "from object_einsum import object_einsum\n",
    "\n",
    "sigmas = symbols('sigma1:5')"
   ],
   "metadata": {
    "collapsed": false,
    "pycharm": {
     "name": "#%%\n"
    }
   }
  },
  {
   "cell_type": "code",
   "execution_count": 60,
   "outputs": [
    {
     "name": "stdout",
     "output_type": "stream",
     "text": [
      "Reducing a term:  sigma0*sigma1*sigma2*sigma3\n",
      "Reduced a term into sigma0*sigma1 - sigma0*sigma2*sigma3 - 4*sigma0*sigma4 - 3*sigma0 - sigma1*sigma2*sigma3 - 4*sigma1*sigma4 - 3*sigma1 + 2*sigma2*sigma3*sigma4 + sigma2*sigma3 + 6*sigma4 + 7. Added index is  4\n",
      "Variables count  4 , Locality  3\n"
     ]
    },
    {
     "data": {
      "text/plain": "sigma0*sigma1 - sigma0*sigma2*sigma3 - 4*sigma0*sigma4 - 3*sigma0 - sigma1*sigma2*sigma3 - 4*sigma1*sigma4 - 3*sigma1 + 2*sigma2*sigma3*sigma4 + sigma2*sigma3 + 6*sigma4 + 7",
      "text/latex": "$\\displaystyle \\sigma_{0} \\sigma_{1} - \\sigma_{0} \\sigma_{2} \\sigma_{3} - 4 \\sigma_{0} \\sigma_{4} - 3 \\sigma_{0} - \\sigma_{1} \\sigma_{2} \\sigma_{3} - 4 \\sigma_{1} \\sigma_{4} - 3 \\sigma_{1} + 2 \\sigma_{2} \\sigma_{3} \\sigma_{4} + \\sigma_{2} \\sigma_{3} + 6 \\sigma_{4} + 7$"
     },
     "execution_count": 60,
     "metadata": {},
     "output_type": "execute_result"
    }
   ],
   "source": [
    "def reduce_positive_term_locality(sigmas, ancilla_symbol):\n",
    "    print(\"Reducing a term: \", prod(sigmas))\n",
    "    sigma_np1 = ancilla_symbol\n",
    "    res = 7 + prod(sigmas[2:]) - 3 * sigmas[0] - 3 * sigmas[1] + 6*sigma_np1 + 2 * prod(sigmas[2:]) * sigma_np1 - sigmas[0] * prod(sigmas[2:]) - sigmas[1] *prod(sigmas[2:]) - 4 * sigmas[0] * sigma_np1 - 4 * sigmas[1] * sigma_np1 + prod(sigmas[0:2])\n",
    "    return res\n",
    "\n",
    "def reduce_negative_term_locality(sigmas, ancilla_symbol):\n",
    "    print(\"Reducing a term: \", prod(sigmas))\n",
    "    sigma_np1 = ancilla_symbol\n",
    "    res = 5 - prod(sigmas[2:]) - sigmas[0] - sigmas[1] + 2 * sigma_np1 - 2 * prod(sigmas[2:]) * sigma_np1 + sigmas[0] * prod(sigmas[2:]) + sigmas[1] * prod(sigmas[2:]) - 4 * sigmas[0] * sigma_np1 - 4 * sigmas[1] * sigma_np1 + 3 * sigmas[0] * sigmas[1]\n",
    "    return res\n",
    "\n",
    "def separate_to_coeff_and_symbols(expr):\n",
    "    syms = []\n",
    "    coeffs = []\n",
    "    for elem in Mul.make_args(expr):\n",
    "       if type(elem) == Symbol:\n",
    "           syms.append(elem)\n",
    "       else:\n",
    "           coeffs.append(elem)\n",
    "    if coeffs:\n",
    "       coeff = coeffs[0]\n",
    "    else:\n",
    "       coeff = 1\n",
    "    return coeff, syms\n",
    "\n",
    "\n",
    "def reduce_one_locality(expr, variable_name, maximum_index, to_locality):\n",
    "    next_variable_index = maximum_index + 1\n",
    "    reduced_expr = 0\n",
    "    current_locality = 0\n",
    "    for term in Add.make_args(expand(expr)):\n",
    "        coeff, syms = separate_to_coeff_and_symbols(term)\n",
    "        current_locality = max(current_locality, len(syms))\n",
    "        if current_locality <= to_locality:\n",
    "            print(\"Skipping reduction on term: \", term)\n",
    "            reduced_expr += term\n",
    "            continue\n",
    "        next_ancilla = Symbol(f'{variable_name}{next_variable_index}')\n",
    "        if coeff > 0 :\n",
    "            this_reduced_expr = reduce_positive_term_locality(syms, next_ancilla)\n",
    "        else:\n",
    "            coeff *= -1\n",
    "            this_reduced_expr = reduce_negative_term_locality(syms, next_ancilla)\n",
    "        reduced_expr += coeff * this_reduced_expr\n",
    "        print(f\"Reduced a term into {this_reduced_expr}. Added index is \", next_variable_index)\n",
    "        next_variable_index += 1\n",
    "    next_maximum_index = next_variable_index - 1\n",
    "    reduced_locality = current_locality - 1\n",
    "    return reduced_expr, next_maximum_index, reduced_locality\n",
    "\n",
    "\n",
    "def reduce_locality(expr, variable_name, maximum_index, to_locality=2):\n",
    "    reduced_expr, next_maximum_index, locality = reduce_one_locality(expr, variable_name, maximum_index, to_locality)\n",
    "    print(f\"Reduced locality to {locality}\")\n",
    "    if locality < to_locality:\n",
    "        return expr\n",
    "    elif locality == to_locality:\n",
    "        return reduced_expr\n",
    "    else:\n",
    "        return reduce_locality(reduced_expr, variable_name, next_maximum_index)\n",
    "expr = prod(symbols(\"sigma0:4\"))\n",
    "reduced_expr, total_variables_count, locality = reduce_one_locality(expr, variable_name='sigma', maximum_index=3, to_locality=3)\n",
    "print(\"Variables count \", total_variables_count, \", Locality \", locality)\n",
    "reduced_expr"
   ],
   "metadata": {
    "collapsed": false,
    "pycharm": {
     "name": "#%%\n"
    }
   }
  },
  {
   "cell_type": "code",
   "execution_count": 61,
   "outputs": [
    {
     "name": "stdout",
     "output_type": "stream",
     "text": [
      "Reducing a term:  sigma0*sigma1*sigma2*sigma3\n",
      "Reduced a term into sigma0*sigma1 - sigma0*sigma2*sigma3 - 4*sigma0*sigma4 - 3*sigma0 - sigma1*sigma2*sigma3 - 4*sigma1*sigma4 - 3*sigma1 + 2*sigma2*sigma3*sigma4 + sigma2*sigma3 + 6*sigma4 + 7. Added index is  4\n",
      "Reduced locality to 3\n",
      "Skipping reduction on term:  7\n",
      "Skipping reduction on term:  -3*sigma0\n",
      "Skipping reduction on term:  -3*sigma1\n",
      "Skipping reduction on term:  6*sigma4\n",
      "Skipping reduction on term:  sigma0*sigma1\n",
      "Skipping reduction on term:  sigma2*sigma3\n",
      "Skipping reduction on term:  -4*sigma0*sigma4\n",
      "Skipping reduction on term:  -4*sigma1*sigma4\n",
      "Reducing a term:  sigma0*sigma2*sigma3\n",
      "Reduced a term into 3*sigma0*sigma2 + sigma0*sigma3 - 4*sigma0*sigma5 - sigma0 + sigma2*sigma3 - 4*sigma2*sigma5 - sigma2 - 2*sigma3*sigma5 - sigma3 + 2*sigma5 + 5. Added index is  5\n",
      "Reducing a term:  sigma1*sigma2*sigma3\n",
      "Reduced a term into 3*sigma1*sigma2 + sigma1*sigma3 - 4*sigma1*sigma6 - sigma1 + sigma2*sigma3 - 4*sigma2*sigma6 - sigma2 - 2*sigma3*sigma6 - sigma3 + 2*sigma6 + 5. Added index is  6\n",
      "Reducing a term:  sigma2*sigma3*sigma4\n",
      "Reduced a term into sigma2*sigma3 - sigma2*sigma4 - 4*sigma2*sigma7 - 3*sigma2 - sigma3*sigma4 - 4*sigma3*sigma7 - 3*sigma3 + 2*sigma4*sigma7 + sigma4 + 6*sigma7 + 7. Added index is  7\n",
      "Reduced locality to 2\n"
     ]
    },
    {
     "data": {
      "text/plain": "sigma0*sigma1 + 3*sigma0*sigma2 + sigma0*sigma3 - 4*sigma0*sigma4 - 4*sigma0*sigma5 - 4*sigma0 + 3*sigma1*sigma2 + sigma1*sigma3 - 4*sigma1*sigma4 - 4*sigma1*sigma6 - 4*sigma1 + 5*sigma2*sigma3 - 2*sigma2*sigma4 - 4*sigma2*sigma5 - 4*sigma2*sigma6 - 8*sigma2*sigma7 - 8*sigma2 - 2*sigma3*sigma4 - 2*sigma3*sigma5 - 2*sigma3*sigma6 - 8*sigma3*sigma7 - 8*sigma3 + 4*sigma4*sigma7 + 8*sigma4 + 2*sigma5 + 2*sigma6 + 12*sigma7 + 31",
      "text/latex": "$\\displaystyle \\sigma_{0} \\sigma_{1} + 3 \\sigma_{0} \\sigma_{2} + \\sigma_{0} \\sigma_{3} - 4 \\sigma_{0} \\sigma_{4} - 4 \\sigma_{0} \\sigma_{5} - 4 \\sigma_{0} + 3 \\sigma_{1} \\sigma_{2} + \\sigma_{1} \\sigma_{3} - 4 \\sigma_{1} \\sigma_{4} - 4 \\sigma_{1} \\sigma_{6} - 4 \\sigma_{1} + 5 \\sigma_{2} \\sigma_{3} - 2 \\sigma_{2} \\sigma_{4} - 4 \\sigma_{2} \\sigma_{5} - 4 \\sigma_{2} \\sigma_{6} - 8 \\sigma_{2} \\sigma_{7} - 8 \\sigma_{2} - 2 \\sigma_{3} \\sigma_{4} - 2 \\sigma_{3} \\sigma_{5} - 2 \\sigma_{3} \\sigma_{6} - 8 \\sigma_{3} \\sigma_{7} - 8 \\sigma_{3} + 4 \\sigma_{4} \\sigma_{7} + 8 \\sigma_{4} + 2 \\sigma_{5} + 2 \\sigma_{6} + 12 \\sigma_{7} + 31$"
     },
     "execution_count": 61,
     "metadata": {},
     "output_type": "execute_result"
    }
   ],
   "source": [
    "reduce_locality(expr, variable_name='sigma', maximum_index=3, to_locality=2)"
   ],
   "metadata": {
    "collapsed": false,
    "pycharm": {
     "name": "#%%\n"
    }
   }
  },
  {
   "cell_type": "code",
   "execution_count": 62,
   "outputs": [],
   "source": [
    "import numpy as np\n",
    "def construct_hamiltonian_expr(E0, h, J, K, L):\n",
    "    expr = 0\n",
    "    num_variables = len(h)\n",
    "    sigmas = np.array(symbols(f'sigma0:{num_variables}'), dtype=np.object)\n",
    "    expr += np.dot(h, sigmas)\n",
    "    expr += np.dot(sigmas, np.dot(J, sigmas))\n",
    "    expr += object_einsum(\"ijk,i,j,k\", K, sigmas, sigmas, sigmas)\n",
    "    expr += object_einsum(\"ijkl,i,j,k,l\", L, sigmas, sigmas, sigmas, sigmas)\n",
    "    expr += E0\n",
    "    return expr\n",
    "\n",
    "def read_generalized_ising_hamiltonian(path):\n",
    "    with open(path, \"r\") as f:\n",
    "        f.readline()  # discard first line\n",
    "        compressed_hamiltonian = [\n",
    "            tuple(line.strip().split())\n",
    "            for line in f.readlines()\n",
    "        ]\n",
    "\n",
    "    num_sites = len(compressed_hamiltonian[0][0])\n",
    "    hamiltonian_terms = [np.zeros((num_sites,)*i) for i in range(num_sites+1)]\n",
    "\n",
    "    for sites, val in compressed_hamiltonian:\n",
    "        num_zs = 0\n",
    "        site_nums = []\n",
    "        for i, x in enumerate(sites):\n",
    "            if x == 'z':\n",
    "                site_nums.append(i)\n",
    "                num_zs += 1\n",
    "\n",
    "        hamiltonian_terms[num_zs][tuple(site_nums)] = float(val)\n",
    "\n",
    "    return hamiltonian_terms"
   ],
   "metadata": {
    "collapsed": false,
    "pycharm": {
     "name": "#%%\n"
    }
   }
  },
  {
   "cell_type": "code",
   "execution_count": 63,
   "outputs": [],
   "source": [
    "E0, h, J, K, L = read_generalized_ising_hamiltonian(\"./hamiltonians/Ising-H2-STO-3G-bk-samespin-R=0.65.inp\")\n",
    "expr = construct_hamiltonian_expr(E0, h, J, K, L)\n"
   ],
   "metadata": {
    "collapsed": false,
    "pycharm": {
     "name": "#%%\n"
    }
   }
  },
  {
   "cell_type": "code",
   "execution_count": 64,
   "outputs": [
    {
     "name": "stdout",
     "output_type": "stream",
     "text": [
      "Skipping reduction on term:  0.0377511754763638\n",
      "Skipping reduction on term:  0.18262644006721*sigma1\n",
      "Skipping reduction on term:  0.191003522368368*sigma3\n",
      "Skipping reduction on term:  0.125841368144624*sigma2\n",
      "Skipping reduction on term:  0.125841368144624*sigma0*sigma2\n",
      "Skipping reduction on term:  0.00837708230115862*sigma0*sigma3\n",
      "Skipping reduction on term:  0.17297610387297*sigma1*sigma3\n",
      "Skipping reduction on term:  -0.27288404604934*sigma2*sigma3\n",
      "Reducing a term:  sigma0*sigma1*sigma3\n",
      "Reduced a term into sigma0*sigma1 - sigma0*sigma3 - 4*sigma0*sigma4 - 3*sigma0 - sigma1*sigma3 - 4*sigma1*sigma4 - 3*sigma1 + 2*sigma3*sigma4 + sigma3 + 6*sigma4 + 7. Added index is  4\n",
      "Reducing a term:  sigma1*sigma2*sigma3\n",
      "Reduced a term into sigma1*sigma2 - sigma1*sigma3 - 4*sigma1*sigma5 - 3*sigma1 - sigma2*sigma3 - 4*sigma2*sigma5 - 3*sigma2 + 2*sigma3*sigma5 + sigma3 + 6*sigma5 + 7. Added index is  5\n",
      "Reducing a term:  sigma0*sigma1*sigma2\n",
      "Reduced a term into 3*sigma0*sigma1 + sigma0*sigma2 - 4*sigma0*sigma6 - sigma0 + sigma1*sigma2 - 4*sigma1*sigma6 - sigma1 - 2*sigma2*sigma6 - sigma2 + 2*sigma6 + 5. Added index is  6\n",
      "Reducing a term:  sigma0*sigma2*sigma3\n",
      "Reduced a term into 3*sigma0*sigma2 + sigma0*sigma3 - 4*sigma0*sigma7 - sigma0 + sigma2*sigma3 - 4*sigma2*sigma7 - sigma2 - 2*sigma3*sigma7 - sigma3 + 2*sigma7 + 5. Added index is  7\n",
      "Reducing a term:  sigma0*sigma1*sigma2*sigma3\n",
      "Reduced a term into sigma0*sigma1 - sigma0*sigma2*sigma3 - 4*sigma0*sigma8 - 3*sigma0 - sigma1*sigma2*sigma3 - 4*sigma1*sigma8 - 3*sigma1 + 2*sigma2*sigma3*sigma8 + sigma2*sigma3 + 6*sigma8 + 7. Added index is  8\n",
      "Reduced locality to 3\n",
      "Skipping reduction on term:  5.03173958296297\n",
      "Skipping reduction on term:  1.01952588159399*sigma5\n",
      "Skipping reduction on term:  1.01952588159399*sigma8\n",
      "Skipping reduction on term:  0.529013927496364*sigma6\n",
      "Skipping reduction on term:  0.531215199407245*sigma3\n",
      "Skipping reduction on term:  1.07200667444622*sigma4\n",
      "Skipping reduction on term:  0.0167541646023172*sigma7\n",
      "Skipping reduction on term:  -0.656805618701712*sigma2\n",
      "Skipping reduction on term:  -1.63740974249807*sigma1\n",
      "Skipping reduction on term:  -1.31865032406945*sigma0\n",
      "Skipping reduction on term:  0.415479578796282*sigma0*sigma2\n",
      "Skipping reduction on term:  0.357335558148741*sigma3*sigma4\n",
      "Skipping reduction on term:  1.14210965058458*sigma0*sigma1\n",
      "Skipping reduction on term:  0.33984196053133*sigma3*sigma5\n",
      "Skipping reduction on term:  0.434427944013847*sigma1*sigma2\n",
      "Skipping reduction on term:  -0.161913614472053*sigma0*sigma3\n",
      "Skipping reduction on term:  -0.714671116297483*sigma0*sigma4\n",
      "Skipping reduction on term:  -0.714671116297483*sigma1*sigma4\n",
      "Skipping reduction on term:  -0.529013927496364*sigma2*sigma6\n",
      "Skipping reduction on term:  -1.05802785499273*sigma0*sigma6\n",
      "Skipping reduction on term:  -1.05802785499273*sigma1*sigma6\n",
      "Skipping reduction on term:  -0.0167541646023172*sigma3*sigma7\n",
      "Skipping reduction on term:  -0.0335083292046345*sigma0*sigma7\n",
      "Skipping reduction on term:  -0.0335083292046345*sigma2*sigma7\n",
      "Skipping reduction on term:  -0.67968392106266*sigma0*sigma8\n",
      "Skipping reduction on term:  -0.67968392106266*sigma1*sigma5\n",
      "Skipping reduction on term:  -0.67968392106266*sigma1*sigma8\n",
      "Skipping reduction on term:  -0.67968392106266*sigma2*sigma5\n",
      "Skipping reduction on term:  -0.264506963748182*sigma2*sigma3\n",
      "Skipping reduction on term:  -0.175612655467066*sigma1*sigma3\n",
      "Reducing a term:  sigma2*sigma3*sigma8\n",
      "Reduced a term into sigma2*sigma3 - sigma2*sigma8 - 4*sigma2*sigma9 - 3*sigma2 - sigma3*sigma8 - 4*sigma3*sigma9 - 3*sigma3 + 2*sigma8*sigma9 + sigma8 + 6*sigma9 + 7. Added index is  9\n",
      "Reducing a term:  sigma0*sigma2*sigma3\n",
      "Reduced a term into -4*sigma0*sigma10 + 3*sigma0*sigma2 + sigma0*sigma3 - sigma0 - 4*sigma10*sigma2 - 2*sigma10*sigma3 + 2*sigma10 + sigma2*sigma3 - sigma2 - sigma3 + 5. Added index is  10\n",
      "Reducing a term:  sigma1*sigma2*sigma3\n",
      "Reduced a term into -4*sigma1*sigma11 + 3*sigma1*sigma2 + sigma1*sigma3 - sigma1 - 4*sigma11*sigma2 - 2*sigma11*sigma3 + 2*sigma11 + sigma2*sigma3 - sigma2 - sigma3 + 5. Added index is  11\n",
      "Reduced locality to 2\n"
     ]
    },
    {
     "data": {
      "text/plain": "1.14210965058458*sigma0*sigma1 - 0.67968392106266*sigma0*sigma10 + 0.925242519593277*sigma0*sigma2 + 0.00800736579361166*sigma0*sigma3 - 0.714671116297483*sigma0*sigma4 - 1.05802785499273*sigma0*sigma6 - 0.0335083292046345*sigma0*sigma7 - 0.67968392106266*sigma0*sigma8 - 1.48857130433511*sigma0 - 0.67968392106266*sigma1*sigma11 + 0.944190884810842*sigma1*sigma2 - 0.00569167520140076*sigma1*sigma3 - 0.714671116297483*sigma1*sigma4 - 0.67968392106266*sigma1*sigma5 - 1.05802785499273*sigma1*sigma6 - 0.67968392106266*sigma1*sigma8 - 1.80733072276374*sigma1 - 0.67968392106266*sigma10*sigma2 - 0.33984196053133*sigma10*sigma3 + 0.33984196053133*sigma10 - 0.67968392106266*sigma11*sigma2 - 0.33984196053133*sigma11*sigma3 + 0.33984196053133*sigma11 + 0.415176957314479*sigma2*sigma3 - 0.67968392106266*sigma2*sigma5 - 0.529013927496364*sigma2*sigma6 - 0.0335083292046345*sigma2*sigma7 - 0.33984196053133*sigma2*sigma8 - 1.35936784212532*sigma2*sigma9 - 2.01617346082703*sigma2 + 0.357335558148741*sigma3*sigma4 + 0.33984196053133*sigma3*sigma5 - 0.0167541646023172*sigma3*sigma7 - 0.33984196053133*sigma3*sigma8 - 1.35936784212532*sigma3*sigma9 - 0.828152642718075*sigma3 + 1.07200667444622*sigma4 + 1.01952588159399*sigma5 + 0.529013927496364*sigma6 + 0.0167541646023172*sigma7 + 0.67968392106266*sigma8*sigma9 + 1.35936784212532*sigma8 + 2.03905176318798*sigma9 + 9.10984310933893",
      "text/latex": "$\\displaystyle 1.14210965058458 \\sigma_{0} \\sigma_{1} - 0.67968392106266 \\sigma_{0} \\sigma_{10} + 0.925242519593277 \\sigma_{0} \\sigma_{2} + 0.00800736579361166 \\sigma_{0} \\sigma_{3} - 0.714671116297483 \\sigma_{0} \\sigma_{4} - 1.05802785499273 \\sigma_{0} \\sigma_{6} - 0.0335083292046345 \\sigma_{0} \\sigma_{7} - 0.67968392106266 \\sigma_{0} \\sigma_{8} - 1.48857130433511 \\sigma_{0} - 0.67968392106266 \\sigma_{1} \\sigma_{11} + 0.944190884810842 \\sigma_{1} \\sigma_{2} - 0.00569167520140076 \\sigma_{1} \\sigma_{3} - 0.714671116297483 \\sigma_{1} \\sigma_{4} - 0.67968392106266 \\sigma_{1} \\sigma_{5} - 1.05802785499273 \\sigma_{1} \\sigma_{6} - 0.67968392106266 \\sigma_{1} \\sigma_{8} - 1.80733072276374 \\sigma_{1} - 0.67968392106266 \\sigma_{10} \\sigma_{2} - 0.33984196053133 \\sigma_{10} \\sigma_{3} + 0.33984196053133 \\sigma_{10} - 0.67968392106266 \\sigma_{11} \\sigma_{2} - 0.33984196053133 \\sigma_{11} \\sigma_{3} + 0.33984196053133 \\sigma_{11} + 0.415176957314479 \\sigma_{2} \\sigma_{3} - 0.67968392106266 \\sigma_{2} \\sigma_{5} - 0.529013927496364 \\sigma_{2} \\sigma_{6} - 0.0335083292046345 \\sigma_{2} \\sigma_{7} - 0.33984196053133 \\sigma_{2} \\sigma_{8} - 1.35936784212532 \\sigma_{2} \\sigma_{9} - 2.01617346082703 \\sigma_{2} + 0.357335558148741 \\sigma_{3} \\sigma_{4} + 0.33984196053133 \\sigma_{3} \\sigma_{5} - 0.0167541646023172 \\sigma_{3} \\sigma_{7} - 0.33984196053133 \\sigma_{3} \\sigma_{8} - 1.35936784212532 \\sigma_{3} \\sigma_{9} - 0.828152642718075 \\sigma_{3} + 1.07200667444622 \\sigma_{4} + 1.01952588159399 \\sigma_{5} + 0.529013927496364 \\sigma_{6} + 0.0167541646023172 \\sigma_{7} + 0.67968392106266 \\sigma_{8} \\sigma_{9} + 1.35936784212532 \\sigma_{8} + 2.03905176318798 \\sigma_{9} + 9.10984310933893$"
     },
     "execution_count": 64,
     "metadata": {},
     "output_type": "execute_result"
    }
   ],
   "source": [
    "reduced_expr = reduce_locality(expr, variable_name='sigma', maximum_index=3, to_locality=2)\n",
    "reduced_expr"
   ],
   "metadata": {
    "collapsed": false,
    "pycharm": {
     "name": "#%%\n"
    }
   }
  },
  {
   "cell_type": "code",
   "execution_count": 65,
   "outputs": [
    {
     "data": {
      "text/plain": "1.14210965058458*sigma0*sigma1 - 0.67968392106266*sigma0*sigma10 + 0.925242519593277*sigma0*sigma2 + 0.00800736579361166*sigma0*sigma3 - 0.714671116297483*sigma0*sigma4 - 1.05802785499273*sigma0*sigma6 - 0.0335083292046345*sigma0*sigma7 - 0.67968392106266*sigma0*sigma8 - 1.48857130433511*sigma0 - 0.67968392106266*sigma1*sigma11 + 0.944190884810842*sigma1*sigma2 - 0.00569167520140076*sigma1*sigma3 - 0.714671116297483*sigma1*sigma4 - 0.67968392106266*sigma1*sigma5 - 1.05802785499273*sigma1*sigma6 - 0.67968392106266*sigma1*sigma8 - 1.80733072276374*sigma1 - 0.67968392106266*sigma10*sigma2 - 0.33984196053133*sigma10*sigma3 + 0.33984196053133*sigma10 - 0.67968392106266*sigma11*sigma2 - 0.33984196053133*sigma11*sigma3 + 0.33984196053133*sigma11 + 0.415176957314479*sigma2*sigma3 - 0.67968392106266*sigma2*sigma5 - 0.529013927496364*sigma2*sigma6 - 0.0335083292046345*sigma2*sigma7 - 0.33984196053133*sigma2*sigma8 - 1.35936784212532*sigma2*sigma9 - 2.01617346082703*sigma2 + 0.357335558148741*sigma3*sigma4 + 0.33984196053133*sigma3*sigma5 - 0.0167541646023172*sigma3*sigma7 - 0.33984196053133*sigma3*sigma8 - 1.35936784212532*sigma3*sigma9 - 0.828152642718075*sigma3 + 1.07200667444622*sigma4 + 1.01952588159399*sigma5 + 0.529013927496364*sigma6 + 0.0167541646023172*sigma7 + 0.67968392106266*sigma8*sigma9 + 1.35936784212532*sigma8 + 2.03905176318798*sigma9 + 9.10984310933893",
      "text/latex": "$\\displaystyle 1.14210965058458 \\sigma_{0} \\sigma_{1} - 0.67968392106266 \\sigma_{0} \\sigma_{10} + 0.925242519593277 \\sigma_{0} \\sigma_{2} + 0.00800736579361166 \\sigma_{0} \\sigma_{3} - 0.714671116297483 \\sigma_{0} \\sigma_{4} - 1.05802785499273 \\sigma_{0} \\sigma_{6} - 0.0335083292046345 \\sigma_{0} \\sigma_{7} - 0.67968392106266 \\sigma_{0} \\sigma_{8} - 1.48857130433511 \\sigma_{0} - 0.67968392106266 \\sigma_{1} \\sigma_{11} + 0.944190884810842 \\sigma_{1} \\sigma_{2} - 0.00569167520140076 \\sigma_{1} \\sigma_{3} - 0.714671116297483 \\sigma_{1} \\sigma_{4} - 0.67968392106266 \\sigma_{1} \\sigma_{5} - 1.05802785499273 \\sigma_{1} \\sigma_{6} - 0.67968392106266 \\sigma_{1} \\sigma_{8} - 1.80733072276374 \\sigma_{1} - 0.67968392106266 \\sigma_{10} \\sigma_{2} - 0.33984196053133 \\sigma_{10} \\sigma_{3} + 0.33984196053133 \\sigma_{10} - 0.67968392106266 \\sigma_{11} \\sigma_{2} - 0.33984196053133 \\sigma_{11} \\sigma_{3} + 0.33984196053133 \\sigma_{11} + 0.415176957314479 \\sigma_{2} \\sigma_{3} - 0.67968392106266 \\sigma_{2} \\sigma_{5} - 0.529013927496364 \\sigma_{2} \\sigma_{6} - 0.0335083292046345 \\sigma_{2} \\sigma_{7} - 0.33984196053133 \\sigma_{2} \\sigma_{8} - 1.35936784212532 \\sigma_{2} \\sigma_{9} - 2.01617346082703 \\sigma_{2} + 0.357335558148741 \\sigma_{3} \\sigma_{4} + 0.33984196053133 \\sigma_{3} \\sigma_{5} - 0.0167541646023172 \\sigma_{3} \\sigma_{7} - 0.33984196053133 \\sigma_{3} \\sigma_{8} - 1.35936784212532 \\sigma_{3} \\sigma_{9} - 0.828152642718075 \\sigma_{3} + 1.07200667444622 \\sigma_{4} + 1.01952588159399 \\sigma_{5} + 0.529013927496364 \\sigma_{6} + 0.0167541646023172 \\sigma_{7} + 0.67968392106266 \\sigma_{8} \\sigma_{9} + 1.35936784212532 \\sigma_{8} + 2.03905176318798 \\sigma_{9} + 9.10984310933893$"
     },
     "execution_count": 65,
     "metadata": {},
     "output_type": "execute_result"
    }
   ],
   "source": [
    "expand(reduced_expr)"
   ],
   "metadata": {
    "collapsed": false,
    "pycharm": {
     "name": "#%%\n"
    }
   }
  },
  {
   "cell_type": "code",
   "execution_count": 66,
   "outputs": [],
   "source": [
    "\n",
    "def reconstruct_interaction_tensors(hamiltonian_expr):\n",
    "    for term in Add.make_args(hamiltonian_expr):\n",
    "        coeff, syms = separate_to_coeff_and_symbols(term)\n",
    "        indices = []\n",
    "        for sym in syms:\n",
    "            name = sym.name\n",
    "            match = re.match(r\"sigma(\\d+)\", name)\n",
    "            index = int(match.groups(0)[0])\n",
    "            indices.append(index)\n",
    "\n",
    "        print(coeff, indices)"
   ],
   "metadata": {
    "collapsed": false,
    "pycharm": {
     "name": "#%%\n"
    }
   }
  },
  {
   "cell_type": "code",
   "execution_count": 67,
   "outputs": [
    {
     "name": "stdout",
     "output_type": "stream",
     "text": [
      "9.10984310933893 []\n",
      "1.01952588159399 [5]\n",
      "2.03905176318798 [9]\n",
      "0.529013927496364 [6]\n",
      "1.07200667444622 [4]\n",
      "0.0167541646023172 [7]\n",
      "0.339841960531330 [10]\n",
      "0.339841960531330 [11]\n",
      "1.35936784212532 [8]\n",
      "-0.828152642718075 [3]\n",
      "-1.48857130433511 [0]\n",
      "-2.01617346082703 [2]\n",
      "-1.80733072276374 [1]\n",
      "0.00800736579361166 [0, 3]\n",
      "0.357335558148741 [3, 4]\n",
      "0.944190884810842 [1, 2]\n",
      "1.14210965058458 [0, 1]\n",
      "0.925242519593277 [0, 2]\n",
      "0.339841960531330 [3, 5]\n",
      "0.679683921062660 [8, 9]\n",
      "0.415176957314479 [2, 3]\n",
      "-0.00569167520140076 [1, 3]\n",
      "-0.714671116297483 [0, 4]\n",
      "-0.714671116297483 [1, 4]\n",
      "-0.529013927496364 [2, 6]\n",
      "-1.05802785499273 [0, 6]\n",
      "-1.05802785499273 [1, 6]\n",
      "-0.0167541646023172 [3, 7]\n",
      "-0.0335083292046345 [0, 7]\n",
      "-0.0335083292046345 [2, 7]\n",
      "-0.339841960531330 [10, 3]\n",
      "-0.339841960531330 [11, 3]\n",
      "-0.339841960531330 [2, 8]\n",
      "-0.339841960531330 [3, 8]\n",
      "-0.679683921062660 [0, 10]\n",
      "-0.679683921062660 [0, 8]\n",
      "-0.679683921062660 [1, 11]\n",
      "-0.679683921062660 [1, 5]\n",
      "-0.679683921062660 [1, 8]\n",
      "-0.679683921062660 [10, 2]\n",
      "-0.679683921062660 [11, 2]\n",
      "-0.679683921062660 [2, 5]\n",
      "-1.35936784212532 [2, 9]\n",
      "-1.35936784212532 [3, 9]\n"
     ]
    }
   ],
   "source": [
    "reconstruct_interaction_tensors(reduced_expr)"
   ],
   "metadata": {
    "collapsed": false,
    "pycharm": {
     "name": "#%%\n"
    }
   }
  },
  {
   "cell_type": "markdown",
   "source": [
    "## Testing object einsum"
   ],
   "metadata": {
    "collapsed": false,
    "pycharm": {
     "name": "#%% md\n"
    }
   }
  },
  {
   "cell_type": "code",
   "execution_count": 17,
   "outputs": [
    {
     "data": {
      "text/plain": "array([h0, h1, h2, h3], dtype=object)"
     },
     "execution_count": 17,
     "metadata": {},
     "output_type": "execute_result"
    }
   ],
   "source": [
    "dim = 4\n",
    "E0 = Symbol('E0')\n",
    "h = np.array(symbols(f'h0:{dim}'))\n",
    "\n",
    "J = np.zeros((dim, dim),dtype=np.object)\n",
    "for idx in itertools.product(*[range(s) for s in J.shape]):\n",
    "    s = Symbol(f'J[{idx}]')\n",
    "    J[idx] = s\n",
    "\n",
    "K = np.zeros((dim, dim, dim), dtype=np.object)\n",
    "for idx in itertools.product(*[range(s) for s in K.shape]):\n",
    "    s = Symbol(f'K[{idx}]')\n",
    "    K[idx] = s\n",
    "\n",
    "L = np.zeros((dim, dim, dim, dim), dtype=np.object)\n",
    "for idx in itertools.product(*[range(s) for s in L.shape]):\n",
    "    s = Symbol(f'L[{idx}]')\n",
    "    L[idx] = s\n",
    "\n",
    "h"
   ],
   "metadata": {
    "collapsed": false,
    "pycharm": {
     "name": "#%%\n"
    }
   }
  },
  {
   "cell_type": "code",
   "execution_count": 18,
   "outputs": [
    {
     "data": {
      "text/plain": "array([[J[(0, 0)], J[(0, 1)], J[(0, 2)], J[(0, 3)]],\n       [J[(1, 0)], J[(1, 1)], J[(1, 2)], J[(1, 3)]],\n       [J[(2, 0)], J[(2, 1)], J[(2, 2)], J[(2, 3)]],\n       [J[(3, 0)], J[(3, 1)], J[(3, 2)], J[(3, 3)]]], dtype=object)"
     },
     "execution_count": 18,
     "metadata": {},
     "output_type": "execute_result"
    }
   ],
   "source": [
    "J"
   ],
   "metadata": {
    "collapsed": false,
    "pycharm": {
     "name": "#%%\n"
    }
   }
  },
  {
   "cell_type": "code",
   "execution_count": 19,
   "outputs": [
    {
     "data": {
      "text/plain": "E0 + K[(0, 0, 0)]*sigma0**3 + K[(0, 0, 1)]*sigma0**2*sigma1 + K[(0, 0, 2)]*sigma0**2*sigma2 + K[(0, 0, 3)]*sigma0**2*sigma3 + K[(0, 1, 0)]*sigma0**2*sigma1 + K[(0, 1, 1)]*sigma0*sigma1**2 + K[(0, 1, 2)]*sigma0*sigma1*sigma2 + K[(0, 1, 3)]*sigma0*sigma1*sigma3 + K[(0, 2, 0)]*sigma0**2*sigma2 + K[(0, 2, 1)]*sigma0*sigma1*sigma2 + K[(0, 2, 2)]*sigma0*sigma2**2 + K[(0, 2, 3)]*sigma0*sigma2*sigma3 + K[(0, 3, 0)]*sigma0**2*sigma3 + K[(0, 3, 1)]*sigma0*sigma1*sigma3 + K[(0, 3, 2)]*sigma0*sigma2*sigma3 + K[(0, 3, 3)]*sigma0*sigma3**2 + K[(1, 0, 0)]*sigma0**2*sigma1 + K[(1, 0, 1)]*sigma0*sigma1**2 + K[(1, 0, 2)]*sigma0*sigma1*sigma2 + K[(1, 0, 3)]*sigma0*sigma1*sigma3 + K[(1, 1, 0)]*sigma0*sigma1**2 + K[(1, 1, 1)]*sigma1**3 + K[(1, 1, 2)]*sigma1**2*sigma2 + K[(1, 1, 3)]*sigma1**2*sigma3 + K[(1, 2, 0)]*sigma0*sigma1*sigma2 + K[(1, 2, 1)]*sigma1**2*sigma2 + K[(1, 2, 2)]*sigma1*sigma2**2 + K[(1, 2, 3)]*sigma1*sigma2*sigma3 + K[(1, 3, 0)]*sigma0*sigma1*sigma3 + K[(1, 3, 1)]*sigma1**2*sigma3 + K[(1, 3, 2)]*sigma1*sigma2*sigma3 + K[(1, 3, 3)]*sigma1*sigma3**2 + K[(2, 0, 0)]*sigma0**2*sigma2 + K[(2, 0, 1)]*sigma0*sigma1*sigma2 + K[(2, 0, 2)]*sigma0*sigma2**2 + K[(2, 0, 3)]*sigma0*sigma2*sigma3 + K[(2, 1, 0)]*sigma0*sigma1*sigma2 + K[(2, 1, 1)]*sigma1**2*sigma2 + K[(2, 1, 2)]*sigma1*sigma2**2 + K[(2, 1, 3)]*sigma1*sigma2*sigma3 + K[(2, 2, 0)]*sigma0*sigma2**2 + K[(2, 2, 1)]*sigma1*sigma2**2 + K[(2, 2, 2)]*sigma2**3 + K[(2, 2, 3)]*sigma2**2*sigma3 + K[(2, 3, 0)]*sigma0*sigma2*sigma3 + K[(2, 3, 1)]*sigma1*sigma2*sigma3 + K[(2, 3, 2)]*sigma2**2*sigma3 + K[(2, 3, 3)]*sigma2*sigma3**2 + K[(3, 0, 0)]*sigma0**2*sigma3 + K[(3, 0, 1)]*sigma0*sigma1*sigma3 + K[(3, 0, 2)]*sigma0*sigma2*sigma3 + K[(3, 0, 3)]*sigma0*sigma3**2 + K[(3, 1, 0)]*sigma0*sigma1*sigma3 + K[(3, 1, 1)]*sigma1**2*sigma3 + K[(3, 1, 2)]*sigma1*sigma2*sigma3 + K[(3, 1, 3)]*sigma1*sigma3**2 + K[(3, 2, 0)]*sigma0*sigma2*sigma3 + K[(3, 2, 1)]*sigma1*sigma2*sigma3 + K[(3, 2, 2)]*sigma2**2*sigma3 + K[(3, 2, 3)]*sigma2*sigma3**2 + K[(3, 3, 0)]*sigma0*sigma3**2 + K[(3, 3, 1)]*sigma1*sigma3**2 + K[(3, 3, 2)]*sigma2*sigma3**2 + K[(3, 3, 3)]*sigma3**3 + L[(0, 0, 0, 0)]*sigma0**4 + L[(0, 0, 0, 1)]*sigma0**3*sigma1 + L[(0, 0, 0, 2)]*sigma0**3*sigma2 + L[(0, 0, 0, 3)]*sigma0**3*sigma3 + L[(0, 0, 1, 0)]*sigma0**3*sigma1 + L[(0, 0, 1, 1)]*sigma0**2*sigma1**2 + L[(0, 0, 1, 2)]*sigma0**2*sigma1*sigma2 + L[(0, 0, 1, 3)]*sigma0**2*sigma1*sigma3 + L[(0, 0, 2, 0)]*sigma0**3*sigma2 + L[(0, 0, 2, 1)]*sigma0**2*sigma1*sigma2 + L[(0, 0, 2, 2)]*sigma0**2*sigma2**2 + L[(0, 0, 2, 3)]*sigma0**2*sigma2*sigma3 + L[(0, 0, 3, 0)]*sigma0**3*sigma3 + L[(0, 0, 3, 1)]*sigma0**2*sigma1*sigma3 + L[(0, 0, 3, 2)]*sigma0**2*sigma2*sigma3 + L[(0, 0, 3, 3)]*sigma0**2*sigma3**2 + L[(0, 1, 0, 0)]*sigma0**3*sigma1 + L[(0, 1, 0, 1)]*sigma0**2*sigma1**2 + L[(0, 1, 0, 2)]*sigma0**2*sigma1*sigma2 + L[(0, 1, 0, 3)]*sigma0**2*sigma1*sigma3 + L[(0, 1, 1, 0)]*sigma0**2*sigma1**2 + L[(0, 1, 1, 1)]*sigma0*sigma1**3 + L[(0, 1, 1, 2)]*sigma0*sigma1**2*sigma2 + L[(0, 1, 1, 3)]*sigma0*sigma1**2*sigma3 + L[(0, 1, 2, 0)]*sigma0**2*sigma1*sigma2 + L[(0, 1, 2, 1)]*sigma0*sigma1**2*sigma2 + L[(0, 1, 2, 2)]*sigma0*sigma1*sigma2**2 + L[(0, 1, 2, 3)]*sigma0*sigma1*sigma2*sigma3 + L[(0, 1, 3, 0)]*sigma0**2*sigma1*sigma3 + L[(0, 1, 3, 1)]*sigma0*sigma1**2*sigma3 + L[(0, 1, 3, 2)]*sigma0*sigma1*sigma2*sigma3 + L[(0, 1, 3, 3)]*sigma0*sigma1*sigma3**2 + L[(0, 2, 0, 0)]*sigma0**3*sigma2 + L[(0, 2, 0, 1)]*sigma0**2*sigma1*sigma2 + L[(0, 2, 0, 2)]*sigma0**2*sigma2**2 + L[(0, 2, 0, 3)]*sigma0**2*sigma2*sigma3 + L[(0, 2, 1, 0)]*sigma0**2*sigma1*sigma2 + L[(0, 2, 1, 1)]*sigma0*sigma1**2*sigma2 + L[(0, 2, 1, 2)]*sigma0*sigma1*sigma2**2 + L[(0, 2, 1, 3)]*sigma0*sigma1*sigma2*sigma3 + L[(0, 2, 2, 0)]*sigma0**2*sigma2**2 + L[(0, 2, 2, 1)]*sigma0*sigma1*sigma2**2 + L[(0, 2, 2, 2)]*sigma0*sigma2**3 + L[(0, 2, 2, 3)]*sigma0*sigma2**2*sigma3 + L[(0, 2, 3, 0)]*sigma0**2*sigma2*sigma3 + L[(0, 2, 3, 1)]*sigma0*sigma1*sigma2*sigma3 + L[(0, 2, 3, 2)]*sigma0*sigma2**2*sigma3 + L[(0, 2, 3, 3)]*sigma0*sigma2*sigma3**2 + L[(0, 3, 0, 0)]*sigma0**3*sigma3 + L[(0, 3, 0, 1)]*sigma0**2*sigma1*sigma3 + L[(0, 3, 0, 2)]*sigma0**2*sigma2*sigma3 + L[(0, 3, 0, 3)]*sigma0**2*sigma3**2 + L[(0, 3, 1, 0)]*sigma0**2*sigma1*sigma3 + L[(0, 3, 1, 1)]*sigma0*sigma1**2*sigma3 + L[(0, 3, 1, 2)]*sigma0*sigma1*sigma2*sigma3 + L[(0, 3, 1, 3)]*sigma0*sigma1*sigma3**2 + L[(0, 3, 2, 0)]*sigma0**2*sigma2*sigma3 + L[(0, 3, 2, 1)]*sigma0*sigma1*sigma2*sigma3 + L[(0, 3, 2, 2)]*sigma0*sigma2**2*sigma3 + L[(0, 3, 2, 3)]*sigma0*sigma2*sigma3**2 + L[(0, 3, 3, 0)]*sigma0**2*sigma3**2 + L[(0, 3, 3, 1)]*sigma0*sigma1*sigma3**2 + L[(0, 3, 3, 2)]*sigma0*sigma2*sigma3**2 + L[(0, 3, 3, 3)]*sigma0*sigma3**3 + L[(1, 0, 0, 0)]*sigma0**3*sigma1 + L[(1, 0, 0, 1)]*sigma0**2*sigma1**2 + L[(1, 0, 0, 2)]*sigma0**2*sigma1*sigma2 + L[(1, 0, 0, 3)]*sigma0**2*sigma1*sigma3 + L[(1, 0, 1, 0)]*sigma0**2*sigma1**2 + L[(1, 0, 1, 1)]*sigma0*sigma1**3 + L[(1, 0, 1, 2)]*sigma0*sigma1**2*sigma2 + L[(1, 0, 1, 3)]*sigma0*sigma1**2*sigma3 + L[(1, 0, 2, 0)]*sigma0**2*sigma1*sigma2 + L[(1, 0, 2, 1)]*sigma0*sigma1**2*sigma2 + L[(1, 0, 2, 2)]*sigma0*sigma1*sigma2**2 + L[(1, 0, 2, 3)]*sigma0*sigma1*sigma2*sigma3 + L[(1, 0, 3, 0)]*sigma0**2*sigma1*sigma3 + L[(1, 0, 3, 1)]*sigma0*sigma1**2*sigma3 + L[(1, 0, 3, 2)]*sigma0*sigma1*sigma2*sigma3 + L[(1, 0, 3, 3)]*sigma0*sigma1*sigma3**2 + L[(1, 1, 0, 0)]*sigma0**2*sigma1**2 + L[(1, 1, 0, 1)]*sigma0*sigma1**3 + L[(1, 1, 0, 2)]*sigma0*sigma1**2*sigma2 + L[(1, 1, 0, 3)]*sigma0*sigma1**2*sigma3 + L[(1, 1, 1, 0)]*sigma0*sigma1**3 + L[(1, 1, 1, 1)]*sigma1**4 + L[(1, 1, 1, 2)]*sigma1**3*sigma2 + L[(1, 1, 1, 3)]*sigma1**3*sigma3 + L[(1, 1, 2, 0)]*sigma0*sigma1**2*sigma2 + L[(1, 1, 2, 1)]*sigma1**3*sigma2 + L[(1, 1, 2, 2)]*sigma1**2*sigma2**2 + L[(1, 1, 2, 3)]*sigma1**2*sigma2*sigma3 + L[(1, 1, 3, 0)]*sigma0*sigma1**2*sigma3 + L[(1, 1, 3, 1)]*sigma1**3*sigma3 + L[(1, 1, 3, 2)]*sigma1**2*sigma2*sigma3 + L[(1, 1, 3, 3)]*sigma1**2*sigma3**2 + L[(1, 2, 0, 0)]*sigma0**2*sigma1*sigma2 + L[(1, 2, 0, 1)]*sigma0*sigma1**2*sigma2 + L[(1, 2, 0, 2)]*sigma0*sigma1*sigma2**2 + L[(1, 2, 0, 3)]*sigma0*sigma1*sigma2*sigma3 + L[(1, 2, 1, 0)]*sigma0*sigma1**2*sigma2 + L[(1, 2, 1, 1)]*sigma1**3*sigma2 + L[(1, 2, 1, 2)]*sigma1**2*sigma2**2 + L[(1, 2, 1, 3)]*sigma1**2*sigma2*sigma3 + L[(1, 2, 2, 0)]*sigma0*sigma1*sigma2**2 + L[(1, 2, 2, 1)]*sigma1**2*sigma2**2 + L[(1, 2, 2, 2)]*sigma1*sigma2**3 + L[(1, 2, 2, 3)]*sigma1*sigma2**2*sigma3 + L[(1, 2, 3, 0)]*sigma0*sigma1*sigma2*sigma3 + L[(1, 2, 3, 1)]*sigma1**2*sigma2*sigma3 + L[(1, 2, 3, 2)]*sigma1*sigma2**2*sigma3 + L[(1, 2, 3, 3)]*sigma1*sigma2*sigma3**2 + L[(1, 3, 0, 0)]*sigma0**2*sigma1*sigma3 + L[(1, 3, 0, 1)]*sigma0*sigma1**2*sigma3 + L[(1, 3, 0, 2)]*sigma0*sigma1*sigma2*sigma3 + L[(1, 3, 0, 3)]*sigma0*sigma1*sigma3**2 + L[(1, 3, 1, 0)]*sigma0*sigma1**2*sigma3 + L[(1, 3, 1, 1)]*sigma1**3*sigma3 + L[(1, 3, 1, 2)]*sigma1**2*sigma2*sigma3 + L[(1, 3, 1, 3)]*sigma1**2*sigma3**2 + L[(1, 3, 2, 0)]*sigma0*sigma1*sigma2*sigma3 + L[(1, 3, 2, 1)]*sigma1**2*sigma2*sigma3 + L[(1, 3, 2, 2)]*sigma1*sigma2**2*sigma3 + L[(1, 3, 2, 3)]*sigma1*sigma2*sigma3**2 + L[(1, 3, 3, 0)]*sigma0*sigma1*sigma3**2 + L[(1, 3, 3, 1)]*sigma1**2*sigma3**2 + L[(1, 3, 3, 2)]*sigma1*sigma2*sigma3**2 + L[(1, 3, 3, 3)]*sigma1*sigma3**3 + L[(2, 0, 0, 0)]*sigma0**3*sigma2 + L[(2, 0, 0, 1)]*sigma0**2*sigma1*sigma2 + L[(2, 0, 0, 2)]*sigma0**2*sigma2**2 + L[(2, 0, 0, 3)]*sigma0**2*sigma2*sigma3 + L[(2, 0, 1, 0)]*sigma0**2*sigma1*sigma2 + L[(2, 0, 1, 1)]*sigma0*sigma1**2*sigma2 + L[(2, 0, 1, 2)]*sigma0*sigma1*sigma2**2 + L[(2, 0, 1, 3)]*sigma0*sigma1*sigma2*sigma3 + L[(2, 0, 2, 0)]*sigma0**2*sigma2**2 + L[(2, 0, 2, 1)]*sigma0*sigma1*sigma2**2 + L[(2, 0, 2, 2)]*sigma0*sigma2**3 + L[(2, 0, 2, 3)]*sigma0*sigma2**2*sigma3 + L[(2, 0, 3, 0)]*sigma0**2*sigma2*sigma3 + L[(2, 0, 3, 1)]*sigma0*sigma1*sigma2*sigma3 + L[(2, 0, 3, 2)]*sigma0*sigma2**2*sigma3 + L[(2, 0, 3, 3)]*sigma0*sigma2*sigma3**2 + L[(2, 1, 0, 0)]*sigma0**2*sigma1*sigma2 + L[(2, 1, 0, 1)]*sigma0*sigma1**2*sigma2 + L[(2, 1, 0, 2)]*sigma0*sigma1*sigma2**2 + L[(2, 1, 0, 3)]*sigma0*sigma1*sigma2*sigma3 + L[(2, 1, 1, 0)]*sigma0*sigma1**2*sigma2 + L[(2, 1, 1, 1)]*sigma1**3*sigma2 + L[(2, 1, 1, 2)]*sigma1**2*sigma2**2 + L[(2, 1, 1, 3)]*sigma1**2*sigma2*sigma3 + L[(2, 1, 2, 0)]*sigma0*sigma1*sigma2**2 + L[(2, 1, 2, 1)]*sigma1**2*sigma2**2 + L[(2, 1, 2, 2)]*sigma1*sigma2**3 + L[(2, 1, 2, 3)]*sigma1*sigma2**2*sigma3 + L[(2, 1, 3, 0)]*sigma0*sigma1*sigma2*sigma3 + L[(2, 1, 3, 1)]*sigma1**2*sigma2*sigma3 + L[(2, 1, 3, 2)]*sigma1*sigma2**2*sigma3 + L[(2, 1, 3, 3)]*sigma1*sigma2*sigma3**2 + L[(2, 2, 0, 0)]*sigma0**2*sigma2**2 + L[(2, 2, 0, 1)]*sigma0*sigma1*sigma2**2 + L[(2, 2, 0, 2)]*sigma0*sigma2**3 + L[(2, 2, 0, 3)]*sigma0*sigma2**2*sigma3 + L[(2, 2, 1, 0)]*sigma0*sigma1*sigma2**2 + L[(2, 2, 1, 1)]*sigma1**2*sigma2**2 + L[(2, 2, 1, 2)]*sigma1*sigma2**3 + L[(2, 2, 1, 3)]*sigma1*sigma2**2*sigma3 + L[(2, 2, 2, 0)]*sigma0*sigma2**3 + L[(2, 2, 2, 1)]*sigma1*sigma2**3 + L[(2, 2, 2, 2)]*sigma2**4 + L[(2, 2, 2, 3)]*sigma2**3*sigma3 + L[(2, 2, 3, 0)]*sigma0*sigma2**2*sigma3 + L[(2, 2, 3, 1)]*sigma1*sigma2**2*sigma3 + L[(2, 2, 3, 2)]*sigma2**3*sigma3 + L[(2, 2, 3, 3)]*sigma2**2*sigma3**2 + L[(2, 3, 0, 0)]*sigma0**2*sigma2*sigma3 + L[(2, 3, 0, 1)]*sigma0*sigma1*sigma2*sigma3 + L[(2, 3, 0, 2)]*sigma0*sigma2**2*sigma3 + L[(2, 3, 0, 3)]*sigma0*sigma2*sigma3**2 + L[(2, 3, 1, 0)]*sigma0*sigma1*sigma2*sigma3 + L[(2, 3, 1, 1)]*sigma1**2*sigma2*sigma3 + L[(2, 3, 1, 2)]*sigma1*sigma2**2*sigma3 + L[(2, 3, 1, 3)]*sigma1*sigma2*sigma3**2 + L[(2, 3, 2, 0)]*sigma0*sigma2**2*sigma3 + L[(2, 3, 2, 1)]*sigma1*sigma2**2*sigma3 + L[(2, 3, 2, 2)]*sigma2**3*sigma3 + L[(2, 3, 2, 3)]*sigma2**2*sigma3**2 + L[(2, 3, 3, 0)]*sigma0*sigma2*sigma3**2 + L[(2, 3, 3, 1)]*sigma1*sigma2*sigma3**2 + L[(2, 3, 3, 2)]*sigma2**2*sigma3**2 + L[(2, 3, 3, 3)]*sigma2*sigma3**3 + L[(3, 0, 0, 0)]*sigma0**3*sigma3 + L[(3, 0, 0, 1)]*sigma0**2*sigma1*sigma3 + L[(3, 0, 0, 2)]*sigma0**2*sigma2*sigma3 + L[(3, 0, 0, 3)]*sigma0**2*sigma3**2 + L[(3, 0, 1, 0)]*sigma0**2*sigma1*sigma3 + L[(3, 0, 1, 1)]*sigma0*sigma1**2*sigma3 + L[(3, 0, 1, 2)]*sigma0*sigma1*sigma2*sigma3 + L[(3, 0, 1, 3)]*sigma0*sigma1*sigma3**2 + L[(3, 0, 2, 0)]*sigma0**2*sigma2*sigma3 + L[(3, 0, 2, 1)]*sigma0*sigma1*sigma2*sigma3 + L[(3, 0, 2, 2)]*sigma0*sigma2**2*sigma3 + L[(3, 0, 2, 3)]*sigma0*sigma2*sigma3**2 + L[(3, 0, 3, 0)]*sigma0**2*sigma3**2 + L[(3, 0, 3, 1)]*sigma0*sigma1*sigma3**2 + L[(3, 0, 3, 2)]*sigma0*sigma2*sigma3**2 + L[(3, 0, 3, 3)]*sigma0*sigma3**3 + L[(3, 1, 0, 0)]*sigma0**2*sigma1*sigma3 + L[(3, 1, 0, 1)]*sigma0*sigma1**2*sigma3 + L[(3, 1, 0, 2)]*sigma0*sigma1*sigma2*sigma3 + L[(3, 1, 0, 3)]*sigma0*sigma1*sigma3**2 + L[(3, 1, 1, 0)]*sigma0*sigma1**2*sigma3 + L[(3, 1, 1, 1)]*sigma1**3*sigma3 + L[(3, 1, 1, 2)]*sigma1**2*sigma2*sigma3 + L[(3, 1, 1, 3)]*sigma1**2*sigma3**2 + L[(3, 1, 2, 0)]*sigma0*sigma1*sigma2*sigma3 + L[(3, 1, 2, 1)]*sigma1**2*sigma2*sigma3 + L[(3, 1, 2, 2)]*sigma1*sigma2**2*sigma3 + L[(3, 1, 2, 3)]*sigma1*sigma2*sigma3**2 + L[(3, 1, 3, 0)]*sigma0*sigma1*sigma3**2 + L[(3, 1, 3, 1)]*sigma1**2*sigma3**2 + L[(3, 1, 3, 2)]*sigma1*sigma2*sigma3**2 + L[(3, 1, 3, 3)]*sigma1*sigma3**3 + L[(3, 2, 0, 0)]*sigma0**2*sigma2*sigma3 + L[(3, 2, 0, 1)]*sigma0*sigma1*sigma2*sigma3 + L[(3, 2, 0, 2)]*sigma0*sigma2**2*sigma3 + L[(3, 2, 0, 3)]*sigma0*sigma2*sigma3**2 + L[(3, 2, 1, 0)]*sigma0*sigma1*sigma2*sigma3 + L[(3, 2, 1, 1)]*sigma1**2*sigma2*sigma3 + L[(3, 2, 1, 2)]*sigma1*sigma2**2*sigma3 + L[(3, 2, 1, 3)]*sigma1*sigma2*sigma3**2 + L[(3, 2, 2, 0)]*sigma0*sigma2**2*sigma3 + L[(3, 2, 2, 1)]*sigma1*sigma2**2*sigma3 + L[(3, 2, 2, 2)]*sigma2**3*sigma3 + L[(3, 2, 2, 3)]*sigma2**2*sigma3**2 + L[(3, 2, 3, 0)]*sigma0*sigma2*sigma3**2 + L[(3, 2, 3, 1)]*sigma1*sigma2*sigma3**2 + L[(3, 2, 3, 2)]*sigma2**2*sigma3**2 + L[(3, 2, 3, 3)]*sigma2*sigma3**3 + L[(3, 3, 0, 0)]*sigma0**2*sigma3**2 + L[(3, 3, 0, 1)]*sigma0*sigma1*sigma3**2 + L[(3, 3, 0, 2)]*sigma0*sigma2*sigma3**2 + L[(3, 3, 0, 3)]*sigma0*sigma3**3 + L[(3, 3, 1, 0)]*sigma0*sigma1*sigma3**2 + L[(3, 3, 1, 1)]*sigma1**2*sigma3**2 + L[(3, 3, 1, 2)]*sigma1*sigma2*sigma3**2 + L[(3, 3, 1, 3)]*sigma1*sigma3**3 + L[(3, 3, 2, 0)]*sigma0*sigma2*sigma3**2 + L[(3, 3, 2, 1)]*sigma1*sigma2*sigma3**2 + L[(3, 3, 2, 2)]*sigma2**2*sigma3**2 + L[(3, 3, 2, 3)]*sigma2*sigma3**3 + L[(3, 3, 3, 0)]*sigma0*sigma3**3 + L[(3, 3, 3, 1)]*sigma1*sigma3**3 + L[(3, 3, 3, 2)]*sigma2*sigma3**3 + L[(3, 3, 3, 3)]*sigma3**4 + h0*sigma0 + h1*sigma1 + h2*sigma2 + h3*sigma3 + sigma0*(J[(0, 0)]*sigma0 + J[(0, 1)]*sigma1 + J[(0, 2)]*sigma2 + J[(0, 3)]*sigma3) + sigma1*(J[(1, 0)]*sigma0 + J[(1, 1)]*sigma1 + J[(1, 2)]*sigma2 + J[(1, 3)]*sigma3) + sigma2*(J[(2, 0)]*sigma0 + J[(2, 1)]*sigma1 + J[(2, 2)]*sigma2 + J[(2, 3)]*sigma3) + sigma3*(J[(3, 0)]*sigma0 + J[(3, 1)]*sigma1 + J[(3, 2)]*sigma2 + J[(3, 3)]*sigma3)",
      "text/latex": "$\\displaystyle E_{0} + K[(0, 0, 0)] \\sigma_{0}^{3} + K[(0, 0, 1)] \\sigma_{0}^{2} \\sigma_{1} + K[(0, 0, 2)] \\sigma_{0}^{2} \\sigma_{2} + K[(0, 0, 3)] \\sigma_{0}^{2} \\sigma_{3} + K[(0, 1, 0)] \\sigma_{0}^{2} \\sigma_{1} + K[(0, 1, 1)] \\sigma_{0} \\sigma_{1}^{2} + K[(0, 1, 2)] \\sigma_{0} \\sigma_{1} \\sigma_{2} + K[(0, 1, 3)] \\sigma_{0} \\sigma_{1} \\sigma_{3} + K[(0, 2, 0)] \\sigma_{0}^{2} \\sigma_{2} + K[(0, 2, 1)] \\sigma_{0} \\sigma_{1} \\sigma_{2} + K[(0, 2, 2)] \\sigma_{0} \\sigma_{2}^{2} + K[(0, 2, 3)] \\sigma_{0} \\sigma_{2} \\sigma_{3} + K[(0, 3, 0)] \\sigma_{0}^{2} \\sigma_{3} + K[(0, 3, 1)] \\sigma_{0} \\sigma_{1} \\sigma_{3} + K[(0, 3, 2)] \\sigma_{0} \\sigma_{2} \\sigma_{3} + K[(0, 3, 3)] \\sigma_{0} \\sigma_{3}^{2} + K[(1, 0, 0)] \\sigma_{0}^{2} \\sigma_{1} + K[(1, 0, 1)] \\sigma_{0} \\sigma_{1}^{2} + K[(1, 0, 2)] \\sigma_{0} \\sigma_{1} \\sigma_{2} + K[(1, 0, 3)] \\sigma_{0} \\sigma_{1} \\sigma_{3} + K[(1, 1, 0)] \\sigma_{0} \\sigma_{1}^{2} + K[(1, 1, 1)] \\sigma_{1}^{3} + K[(1, 1, 2)] \\sigma_{1}^{2} \\sigma_{2} + K[(1, 1, 3)] \\sigma_{1}^{2} \\sigma_{3} + K[(1, 2, 0)] \\sigma_{0} \\sigma_{1} \\sigma_{2} + K[(1, 2, 1)] \\sigma_{1}^{2} \\sigma_{2} + K[(1, 2, 2)] \\sigma_{1} \\sigma_{2}^{2} + K[(1, 2, 3)] \\sigma_{1} \\sigma_{2} \\sigma_{3} + K[(1, 3, 0)] \\sigma_{0} \\sigma_{1} \\sigma_{3} + K[(1, 3, 1)] \\sigma_{1}^{2} \\sigma_{3} + K[(1, 3, 2)] \\sigma_{1} \\sigma_{2} \\sigma_{3} + K[(1, 3, 3)] \\sigma_{1} \\sigma_{3}^{2} + K[(2, 0, 0)] \\sigma_{0}^{2} \\sigma_{2} + K[(2, 0, 1)] \\sigma_{0} \\sigma_{1} \\sigma_{2} + K[(2, 0, 2)] \\sigma_{0} \\sigma_{2}^{2} + K[(2, 0, 3)] \\sigma_{0} \\sigma_{2} \\sigma_{3} + K[(2, 1, 0)] \\sigma_{0} \\sigma_{1} \\sigma_{2} + K[(2, 1, 1)] \\sigma_{1}^{2} \\sigma_{2} + K[(2, 1, 2)] \\sigma_{1} \\sigma_{2}^{2} + K[(2, 1, 3)] \\sigma_{1} \\sigma_{2} \\sigma_{3} + K[(2, 2, 0)] \\sigma_{0} \\sigma_{2}^{2} + K[(2, 2, 1)] \\sigma_{1} \\sigma_{2}^{2} + K[(2, 2, 2)] \\sigma_{2}^{3} + K[(2, 2, 3)] \\sigma_{2}^{2} \\sigma_{3} + K[(2, 3, 0)] \\sigma_{0} \\sigma_{2} \\sigma_{3} + K[(2, 3, 1)] \\sigma_{1} \\sigma_{2} \\sigma_{3} + K[(2, 3, 2)] \\sigma_{2}^{2} \\sigma_{3} + K[(2, 3, 3)] \\sigma_{2} \\sigma_{3}^{2} + K[(3, 0, 0)] \\sigma_{0}^{2} \\sigma_{3} + K[(3, 0, 1)] \\sigma_{0} \\sigma_{1} \\sigma_{3} + K[(3, 0, 2)] \\sigma_{0} \\sigma_{2} \\sigma_{3} + K[(3, 0, 3)] \\sigma_{0} \\sigma_{3}^{2} + K[(3, 1, 0)] \\sigma_{0} \\sigma_{1} \\sigma_{3} + K[(3, 1, 1)] \\sigma_{1}^{2} \\sigma_{3} + K[(3, 1, 2)] \\sigma_{1} \\sigma_{2} \\sigma_{3} + K[(3, 1, 3)] \\sigma_{1} \\sigma_{3}^{2} + K[(3, 2, 0)] \\sigma_{0} \\sigma_{2} \\sigma_{3} + K[(3, 2, 1)] \\sigma_{1} \\sigma_{2} \\sigma_{3} + K[(3, 2, 2)] \\sigma_{2}^{2} \\sigma_{3} + K[(3, 2, 3)] \\sigma_{2} \\sigma_{3}^{2} + K[(3, 3, 0)] \\sigma_{0} \\sigma_{3}^{2} + K[(3, 3, 1)] \\sigma_{1} \\sigma_{3}^{2} + K[(3, 3, 2)] \\sigma_{2} \\sigma_{3}^{2} + K[(3, 3, 3)] \\sigma_{3}^{3} + L[(0, 0, 0, 0)] \\sigma_{0}^{4} + L[(0, 0, 0, 1)] \\sigma_{0}^{3} \\sigma_{1} + L[(0, 0, 0, 2)] \\sigma_{0}^{3} \\sigma_{2} + L[(0, 0, 0, 3)] \\sigma_{0}^{3} \\sigma_{3} + L[(0, 0, 1, 0)] \\sigma_{0}^{3} \\sigma_{1} + L[(0, 0, 1, 1)] \\sigma_{0}^{2} \\sigma_{1}^{2} + L[(0, 0, 1, 2)] \\sigma_{0}^{2} \\sigma_{1} \\sigma_{2} + L[(0, 0, 1, 3)] \\sigma_{0}^{2} \\sigma_{1} \\sigma_{3} + L[(0, 0, 2, 0)] \\sigma_{0}^{3} \\sigma_{2} + L[(0, 0, 2, 1)] \\sigma_{0}^{2} \\sigma_{1} \\sigma_{2} + L[(0, 0, 2, 2)] \\sigma_{0}^{2} \\sigma_{2}^{2} + L[(0, 0, 2, 3)] \\sigma_{0}^{2} \\sigma_{2} \\sigma_{3} + L[(0, 0, 3, 0)] \\sigma_{0}^{3} \\sigma_{3} + L[(0, 0, 3, 1)] \\sigma_{0}^{2} \\sigma_{1} \\sigma_{3} + L[(0, 0, 3, 2)] \\sigma_{0}^{2} \\sigma_{2} \\sigma_{3} + L[(0, 0, 3, 3)] \\sigma_{0}^{2} \\sigma_{3}^{2} + L[(0, 1, 0, 0)] \\sigma_{0}^{3} \\sigma_{1} + L[(0, 1, 0, 1)] \\sigma_{0}^{2} \\sigma_{1}^{2} + L[(0, 1, 0, 2)] \\sigma_{0}^{2} \\sigma_{1} \\sigma_{2} + L[(0, 1, 0, 3)] \\sigma_{0}^{2} \\sigma_{1} \\sigma_{3} + L[(0, 1, 1, 0)] \\sigma_{0}^{2} \\sigma_{1}^{2} + L[(0, 1, 1, 1)] \\sigma_{0} \\sigma_{1}^{3} + L[(0, 1, 1, 2)] \\sigma_{0} \\sigma_{1}^{2} \\sigma_{2} + L[(0, 1, 1, 3)] \\sigma_{0} \\sigma_{1}^{2} \\sigma_{3} + L[(0, 1, 2, 0)] \\sigma_{0}^{2} \\sigma_{1} \\sigma_{2} + L[(0, 1, 2, 1)] \\sigma_{0} \\sigma_{1}^{2} \\sigma_{2} + L[(0, 1, 2, 2)] \\sigma_{0} \\sigma_{1} \\sigma_{2}^{2} + L[(0, 1, 2, 3)] \\sigma_{0} \\sigma_{1} \\sigma_{2} \\sigma_{3} + L[(0, 1, 3, 0)] \\sigma_{0}^{2} \\sigma_{1} \\sigma_{3} + L[(0, 1, 3, 1)] \\sigma_{0} \\sigma_{1}^{2} \\sigma_{3} + L[(0, 1, 3, 2)] \\sigma_{0} \\sigma_{1} \\sigma_{2} \\sigma_{3} + L[(0, 1, 3, 3)] \\sigma_{0} \\sigma_{1} \\sigma_{3}^{2} + L[(0, 2, 0, 0)] \\sigma_{0}^{3} \\sigma_{2} + L[(0, 2, 0, 1)] \\sigma_{0}^{2} \\sigma_{1} \\sigma_{2} + L[(0, 2, 0, 2)] \\sigma_{0}^{2} \\sigma_{2}^{2} + L[(0, 2, 0, 3)] \\sigma_{0}^{2} \\sigma_{2} \\sigma_{3} + L[(0, 2, 1, 0)] \\sigma_{0}^{2} \\sigma_{1} \\sigma_{2} + L[(0, 2, 1, 1)] \\sigma_{0} \\sigma_{1}^{2} \\sigma_{2} + L[(0, 2, 1, 2)] \\sigma_{0} \\sigma_{1} \\sigma_{2}^{2} + L[(0, 2, 1, 3)] \\sigma_{0} \\sigma_{1} \\sigma_{2} \\sigma_{3} + L[(0, 2, 2, 0)] \\sigma_{0}^{2} \\sigma_{2}^{2} + L[(0, 2, 2, 1)] \\sigma_{0} \\sigma_{1} \\sigma_{2}^{2} + L[(0, 2, 2, 2)] \\sigma_{0} \\sigma_{2}^{3} + L[(0, 2, 2, 3)] \\sigma_{0} \\sigma_{2}^{2} \\sigma_{3} + L[(0, 2, 3, 0)] \\sigma_{0}^{2} \\sigma_{2} \\sigma_{3} + L[(0, 2, 3, 1)] \\sigma_{0} \\sigma_{1} \\sigma_{2} \\sigma_{3} + L[(0, 2, 3, 2)] \\sigma_{0} \\sigma_{2}^{2} \\sigma_{3} + L[(0, 2, 3, 3)] \\sigma_{0} \\sigma_{2} \\sigma_{3}^{2} + L[(0, 3, 0, 0)] \\sigma_{0}^{3} \\sigma_{3} + L[(0, 3, 0, 1)] \\sigma_{0}^{2} \\sigma_{1} \\sigma_{3} + L[(0, 3, 0, 2)] \\sigma_{0}^{2} \\sigma_{2} \\sigma_{3} + L[(0, 3, 0, 3)] \\sigma_{0}^{2} \\sigma_{3}^{2} + L[(0, 3, 1, 0)] \\sigma_{0}^{2} \\sigma_{1} \\sigma_{3} + L[(0, 3, 1, 1)] \\sigma_{0} \\sigma_{1}^{2} \\sigma_{3} + L[(0, 3, 1, 2)] \\sigma_{0} \\sigma_{1} \\sigma_{2} \\sigma_{3} + L[(0, 3, 1, 3)] \\sigma_{0} \\sigma_{1} \\sigma_{3}^{2} + L[(0, 3, 2, 0)] \\sigma_{0}^{2} \\sigma_{2} \\sigma_{3} + L[(0, 3, 2, 1)] \\sigma_{0} \\sigma_{1} \\sigma_{2} \\sigma_{3} + L[(0, 3, 2, 2)] \\sigma_{0} \\sigma_{2}^{2} \\sigma_{3} + L[(0, 3, 2, 3)] \\sigma_{0} \\sigma_{2} \\sigma_{3}^{2} + L[(0, 3, 3, 0)] \\sigma_{0}^{2} \\sigma_{3}^{2} + L[(0, 3, 3, 1)] \\sigma_{0} \\sigma_{1} \\sigma_{3}^{2} + L[(0, 3, 3, 2)] \\sigma_{0} \\sigma_{2} \\sigma_{3}^{2} + L[(0, 3, 3, 3)] \\sigma_{0} \\sigma_{3}^{3} + L[(1, 0, 0, 0)] \\sigma_{0}^{3} \\sigma_{1} + L[(1, 0, 0, 1)] \\sigma_{0}^{2} \\sigma_{1}^{2} + L[(1, 0, 0, 2)] \\sigma_{0}^{2} \\sigma_{1} \\sigma_{2} + L[(1, 0, 0, 3)] \\sigma_{0}^{2} \\sigma_{1} \\sigma_{3} + L[(1, 0, 1, 0)] \\sigma_{0}^{2} \\sigma_{1}^{2} + L[(1, 0, 1, 1)] \\sigma_{0} \\sigma_{1}^{3} + L[(1, 0, 1, 2)] \\sigma_{0} \\sigma_{1}^{2} \\sigma_{2} + L[(1, 0, 1, 3)] \\sigma_{0} \\sigma_{1}^{2} \\sigma_{3} + L[(1, 0, 2, 0)] \\sigma_{0}^{2} \\sigma_{1} \\sigma_{2} + L[(1, 0, 2, 1)] \\sigma_{0} \\sigma_{1}^{2} \\sigma_{2} + L[(1, 0, 2, 2)] \\sigma_{0} \\sigma_{1} \\sigma_{2}^{2} + L[(1, 0, 2, 3)] \\sigma_{0} \\sigma_{1} \\sigma_{2} \\sigma_{3} + L[(1, 0, 3, 0)] \\sigma_{0}^{2} \\sigma_{1} \\sigma_{3} + L[(1, 0, 3, 1)] \\sigma_{0} \\sigma_{1}^{2} \\sigma_{3} + L[(1, 0, 3, 2)] \\sigma_{0} \\sigma_{1} \\sigma_{2} \\sigma_{3} + L[(1, 0, 3, 3)] \\sigma_{0} \\sigma_{1} \\sigma_{3}^{2} + L[(1, 1, 0, 0)] \\sigma_{0}^{2} \\sigma_{1}^{2} + L[(1, 1, 0, 1)] \\sigma_{0} \\sigma_{1}^{3} + L[(1, 1, 0, 2)] \\sigma_{0} \\sigma_{1}^{2} \\sigma_{2} + L[(1, 1, 0, 3)] \\sigma_{0} \\sigma_{1}^{2} \\sigma_{3} + L[(1, 1, 1, 0)] \\sigma_{0} \\sigma_{1}^{3} + L[(1, 1, 1, 1)] \\sigma_{1}^{4} + L[(1, 1, 1, 2)] \\sigma_{1}^{3} \\sigma_{2} + L[(1, 1, 1, 3)] \\sigma_{1}^{3} \\sigma_{3} + L[(1, 1, 2, 0)] \\sigma_{0} \\sigma_{1}^{2} \\sigma_{2} + L[(1, 1, 2, 1)] \\sigma_{1}^{3} \\sigma_{2} + L[(1, 1, 2, 2)] \\sigma_{1}^{2} \\sigma_{2}^{2} + L[(1, 1, 2, 3)] \\sigma_{1}^{2} \\sigma_{2} \\sigma_{3} + L[(1, 1, 3, 0)] \\sigma_{0} \\sigma_{1}^{2} \\sigma_{3} + L[(1, 1, 3, 1)] \\sigma_{1}^{3} \\sigma_{3} + L[(1, 1, 3, 2)] \\sigma_{1}^{2} \\sigma_{2} \\sigma_{3} + L[(1, 1, 3, 3)] \\sigma_{1}^{2} \\sigma_{3}^{2} + L[(1, 2, 0, 0)] \\sigma_{0}^{2} \\sigma_{1} \\sigma_{2} + L[(1, 2, 0, 1)] \\sigma_{0} \\sigma_{1}^{2} \\sigma_{2} + L[(1, 2, 0, 2)] \\sigma_{0} \\sigma_{1} \\sigma_{2}^{2} + L[(1, 2, 0, 3)] \\sigma_{0} \\sigma_{1} \\sigma_{2} \\sigma_{3} + L[(1, 2, 1, 0)] \\sigma_{0} \\sigma_{1}^{2} \\sigma_{2} + L[(1, 2, 1, 1)] \\sigma_{1}^{3} \\sigma_{2} + L[(1, 2, 1, 2)] \\sigma_{1}^{2} \\sigma_{2}^{2} + L[(1, 2, 1, 3)] \\sigma_{1}^{2} \\sigma_{2} \\sigma_{3} + L[(1, 2, 2, 0)] \\sigma_{0} \\sigma_{1} \\sigma_{2}^{2} + L[(1, 2, 2, 1)] \\sigma_{1}^{2} \\sigma_{2}^{2} + L[(1, 2, 2, 2)] \\sigma_{1} \\sigma_{2}^{3} + L[(1, 2, 2, 3)] \\sigma_{1} \\sigma_{2}^{2} \\sigma_{3} + L[(1, 2, 3, 0)] \\sigma_{0} \\sigma_{1} \\sigma_{2} \\sigma_{3} + L[(1, 2, 3, 1)] \\sigma_{1}^{2} \\sigma_{2} \\sigma_{3} + L[(1, 2, 3, 2)] \\sigma_{1} \\sigma_{2}^{2} \\sigma_{3} + L[(1, 2, 3, 3)] \\sigma_{1} \\sigma_{2} \\sigma_{3}^{2} + L[(1, 3, 0, 0)] \\sigma_{0}^{2} \\sigma_{1} \\sigma_{3} + L[(1, 3, 0, 1)] \\sigma_{0} \\sigma_{1}^{2} \\sigma_{3} + L[(1, 3, 0, 2)] \\sigma_{0} \\sigma_{1} \\sigma_{2} \\sigma_{3} + L[(1, 3, 0, 3)] \\sigma_{0} \\sigma_{1} \\sigma_{3}^{2} + L[(1, 3, 1, 0)] \\sigma_{0} \\sigma_{1}^{2} \\sigma_{3} + L[(1, 3, 1, 1)] \\sigma_{1}^{3} \\sigma_{3} + L[(1, 3, 1, 2)] \\sigma_{1}^{2} \\sigma_{2} \\sigma_{3} + L[(1, 3, 1, 3)] \\sigma_{1}^{2} \\sigma_{3}^{2} + L[(1, 3, 2, 0)] \\sigma_{0} \\sigma_{1} \\sigma_{2} \\sigma_{3} + L[(1, 3, 2, 1)] \\sigma_{1}^{2} \\sigma_{2} \\sigma_{3} + L[(1, 3, 2, 2)] \\sigma_{1} \\sigma_{2}^{2} \\sigma_{3} + L[(1, 3, 2, 3)] \\sigma_{1} \\sigma_{2} \\sigma_{3}^{2} + L[(1, 3, 3, 0)] \\sigma_{0} \\sigma_{1} \\sigma_{3}^{2} + L[(1, 3, 3, 1)] \\sigma_{1}^{2} \\sigma_{3}^{2} + L[(1, 3, 3, 2)] \\sigma_{1} \\sigma_{2} \\sigma_{3}^{2} + L[(1, 3, 3, 3)] \\sigma_{1} \\sigma_{3}^{3} + L[(2, 0, 0, 0)] \\sigma_{0}^{3} \\sigma_{2} + L[(2, 0, 0, 1)] \\sigma_{0}^{2} \\sigma_{1} \\sigma_{2} + L[(2, 0, 0, 2)] \\sigma_{0}^{2} \\sigma_{2}^{2} + L[(2, 0, 0, 3)] \\sigma_{0}^{2} \\sigma_{2} \\sigma_{3} + L[(2, 0, 1, 0)] \\sigma_{0}^{2} \\sigma_{1} \\sigma_{2} + L[(2, 0, 1, 1)] \\sigma_{0} \\sigma_{1}^{2} \\sigma_{2} + L[(2, 0, 1, 2)] \\sigma_{0} \\sigma_{1} \\sigma_{2}^{2} + L[(2, 0, 1, 3)] \\sigma_{0} \\sigma_{1} \\sigma_{2} \\sigma_{3} + L[(2, 0, 2, 0)] \\sigma_{0}^{2} \\sigma_{2}^{2} + L[(2, 0, 2, 1)] \\sigma_{0} \\sigma_{1} \\sigma_{2}^{2} + L[(2, 0, 2, 2)] \\sigma_{0} \\sigma_{2}^{3} + L[(2, 0, 2, 3)] \\sigma_{0} \\sigma_{2}^{2} \\sigma_{3} + L[(2, 0, 3, 0)] \\sigma_{0}^{2} \\sigma_{2} \\sigma_{3} + L[(2, 0, 3, 1)] \\sigma_{0} \\sigma_{1} \\sigma_{2} \\sigma_{3} + L[(2, 0, 3, 2)] \\sigma_{0} \\sigma_{2}^{2} \\sigma_{3} + L[(2, 0, 3, 3)] \\sigma_{0} \\sigma_{2} \\sigma_{3}^{2} + L[(2, 1, 0, 0)] \\sigma_{0}^{2} \\sigma_{1} \\sigma_{2} + L[(2, 1, 0, 1)] \\sigma_{0} \\sigma_{1}^{2} \\sigma_{2} + L[(2, 1, 0, 2)] \\sigma_{0} \\sigma_{1} \\sigma_{2}^{2} + L[(2, 1, 0, 3)] \\sigma_{0} \\sigma_{1} \\sigma_{2} \\sigma_{3} + L[(2, 1, 1, 0)] \\sigma_{0} \\sigma_{1}^{2} \\sigma_{2} + L[(2, 1, 1, 1)] \\sigma_{1}^{3} \\sigma_{2} + L[(2, 1, 1, 2)] \\sigma_{1}^{2} \\sigma_{2}^{2} + L[(2, 1, 1, 3)] \\sigma_{1}^{2} \\sigma_{2} \\sigma_{3} + L[(2, 1, 2, 0)] \\sigma_{0} \\sigma_{1} \\sigma_{2}^{2} + L[(2, 1, 2, 1)] \\sigma_{1}^{2} \\sigma_{2}^{2} + L[(2, 1, 2, 2)] \\sigma_{1} \\sigma_{2}^{3} + L[(2, 1, 2, 3)] \\sigma_{1} \\sigma_{2}^{2} \\sigma_{3} + L[(2, 1, 3, 0)] \\sigma_{0} \\sigma_{1} \\sigma_{2} \\sigma_{3} + L[(2, 1, 3, 1)] \\sigma_{1}^{2} \\sigma_{2} \\sigma_{3} + L[(2, 1, 3, 2)] \\sigma_{1} \\sigma_{2}^{2} \\sigma_{3} + L[(2, 1, 3, 3)] \\sigma_{1} \\sigma_{2} \\sigma_{3}^{2} + L[(2, 2, 0, 0)] \\sigma_{0}^{2} \\sigma_{2}^{2} + L[(2, 2, 0, 1)] \\sigma_{0} \\sigma_{1} \\sigma_{2}^{2} + L[(2, 2, 0, 2)] \\sigma_{0} \\sigma_{2}^{3} + L[(2, 2, 0, 3)] \\sigma_{0} \\sigma_{2}^{2} \\sigma_{3} + L[(2, 2, 1, 0)] \\sigma_{0} \\sigma_{1} \\sigma_{2}^{2} + L[(2, 2, 1, 1)] \\sigma_{1}^{2} \\sigma_{2}^{2} + L[(2, 2, 1, 2)] \\sigma_{1} \\sigma_{2}^{3} + L[(2, 2, 1, 3)] \\sigma_{1} \\sigma_{2}^{2} \\sigma_{3} + L[(2, 2, 2, 0)] \\sigma_{0} \\sigma_{2}^{3} + L[(2, 2, 2, 1)] \\sigma_{1} \\sigma_{2}^{3} + L[(2, 2, 2, 2)] \\sigma_{2}^{4} + L[(2, 2, 2, 3)] \\sigma_{2}^{3} \\sigma_{3} + L[(2, 2, 3, 0)] \\sigma_{0} \\sigma_{2}^{2} \\sigma_{3} + L[(2, 2, 3, 1)] \\sigma_{1} \\sigma_{2}^{2} \\sigma_{3} + L[(2, 2, 3, 2)] \\sigma_{2}^{3} \\sigma_{3} + L[(2, 2, 3, 3)] \\sigma_{2}^{2} \\sigma_{3}^{2} + L[(2, 3, 0, 0)] \\sigma_{0}^{2} \\sigma_{2} \\sigma_{3} + L[(2, 3, 0, 1)] \\sigma_{0} \\sigma_{1} \\sigma_{2} \\sigma_{3} + L[(2, 3, 0, 2)] \\sigma_{0} \\sigma_{2}^{2} \\sigma_{3} + L[(2, 3, 0, 3)] \\sigma_{0} \\sigma_{2} \\sigma_{3}^{2} + L[(2, 3, 1, 0)] \\sigma_{0} \\sigma_{1} \\sigma_{2} \\sigma_{3} + L[(2, 3, 1, 1)] \\sigma_{1}^{2} \\sigma_{2} \\sigma_{3} + L[(2, 3, 1, 2)] \\sigma_{1} \\sigma_{2}^{2} \\sigma_{3} + L[(2, 3, 1, 3)] \\sigma_{1} \\sigma_{2} \\sigma_{3}^{2} + L[(2, 3, 2, 0)] \\sigma_{0} \\sigma_{2}^{2} \\sigma_{3} + L[(2, 3, 2, 1)] \\sigma_{1} \\sigma_{2}^{2} \\sigma_{3} + L[(2, 3, 2, 2)] \\sigma_{2}^{3} \\sigma_{3} + L[(2, 3, 2, 3)] \\sigma_{2}^{2} \\sigma_{3}^{2} + L[(2, 3, 3, 0)] \\sigma_{0} \\sigma_{2} \\sigma_{3}^{2} + L[(2, 3, 3, 1)] \\sigma_{1} \\sigma_{2} \\sigma_{3}^{2} + L[(2, 3, 3, 2)] \\sigma_{2}^{2} \\sigma_{3}^{2} + L[(2, 3, 3, 3)] \\sigma_{2} \\sigma_{3}^{3} + L[(3, 0, 0, 0)] \\sigma_{0}^{3} \\sigma_{3} + L[(3, 0, 0, 1)] \\sigma_{0}^{2} \\sigma_{1} \\sigma_{3} + L[(3, 0, 0, 2)] \\sigma_{0}^{2} \\sigma_{2} \\sigma_{3} + L[(3, 0, 0, 3)] \\sigma_{0}^{2} \\sigma_{3}^{2} + L[(3, 0, 1, 0)] \\sigma_{0}^{2} \\sigma_{1} \\sigma_{3} + L[(3, 0, 1, 1)] \\sigma_{0} \\sigma_{1}^{2} \\sigma_{3} + L[(3, 0, 1, 2)] \\sigma_{0} \\sigma_{1} \\sigma_{2} \\sigma_{3} + L[(3, 0, 1, 3)] \\sigma_{0} \\sigma_{1} \\sigma_{3}^{2} + L[(3, 0, 2, 0)] \\sigma_{0}^{2} \\sigma_{2} \\sigma_{3} + L[(3, 0, 2, 1)] \\sigma_{0} \\sigma_{1} \\sigma_{2} \\sigma_{3} + L[(3, 0, 2, 2)] \\sigma_{0} \\sigma_{2}^{2} \\sigma_{3} + L[(3, 0, 2, 3)] \\sigma_{0} \\sigma_{2} \\sigma_{3}^{2} + L[(3, 0, 3, 0)] \\sigma_{0}^{2} \\sigma_{3}^{2} + L[(3, 0, 3, 1)] \\sigma_{0} \\sigma_{1} \\sigma_{3}^{2} + L[(3, 0, 3, 2)] \\sigma_{0} \\sigma_{2} \\sigma_{3}^{2} + L[(3, 0, 3, 3)] \\sigma_{0} \\sigma_{3}^{3} + L[(3, 1, 0, 0)] \\sigma_{0}^{2} \\sigma_{1} \\sigma_{3} + L[(3, 1, 0, 1)] \\sigma_{0} \\sigma_{1}^{2} \\sigma_{3} + L[(3, 1, 0, 2)] \\sigma_{0} \\sigma_{1} \\sigma_{2} \\sigma_{3} + L[(3, 1, 0, 3)] \\sigma_{0} \\sigma_{1} \\sigma_{3}^{2} + L[(3, 1, 1, 0)] \\sigma_{0} \\sigma_{1}^{2} \\sigma_{3} + L[(3, 1, 1, 1)] \\sigma_{1}^{3} \\sigma_{3} + L[(3, 1, 1, 2)] \\sigma_{1}^{2} \\sigma_{2} \\sigma_{3} + L[(3, 1, 1, 3)] \\sigma_{1}^{2} \\sigma_{3}^{2} + L[(3, 1, 2, 0)] \\sigma_{0} \\sigma_{1} \\sigma_{2} \\sigma_{3} + L[(3, 1, 2, 1)] \\sigma_{1}^{2} \\sigma_{2} \\sigma_{3} + L[(3, 1, 2, 2)] \\sigma_{1} \\sigma_{2}^{2} \\sigma_{3} + L[(3, 1, 2, 3)] \\sigma_{1} \\sigma_{2} \\sigma_{3}^{2} + L[(3, 1, 3, 0)] \\sigma_{0} \\sigma_{1} \\sigma_{3}^{2} + L[(3, 1, 3, 1)] \\sigma_{1}^{2} \\sigma_{3}^{2} + L[(3, 1, 3, 2)] \\sigma_{1} \\sigma_{2} \\sigma_{3}^{2} + L[(3, 1, 3, 3)] \\sigma_{1} \\sigma_{3}^{3} + L[(3, 2, 0, 0)] \\sigma_{0}^{2} \\sigma_{2} \\sigma_{3} + L[(3, 2, 0, 1)] \\sigma_{0} \\sigma_{1} \\sigma_{2} \\sigma_{3} + L[(3, 2, 0, 2)] \\sigma_{0} \\sigma_{2}^{2} \\sigma_{3} + L[(3, 2, 0, 3)] \\sigma_{0} \\sigma_{2} \\sigma_{3}^{2} + L[(3, 2, 1, 0)] \\sigma_{0} \\sigma_{1} \\sigma_{2} \\sigma_{3} + L[(3, 2, 1, 1)] \\sigma_{1}^{2} \\sigma_{2} \\sigma_{3} + L[(3, 2, 1, 2)] \\sigma_{1} \\sigma_{2}^{2} \\sigma_{3} + L[(3, 2, 1, 3)] \\sigma_{1} \\sigma_{2} \\sigma_{3}^{2} + L[(3, 2, 2, 0)] \\sigma_{0} \\sigma_{2}^{2} \\sigma_{3} + L[(3, 2, 2, 1)] \\sigma_{1} \\sigma_{2}^{2} \\sigma_{3} + L[(3, 2, 2, 2)] \\sigma_{2}^{3} \\sigma_{3} + L[(3, 2, 2, 3)] \\sigma_{2}^{2} \\sigma_{3}^{2} + L[(3, 2, 3, 0)] \\sigma_{0} \\sigma_{2} \\sigma_{3}^{2} + L[(3, 2, 3, 1)] \\sigma_{1} \\sigma_{2} \\sigma_{3}^{2} + L[(3, 2, 3, 2)] \\sigma_{2}^{2} \\sigma_{3}^{2} + L[(3, 2, 3, 3)] \\sigma_{2} \\sigma_{3}^{3} + L[(3, 3, 0, 0)] \\sigma_{0}^{2} \\sigma_{3}^{2} + L[(3, 3, 0, 1)] \\sigma_{0} \\sigma_{1} \\sigma_{3}^{2} + L[(3, 3, 0, 2)] \\sigma_{0} \\sigma_{2} \\sigma_{3}^{2} + L[(3, 3, 0, 3)] \\sigma_{0} \\sigma_{3}^{3} + L[(3, 3, 1, 0)] \\sigma_{0} \\sigma_{1} \\sigma_{3}^{2} + L[(3, 3, 1, 1)] \\sigma_{1}^{2} \\sigma_{3}^{2} + L[(3, 3, 1, 2)] \\sigma_{1} \\sigma_{2} \\sigma_{3}^{2} + L[(3, 3, 1, 3)] \\sigma_{1} \\sigma_{3}^{3} + L[(3, 3, 2, 0)] \\sigma_{0} \\sigma_{2} \\sigma_{3}^{2} + L[(3, 3, 2, 1)] \\sigma_{1} \\sigma_{2} \\sigma_{3}^{2} + L[(3, 3, 2, 2)] \\sigma_{2}^{2} \\sigma_{3}^{2} + L[(3, 3, 2, 3)] \\sigma_{2} \\sigma_{3}^{3} + L[(3, 3, 3, 0)] \\sigma_{0} \\sigma_{3}^{3} + L[(3, 3, 3, 1)] \\sigma_{1} \\sigma_{3}^{3} + L[(3, 3, 3, 2)] \\sigma_{2} \\sigma_{3}^{3} + L[(3, 3, 3, 3)] \\sigma_{3}^{4} + h_{0} \\sigma_{0} + h_{1} \\sigma_{1} + h_{2} \\sigma_{2} + h_{3} \\sigma_{3} + \\sigma_{0} \\left(J[(0, 0)] \\sigma_{0} + J[(0, 1)] \\sigma_{1} + J[(0, 2)] \\sigma_{2} + J[(0, 3)] \\sigma_{3}\\right) + \\sigma_{1} \\left(J[(1, 0)] \\sigma_{0} + J[(1, 1)] \\sigma_{1} + J[(1, 2)] \\sigma_{2} + J[(1, 3)] \\sigma_{3}\\right) + \\sigma_{2} \\left(J[(2, 0)] \\sigma_{0} + J[(2, 1)] \\sigma_{1} + J[(2, 2)] \\sigma_{2} + J[(2, 3)] \\sigma_{3}\\right) + \\sigma_{3} \\left(J[(3, 0)] \\sigma_{0} + J[(3, 1)] \\sigma_{1} + J[(3, 2)] \\sigma_{2} + J[(3, 3)] \\sigma_{3}\\right)$"
     },
     "execution_count": 19,
     "metadata": {},
     "output_type": "execute_result"
    }
   ],
   "source": [
    "construct_hamiltonian_expr(E0, h, J, K, L)"
   ],
   "metadata": {
    "collapsed": false,
    "pycharm": {
     "name": "#%%\n"
    }
   }
  },
  {
   "cell_type": "code",
   "execution_count": null,
   "outputs": [],
   "source": [],
   "metadata": {
    "collapsed": false,
    "pycharm": {
     "name": "#%%\n"
    }
   }
  }
 ],
 "metadata": {
  "kernelspec": {
   "display_name": "Python 3",
   "language": "python",
   "name": "python3"
  },
  "language_info": {
   "codemirror_mode": {
    "name": "ipython",
    "version": 2
   },
   "file_extension": ".py",
   "mimetype": "text/x-python",
   "name": "python",
   "nbconvert_exporter": "python",
   "pygments_lexer": "ipython2",
   "version": "2.7.6"
  }
 },
 "nbformat": 4,
 "nbformat_minor": 0
}