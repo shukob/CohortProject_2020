{
 "cells": [
  {
   "cell_type": "markdown",
   "metadata": {
    "collapsed": true,
    "pycharm": {
     "name": "#%% md\n"
    }
   },
   "source": [
    "# Locality Reduction"
   ]
  },
  {
   "cell_type": "code",
   "execution_count": 65,
   "outputs": [],
   "source": [
    "from sympy import *\n",
    "import re\n",
    "\n",
    "sigmas = symbols('sigma1:5')"
   ],
   "metadata": {
    "collapsed": false,
    "pycharm": {
     "name": "#%%\n"
    }
   }
  },
  {
   "cell_type": "code",
   "execution_count": 94,
   "outputs": [
    {
     "name": "stdout",
     "output_type": "stream",
     "text": [
      "Variables count  4 , Locality  3\n"
     ]
    },
    {
     "data": {
      "text/plain": "sigma0*sigma1 - sigma0*sigma2*sigma3 - 4*sigma0*sigma4 - 3*sigma0 - sigma1*sigma2*sigma3 - 4*sigma1*sigma4 - 3*sigma1 + 2*sigma2*sigma3*sigma4 + sigma2*sigma3 + 6*sigma4 + 7",
      "text/latex": "$\\displaystyle \\sigma_{0} \\sigma_{1} - \\sigma_{0} \\sigma_{2} \\sigma_{3} - 4 \\sigma_{0} \\sigma_{4} - 3 \\sigma_{0} - \\sigma_{1} \\sigma_{2} \\sigma_{3} - 4 \\sigma_{1} \\sigma_{4} - 3 \\sigma_{1} + 2 \\sigma_{2} \\sigma_{3} \\sigma_{4} + \\sigma_{2} \\sigma_{3} + 6 \\sigma_{4} + 7$"
     },
     "execution_count": 94,
     "metadata": {},
     "output_type": "execute_result"
    }
   ],
   "source": [
    "def reduce_positive_term_locality(sigmas, ancilla_symbol):\n",
    "    sigma_np1 = ancilla_symbol\n",
    "    res = 7 + prod(sigmas[2:]) - 3 * sigmas[0] - 3 * sigmas[1] + 6*sigma_np1 + 2 * prod(sigmas[2:]) * sigma_np1 - sigmas[0] * prod(sigmas[2:]) - sigmas[1] *prod(sigmas[2:]) - 4 * sigmas[0] * sigma_np1 - 4 * sigmas[1] * sigma_np1 + prod(sigmas[0:2])\n",
    "    return res\n",
    "\n",
    "def reduce_negative_term_locality(sigmas, ancilla_symbol):\n",
    "    sigma_np1 = ancilla_symbol\n",
    "    res = 5 - prod(sigmas[2:]) - sigmas[0] - sigmas[1] + 2 * sigma_np1 - 2 * prod(sigmas[2:]) * sigma_np1 + sigmas[0] * prod(sigmas[2:]) + sigmas[1] * prod(sigmas[2:]) - 4 * sigmas[0] * sigma_np1 - 4 * sigmas[1] * sigma_np1 + 3 * sigmas[0] * sigmas[1]\n",
    "    return res\n",
    "\n",
    "def separate_to_coeff_and_symbols(expr):\n",
    "    syms = []\n",
    "    coeffs = []\n",
    "    for elem in Mul.make_args(expr):\n",
    "       if type(elem) == Symbol:\n",
    "           syms.append(elem)\n",
    "       else:\n",
    "           coeffs.append(elem)\n",
    "    if coeffs:\n",
    "       coeff = coeffs[0]\n",
    "    else:\n",
    "       coeff = 1\n",
    "    return coeff, syms\n",
    "\n",
    "\n",
    "def reduce_one_locality(expr, variable_name, maximum_index, to_locality):\n",
    "    next_variable_index = maximum_index + 1\n",
    "    reduced_expr = 0\n",
    "    current_locality = 0\n",
    "    for term in Add.make_args(expr):\n",
    "        coeff, syms = separate_to_coeff_and_symbols(term)\n",
    "        next_ancilla = Symbol(f'{variable_name}{next_variable_index}')\n",
    "        next_variable_index += 1\n",
    "        current_locality = max(current_locality, len(syms))\n",
    "        if current_locality <= to_locality:\n",
    "            continue\n",
    "        if coeff > 0 :\n",
    "            this_reduced_expr = reduce_positive_term_locality(syms, next_ancilla)\n",
    "        else:\n",
    "            coeff *= -1\n",
    "            this_reduced_expr = reduce_negative_term_locality(syms, next_ancilla)\n",
    "        reduced_expr += coeff * this_reduced_expr\n",
    "    next_maximum_index = next_variable_index - 1\n",
    "    reduced_locality = current_locality - 1\n",
    "    return reduced_expr, next_maximum_index, reduced_locality\n",
    "\n",
    "\n",
    "def reduce_locality(expr, variable_name, maximum_index, to_locality=2):\n",
    "    reduced_expr, next_maximum_index, locality = reduce_one_locality(expr, variable_name, maximum_index, to_locality)\n",
    "    print(locality)\n",
    "    if locality < to_locality:\n",
    "        return expr\n",
    "    elif locality == to_locality:\n",
    "        return reduced_expr\n",
    "    else:\n",
    "        return reduce_locality(reduced_expr, variable_name, next_maximum_index)\n",
    "expr = prod(symbols(\"sigma0:4\"))\n",
    "reduced_expr, total_variables_count, locality = reduce_one_locality(expr, variable_name='sigma', maximum_index=3, to_locality=3)\n",
    "print(\"Variables count \", total_variables_count, \", Locality \", locality)\n",
    "reduced_expr"
   ],
   "metadata": {
    "collapsed": false,
    "pycharm": {
     "name": "#%%\n"
    }
   }
  },
  {
   "cell_type": "code",
   "execution_count": 95,
   "outputs": [
    {
     "name": "stdout",
     "output_type": "stream",
     "text": [
      "3\n",
      "2\n"
     ]
    },
    {
     "data": {
      "text/plain": "-4*sigma0*sigma13 + 3*sigma0*sigma2 + sigma0*sigma3 - sigma0 - 4*sigma1*sigma14 + 3*sigma1*sigma2 + sigma1*sigma3 - sigma1 - 4*sigma13*sigma2 - 2*sigma13*sigma3 + 2*sigma13 - 4*sigma14*sigma2 - 2*sigma14*sigma3 + 2*sigma14 - 8*sigma15*sigma2 - 8*sigma15*sigma3 + 4*sigma15*sigma4 + 12*sigma15 + 4*sigma2*sigma3 - 2*sigma2*sigma4 - 8*sigma2 - 2*sigma3*sigma4 - 8*sigma3 + 2*sigma4 + 24",
      "text/latex": "$\\displaystyle - 4 \\sigma_{0} \\sigma_{13} + 3 \\sigma_{0} \\sigma_{2} + \\sigma_{0} \\sigma_{3} - \\sigma_{0} - 4 \\sigma_{1} \\sigma_{14} + 3 \\sigma_{1} \\sigma_{2} + \\sigma_{1} \\sigma_{3} - \\sigma_{1} - 4 \\sigma_{13} \\sigma_{2} - 2 \\sigma_{13} \\sigma_{3} + 2 \\sigma_{13} - 4 \\sigma_{14} \\sigma_{2} - 2 \\sigma_{14} \\sigma_{3} + 2 \\sigma_{14} - 8 \\sigma_{15} \\sigma_{2} - 8 \\sigma_{15} \\sigma_{3} + 4 \\sigma_{15} \\sigma_{4} + 12 \\sigma_{15} + 4 \\sigma_{2} \\sigma_{3} - 2 \\sigma_{2} \\sigma_{4} - 8 \\sigma_{2} - 2 \\sigma_{3} \\sigma_{4} - 8 \\sigma_{3} + 2 \\sigma_{4} + 24$"
     },
     "execution_count": 95,
     "metadata": {},
     "output_type": "execute_result"
    }
   ],
   "source": [
    "reduce_locality(expr, variable_name='sigma', maximum_index=3, to_locality=2)"
   ],
   "metadata": {
    "collapsed": false,
    "pycharm": {
     "name": "#%%\n"
    }
   }
  },
  {
   "cell_type": "code",
   "execution_count": null,
   "outputs": [],
   "source": [
    "\n",
    "\n",
    "def reconstruct_interaaction_tensors(hamiltonian_expr):\n",
    "    pass\n",
    "    # indices = []\n",
    "    # for sym in syms:\n",
    "    #     name = sym.name\n",
    "    #     match = re.match(r\"sigma(\\d+)\", name)\n",
    "    #     index = int(match.groups(0)[0])\n",
    "    #     indices.append(index)\n",
    "    #\n",
    "    # print(coeffs, indices)"
   ],
   "metadata": {
    "collapsed": false,
    "pycharm": {
     "name": "#%%\n"
    }
   }
  }
 ],
 "metadata": {
  "kernelspec": {
   "display_name": "Python 3",
   "language": "python",
   "name": "python3"
  },
  "language_info": {
   "codemirror_mode": {
    "name": "ipython",
    "version": 2
   },
   "file_extension": ".py",
   "mimetype": "text/x-python",
   "name": "python",
   "nbconvert_exporter": "python",
   "pygments_lexer": "ipython2",
   "version": "2.7.6"
  }
 },
 "nbformat": 4,
 "nbformat_minor": 0
}